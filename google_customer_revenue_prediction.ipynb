{
 "cells": [
  {
   "cell_type": "markdown",
   "metadata": {},
   "source": [
    "# CIS 787 - Analytical Data Mining\n",
    "<img src=\"https://www.syracuse.edu/wp-content/themes/g6-carbon/img/syracuse-university-seal.svg?ver=6.3.9\" style=\"width: 200px;\"/>\n",
    "## Project Title: Comparing and Analyzing Prediction Models for Google Analytics Customer Revenue Prediction\n",
    "### Project by: _Akshay Kacharaj Jagtap (352503517)_ and _Malhar Anup Ujawane(642560698)_"
   ]
  },
  {
   "cell_type": "markdown",
   "metadata": {},
   "source": [
    "### Project Objective\n",
    "\n",
    "-  Build prediction models to predict the revenue that a customer will generate based on training dataset\n",
    "\n",
    "-  Compare the prediction models by evaluating factors such as accuracy, mean absolute error, RMSE etc.\n",
    "\n",
    "-  Alter and analyze dataset to identify which features play significant roles in generating revenue, and how they affect the prediction model.\n",
    "\n",
    "### About the dataset\n",
    "\n",
    "#### We are given two datasets\n",
    "-  train.csv\n",
    "-  test.csv\n",
    "\n",
    "#### The data fields in the given files are:\n",
    "\n",
    "- _fullVisitorId_ - A unique identifier for each user of the Google Merchandise Store.\n",
    "- _channelGrouping_ - The channel via which the user came to the Store.\n",
    "- _date_ - The date on which the user visited the Store.\n",
    "- _device_ - The specifications for the device used to access the Store.\n",
    "- _geoNetwork_ - This section contains information about the geography of the user.\n",
    "- _sessionId_ - A unique identifier for this visit to the store.\n",
    "- _socialEngagementType_ - Engagement type, either \"Socially Engaged\" or \"Not Socially Engaged\".\n",
    "- _totals_ - This section contains aggregate values across the session.\n",
    "- _trafficSource_ - This section contains information about the Traffic Source from which the session originated.\n",
    "- _visitId_ - An identifier for this session. This is part of the value usually stored as the _utmb cookie. This is only unique to the user. For a completely unique ID, you should use a combination of fullVisitorId and visitId.\n",
    "- _visitNumber_ - The session number for this user. If this is the first session, then this is set to 1.\n",
    "- _visitStartTime_ - The timestamp (expressed as POSIX time).\n",
    "\n",
    "#### Each row in the dataset is one visit to the store. We are predicting the natural log of the sum of all transactions per user."
   ]
  },
  {
   "cell_type": "code",
   "execution_count": 1,
   "metadata": {},
   "outputs": [
    {
     "data": {
      "text/html": [
       "<script type=\"text/javascript\">window.PlotlyConfig = {MathJaxConfig: 'local'};</script><script type=\"text/javascript\">if (window.MathJax) {MathJax.Hub.Config({SVG: {font: \"STIX-Web\"}});}</script><script>requirejs.config({paths: { 'plotly': ['https://cdn.plot.ly/plotly-latest.min']},});if(!window._Plotly) {require(['plotly'],function(plotly) {window._Plotly=plotly;});}</script>"
      ],
      "text/vnd.plotly.v1+html": [
       "<script type=\"text/javascript\">window.PlotlyConfig = {MathJaxConfig: 'local'};</script><script type=\"text/javascript\">if (window.MathJax) {MathJax.Hub.Config({SVG: {font: \"STIX-Web\"}});}</script><script>requirejs.config({paths: { 'plotly': ['https://cdn.plot.ly/plotly-latest.min']},});if(!window._Plotly) {require(['plotly'],function(plotly) {window._Plotly=plotly;});}</script>"
      ]
     },
     "metadata": {},
     "output_type": "display_data"
    }
   ],
   "source": [
    "import os\n",
    "import json\n",
    "import numpy as np\n",
    "import pandas as pd\n",
    "from pandas.io.json import json_normalize\n",
    "import matplotlib.pyplot as plt\n",
    "import seaborn as sns\n",
    "color = sns.color_palette()\n",
    "\n",
    "%matplotlib inline\n",
    "\n",
    "from plotly import tools\n",
    "import plotly.offline as py\n",
    "py.init_notebook_mode(connected=True)\n",
    "import plotly.graph_objs as go\n",
    "\n",
    "from sklearn import model_selection, preprocessing, metrics\n",
    "\n",
    "\n",
    "pd.options.mode.chained_assignment = None\n",
    "pd.options.display.max_columns = 999"
   ]
  },
  {
   "cell_type": "code",
   "execution_count": 2,
   "metadata": {},
   "outputs": [
    {
     "name": "stderr",
     "output_type": "stream",
     "text": [
      "/anaconda3/lib/python3.6/site-packages/IPython/core/interactiveshell.py:2785: DtypeWarning:\n",
      "\n",
      "Columns (3) have mixed types. Specify dtype option on import or set low_memory=False.\n",
      "\n"
     ]
    }
   ],
   "source": [
    "train = pd.read_csv(\"train.csv\")"
   ]
  },
  {
   "cell_type": "markdown",
   "metadata": {},
   "source": [
    "#### We here confirmed that some columns have mixed type. In our case, we know that some columns have json blobs. \n",
    "#### The function _convert_loadJSON()_ below is used to convert all the json fields in the file to a flattened csv format."
   ]
  },
  {
   "cell_type": "code",
   "execution_count": 3,
   "metadata": {},
   "outputs": [],
   "source": [
    "def convert_loadJSON(csv_path, nrows=None):\n",
    "    JSON_COLUMNS = ['device', 'geoNetwork', 'totals', 'trafficSource']\n",
    "    \n",
    "    df = pd.read_csv(csv_path, \n",
    "                     converters={column: json.loads for column in JSON_COLUMNS}, \n",
    "                     dtype={'fullVisitorId': 'str'}, # Important!!\n",
    "                     nrows=nrows)\n",
    "    \n",
    "    for column in JSON_COLUMNS:\n",
    "        column_as_df = json_normalize(df[column])\n",
    "        column_as_df.columns = [f\"{column}.{subcolumn}\" for subcolumn in column_as_df.columns]\n",
    "        df = df.drop(column, axis=1).merge(column_as_df, right_index=True, left_index=True)\n",
    "    print(f\"Loaded {os.path.basename(csv_path)}. Shape: {df.shape}\")\n",
    "    return df"
   ]
  },
  {
   "cell_type": "code",
   "execution_count": 4,
   "metadata": {},
   "outputs": [
    {
     "name": "stdout",
     "output_type": "stream",
     "text": [
      "Loaded train.csv. Shape: (903653, 55)\n",
      "Loaded test.csv. Shape: (804684, 53)\n",
      "CPU times: user 5min 10s, sys: 3min 34s, total: 8min 44s\n",
      "Wall time: 10min 17s\n"
     ]
    }
   ],
   "source": [
    "%%time\n",
    "train_df = convert_loadJSON('train.csv')\n",
    "test_df = convert_loadJSON(\"test.csv\")"
   ]
  },
  {
   "cell_type": "markdown",
   "metadata": {},
   "source": [
    "#### Let's see what we have in our training set."
   ]
  },
  {
   "cell_type": "code",
   "execution_count": 5,
   "metadata": {},
   "outputs": [
    {
     "data": {
      "text/html": [
       "<div>\n",
       "<style scoped>\n",
       "    .dataframe tbody tr th:only-of-type {\n",
       "        vertical-align: middle;\n",
       "    }\n",
       "\n",
       "    .dataframe tbody tr th {\n",
       "        vertical-align: top;\n",
       "    }\n",
       "\n",
       "    .dataframe thead th {\n",
       "        text-align: right;\n",
       "    }\n",
       "</style>\n",
       "<table border=\"1\" class=\"dataframe\">\n",
       "  <thead>\n",
       "    <tr style=\"text-align: right;\">\n",
       "      <th></th>\n",
       "      <th>channelGrouping</th>\n",
       "      <th>date</th>\n",
       "      <th>fullVisitorId</th>\n",
       "      <th>sessionId</th>\n",
       "      <th>socialEngagementType</th>\n",
       "      <th>visitId</th>\n",
       "      <th>visitNumber</th>\n",
       "      <th>visitStartTime</th>\n",
       "      <th>device.browser</th>\n",
       "      <th>device.browserSize</th>\n",
       "      <th>device.browserVersion</th>\n",
       "      <th>device.deviceCategory</th>\n",
       "      <th>device.flashVersion</th>\n",
       "      <th>device.isMobile</th>\n",
       "      <th>device.language</th>\n",
       "      <th>device.mobileDeviceBranding</th>\n",
       "      <th>device.mobileDeviceInfo</th>\n",
       "      <th>device.mobileDeviceMarketingName</th>\n",
       "      <th>device.mobileDeviceModel</th>\n",
       "      <th>device.mobileInputSelector</th>\n",
       "      <th>device.operatingSystem</th>\n",
       "      <th>device.operatingSystemVersion</th>\n",
       "      <th>device.screenColors</th>\n",
       "      <th>device.screenResolution</th>\n",
       "      <th>geoNetwork.city</th>\n",
       "      <th>geoNetwork.cityId</th>\n",
       "      <th>geoNetwork.continent</th>\n",
       "      <th>geoNetwork.country</th>\n",
       "      <th>geoNetwork.latitude</th>\n",
       "      <th>geoNetwork.longitude</th>\n",
       "      <th>geoNetwork.metro</th>\n",
       "      <th>geoNetwork.networkDomain</th>\n",
       "      <th>geoNetwork.networkLocation</th>\n",
       "      <th>geoNetwork.region</th>\n",
       "      <th>geoNetwork.subContinent</th>\n",
       "      <th>totals.bounces</th>\n",
       "      <th>totals.hits</th>\n",
       "      <th>totals.newVisits</th>\n",
       "      <th>totals.pageviews</th>\n",
       "      <th>totals.transactionRevenue</th>\n",
       "      <th>totals.visits</th>\n",
       "      <th>trafficSource.adContent</th>\n",
       "      <th>trafficSource.adwordsClickInfo.adNetworkType</th>\n",
       "      <th>trafficSource.adwordsClickInfo.criteriaParameters</th>\n",
       "      <th>trafficSource.adwordsClickInfo.gclId</th>\n",
       "      <th>trafficSource.adwordsClickInfo.isVideoAd</th>\n",
       "      <th>trafficSource.adwordsClickInfo.page</th>\n",
       "      <th>trafficSource.adwordsClickInfo.slot</th>\n",
       "      <th>trafficSource.campaign</th>\n",
       "      <th>trafficSource.campaignCode</th>\n",
       "      <th>trafficSource.isTrueDirect</th>\n",
       "      <th>trafficSource.keyword</th>\n",
       "      <th>trafficSource.medium</th>\n",
       "      <th>trafficSource.referralPath</th>\n",
       "      <th>trafficSource.source</th>\n",
       "    </tr>\n",
       "  </thead>\n",
       "  <tbody>\n",
       "    <tr>\n",
       "      <th>0</th>\n",
       "      <td>Organic Search</td>\n",
       "      <td>20160902</td>\n",
       "      <td>1131660440785968503</td>\n",
       "      <td>1131660440785968503_1472830385</td>\n",
       "      <td>Not Socially Engaged</td>\n",
       "      <td>1472830385</td>\n",
       "      <td>1</td>\n",
       "      <td>1472830385</td>\n",
       "      <td>Chrome</td>\n",
       "      <td>not available in demo dataset</td>\n",
       "      <td>not available in demo dataset</td>\n",
       "      <td>desktop</td>\n",
       "      <td>not available in demo dataset</td>\n",
       "      <td>False</td>\n",
       "      <td>not available in demo dataset</td>\n",
       "      <td>not available in demo dataset</td>\n",
       "      <td>not available in demo dataset</td>\n",
       "      <td>not available in demo dataset</td>\n",
       "      <td>not available in demo dataset</td>\n",
       "      <td>not available in demo dataset</td>\n",
       "      <td>Windows</td>\n",
       "      <td>not available in demo dataset</td>\n",
       "      <td>not available in demo dataset</td>\n",
       "      <td>not available in demo dataset</td>\n",
       "      <td>Izmir</td>\n",
       "      <td>not available in demo dataset</td>\n",
       "      <td>Asia</td>\n",
       "      <td>Turkey</td>\n",
       "      <td>not available in demo dataset</td>\n",
       "      <td>not available in demo dataset</td>\n",
       "      <td>(not set)</td>\n",
       "      <td>ttnet.com.tr</td>\n",
       "      <td>not available in demo dataset</td>\n",
       "      <td>Izmir</td>\n",
       "      <td>Western Asia</td>\n",
       "      <td>1</td>\n",
       "      <td>1</td>\n",
       "      <td>1</td>\n",
       "      <td>1</td>\n",
       "      <td>NaN</td>\n",
       "      <td>1</td>\n",
       "      <td>NaN</td>\n",
       "      <td>NaN</td>\n",
       "      <td>not available in demo dataset</td>\n",
       "      <td>NaN</td>\n",
       "      <td>NaN</td>\n",
       "      <td>NaN</td>\n",
       "      <td>NaN</td>\n",
       "      <td>(not set)</td>\n",
       "      <td>NaN</td>\n",
       "      <td>NaN</td>\n",
       "      <td>(not provided)</td>\n",
       "      <td>organic</td>\n",
       "      <td>NaN</td>\n",
       "      <td>google</td>\n",
       "    </tr>\n",
       "    <tr>\n",
       "      <th>1</th>\n",
       "      <td>Organic Search</td>\n",
       "      <td>20160902</td>\n",
       "      <td>377306020877927890</td>\n",
       "      <td>377306020877927890_1472880147</td>\n",
       "      <td>Not Socially Engaged</td>\n",
       "      <td>1472880147</td>\n",
       "      <td>1</td>\n",
       "      <td>1472880147</td>\n",
       "      <td>Firefox</td>\n",
       "      <td>not available in demo dataset</td>\n",
       "      <td>not available in demo dataset</td>\n",
       "      <td>desktop</td>\n",
       "      <td>not available in demo dataset</td>\n",
       "      <td>False</td>\n",
       "      <td>not available in demo dataset</td>\n",
       "      <td>not available in demo dataset</td>\n",
       "      <td>not available in demo dataset</td>\n",
       "      <td>not available in demo dataset</td>\n",
       "      <td>not available in demo dataset</td>\n",
       "      <td>not available in demo dataset</td>\n",
       "      <td>Macintosh</td>\n",
       "      <td>not available in demo dataset</td>\n",
       "      <td>not available in demo dataset</td>\n",
       "      <td>not available in demo dataset</td>\n",
       "      <td>not available in demo dataset</td>\n",
       "      <td>not available in demo dataset</td>\n",
       "      <td>Oceania</td>\n",
       "      <td>Australia</td>\n",
       "      <td>not available in demo dataset</td>\n",
       "      <td>not available in demo dataset</td>\n",
       "      <td>not available in demo dataset</td>\n",
       "      <td>dodo.net.au</td>\n",
       "      <td>not available in demo dataset</td>\n",
       "      <td>not available in demo dataset</td>\n",
       "      <td>Australasia</td>\n",
       "      <td>1</td>\n",
       "      <td>1</td>\n",
       "      <td>1</td>\n",
       "      <td>1</td>\n",
       "      <td>NaN</td>\n",
       "      <td>1</td>\n",
       "      <td>NaN</td>\n",
       "      <td>NaN</td>\n",
       "      <td>not available in demo dataset</td>\n",
       "      <td>NaN</td>\n",
       "      <td>NaN</td>\n",
       "      <td>NaN</td>\n",
       "      <td>NaN</td>\n",
       "      <td>(not set)</td>\n",
       "      <td>NaN</td>\n",
       "      <td>NaN</td>\n",
       "      <td>(not provided)</td>\n",
       "      <td>organic</td>\n",
       "      <td>NaN</td>\n",
       "      <td>google</td>\n",
       "    </tr>\n",
       "    <tr>\n",
       "      <th>2</th>\n",
       "      <td>Organic Search</td>\n",
       "      <td>20160902</td>\n",
       "      <td>3895546263509774583</td>\n",
       "      <td>3895546263509774583_1472865386</td>\n",
       "      <td>Not Socially Engaged</td>\n",
       "      <td>1472865386</td>\n",
       "      <td>1</td>\n",
       "      <td>1472865386</td>\n",
       "      <td>Chrome</td>\n",
       "      <td>not available in demo dataset</td>\n",
       "      <td>not available in demo dataset</td>\n",
       "      <td>desktop</td>\n",
       "      <td>not available in demo dataset</td>\n",
       "      <td>False</td>\n",
       "      <td>not available in demo dataset</td>\n",
       "      <td>not available in demo dataset</td>\n",
       "      <td>not available in demo dataset</td>\n",
       "      <td>not available in demo dataset</td>\n",
       "      <td>not available in demo dataset</td>\n",
       "      <td>not available in demo dataset</td>\n",
       "      <td>Windows</td>\n",
       "      <td>not available in demo dataset</td>\n",
       "      <td>not available in demo dataset</td>\n",
       "      <td>not available in demo dataset</td>\n",
       "      <td>Madrid</td>\n",
       "      <td>not available in demo dataset</td>\n",
       "      <td>Europe</td>\n",
       "      <td>Spain</td>\n",
       "      <td>not available in demo dataset</td>\n",
       "      <td>not available in demo dataset</td>\n",
       "      <td>(not set)</td>\n",
       "      <td>unknown.unknown</td>\n",
       "      <td>not available in demo dataset</td>\n",
       "      <td>Community of Madrid</td>\n",
       "      <td>Southern Europe</td>\n",
       "      <td>1</td>\n",
       "      <td>1</td>\n",
       "      <td>1</td>\n",
       "      <td>1</td>\n",
       "      <td>NaN</td>\n",
       "      <td>1</td>\n",
       "      <td>NaN</td>\n",
       "      <td>NaN</td>\n",
       "      <td>not available in demo dataset</td>\n",
       "      <td>NaN</td>\n",
       "      <td>NaN</td>\n",
       "      <td>NaN</td>\n",
       "      <td>NaN</td>\n",
       "      <td>(not set)</td>\n",
       "      <td>NaN</td>\n",
       "      <td>NaN</td>\n",
       "      <td>(not provided)</td>\n",
       "      <td>organic</td>\n",
       "      <td>NaN</td>\n",
       "      <td>google</td>\n",
       "    </tr>\n",
       "    <tr>\n",
       "      <th>3</th>\n",
       "      <td>Organic Search</td>\n",
       "      <td>20160902</td>\n",
       "      <td>4763447161404445595</td>\n",
       "      <td>4763447161404445595_1472881213</td>\n",
       "      <td>Not Socially Engaged</td>\n",
       "      <td>1472881213</td>\n",
       "      <td>1</td>\n",
       "      <td>1472881213</td>\n",
       "      <td>UC Browser</td>\n",
       "      <td>not available in demo dataset</td>\n",
       "      <td>not available in demo dataset</td>\n",
       "      <td>desktop</td>\n",
       "      <td>not available in demo dataset</td>\n",
       "      <td>False</td>\n",
       "      <td>not available in demo dataset</td>\n",
       "      <td>not available in demo dataset</td>\n",
       "      <td>not available in demo dataset</td>\n",
       "      <td>not available in demo dataset</td>\n",
       "      <td>not available in demo dataset</td>\n",
       "      <td>not available in demo dataset</td>\n",
       "      <td>Linux</td>\n",
       "      <td>not available in demo dataset</td>\n",
       "      <td>not available in demo dataset</td>\n",
       "      <td>not available in demo dataset</td>\n",
       "      <td>not available in demo dataset</td>\n",
       "      <td>not available in demo dataset</td>\n",
       "      <td>Asia</td>\n",
       "      <td>Indonesia</td>\n",
       "      <td>not available in demo dataset</td>\n",
       "      <td>not available in demo dataset</td>\n",
       "      <td>not available in demo dataset</td>\n",
       "      <td>unknown.unknown</td>\n",
       "      <td>not available in demo dataset</td>\n",
       "      <td>not available in demo dataset</td>\n",
       "      <td>Southeast Asia</td>\n",
       "      <td>1</td>\n",
       "      <td>1</td>\n",
       "      <td>1</td>\n",
       "      <td>1</td>\n",
       "      <td>NaN</td>\n",
       "      <td>1</td>\n",
       "      <td>NaN</td>\n",
       "      <td>NaN</td>\n",
       "      <td>not available in demo dataset</td>\n",
       "      <td>NaN</td>\n",
       "      <td>NaN</td>\n",
       "      <td>NaN</td>\n",
       "      <td>NaN</td>\n",
       "      <td>(not set)</td>\n",
       "      <td>NaN</td>\n",
       "      <td>NaN</td>\n",
       "      <td>google + online</td>\n",
       "      <td>organic</td>\n",
       "      <td>NaN</td>\n",
       "      <td>google</td>\n",
       "    </tr>\n",
       "    <tr>\n",
       "      <th>4</th>\n",
       "      <td>Organic Search</td>\n",
       "      <td>20160902</td>\n",
       "      <td>27294437909732085</td>\n",
       "      <td>27294437909732085_1472822600</td>\n",
       "      <td>Not Socially Engaged</td>\n",
       "      <td>1472822600</td>\n",
       "      <td>2</td>\n",
       "      <td>1472822600</td>\n",
       "      <td>Chrome</td>\n",
       "      <td>not available in demo dataset</td>\n",
       "      <td>not available in demo dataset</td>\n",
       "      <td>mobile</td>\n",
       "      <td>not available in demo dataset</td>\n",
       "      <td>True</td>\n",
       "      <td>not available in demo dataset</td>\n",
       "      <td>not available in demo dataset</td>\n",
       "      <td>not available in demo dataset</td>\n",
       "      <td>not available in demo dataset</td>\n",
       "      <td>not available in demo dataset</td>\n",
       "      <td>not available in demo dataset</td>\n",
       "      <td>Android</td>\n",
       "      <td>not available in demo dataset</td>\n",
       "      <td>not available in demo dataset</td>\n",
       "      <td>not available in demo dataset</td>\n",
       "      <td>not available in demo dataset</td>\n",
       "      <td>not available in demo dataset</td>\n",
       "      <td>Europe</td>\n",
       "      <td>United Kingdom</td>\n",
       "      <td>not available in demo dataset</td>\n",
       "      <td>not available in demo dataset</td>\n",
       "      <td>not available in demo dataset</td>\n",
       "      <td>unknown.unknown</td>\n",
       "      <td>not available in demo dataset</td>\n",
       "      <td>not available in demo dataset</td>\n",
       "      <td>Northern Europe</td>\n",
       "      <td>1</td>\n",
       "      <td>1</td>\n",
       "      <td>NaN</td>\n",
       "      <td>1</td>\n",
       "      <td>NaN</td>\n",
       "      <td>1</td>\n",
       "      <td>NaN</td>\n",
       "      <td>NaN</td>\n",
       "      <td>not available in demo dataset</td>\n",
       "      <td>NaN</td>\n",
       "      <td>NaN</td>\n",
       "      <td>NaN</td>\n",
       "      <td>NaN</td>\n",
       "      <td>(not set)</td>\n",
       "      <td>NaN</td>\n",
       "      <td>True</td>\n",
       "      <td>(not provided)</td>\n",
       "      <td>organic</td>\n",
       "      <td>NaN</td>\n",
       "      <td>google</td>\n",
       "    </tr>\n",
       "  </tbody>\n",
       "</table>\n",
       "</div>"
      ],
      "text/plain": [
       "  channelGrouping      date        fullVisitorId  \\\n",
       "0  Organic Search  20160902  1131660440785968503   \n",
       "1  Organic Search  20160902   377306020877927890   \n",
       "2  Organic Search  20160902  3895546263509774583   \n",
       "3  Organic Search  20160902  4763447161404445595   \n",
       "4  Organic Search  20160902    27294437909732085   \n",
       "\n",
       "                        sessionId  socialEngagementType     visitId  \\\n",
       "0  1131660440785968503_1472830385  Not Socially Engaged  1472830385   \n",
       "1   377306020877927890_1472880147  Not Socially Engaged  1472880147   \n",
       "2  3895546263509774583_1472865386  Not Socially Engaged  1472865386   \n",
       "3  4763447161404445595_1472881213  Not Socially Engaged  1472881213   \n",
       "4    27294437909732085_1472822600  Not Socially Engaged  1472822600   \n",
       "\n",
       "   visitNumber  visitStartTime device.browser             device.browserSize  \\\n",
       "0            1      1472830385         Chrome  not available in demo dataset   \n",
       "1            1      1472880147        Firefox  not available in demo dataset   \n",
       "2            1      1472865386         Chrome  not available in demo dataset   \n",
       "3            1      1472881213     UC Browser  not available in demo dataset   \n",
       "4            2      1472822600         Chrome  not available in demo dataset   \n",
       "\n",
       "           device.browserVersion device.deviceCategory  \\\n",
       "0  not available in demo dataset               desktop   \n",
       "1  not available in demo dataset               desktop   \n",
       "2  not available in demo dataset               desktop   \n",
       "3  not available in demo dataset               desktop   \n",
       "4  not available in demo dataset                mobile   \n",
       "\n",
       "             device.flashVersion  device.isMobile  \\\n",
       "0  not available in demo dataset            False   \n",
       "1  not available in demo dataset            False   \n",
       "2  not available in demo dataset            False   \n",
       "3  not available in demo dataset            False   \n",
       "4  not available in demo dataset             True   \n",
       "\n",
       "                 device.language    device.mobileDeviceBranding  \\\n",
       "0  not available in demo dataset  not available in demo dataset   \n",
       "1  not available in demo dataset  not available in demo dataset   \n",
       "2  not available in demo dataset  not available in demo dataset   \n",
       "3  not available in demo dataset  not available in demo dataset   \n",
       "4  not available in demo dataset  not available in demo dataset   \n",
       "\n",
       "         device.mobileDeviceInfo device.mobileDeviceMarketingName  \\\n",
       "0  not available in demo dataset    not available in demo dataset   \n",
       "1  not available in demo dataset    not available in demo dataset   \n",
       "2  not available in demo dataset    not available in demo dataset   \n",
       "3  not available in demo dataset    not available in demo dataset   \n",
       "4  not available in demo dataset    not available in demo dataset   \n",
       "\n",
       "        device.mobileDeviceModel     device.mobileInputSelector  \\\n",
       "0  not available in demo dataset  not available in demo dataset   \n",
       "1  not available in demo dataset  not available in demo dataset   \n",
       "2  not available in demo dataset  not available in demo dataset   \n",
       "3  not available in demo dataset  not available in demo dataset   \n",
       "4  not available in demo dataset  not available in demo dataset   \n",
       "\n",
       "  device.operatingSystem  device.operatingSystemVersion  \\\n",
       "0                Windows  not available in demo dataset   \n",
       "1              Macintosh  not available in demo dataset   \n",
       "2                Windows  not available in demo dataset   \n",
       "3                  Linux  not available in demo dataset   \n",
       "4                Android  not available in demo dataset   \n",
       "\n",
       "             device.screenColors        device.screenResolution  \\\n",
       "0  not available in demo dataset  not available in demo dataset   \n",
       "1  not available in demo dataset  not available in demo dataset   \n",
       "2  not available in demo dataset  not available in demo dataset   \n",
       "3  not available in demo dataset  not available in demo dataset   \n",
       "4  not available in demo dataset  not available in demo dataset   \n",
       "\n",
       "                 geoNetwork.city              geoNetwork.cityId  \\\n",
       "0                          Izmir  not available in demo dataset   \n",
       "1  not available in demo dataset  not available in demo dataset   \n",
       "2                         Madrid  not available in demo dataset   \n",
       "3  not available in demo dataset  not available in demo dataset   \n",
       "4  not available in demo dataset  not available in demo dataset   \n",
       "\n",
       "  geoNetwork.continent geoNetwork.country            geoNetwork.latitude  \\\n",
       "0                 Asia             Turkey  not available in demo dataset   \n",
       "1              Oceania          Australia  not available in demo dataset   \n",
       "2               Europe              Spain  not available in demo dataset   \n",
       "3                 Asia          Indonesia  not available in demo dataset   \n",
       "4               Europe     United Kingdom  not available in demo dataset   \n",
       "\n",
       "            geoNetwork.longitude               geoNetwork.metro  \\\n",
       "0  not available in demo dataset                      (not set)   \n",
       "1  not available in demo dataset  not available in demo dataset   \n",
       "2  not available in demo dataset                      (not set)   \n",
       "3  not available in demo dataset  not available in demo dataset   \n",
       "4  not available in demo dataset  not available in demo dataset   \n",
       "\n",
       "  geoNetwork.networkDomain     geoNetwork.networkLocation  \\\n",
       "0             ttnet.com.tr  not available in demo dataset   \n",
       "1              dodo.net.au  not available in demo dataset   \n",
       "2          unknown.unknown  not available in demo dataset   \n",
       "3          unknown.unknown  not available in demo dataset   \n",
       "4          unknown.unknown  not available in demo dataset   \n",
       "\n",
       "               geoNetwork.region geoNetwork.subContinent totals.bounces  \\\n",
       "0                          Izmir            Western Asia              1   \n",
       "1  not available in demo dataset             Australasia              1   \n",
       "2            Community of Madrid         Southern Europe              1   \n",
       "3  not available in demo dataset          Southeast Asia              1   \n",
       "4  not available in demo dataset         Northern Europe              1   \n",
       "\n",
       "  totals.hits totals.newVisits totals.pageviews totals.transactionRevenue  \\\n",
       "0           1                1                1                       NaN   \n",
       "1           1                1                1                       NaN   \n",
       "2           1                1                1                       NaN   \n",
       "3           1                1                1                       NaN   \n",
       "4           1              NaN                1                       NaN   \n",
       "\n",
       "  totals.visits trafficSource.adContent  \\\n",
       "0             1                     NaN   \n",
       "1             1                     NaN   \n",
       "2             1                     NaN   \n",
       "3             1                     NaN   \n",
       "4             1                     NaN   \n",
       "\n",
       "  trafficSource.adwordsClickInfo.adNetworkType  \\\n",
       "0                                          NaN   \n",
       "1                                          NaN   \n",
       "2                                          NaN   \n",
       "3                                          NaN   \n",
       "4                                          NaN   \n",
       "\n",
       "  trafficSource.adwordsClickInfo.criteriaParameters  \\\n",
       "0                     not available in demo dataset   \n",
       "1                     not available in demo dataset   \n",
       "2                     not available in demo dataset   \n",
       "3                     not available in demo dataset   \n",
       "4                     not available in demo dataset   \n",
       "\n",
       "  trafficSource.adwordsClickInfo.gclId  \\\n",
       "0                                  NaN   \n",
       "1                                  NaN   \n",
       "2                                  NaN   \n",
       "3                                  NaN   \n",
       "4                                  NaN   \n",
       "\n",
       "  trafficSource.adwordsClickInfo.isVideoAd  \\\n",
       "0                                      NaN   \n",
       "1                                      NaN   \n",
       "2                                      NaN   \n",
       "3                                      NaN   \n",
       "4                                      NaN   \n",
       "\n",
       "  trafficSource.adwordsClickInfo.page trafficSource.adwordsClickInfo.slot  \\\n",
       "0                                 NaN                                 NaN   \n",
       "1                                 NaN                                 NaN   \n",
       "2                                 NaN                                 NaN   \n",
       "3                                 NaN                                 NaN   \n",
       "4                                 NaN                                 NaN   \n",
       "\n",
       "  trafficSource.campaign trafficSource.campaignCode  \\\n",
       "0              (not set)                        NaN   \n",
       "1              (not set)                        NaN   \n",
       "2              (not set)                        NaN   \n",
       "3              (not set)                        NaN   \n",
       "4              (not set)                        NaN   \n",
       "\n",
       "  trafficSource.isTrueDirect trafficSource.keyword trafficSource.medium  \\\n",
       "0                        NaN        (not provided)              organic   \n",
       "1                        NaN        (not provided)              organic   \n",
       "2                        NaN        (not provided)              organic   \n",
       "3                        NaN       google + online              organic   \n",
       "4                       True        (not provided)              organic   \n",
       "\n",
       "  trafficSource.referralPath trafficSource.source  \n",
       "0                        NaN               google  \n",
       "1                        NaN               google  \n",
       "2                        NaN               google  \n",
       "3                        NaN               google  \n",
       "4                        NaN               google  "
      ]
     },
     "execution_count": 5,
     "metadata": {},
     "output_type": "execute_result"
    }
   ],
   "source": [
    "train_df.head()"
   ]
  },
  {
   "cell_type": "markdown",
   "metadata": {},
   "source": [
    "#### Let's see what we have in our testing set."
   ]
  },
  {
   "cell_type": "code",
   "execution_count": 6,
   "metadata": {},
   "outputs": [
    {
     "data": {
      "text/html": [
       "<div>\n",
       "<style scoped>\n",
       "    .dataframe tbody tr th:only-of-type {\n",
       "        vertical-align: middle;\n",
       "    }\n",
       "\n",
       "    .dataframe tbody tr th {\n",
       "        vertical-align: top;\n",
       "    }\n",
       "\n",
       "    .dataframe thead th {\n",
       "        text-align: right;\n",
       "    }\n",
       "</style>\n",
       "<table border=\"1\" class=\"dataframe\">\n",
       "  <thead>\n",
       "    <tr style=\"text-align: right;\">\n",
       "      <th></th>\n",
       "      <th>channelGrouping</th>\n",
       "      <th>date</th>\n",
       "      <th>fullVisitorId</th>\n",
       "      <th>sessionId</th>\n",
       "      <th>socialEngagementType</th>\n",
       "      <th>visitId</th>\n",
       "      <th>visitNumber</th>\n",
       "      <th>visitStartTime</th>\n",
       "      <th>device.browser</th>\n",
       "      <th>device.browserSize</th>\n",
       "      <th>device.browserVersion</th>\n",
       "      <th>device.deviceCategory</th>\n",
       "      <th>device.flashVersion</th>\n",
       "      <th>device.isMobile</th>\n",
       "      <th>device.language</th>\n",
       "      <th>device.mobileDeviceBranding</th>\n",
       "      <th>device.mobileDeviceInfo</th>\n",
       "      <th>device.mobileDeviceMarketingName</th>\n",
       "      <th>device.mobileDeviceModel</th>\n",
       "      <th>device.mobileInputSelector</th>\n",
       "      <th>device.operatingSystem</th>\n",
       "      <th>device.operatingSystemVersion</th>\n",
       "      <th>device.screenColors</th>\n",
       "      <th>device.screenResolution</th>\n",
       "      <th>geoNetwork.city</th>\n",
       "      <th>geoNetwork.cityId</th>\n",
       "      <th>geoNetwork.continent</th>\n",
       "      <th>geoNetwork.country</th>\n",
       "      <th>geoNetwork.latitude</th>\n",
       "      <th>geoNetwork.longitude</th>\n",
       "      <th>geoNetwork.metro</th>\n",
       "      <th>geoNetwork.networkDomain</th>\n",
       "      <th>geoNetwork.networkLocation</th>\n",
       "      <th>geoNetwork.region</th>\n",
       "      <th>geoNetwork.subContinent</th>\n",
       "      <th>totals.bounces</th>\n",
       "      <th>totals.hits</th>\n",
       "      <th>totals.newVisits</th>\n",
       "      <th>totals.pageviews</th>\n",
       "      <th>totals.visits</th>\n",
       "      <th>trafficSource.adContent</th>\n",
       "      <th>trafficSource.adwordsClickInfo.adNetworkType</th>\n",
       "      <th>trafficSource.adwordsClickInfo.criteriaParameters</th>\n",
       "      <th>trafficSource.adwordsClickInfo.gclId</th>\n",
       "      <th>trafficSource.adwordsClickInfo.isVideoAd</th>\n",
       "      <th>trafficSource.adwordsClickInfo.page</th>\n",
       "      <th>trafficSource.adwordsClickInfo.slot</th>\n",
       "      <th>trafficSource.campaign</th>\n",
       "      <th>trafficSource.isTrueDirect</th>\n",
       "      <th>trafficSource.keyword</th>\n",
       "      <th>trafficSource.medium</th>\n",
       "      <th>trafficSource.referralPath</th>\n",
       "      <th>trafficSource.source</th>\n",
       "    </tr>\n",
       "  </thead>\n",
       "  <tbody>\n",
       "    <tr>\n",
       "      <th>0</th>\n",
       "      <td>Organic Search</td>\n",
       "      <td>20171016</td>\n",
       "      <td>6167871330617112363</td>\n",
       "      <td>6167871330617112363_1508151024</td>\n",
       "      <td>Not Socially Engaged</td>\n",
       "      <td>1508151024</td>\n",
       "      <td>2</td>\n",
       "      <td>1508151024</td>\n",
       "      <td>Chrome</td>\n",
       "      <td>not available in demo dataset</td>\n",
       "      <td>not available in demo dataset</td>\n",
       "      <td>desktop</td>\n",
       "      <td>not available in demo dataset</td>\n",
       "      <td>False</td>\n",
       "      <td>not available in demo dataset</td>\n",
       "      <td>not available in demo dataset</td>\n",
       "      <td>not available in demo dataset</td>\n",
       "      <td>not available in demo dataset</td>\n",
       "      <td>not available in demo dataset</td>\n",
       "      <td>not available in demo dataset</td>\n",
       "      <td>Macintosh</td>\n",
       "      <td>not available in demo dataset</td>\n",
       "      <td>not available in demo dataset</td>\n",
       "      <td>not available in demo dataset</td>\n",
       "      <td>(not set)</td>\n",
       "      <td>not available in demo dataset</td>\n",
       "      <td>Asia</td>\n",
       "      <td>Singapore</td>\n",
       "      <td>not available in demo dataset</td>\n",
       "      <td>not available in demo dataset</td>\n",
       "      <td>(not set)</td>\n",
       "      <td>myrepublic.com.sg</td>\n",
       "      <td>not available in demo dataset</td>\n",
       "      <td>(not set)</td>\n",
       "      <td>Southeast Asia</td>\n",
       "      <td>NaN</td>\n",
       "      <td>4</td>\n",
       "      <td>NaN</td>\n",
       "      <td>4</td>\n",
       "      <td>1</td>\n",
       "      <td>NaN</td>\n",
       "      <td>NaN</td>\n",
       "      <td>not available in demo dataset</td>\n",
       "      <td>NaN</td>\n",
       "      <td>NaN</td>\n",
       "      <td>NaN</td>\n",
       "      <td>NaN</td>\n",
       "      <td>(not set)</td>\n",
       "      <td>True</td>\n",
       "      <td>(not provided)</td>\n",
       "      <td>organic</td>\n",
       "      <td>NaN</td>\n",
       "      <td>google</td>\n",
       "    </tr>\n",
       "    <tr>\n",
       "      <th>1</th>\n",
       "      <td>Organic Search</td>\n",
       "      <td>20171016</td>\n",
       "      <td>0643697640977915618</td>\n",
       "      <td>0643697640977915618_1508175522</td>\n",
       "      <td>Not Socially Engaged</td>\n",
       "      <td>1508175522</td>\n",
       "      <td>1</td>\n",
       "      <td>1508175522</td>\n",
       "      <td>Chrome</td>\n",
       "      <td>not available in demo dataset</td>\n",
       "      <td>not available in demo dataset</td>\n",
       "      <td>desktop</td>\n",
       "      <td>not available in demo dataset</td>\n",
       "      <td>False</td>\n",
       "      <td>not available in demo dataset</td>\n",
       "      <td>not available in demo dataset</td>\n",
       "      <td>not available in demo dataset</td>\n",
       "      <td>not available in demo dataset</td>\n",
       "      <td>not available in demo dataset</td>\n",
       "      <td>not available in demo dataset</td>\n",
       "      <td>Windows</td>\n",
       "      <td>not available in demo dataset</td>\n",
       "      <td>not available in demo dataset</td>\n",
       "      <td>not available in demo dataset</td>\n",
       "      <td>Zaragoza</td>\n",
       "      <td>not available in demo dataset</td>\n",
       "      <td>Europe</td>\n",
       "      <td>Spain</td>\n",
       "      <td>not available in demo dataset</td>\n",
       "      <td>not available in demo dataset</td>\n",
       "      <td>(not set)</td>\n",
       "      <td>rima-tde.net</td>\n",
       "      <td>not available in demo dataset</td>\n",
       "      <td>Aragon</td>\n",
       "      <td>Southern Europe</td>\n",
       "      <td>NaN</td>\n",
       "      <td>5</td>\n",
       "      <td>1</td>\n",
       "      <td>5</td>\n",
       "      <td>1</td>\n",
       "      <td>NaN</td>\n",
       "      <td>NaN</td>\n",
       "      <td>not available in demo dataset</td>\n",
       "      <td>NaN</td>\n",
       "      <td>NaN</td>\n",
       "      <td>NaN</td>\n",
       "      <td>NaN</td>\n",
       "      <td>(not set)</td>\n",
       "      <td>NaN</td>\n",
       "      <td>(not provided)</td>\n",
       "      <td>organic</td>\n",
       "      <td>NaN</td>\n",
       "      <td>google</td>\n",
       "    </tr>\n",
       "    <tr>\n",
       "      <th>2</th>\n",
       "      <td>Organic Search</td>\n",
       "      <td>20171016</td>\n",
       "      <td>6059383810968229466</td>\n",
       "      <td>6059383810968229466_1508143220</td>\n",
       "      <td>Not Socially Engaged</td>\n",
       "      <td>1508143220</td>\n",
       "      <td>1</td>\n",
       "      <td>1508143220</td>\n",
       "      <td>Chrome</td>\n",
       "      <td>not available in demo dataset</td>\n",
       "      <td>not available in demo dataset</td>\n",
       "      <td>desktop</td>\n",
       "      <td>not available in demo dataset</td>\n",
       "      <td>False</td>\n",
       "      <td>not available in demo dataset</td>\n",
       "      <td>not available in demo dataset</td>\n",
       "      <td>not available in demo dataset</td>\n",
       "      <td>not available in demo dataset</td>\n",
       "      <td>not available in demo dataset</td>\n",
       "      <td>not available in demo dataset</td>\n",
       "      <td>Macintosh</td>\n",
       "      <td>not available in demo dataset</td>\n",
       "      <td>not available in demo dataset</td>\n",
       "      <td>not available in demo dataset</td>\n",
       "      <td>not available in demo dataset</td>\n",
       "      <td>not available in demo dataset</td>\n",
       "      <td>Europe</td>\n",
       "      <td>France</td>\n",
       "      <td>not available in demo dataset</td>\n",
       "      <td>not available in demo dataset</td>\n",
       "      <td>not available in demo dataset</td>\n",
       "      <td>sfr.net</td>\n",
       "      <td>not available in demo dataset</td>\n",
       "      <td>not available in demo dataset</td>\n",
       "      <td>Western Europe</td>\n",
       "      <td>NaN</td>\n",
       "      <td>7</td>\n",
       "      <td>1</td>\n",
       "      <td>7</td>\n",
       "      <td>1</td>\n",
       "      <td>NaN</td>\n",
       "      <td>NaN</td>\n",
       "      <td>not available in demo dataset</td>\n",
       "      <td>NaN</td>\n",
       "      <td>NaN</td>\n",
       "      <td>NaN</td>\n",
       "      <td>NaN</td>\n",
       "      <td>(not set)</td>\n",
       "      <td>NaN</td>\n",
       "      <td>(not provided)</td>\n",
       "      <td>organic</td>\n",
       "      <td>NaN</td>\n",
       "      <td>google</td>\n",
       "    </tr>\n",
       "    <tr>\n",
       "      <th>3</th>\n",
       "      <td>Organic Search</td>\n",
       "      <td>20171016</td>\n",
       "      <td>2376720078563423631</td>\n",
       "      <td>2376720078563423631_1508193530</td>\n",
       "      <td>Not Socially Engaged</td>\n",
       "      <td>1508193530</td>\n",
       "      <td>1</td>\n",
       "      <td>1508193530</td>\n",
       "      <td>Safari</td>\n",
       "      <td>not available in demo dataset</td>\n",
       "      <td>not available in demo dataset</td>\n",
       "      <td>mobile</td>\n",
       "      <td>not available in demo dataset</td>\n",
       "      <td>True</td>\n",
       "      <td>not available in demo dataset</td>\n",
       "      <td>not available in demo dataset</td>\n",
       "      <td>not available in demo dataset</td>\n",
       "      <td>not available in demo dataset</td>\n",
       "      <td>not available in demo dataset</td>\n",
       "      <td>not available in demo dataset</td>\n",
       "      <td>iOS</td>\n",
       "      <td>not available in demo dataset</td>\n",
       "      <td>not available in demo dataset</td>\n",
       "      <td>not available in demo dataset</td>\n",
       "      <td>Mountain View</td>\n",
       "      <td>not available in demo dataset</td>\n",
       "      <td>Americas</td>\n",
       "      <td>United States</td>\n",
       "      <td>not available in demo dataset</td>\n",
       "      <td>not available in demo dataset</td>\n",
       "      <td>San Francisco-Oakland-San Jose CA</td>\n",
       "      <td>(not set)</td>\n",
       "      <td>not available in demo dataset</td>\n",
       "      <td>California</td>\n",
       "      <td>Northern America</td>\n",
       "      <td>NaN</td>\n",
       "      <td>8</td>\n",
       "      <td>1</td>\n",
       "      <td>4</td>\n",
       "      <td>1</td>\n",
       "      <td>NaN</td>\n",
       "      <td>NaN</td>\n",
       "      <td>not available in demo dataset</td>\n",
       "      <td>NaN</td>\n",
       "      <td>NaN</td>\n",
       "      <td>NaN</td>\n",
       "      <td>NaN</td>\n",
       "      <td>(not set)</td>\n",
       "      <td>NaN</td>\n",
       "      <td>(not provided)</td>\n",
       "      <td>organic</td>\n",
       "      <td>NaN</td>\n",
       "      <td>google</td>\n",
       "    </tr>\n",
       "    <tr>\n",
       "      <th>4</th>\n",
       "      <td>Organic Search</td>\n",
       "      <td>20171016</td>\n",
       "      <td>2314544520795440038</td>\n",
       "      <td>2314544520795440038_1508217442</td>\n",
       "      <td>Not Socially Engaged</td>\n",
       "      <td>1508217442</td>\n",
       "      <td>1</td>\n",
       "      <td>1508217442</td>\n",
       "      <td>Safari</td>\n",
       "      <td>not available in demo dataset</td>\n",
       "      <td>not available in demo dataset</td>\n",
       "      <td>desktop</td>\n",
       "      <td>not available in demo dataset</td>\n",
       "      <td>False</td>\n",
       "      <td>not available in demo dataset</td>\n",
       "      <td>not available in demo dataset</td>\n",
       "      <td>not available in demo dataset</td>\n",
       "      <td>not available in demo dataset</td>\n",
       "      <td>not available in demo dataset</td>\n",
       "      <td>not available in demo dataset</td>\n",
       "      <td>Macintosh</td>\n",
       "      <td>not available in demo dataset</td>\n",
       "      <td>not available in demo dataset</td>\n",
       "      <td>not available in demo dataset</td>\n",
       "      <td>San Jose</td>\n",
       "      <td>not available in demo dataset</td>\n",
       "      <td>Americas</td>\n",
       "      <td>United States</td>\n",
       "      <td>not available in demo dataset</td>\n",
       "      <td>not available in demo dataset</td>\n",
       "      <td>San Francisco-Oakland-San Jose CA</td>\n",
       "      <td>(not set)</td>\n",
       "      <td>not available in demo dataset</td>\n",
       "      <td>California</td>\n",
       "      <td>Northern America</td>\n",
       "      <td>NaN</td>\n",
       "      <td>9</td>\n",
       "      <td>1</td>\n",
       "      <td>4</td>\n",
       "      <td>1</td>\n",
       "      <td>NaN</td>\n",
       "      <td>NaN</td>\n",
       "      <td>not available in demo dataset</td>\n",
       "      <td>NaN</td>\n",
       "      <td>NaN</td>\n",
       "      <td>NaN</td>\n",
       "      <td>NaN</td>\n",
       "      <td>(not set)</td>\n",
       "      <td>NaN</td>\n",
       "      <td>(not provided)</td>\n",
       "      <td>organic</td>\n",
       "      <td>NaN</td>\n",
       "      <td>google</td>\n",
       "    </tr>\n",
       "  </tbody>\n",
       "</table>\n",
       "</div>"
      ],
      "text/plain": [
       "  channelGrouping      date        fullVisitorId  \\\n",
       "0  Organic Search  20171016  6167871330617112363   \n",
       "1  Organic Search  20171016  0643697640977915618   \n",
       "2  Organic Search  20171016  6059383810968229466   \n",
       "3  Organic Search  20171016  2376720078563423631   \n",
       "4  Organic Search  20171016  2314544520795440038   \n",
       "\n",
       "                        sessionId  socialEngagementType     visitId  \\\n",
       "0  6167871330617112363_1508151024  Not Socially Engaged  1508151024   \n",
       "1  0643697640977915618_1508175522  Not Socially Engaged  1508175522   \n",
       "2  6059383810968229466_1508143220  Not Socially Engaged  1508143220   \n",
       "3  2376720078563423631_1508193530  Not Socially Engaged  1508193530   \n",
       "4  2314544520795440038_1508217442  Not Socially Engaged  1508217442   \n",
       "\n",
       "   visitNumber  visitStartTime device.browser             device.browserSize  \\\n",
       "0            2      1508151024         Chrome  not available in demo dataset   \n",
       "1            1      1508175522         Chrome  not available in demo dataset   \n",
       "2            1      1508143220         Chrome  not available in demo dataset   \n",
       "3            1      1508193530         Safari  not available in demo dataset   \n",
       "4            1      1508217442         Safari  not available in demo dataset   \n",
       "\n",
       "           device.browserVersion device.deviceCategory  \\\n",
       "0  not available in demo dataset               desktop   \n",
       "1  not available in demo dataset               desktop   \n",
       "2  not available in demo dataset               desktop   \n",
       "3  not available in demo dataset                mobile   \n",
       "4  not available in demo dataset               desktop   \n",
       "\n",
       "             device.flashVersion  device.isMobile  \\\n",
       "0  not available in demo dataset            False   \n",
       "1  not available in demo dataset            False   \n",
       "2  not available in demo dataset            False   \n",
       "3  not available in demo dataset             True   \n",
       "4  not available in demo dataset            False   \n",
       "\n",
       "                 device.language    device.mobileDeviceBranding  \\\n",
       "0  not available in demo dataset  not available in demo dataset   \n",
       "1  not available in demo dataset  not available in demo dataset   \n",
       "2  not available in demo dataset  not available in demo dataset   \n",
       "3  not available in demo dataset  not available in demo dataset   \n",
       "4  not available in demo dataset  not available in demo dataset   \n",
       "\n",
       "         device.mobileDeviceInfo device.mobileDeviceMarketingName  \\\n",
       "0  not available in demo dataset    not available in demo dataset   \n",
       "1  not available in demo dataset    not available in demo dataset   \n",
       "2  not available in demo dataset    not available in demo dataset   \n",
       "3  not available in demo dataset    not available in demo dataset   \n",
       "4  not available in demo dataset    not available in demo dataset   \n",
       "\n",
       "        device.mobileDeviceModel     device.mobileInputSelector  \\\n",
       "0  not available in demo dataset  not available in demo dataset   \n",
       "1  not available in demo dataset  not available in demo dataset   \n",
       "2  not available in demo dataset  not available in demo dataset   \n",
       "3  not available in demo dataset  not available in demo dataset   \n",
       "4  not available in demo dataset  not available in demo dataset   \n",
       "\n",
       "  device.operatingSystem  device.operatingSystemVersion  \\\n",
       "0              Macintosh  not available in demo dataset   \n",
       "1                Windows  not available in demo dataset   \n",
       "2              Macintosh  not available in demo dataset   \n",
       "3                    iOS  not available in demo dataset   \n",
       "4              Macintosh  not available in demo dataset   \n",
       "\n",
       "             device.screenColors        device.screenResolution  \\\n",
       "0  not available in demo dataset  not available in demo dataset   \n",
       "1  not available in demo dataset  not available in demo dataset   \n",
       "2  not available in demo dataset  not available in demo dataset   \n",
       "3  not available in demo dataset  not available in demo dataset   \n",
       "4  not available in demo dataset  not available in demo dataset   \n",
       "\n",
       "                 geoNetwork.city              geoNetwork.cityId  \\\n",
       "0                      (not set)  not available in demo dataset   \n",
       "1                       Zaragoza  not available in demo dataset   \n",
       "2  not available in demo dataset  not available in demo dataset   \n",
       "3                  Mountain View  not available in demo dataset   \n",
       "4                       San Jose  not available in demo dataset   \n",
       "\n",
       "  geoNetwork.continent geoNetwork.country            geoNetwork.latitude  \\\n",
       "0                 Asia          Singapore  not available in demo dataset   \n",
       "1               Europe              Spain  not available in demo dataset   \n",
       "2               Europe             France  not available in demo dataset   \n",
       "3             Americas      United States  not available in demo dataset   \n",
       "4             Americas      United States  not available in demo dataset   \n",
       "\n",
       "            geoNetwork.longitude                   geoNetwork.metro  \\\n",
       "0  not available in demo dataset                          (not set)   \n",
       "1  not available in demo dataset                          (not set)   \n",
       "2  not available in demo dataset      not available in demo dataset   \n",
       "3  not available in demo dataset  San Francisco-Oakland-San Jose CA   \n",
       "4  not available in demo dataset  San Francisco-Oakland-San Jose CA   \n",
       "\n",
       "  geoNetwork.networkDomain     geoNetwork.networkLocation  \\\n",
       "0        myrepublic.com.sg  not available in demo dataset   \n",
       "1             rima-tde.net  not available in demo dataset   \n",
       "2                  sfr.net  not available in demo dataset   \n",
       "3                (not set)  not available in demo dataset   \n",
       "4                (not set)  not available in demo dataset   \n",
       "\n",
       "               geoNetwork.region geoNetwork.subContinent totals.bounces  \\\n",
       "0                      (not set)          Southeast Asia            NaN   \n",
       "1                         Aragon         Southern Europe            NaN   \n",
       "2  not available in demo dataset          Western Europe            NaN   \n",
       "3                     California        Northern America            NaN   \n",
       "4                     California        Northern America            NaN   \n",
       "\n",
       "  totals.hits totals.newVisits totals.pageviews totals.visits  \\\n",
       "0           4              NaN                4             1   \n",
       "1           5                1                5             1   \n",
       "2           7                1                7             1   \n",
       "3           8                1                4             1   \n",
       "4           9                1                4             1   \n",
       "\n",
       "  trafficSource.adContent trafficSource.adwordsClickInfo.adNetworkType  \\\n",
       "0                     NaN                                          NaN   \n",
       "1                     NaN                                          NaN   \n",
       "2                     NaN                                          NaN   \n",
       "3                     NaN                                          NaN   \n",
       "4                     NaN                                          NaN   \n",
       "\n",
       "  trafficSource.adwordsClickInfo.criteriaParameters  \\\n",
       "0                     not available in demo dataset   \n",
       "1                     not available in demo dataset   \n",
       "2                     not available in demo dataset   \n",
       "3                     not available in demo dataset   \n",
       "4                     not available in demo dataset   \n",
       "\n",
       "  trafficSource.adwordsClickInfo.gclId  \\\n",
       "0                                  NaN   \n",
       "1                                  NaN   \n",
       "2                                  NaN   \n",
       "3                                  NaN   \n",
       "4                                  NaN   \n",
       "\n",
       "  trafficSource.adwordsClickInfo.isVideoAd  \\\n",
       "0                                      NaN   \n",
       "1                                      NaN   \n",
       "2                                      NaN   \n",
       "3                                      NaN   \n",
       "4                                      NaN   \n",
       "\n",
       "  trafficSource.adwordsClickInfo.page trafficSource.adwordsClickInfo.slot  \\\n",
       "0                                 NaN                                 NaN   \n",
       "1                                 NaN                                 NaN   \n",
       "2                                 NaN                                 NaN   \n",
       "3                                 NaN                                 NaN   \n",
       "4                                 NaN                                 NaN   \n",
       "\n",
       "  trafficSource.campaign trafficSource.isTrueDirect trafficSource.keyword  \\\n",
       "0              (not set)                       True        (not provided)   \n",
       "1              (not set)                        NaN        (not provided)   \n",
       "2              (not set)                        NaN        (not provided)   \n",
       "3              (not set)                        NaN        (not provided)   \n",
       "4              (not set)                        NaN        (not provided)   \n",
       "\n",
       "  trafficSource.medium trafficSource.referralPath trafficSource.source  \n",
       "0              organic                        NaN               google  \n",
       "1              organic                        NaN               google  \n",
       "2              organic                        NaN               google  \n",
       "3              organic                        NaN               google  \n",
       "4              organic                        NaN               google  "
      ]
     },
     "execution_count": 6,
     "metadata": {},
     "output_type": "execute_result"
    }
   ],
   "source": [
    "test_df.head()"
   ]
  },
  {
   "cell_type": "markdown",
   "metadata": {},
   "source": [
    "#### Our target feature is _transactionRevenue_ which we got from _totals_ column in the original training dataset. \n",
    "#### Let's group the users according to the _transactionRevenue_ feature. "
   ]
  },
  {
   "cell_type": "code",
   "execution_count": 7,
   "metadata": {},
   "outputs": [],
   "source": [
    "train_df[\"totals.transactionRevenue\"] = train_df[\"totals.transactionRevenue\"].astype('float')\n",
    "groupby_distribution = train_df.groupby(\"fullVisitorId\")[\"totals.transactionRevenue\"].sum().reset_index()"
   ]
  },
  {
   "cell_type": "code",
   "execution_count": 8,
   "metadata": {},
   "outputs": [
    {
     "data": {
      "text/plain": [
       "(714167, 2)"
      ]
     },
     "execution_count": 8,
     "metadata": {},
     "output_type": "execute_result"
    }
   ],
   "source": [
    "groupby_distribution.shape"
   ]
  },
  {
   "cell_type": "code",
   "execution_count": 9,
   "metadata": {},
   "outputs": [
    {
     "data": {
      "text/html": [
       "<div>\n",
       "<style scoped>\n",
       "    .dataframe tbody tr th:only-of-type {\n",
       "        vertical-align: middle;\n",
       "    }\n",
       "\n",
       "    .dataframe tbody tr th {\n",
       "        vertical-align: top;\n",
       "    }\n",
       "\n",
       "    .dataframe thead th {\n",
       "        text-align: right;\n",
       "    }\n",
       "</style>\n",
       "<table border=\"1\" class=\"dataframe\">\n",
       "  <thead>\n",
       "    <tr style=\"text-align: right;\">\n",
       "      <th></th>\n",
       "      <th>fullVisitorId</th>\n",
       "      <th>totals.transactionRevenue</th>\n",
       "    </tr>\n",
       "  </thead>\n",
       "  <tbody>\n",
       "    <tr>\n",
       "      <th>0</th>\n",
       "      <td>0000010278554503158</td>\n",
       "      <td>0.0</td>\n",
       "    </tr>\n",
       "    <tr>\n",
       "      <th>1</th>\n",
       "      <td>0000020424342248747</td>\n",
       "      <td>0.0</td>\n",
       "    </tr>\n",
       "    <tr>\n",
       "      <th>2</th>\n",
       "      <td>0000027376579751715</td>\n",
       "      <td>0.0</td>\n",
       "    </tr>\n",
       "    <tr>\n",
       "      <th>3</th>\n",
       "      <td>0000039460501403861</td>\n",
       "      <td>0.0</td>\n",
       "    </tr>\n",
       "    <tr>\n",
       "      <th>4</th>\n",
       "      <td>0000040862739425590</td>\n",
       "      <td>0.0</td>\n",
       "    </tr>\n",
       "  </tbody>\n",
       "</table>\n",
       "</div>"
      ],
      "text/plain": [
       "         fullVisitorId  totals.transactionRevenue\n",
       "0  0000010278554503158                        0.0\n",
       "1  0000020424342248747                        0.0\n",
       "2  0000027376579751715                        0.0\n",
       "3  0000039460501403861                        0.0\n",
       "4  0000040862739425590                        0.0"
      ]
     },
     "execution_count": 9,
     "metadata": {},
     "output_type": "execute_result"
    }
   ],
   "source": [
    "groupby_distribution.head()"
   ]
  },
  {
   "cell_type": "markdown",
   "metadata": {},
   "source": [
    "#### Let's plot this distribution"
   ]
  },
  {
   "cell_type": "code",
   "execution_count": 10,
   "metadata": {},
   "outputs": [
    {
     "data": {
      "image/png": "[encoded data removed]",
      "text/plain": [
       "<Figure size 576x432 with 1 Axes>"
      ]
     },
     "metadata": {},
     "output_type": "display_data"
    }
   ],
   "source": [
    "plt.figure(figsize=(8,6))\n",
    "plt.scatter(range(groupby_distribution.shape[0]), np.sort(np.log1p(groupby_distribution[\"totals.transactionRevenue\"].values)),color='black')\n",
    "plt.xlabel('index', fontsize=12)\n",
    "plt.ylabel('TransactionRevenue', fontsize=12)\n",
    "plt.show()"
   ]
  },
  {
   "cell_type": "markdown",
   "metadata": {},
   "source": [
    "#### This graph confirms the 80/20 rule - only a small percentage of customers produce most of the revenue."
   ]
  },
  {
   "cell_type": "markdown",
   "metadata": {},
   "source": [
    "#### First, let's see if there are any columns with constant values. "
   ]
  },
  {
   "cell_type": "code",
   "execution_count": 11,
   "metadata": {},
   "outputs": [
    {
     "data": {
      "text/plain": [
       "['socialEngagementType',\n",
       " 'device.browserSize',\n",
       " 'device.browserVersion',\n",
       " 'device.flashVersion',\n",
       " 'device.language',\n",
       " 'device.mobileDeviceBranding',\n",
       " 'device.mobileDeviceInfo',\n",
       " 'device.mobileDeviceMarketingName',\n",
       " 'device.mobileDeviceModel',\n",
       " 'device.mobileInputSelector',\n",
       " 'device.operatingSystemVersion',\n",
       " 'device.screenColors',\n",
       " 'device.screenResolution',\n",
       " 'geoNetwork.cityId',\n",
       " 'geoNetwork.latitude',\n",
       " 'geoNetwork.longitude',\n",
       " 'geoNetwork.networkLocation',\n",
       " 'totals.visits',\n",
       " 'trafficSource.adwordsClickInfo.criteriaParameters']"
      ]
     },
     "execution_count": 11,
     "metadata": {},
     "output_type": "execute_result"
    }
   ],
   "source": [
    "constant_columns = [col for col in train_df.columns if train_df[col].nunique(dropna=False)==1 ]\n",
    "constant_columns"
   ]
  },
  {
   "cell_type": "markdown",
   "metadata": {},
   "source": [
    "#### We can remove the columns which have constant value and some null values. This way we can save some memory and time in our modeling process."
   ]
  },
  {
   "cell_type": "markdown",
   "metadata": {},
   "source": [
    "### Let's see how many unique users are there in given datasets."
   ]
  },
  {
   "cell_type": "code",
   "execution_count": 12,
   "metadata": {},
   "outputs": [
    {
     "name": "stdout",
     "output_type": "stream",
     "text": [
      "Number of instances in train set with non-zero revenue :  11515  and ratio is :  0.0127427231470487\n",
      "Number of unique customers with non-zero revenue :  9996 and the ratio is :  0.013996726255903731\n"
     ]
    }
   ],
   "source": [
    "nzi = pd.notnull(train_df[\"totals.transactionRevenue\"]).sum()\n",
    "nzr = (groupby_distribution[\"totals.transactionRevenue\"]>0).sum()\n",
    "print(\"Number of instances in train set with non-zero revenue : \", nzi, \" and ratio is : \", nzi / train_df.shape[0])\n",
    "print(\"Number of unique customers with non-zero revenue : \", nzr, \"and the ratio is : \", nzr / groupby_distribution.shape[0])"
   ]
  },
  {
   "cell_type": "markdown",
   "metadata": {},
   "source": [
    "### Since most of the rows have non-zero revenues, let's now have a look at the count of each category of the variables along with the number of instances where the revenue is not zero."
   ]
  },
  {
   "cell_type": "markdown",
   "metadata": {},
   "source": [
    "#### Feature: _fullVisitorId_:\n",
    "#### Now let us look at the number of unique visitors in the train and test set and also the number of common visitors."
   ]
  },
  {
   "cell_type": "code",
   "execution_count": 13,
   "metadata": {},
   "outputs": [
    {
     "name": "stdout",
     "output_type": "stream",
     "text": [
      "Number of unique visitors in train set :  714167  out of rows :  903653\n",
      "Number of unique visitors in test set :  617242  out of rows :  804684\n",
      "Number of common visitors in train and test set :  7679\n"
     ]
    }
   ],
   "source": [
    "print(\"Number of unique visitors in train set : \",train_df.fullVisitorId.nunique(), \" out of rows : \",train_df.shape[0])\n",
    "print(\"Number of unique visitors in test set : \",test_df.fullVisitorId.nunique(), \" out of rows : \",test_df.shape[0])\n",
    "print(\"Number of common visitors in train and test set : \",len(set(train_df.fullVisitorId.unique()).intersection(set(test_df.fullVisitorId.unique())) ))"
   ]
  },
  {
   "cell_type": "markdown",
   "metadata": {},
   "source": [
    "#### Feature: _channelGrouping_:\n",
    "#### Now let us look at the number of unique channelGroupings in the train and test set and also the number of common channelGroupings."
   ]
  },
  {
   "cell_type": "code",
   "execution_count": 14,
   "metadata": {},
   "outputs": [
    {
     "name": "stdout",
     "output_type": "stream",
     "text": [
      "Number of unique channelGroupings in train set :  8\n",
      "Number of unique channelGroupings in test set :  8\n",
      "Number of common channelGroupings in train and test set :  8\n"
     ]
    }
   ],
   "source": [
    "print(\"Number of unique channelGroupings in train set : \",train_df.channelGrouping.nunique())\n",
    "print(\"Number of unique channelGroupings in test set : \",test_df.channelGrouping.nunique())\n",
    "print(\"Number of common channelGroupings in train and test set : \",len(set(train_df.channelGrouping.unique()).intersection(set(test_df.channelGrouping.unique())) ))"
   ]
  },
  {
   "cell_type": "markdown",
   "metadata": {},
   "source": [
    "#### Feature: _date_:\n",
    "#### Now let us look at the number of unique dates in the train and test set and also the number of common dates."
   ]
  },
  {
   "cell_type": "code",
   "execution_count": 15,
   "metadata": {},
   "outputs": [
    {
     "name": "stdout",
     "output_type": "stream",
     "text": [
      "Number of unique dates in train set :  366\n",
      "Number of unique dates in test set :  272\n",
      "Number of common dates in train and test set :  0\n"
     ]
    }
   ],
   "source": [
    "print(\"Number of unique dates in train set : \",train_df.date.nunique())\n",
    "print(\"Number of unique dates in test set : \",test_df.date.nunique())\n",
    "print(\"Number of common dates in train and test set : \",len(set(train_df.date.unique()).intersection(set(test_df.date.unique())) ))"
   ]
  },
  {
   "cell_type": "markdown",
   "metadata": {},
   "source": [
    "#### Feature: _sessionId_:\n",
    "#### Now let us look at the number of unique sessionIds in the train and test set and also the number of common sessionIds."
   ]
  },
  {
   "cell_type": "code",
   "execution_count": 16,
   "metadata": {},
   "outputs": [
    {
     "name": "stdout",
     "output_type": "stream",
     "text": [
      "Number of unique sessionIds in train set :  902755\n",
      "Number of unique sessionIds in test set :  803863\n",
      "Number of common sessionIds in train and test set :  5\n"
     ]
    }
   ],
   "source": [
    "print(\"Number of unique sessionIds in train set : \",train_df.sessionId.nunique())\n",
    "print(\"Number of unique sessionIds in test set : \",test_df.sessionId.nunique())\n",
    "print(\"Number of common sessionIds in train and test set : \",len(set(train_df.sessionId.unique()).intersection(set(test_df.sessionId.unique())) ))"
   ]
  },
  {
   "cell_type": "markdown",
   "metadata": {},
   "source": [
    "#### Feature: _visitId_:\n",
    "#### Now let us look at the number of unique visitIds in the train and test set and also the number of common visitIds."
   ]
  },
  {
   "cell_type": "code",
   "execution_count": 17,
   "metadata": {},
   "outputs": [
    {
     "name": "stdout",
     "output_type": "stream",
     "text": [
      "Number of unique visitIds in train set :  886303\n",
      "Number of unique visitIds in test set :  779504\n",
      "Number of common visitIds in train and test set :  5\n"
     ]
    }
   ],
   "source": [
    "print(\"Number of unique visitIds in train set : \",train_df.visitId.nunique())\n",
    "print(\"Number of unique visitIds in test set : \",test_df.visitId.nunique())\n",
    "print(\"Number of common visitIds in train and test set : \",len(set(train_df.visitId.unique()).intersection(set(test_df.visitId.unique())) ))"
   ]
  },
  {
   "cell_type": "markdown",
   "metadata": {},
   "source": [
    "#### Feature: _visitNumber_:\n",
    "#### Now let us look at the number of unique visitNumbers in the train and test set and also the number of common visitNumbers."
   ]
  },
  {
   "cell_type": "code",
   "execution_count": 18,
   "metadata": {},
   "outputs": [
    {
     "name": "stdout",
     "output_type": "stream",
     "text": [
      "Number of unique visitNumbers in train set :  384\n",
      "Number of unique visitNumbers in test set :  446\n",
      "Number of common visitNumbers in train and test set :  373\n"
     ]
    }
   ],
   "source": [
    "print(\"Number of unique visitNumbers in train set : \",train_df.visitNumber.nunique())\n",
    "print(\"Number of unique visitNumbers in test set : \",test_df.visitNumber.nunique())\n",
    "print(\"Number of common visitNumbers in train and test set : \",len(set(train_df.visitNumber.unique()).intersection(set(test_df.visitNumber.unique())) ))"
   ]
  },
  {
   "cell_type": "markdown",
   "metadata": {},
   "source": [
    "#### Feature: _device.browser_:\n",
    "#### Now let us look at the number of unique device browsers in the train and test set and also the number of common device browsers."
   ]
  },
  {
   "cell_type": "code",
   "execution_count": 19,
   "metadata": {},
   "outputs": [
    {
     "name": "stdout",
     "output_type": "stream",
     "text": [
      "Number of unique device browsers in train set :  54\n",
      "Number of unique device browsers in test set :  109\n",
      "Number of common device browsers in train and test set :  34\n"
     ]
    }
   ],
   "source": [
    "print(\"Number of unique device browsers in train set : \",train_df['device.browser'].nunique())\n",
    "print(\"Number of unique device browsers in test set : \",test_df['device.browser'].nunique())\n",
    "print(\"Number of common device browsers in train and test set : \",len(set(train_df['device.browser'].unique()).intersection(set(test_df['device.browser'].unique())) ))"
   ]
  },
  {
   "cell_type": "markdown",
   "metadata": {},
   "source": [
    "#### Feature: _device.deviceCategory_:\n",
    "#### Now let us look at the number of unique device categories in the train and test set and also the number of common device categories."
   ]
  },
  {
   "cell_type": "code",
   "execution_count": 20,
   "metadata": {
    "scrolled": true
   },
   "outputs": [
    {
     "name": "stdout",
     "output_type": "stream",
     "text": [
      "Number of unique device categories in train set :  3\n",
      "Number of unique device categories in test set :  3\n",
      "Number of common device categories in train and test set :  3\n"
     ]
    }
   ],
   "source": [
    "print(\"Number of unique device categories in train set : \",train_df['device.deviceCategory'].nunique())\n",
    "print(\"Number of unique device categories in test set : \",test_df['device.deviceCategory'].nunique())\n",
    "print(\"Number of common device categories in train and test set : \",len(set(train_df['device.deviceCategory'].unique()).intersection(set(test_df['device.deviceCategory'].unique())) ))"
   ]
  },
  {
   "cell_type": "markdown",
   "metadata": {},
   "source": [
    "#### Feature: _device.isMobile_:\n",
    "#### Now let us look at the number of unique values in the train and test set and also the number of common values."
   ]
  },
  {
   "cell_type": "code",
   "execution_count": 21,
   "metadata": {},
   "outputs": [
    {
     "name": "stdout",
     "output_type": "stream",
     "text": [
      "Number of unique values in train set :  2\n",
      "Number of unique values in test set :  2\n",
      "Number of common values in train and test set :  2\n"
     ]
    }
   ],
   "source": [
    "print(\"Number of unique values in train set : \",train_df['device.isMobile'].nunique())\n",
    "print(\"Number of unique values in test set : \",test_df['device.isMobile'].nunique())\n",
    "print(\"Number of common values in train and test set : \",len(set(train_df['device.isMobile'].unique()).intersection(set(test_df['device.isMobile'].unique())) ))"
   ]
  },
  {
   "cell_type": "markdown",
   "metadata": {},
   "source": [
    "#### Feature: _geoNetwork.city_:\n",
    "#### Now let us look at the number of unique geoNetwork cities in the train and test set and also the number of common geoNetwork cities."
   ]
  },
  {
   "cell_type": "code",
   "execution_count": 22,
   "metadata": {},
   "outputs": [
    {
     "name": "stdout",
     "output_type": "stream",
     "text": [
      "Number of unique geoNetwork cities in train set :  649\n",
      "Number of unique geoNetwork cities in test set :  732\n",
      "Number of common geoNetwork cities in train and test set :  425\n"
     ]
    }
   ],
   "source": [
    "print(\"Number of unique geoNetwork cities in train set : \",train_df['geoNetwork.city'].nunique())\n",
    "print(\"Number of unique geoNetwork cities in test set : \",test_df['geoNetwork.city'].nunique())\n",
    "print(\"Number of common geoNetwork cities in train and test set : \",len(set(train_df['geoNetwork.city'].unique()).intersection(set(test_df['geoNetwork.city'].unique())) ))"
   ]
  },
  {
   "cell_type": "markdown",
   "metadata": {},
   "source": [
    "#### Feature: _geoNetwork.continent_:\n",
    "#### Now let us look at the number of unique geoNetwork continents in the train and test set and also the number of common geoNetwork continents."
   ]
  },
  {
   "cell_type": "code",
   "execution_count": 23,
   "metadata": {},
   "outputs": [
    {
     "name": "stdout",
     "output_type": "stream",
     "text": [
      "Number of unique geoNetwork continents in train set :  6\n",
      "Number of unique geoNetwork continents in test set :  6\n",
      "Number of common geoNetwork continents in train and test set :  6\n"
     ]
    }
   ],
   "source": [
    "print(\"Number of unique geoNetwork continents in train set : \",train_df['geoNetwork.continent'].nunique())\n",
    "print(\"Number of unique geoNetwork continents in test set : \",test_df['geoNetwork.continent'].nunique())\n",
    "print(\"Number of common geoNetwork continents in train and test set : \",len(set(train_df['geoNetwork.continent'].unique()).intersection(set(test_df['geoNetwork.continent'].unique())) ))"
   ]
  },
  {
   "cell_type": "markdown",
   "metadata": {},
   "source": [
    "#### Feature: _geoNetwork.country_:\n",
    "#### Now let us look at the number of unique geoNetwork countries in the train and test set and also the number of common geoNetwork countries."
   ]
  },
  {
   "cell_type": "code",
   "execution_count": 24,
   "metadata": {},
   "outputs": [
    {
     "name": "stdout",
     "output_type": "stream",
     "text": [
      "Number of unique geoNetwork countries in train set :  222\n",
      "Number of unique geoNetwork countries in test set :  219\n",
      "Number of common geoNetwork countries in train and test set :  213\n"
     ]
    }
   ],
   "source": [
    "print(\"Number of unique geoNetwork countries in train set : \",train_df['geoNetwork.country'].nunique())\n",
    "print(\"Number of unique geoNetwork countries in test set : \",test_df['geoNetwork.country'].nunique())\n",
    "print(\"Number of common geoNetwork countries in train and test set : \",len(set(train_df['geoNetwork.country'].unique()).intersection(set(test_df['geoNetwork.country'].unique())) ))"
   ]
  },
  {
   "cell_type": "markdown",
   "metadata": {},
   "source": [
    "#### Feature: _geoNetwork.metro_:\n",
    "#### Now let us look at the number of unique geoNetwork metros in the train and test set and also the number of common geoNetwork metros."
   ]
  },
  {
   "cell_type": "code",
   "execution_count": 25,
   "metadata": {},
   "outputs": [
    {
     "name": "stdout",
     "output_type": "stream",
     "text": [
      "Number of unique geoNetwork metros in train set :  94\n",
      "Number of unique geoNetwork metros in test set :  109\n",
      "Number of common geoNetwork metros in train and test set :  80\n"
     ]
    }
   ],
   "source": [
    "print(\"Number of unique geoNetwork metros in train set : \",train_df['geoNetwork.metro'].nunique())\n",
    "print(\"Number of unique geoNetwork metros in test set : \",test_df['geoNetwork.metro'].nunique())\n",
    "print(\"Number of common geoNetwork metros in train and test set : \",len(set(train_df['geoNetwork.metro'].unique()).intersection(set(test_df['geoNetwork.metro'].unique())) ))"
   ]
  },
  {
   "cell_type": "markdown",
   "metadata": {},
   "source": [
    "#### Feature: _geoNetwork.networkDomain_:\n",
    "#### Now let us look at the number of unique geoNetwork networkDomains in the train and test set and also the number of common geoNetwork networkDomains."
   ]
  },
  {
   "cell_type": "code",
   "execution_count": 26,
   "metadata": {},
   "outputs": [
    {
     "name": "stdout",
     "output_type": "stream",
     "text": [
      "Number of unique geoNetwork networkDomains in train set :  28064\n",
      "Number of unique geoNetwork networkDomains in test set :  25750\n",
      "Number of common geoNetwork networkDomains in train and test set :  11832\n"
     ]
    }
   ],
   "source": [
    "print(\"Number of unique geoNetwork networkDomains in train set : \",train_df['geoNetwork.networkDomain'].nunique())\n",
    "print(\"Number of unique geoNetwork networkDomains in test set : \",test_df['geoNetwork.networkDomain'].nunique())\n",
    "print(\"Number of common geoNetwork networkDomains in train and test set : \",len(set(train_df['geoNetwork.networkDomain'].unique()).intersection(set(test_df['geoNetwork.networkDomain'].unique())) ))"
   ]
  },
  {
   "cell_type": "markdown",
   "metadata": {},
   "source": [
    "#### Feature: _geoNetwork.region_:\n",
    "#### Now let us look at the number of unique geoNetwork regions in the train and test set and also the number of common geoNetwork regions."
   ]
  },
  {
   "cell_type": "code",
   "execution_count": 27,
   "metadata": {},
   "outputs": [
    {
     "name": "stdout",
     "output_type": "stream",
     "text": [
      "Number of unique geoNetwork regions in train set :  376\n",
      "Number of unique geoNetwork regions in test set :  376\n",
      "Number of common geoNetwork regions in train and test set :  269\n"
     ]
    }
   ],
   "source": [
    "print(\"Number of unique geoNetwork regions in train set : \",train_df['geoNetwork.region'].nunique())\n",
    "print(\"Number of unique geoNetwork regions in test set : \",test_df['geoNetwork.region'].nunique())\n",
    "print(\"Number of common geoNetwork regions in train and test set : \",len(set(train_df['geoNetwork.region'].unique()).intersection(set(test_df['geoNetwork.region'].unique())) ))"
   ]
  },
  {
   "cell_type": "markdown",
   "metadata": {},
   "source": [
    "#### Feature: _geoNetwork.subContinent_:\n",
    "#### Now let us look at the number of unique geoNetwork subContinents in the train and test set and also the number of common geoNetwork subContinents."
   ]
  },
  {
   "cell_type": "code",
   "execution_count": 28,
   "metadata": {},
   "outputs": [
    {
     "name": "stdout",
     "output_type": "stream",
     "text": [
      "Number of unique geoNetwork subContinents in train set :  23\n",
      "Number of unique geoNetwork subContinents in test set :  23\n",
      "Number of common geoNetwork subContinents in train and test set :  23\n"
     ]
    }
   ],
   "source": [
    "print(\"Number of unique geoNetwork subContinents in train set : \",train_df['geoNetwork.subContinent'].nunique())\n",
    "print(\"Number of unique geoNetwork subContinents in test set : \",test_df['geoNetwork.subContinent'].nunique())\n",
    "print(\"Number of common geoNetwork subContinents in train and test set : \",len(set(train_df['geoNetwork.subContinent'].unique()).intersection(set(test_df['geoNetwork.subContinent'].unique())) ))"
   ]
  },
  {
   "cell_type": "markdown",
   "metadata": {},
   "source": [
    "#### Feature: _totals.transactionRevenue_:\n",
    "#### Now let us look at the number of unique transaction revenue values in the train set"
   ]
  },
  {
   "cell_type": "code",
   "execution_count": 29,
   "metadata": {},
   "outputs": [
    {
     "name": "stdout",
     "output_type": "stream",
     "text": [
      "Number of unique transaction revenue values in train set :  5332\n"
     ]
    }
   ],
   "source": [
    "print(\"Number of unique transaction revenue values in train set : \",train_df['totals.transactionRevenue'].nunique())"
   ]
  },
  {
   "cell_type": "markdown",
   "metadata": {},
   "source": [
    "#### Feature: _totals.bounces_:\n",
    "#### Now let us look at the number of unique values in the train and test set and also the number of common values"
   ]
  },
  {
   "cell_type": "code",
   "execution_count": 30,
   "metadata": {},
   "outputs": [
    {
     "name": "stdout",
     "output_type": "stream",
     "text": [
      "Number of unique values in train set :  1\n",
      "Number of unique values in test set :  1\n",
      "Number of common values in train and test set :  2\n"
     ]
    }
   ],
   "source": [
    "print(\"Number of unique values in train set : \",train_df['totals.bounces'].nunique())\n",
    "print(\"Number of unique values in test set : \",test_df['totals.bounces'].nunique())\n",
    "print(\"Number of common values in train and test set : \",len(set(train_df['totals.bounces'].unique()).intersection(set(test_df['totals.bounces'].unique())) ))"
   ]
  },
  {
   "cell_type": "markdown",
   "metadata": {},
   "source": [
    "#### Feature: _totals.hits_:\n",
    "#### Now let us look at the number of unique values in the train and test set and also the number of common values"
   ]
  },
  {
   "cell_type": "code",
   "execution_count": 31,
   "metadata": {},
   "outputs": [
    {
     "name": "stdout",
     "output_type": "stream",
     "text": [
      "Number of unique values in train set :  274\n",
      "Number of unique values in test set :  229\n",
      "Number of common values in train and test set :  206\n"
     ]
    }
   ],
   "source": [
    "print(\"Number of unique values in train set : \",train_df['totals.hits'].nunique())\n",
    "print(\"Number of unique values in test set : \",test_df['totals.hits'].nunique())\n",
    "print(\"Number of common values in train and test set : \",len(set(train_df['totals.hits'].unique()).intersection(set(test_df['totals.hits'].unique())) ))"
   ]
  },
  {
   "cell_type": "markdown",
   "metadata": {},
   "source": [
    "#### Feature: _totals.newVisits_:\n",
    "#### Now let us look at the number of unique values in the train and test set and also the number of common values"
   ]
  },
  {
   "cell_type": "code",
   "execution_count": 32,
   "metadata": {},
   "outputs": [
    {
     "name": "stdout",
     "output_type": "stream",
     "text": [
      "Number of unique values in train set :  1\n",
      "Number of unique values in test set :  1\n",
      "Number of common values in train and test set :  2\n"
     ]
    }
   ],
   "source": [
    "print(\"Number of unique values in train set : \",train_df['totals.newVisits'].nunique())\n",
    "print(\"Number of unique values in test set : \",test_df['totals.newVisits'].nunique())\n",
    "print(\"Number of common values in train and test set : \",len(set(train_df['totals.newVisits'].unique()).intersection(set(test_df['totals.newVisits'].unique())) ))"
   ]
  },
  {
   "cell_type": "markdown",
   "metadata": {},
   "source": [
    "#### Feature: _totals.pageviews_:\n",
    "#### Now let us look at the number of unique values in the train and test set and also the number of common values"
   ]
  },
  {
   "cell_type": "code",
   "execution_count": 33,
   "metadata": {},
   "outputs": [
    {
     "name": "stdout",
     "output_type": "stream",
     "text": [
      "Number of unique values in train set :  213\n",
      "Number of unique values in test set :  160\n",
      "Number of common values in train and test set :  144\n"
     ]
    }
   ],
   "source": [
    "print(\"Number of unique values in train set : \",train_df['totals.pageviews'].nunique())\n",
    "print(\"Number of unique values in test set : \",test_df['totals.pageviews'].nunique())\n",
    "print(\"Number of common values in train and test set : \",len(set(train_df['totals.pageviews'].unique()).intersection(set(test_df['totals.pageviews'].unique())) ))"
   ]
  },
  {
   "cell_type": "markdown",
   "metadata": {},
   "source": [
    "#### Feature: _trafficSource.adContent_:\n",
    "#### Now let us look at the number of unique values in the train and test set and also the number of common values"
   ]
  },
  {
   "cell_type": "code",
   "execution_count": 34,
   "metadata": {},
   "outputs": [
    {
     "name": "stdout",
     "output_type": "stream",
     "text": [
      "Number of unique values in train set :  44\n",
      "Number of unique values in test set :  51\n",
      "Number of common values in train and test set :  20\n"
     ]
    }
   ],
   "source": [
    "print(\"Number of unique values in train set : \",train_df['trafficSource.adContent'].nunique())\n",
    "print(\"Number of unique values in test set : \",test_df['trafficSource.adContent'].nunique())\n",
    "print(\"Number of common values in train and test set : \",len(set(train_df['trafficSource.adContent'].unique()).intersection(set(test_df['trafficSource.adContent'].unique())) ))"
   ]
  },
  {
   "cell_type": "markdown",
   "metadata": {},
   "source": [
    "#### Feature: _trafficSource.adwordsClickInfo.adNetworkType_:\n",
    "#### Now let us look at the number of unique values in the train and test set and also the number of common values"
   ]
  },
  {
   "cell_type": "code",
   "execution_count": 35,
   "metadata": {},
   "outputs": [
    {
     "name": "stdout",
     "output_type": "stream",
     "text": [
      "Number of unique values in train set :  2\n",
      "Number of unique values in test set :  3\n",
      "Number of common values in train and test set :  3\n"
     ]
    }
   ],
   "source": [
    "print(\"Number of unique values in train set : \",train_df['trafficSource.adwordsClickInfo.adNetworkType'].nunique())\n",
    "print(\"Number of unique values in test set : \",test_df['trafficSource.adwordsClickInfo.adNetworkType'].nunique())\n",
    "print(\"Number of common values in train and test set : \",len(set(train_df['trafficSource.adwordsClickInfo.adNetworkType'].unique()).intersection(set(test_df['trafficSource.adwordsClickInfo.adNetworkType'].unique())) ))"
   ]
  },
  {
   "cell_type": "markdown",
   "metadata": {},
   "source": [
    "#### Feature: _trafficSource.adwordsClickInfo.gclId_:\n",
    "#### Now let us look at the number of unique values in the train and test set and also the number of common values"
   ]
  },
  {
   "cell_type": "code",
   "execution_count": 36,
   "metadata": {},
   "outputs": [
    {
     "name": "stdout",
     "output_type": "stream",
     "text": [
      "Number of unique values in train set :  17774\n",
      "Number of unique values in test set :  41317\n",
      "Number of common values in train and test set :  84\n"
     ]
    }
   ],
   "source": [
    "print(\"Number of unique values in train set : \",train_df['trafficSource.adwordsClickInfo.gclId'].nunique())\n",
    "print(\"Number of unique values in test set : \",test_df['trafficSource.adwordsClickInfo.gclId'].nunique())\n",
    "print(\"Number of common values in train and test set : \",len(set(train_df['trafficSource.adwordsClickInfo.gclId'].unique()).intersection(set(test_df['trafficSource.adwordsClickInfo.gclId'].unique())) ))"
   ]
  },
  {
   "cell_type": "markdown",
   "metadata": {},
   "source": [
    "#### Feature: _trafficSource.adwordsClickInfo.isVideoAd_:\n",
    "#### Now let us look at the number of unique values in the train and test set and also the number of common values"
   ]
  },
  {
   "cell_type": "code",
   "execution_count": 37,
   "metadata": {},
   "outputs": [
    {
     "name": "stdout",
     "output_type": "stream",
     "text": [
      "Number of unique values in train set :  1\n",
      "Number of unique values in test set :  1\n",
      "Number of common values in train and test set :  2\n"
     ]
    }
   ],
   "source": [
    "print(\"Number of unique values in train set : \",train_df['trafficSource.adwordsClickInfo.isVideoAd'].nunique())\n",
    "print(\"Number of unique values in test set : \",test_df['trafficSource.adwordsClickInfo.isVideoAd'].nunique())\n",
    "print(\"Number of common values in train and test set : \",len(set(train_df['trafficSource.adwordsClickInfo.isVideoAd'].unique()).intersection(set(test_df['trafficSource.adwordsClickInfo.isVideoAd'].unique())) ))"
   ]
  },
  {
   "cell_type": "markdown",
   "metadata": {},
   "source": [
    "#### Feature: _trafficSource.adwordsClickInfo.page_:\n",
    "#### Now let us look at the number of unique values in the train and test set and also the number of common values"
   ]
  },
  {
   "cell_type": "code",
   "execution_count": 38,
   "metadata": {},
   "outputs": [
    {
     "name": "stdout",
     "output_type": "stream",
     "text": [
      "Number of unique values in train set :  8\n",
      "Number of unique values in test set :  10\n",
      "Number of common values in train and test set :  8\n"
     ]
    }
   ],
   "source": [
    "print(\"Number of unique values in train set : \",train_df['trafficSource.adwordsClickInfo.page'].nunique())\n",
    "print(\"Number of unique values in test set : \",test_df['trafficSource.adwordsClickInfo.page'].nunique())\n",
    "print(\"Number of common values in train and test set : \",len(set(train_df['trafficSource.adwordsClickInfo.page'].unique()).intersection(set(test_df['trafficSource.adwordsClickInfo.page'].unique())) ))"
   ]
  },
  {
   "cell_type": "markdown",
   "metadata": {},
   "source": [
    "#### Feature: _trafficSource.adwordsClickInfo.slot_:\n",
    "#### Now let us look at the number of unique values in the train and test set and also the number of common values"
   ]
  },
  {
   "cell_type": "code",
   "execution_count": 39,
   "metadata": {},
   "outputs": [
    {
     "name": "stdout",
     "output_type": "stream",
     "text": [
      "Number of unique values in train set :  2\n",
      "Number of unique values in test set :  3\n",
      "Number of common values in train and test set :  3\n"
     ]
    }
   ],
   "source": [
    "print(\"Number of unique values in train set : \",train_df['trafficSource.adwordsClickInfo.slot'].nunique())\n",
    "print(\"Number of unique values in test set : \",test_df['trafficSource.adwordsClickInfo.slot'].nunique())\n",
    "print(\"Number of common values in train and test set : \",len(set(train_df['trafficSource.adwordsClickInfo.slot'].unique()).intersection(set(test_df['trafficSource.adwordsClickInfo.slot'].unique())) ))"
   ]
  },
  {
   "cell_type": "markdown",
   "metadata": {},
   "source": [
    "#### Feature: _trafficSource.campaign_:\n",
    "#### Now let us look at the number of unique values in the train and test set and also the number of common values"
   ]
  },
  {
   "cell_type": "code",
   "execution_count": 40,
   "metadata": {},
   "outputs": [
    {
     "name": "stdout",
     "output_type": "stream",
     "text": [
      "Number of unique values in train set :  10\n",
      "Number of unique values in test set :  31\n",
      "Number of common values in train and test set :  6\n"
     ]
    }
   ],
   "source": [
    "print(\"Number of unique values in train set : \",train_df['trafficSource.campaign'].nunique())\n",
    "print(\"Number of unique values in test set : \",test_df['trafficSource.campaign'].nunique())\n",
    "print(\"Number of common values in train and test set : \",len(set(train_df['trafficSource.campaign'].unique()).intersection(set(test_df['trafficSource.campaign'].unique())) ))"
   ]
  },
  {
   "cell_type": "markdown",
   "metadata": {},
   "source": [
    "#### Feature: _trafficSource.isTrueDirect_:\n",
    "#### Now let us look at the number of unique values in the train and test set and also the number of common values"
   ]
  },
  {
   "cell_type": "code",
   "execution_count": 41,
   "metadata": {},
   "outputs": [
    {
     "name": "stdout",
     "output_type": "stream",
     "text": [
      "Number of unique values in train set :  1\n",
      "Number of unique values in test set :  1\n",
      "Number of common values in train and test set :  2\n"
     ]
    }
   ],
   "source": [
    "print(\"Number of unique values in train set : \",train_df['trafficSource.isTrueDirect'].nunique())\n",
    "print(\"Number of unique values in test set : \",test_df['trafficSource.isTrueDirect'].nunique())\n",
    "print(\"Number of common values in train and test set : \",len(set(train_df['trafficSource.isTrueDirect'].unique()).intersection(set(test_df['trafficSource.isTrueDirect'].unique())) ))"
   ]
  },
  {
   "cell_type": "markdown",
   "metadata": {},
   "source": [
    "#### Feature: _trafficSource.keyword_:\n",
    "#### Now let us look at the number of unique values in the train and test set and also the number of common values"
   ]
  },
  {
   "cell_type": "code",
   "execution_count": 42,
   "metadata": {},
   "outputs": [
    {
     "name": "stdout",
     "output_type": "stream",
     "text": [
      "Number of unique values in train set :  3659\n",
      "Number of unique values in test set :  2415\n",
      "Number of common values in train and test set :  683\n"
     ]
    }
   ],
   "source": [
    "print(\"Number of unique values in train set : \",train_df['trafficSource.keyword'].nunique())\n",
    "print(\"Number of unique values in test set : \",test_df['trafficSource.keyword'].nunique())\n",
    "print(\"Number of common values in train and test set : \",len(set(train_df['trafficSource.keyword'].unique()).intersection(set(test_df['trafficSource.keyword'].unique())) ))"
   ]
  },
  {
   "cell_type": "markdown",
   "metadata": {},
   "source": [
    "#### Feature: _trafficSource.medium_:\n",
    "#### Now let us look at the number of unique values in the train and test set and also the number of common values"
   ]
  },
  {
   "cell_type": "code",
   "execution_count": 43,
   "metadata": {},
   "outputs": [
    {
     "name": "stdout",
     "output_type": "stream",
     "text": [
      "Number of unique values in train set :  7\n",
      "Number of unique values in test set :  7\n",
      "Number of common values in train and test set :  7\n"
     ]
    }
   ],
   "source": [
    "print(\"Number of unique values in train set : \",train_df['trafficSource.medium'].nunique())\n",
    "print(\"Number of unique values in test set : \",test_df['trafficSource.medium'].nunique())\n",
    "print(\"Number of common values in train and test set : \",len(set(train_df['trafficSource.medium'].unique()).intersection(set(test_df['trafficSource.medium'].unique())) ))"
   ]
  },
  {
   "cell_type": "markdown",
   "metadata": {},
   "source": [
    "#### Feature: _trafficSource.referralPath_:\n",
    "#### Now let us look at the number of unique values in the train and test set and also the number of common values"
   ]
  },
  {
   "cell_type": "code",
   "execution_count": 44,
   "metadata": {},
   "outputs": [
    {
     "name": "stdout",
     "output_type": "stream",
     "text": [
      "Number of unique values in train set :  1475\n",
      "Number of unique values in test set :  2197\n",
      "Number of common values in train and test set :  477\n"
     ]
    }
   ],
   "source": [
    "print(\"Number of unique values in train set : \",train_df['trafficSource.referralPath'].nunique())\n",
    "print(\"Number of unique values in test set : \",test_df['trafficSource.referralPath'].nunique())\n",
    "print(\"Number of common values in train and test set : \",len(set(train_df['trafficSource.referralPath'].unique()).intersection(set(test_df['trafficSource.referralPath'].unique())) ))"
   ]
  },
  {
   "cell_type": "markdown",
   "metadata": {},
   "source": [
    "#### Feature: _trafficSource.source_:\n",
    "#### Now let us look at the number of unique values in the train and test set and also the number of common values"
   ]
  },
  {
   "cell_type": "code",
   "execution_count": 45,
   "metadata": {},
   "outputs": [
    {
     "name": "stdout",
     "output_type": "stream",
     "text": [
      "Number of unique values in train set :  380\n",
      "Number of unique values in test set :  324\n",
      "Number of common values in train and test set :  204\n"
     ]
    }
   ],
   "source": [
    "print(\"Number of unique values in train set : \",train_df['trafficSource.source'].nunique())\n",
    "print(\"Number of unique values in test set : \",test_df['trafficSource.source'].nunique())\n",
    "print(\"Number of common values in train and test set : \",len(set(train_df['trafficSource.source'].unique()).intersection(set(test_df['trafficSource.source'].unique())) ))"
   ]
  },
  {
   "cell_type": "code",
   "execution_count": 46,
   "metadata": {},
   "outputs": [],
   "source": [
    "def bar_graph(cnt_srs, color):\n",
    "    trace = go.Bar(\n",
    "        y=cnt_srs.index[::-1],\n",
    "        x=cnt_srs.values[::-1],\n",
    "        showlegend=False,\n",
    "        orientation = 'h',\n",
    "        marker=dict(\n",
    "            color=color,\n",
    "        ),\n",
    "    )\n",
    "    return trace"
   ]
  },
  {
   "cell_type": "markdown",
   "metadata": {},
   "source": [
    "### Device Information Analysis:\n",
    "#### Device Browser"
   ]
  },
  {
   "cell_type": "code",
   "execution_count": 47,
   "metadata": {},
   "outputs": [],
   "source": [
    "counts = train_df.groupby('device.browser')['totals.transactionRevenue'].agg(['size', 'count', 'mean'])\n",
    "counts.columns = [\"count\", \"count of non-zero revenue\", \"mean\"]\n",
    "counts = counts.sort_values(by=\"count\", ascending=False)\n",
    "graph1 = bar_graph(counts[\"count\"].head(10), 'rgba(150, 71, 96, 0.6)')\n",
    "graph2 = bar_graph(counts[\"count of non-zero revenue\"].head(10), 'rgba(50, 171, 96, 0.6)')\n",
    "graph3 = bar_graph(counts[\"mean\"].head(10), 'rgba(10, 11, 196, 0.6)')"
   ]
  },
  {
   "cell_type": "code",
   "execution_count": 48,
   "metadata": {},
   "outputs": [
    {
     "name": "stdout",
     "output_type": "stream",
     "text": [
      "This is the format of your plot grid:\n",
      "[ (1,1) x1,y1 ]  [ (1,2) x2,y2 ]  [ (1,3) x3,y3 ]\n",
      "\n"
     ]
    }
   ],
   "source": [
    "fig = tools.make_subplots(rows=1, cols=3, vertical_spacing=0.04, \n",
    "                          subplot_titles=[\"Device Browser - Count\", \"Device Browser - Non-zero Revenue Count\", \"Device Browser - Mean Revenue\"])"
   ]
  },
  {
   "cell_type": "code",
   "execution_count": 49,
   "metadata": {},
   "outputs": [],
   "source": [
    "fig.append_trace(graph1, 1, 1)\n",
    "fig.append_trace(graph2, 1, 2)\n",
    "fig.append_trace(graph3, 1, 3)"
   ]
  },
  {
   "cell_type": "code",
   "execution_count": 50,
   "metadata": {
    "scrolled": true
   },
   "outputs": [
    {
     "data": {
      "application/vnd.plotly.v1+json": {
       "config": {
        "linkText": "Export to plot.ly",
        "plotlyServerURL": "https://plot.ly",
        "showLink": true
       },
       "data": [
        {
         "marker": {
          "color": "rgba(150, 71, 96, 0.6)"
         },
         "orientation": "h",
         "showlegend": false,
         "type": "bar",
         "uid": "02279443-3d27-496c-8a6d-2a4adc954274",
         "x": [
          2427,
          5643,
          6139,
          6850,
          7865,
          10205,
          19375,
          37069,
          182245,
          620364
         ],
         "xaxis": "x",
         "y": [
          "UC Browser",
          "Opera",
          "Opera Mini",
          "Safari (in-app)",
          "Android Webview",
          "Edge",
          "Internet Explorer",
          "Firefox",
          "Safari",
          "Chrome"
         ],
         "yaxis": "y"
        },
        {
         "marker": {
          "color": "rgba(50, 171, 96, 0.6)"
         },
         "orientation": "h",
         "showlegend": false,
         "type": "bar",
         "uid": "555259ac-a790-4540-af69-f175720e0bc9",
         "x": [
          0,
          5,
          0,
          12,
          6,
          58,
          109,
          191,
          780,
          10353
         ],
         "xaxis": "x2",
         "y": [
          "UC Browser",
          "Opera",
          "Opera Mini",
          "Safari (in-app)",
          "Android Webview",
          "Edge",
          "Internet Explorer",
          "Firefox",
          "Safari",
          "Chrome"
         ],
         "yaxis": "y2"
        },
        {
         "marker": {
          "color": "rgba(10, 11, 196, 0.6)"
         },
         "orientation": "h",
         "showlegend": false,
         "type": "bar",
         "uid": "b9159d81-f677-47b0-a914-68c94a2f432f",
         "x": [
          null,
          43070000,
          null,
          12814166.666666666,
          19141666.666666668,
          111775344.8275862,
          75738990.82568808,
          467624712.04188484,
          67176256.41025642,
          133594606.39428185
         ],
         "xaxis": "x3",
         "y": [
          "UC Browser",
          "Opera",
          "Opera Mini",
          "Safari (in-app)",
          "Android Webview",
          "Edge",
          "Internet Explorer",
          "Firefox",
          "Safari",
          "Chrome"
         ],
         "yaxis": "y3"
        }
       ],
       "layout": {
        "annotations": [
         {
          "font": {
           "size": 16
          },
          "showarrow": false,
          "text": "Device Browser - Count",
          "x": 0.14444444444444446,
          "xanchor": "center",
          "xref": "paper",
          "y": 1,
          "yanchor": "bottom",
          "yref": "paper"
         },
         {
          "font": {
           "size": 16
          },
          "showarrow": false,
          "text": "Device Browser - Non-zero Revenue Count",
          "x": 0.5,
          "xanchor": "center",
          "xref": "paper",
          "y": 1,
          "yanchor": "bottom",
          "yref": "paper"
         },
         {
          "font": {
           "size": 16
          },
          "showarrow": false,
          "text": "Device Browser - Mean Revenue",
          "x": 0.8555555555555556,
          "xanchor": "center",
          "xref": "paper",
          "y": 1,
          "yanchor": "bottom",
          "yref": "paper"
         }
        ],
        "height": 400,
        "paper_bgcolor": "rgb(233,233,233)",
        "title": "Device Browser Plots",
        "width": 1200,
        "xaxis": {
         "anchor": "y",
         "domain": [
          0,
          0.2888888888888889
         ]
        },
        "xaxis2": {
         "anchor": "y2",
         "domain": [
          0.35555555555555557,
          0.6444444444444445
         ]
        },
        "xaxis3": {
         "anchor": "y3",
         "domain": [
          0.7111111111111111,
          1
         ]
        },
        "yaxis": {
         "anchor": "x",
         "domain": [
          0,
          1
         ]
        },
        "yaxis2": {
         "anchor": "x2",
         "domain": [
          0,
          1
         ]
        },
        "yaxis3": {
         "anchor": "x3",
         "domain": [
          0,
          1
         ]
        }
       }
      },
      "text/html": [
       "<div id=\"19c9d3aa-00a9-46aa-8dfc-ebdf89a6b814\" style=\"height: 400px; width: 1200px;\" class=\"plotly-graph-div\"></div><script type=\"text/javascript\">require([\"plotly\"], function(Plotly) { window.PLOTLYENV=window.PLOTLYENV || {};window.PLOTLYENV.BASE_URL=\"https://plot.ly\";Plotly.newPlot(\"19c9d3aa-00a9-46aa-8dfc-ebdf89a6b814\", [{\"marker\": {\"color\": \"rgba(150, 71, 96, 0.6)\"}, \"orientation\": \"h\", \"showlegend\": false, \"x\": [2427, 5643, 6139, 6850, 7865, 10205, 19375, 37069, 182245, 620364], \"y\": [\"UC Browser\", \"Opera\", \"Opera Mini\", \"Safari (in-app)\", \"Android Webview\", \"Edge\", \"Internet Explorer\", \"Firefox\", \"Safari\", \"Chrome\"], \"type\": \"bar\", \"uid\": \"02279443-3d27-496c-8a6d-2a4adc954274\", \"xaxis\": \"x\", \"yaxis\": \"y\"}, {\"marker\": {\"color\": \"rgba(50, 171, 96, 0.6)\"}, \"orientation\": \"h\", \"showlegend\": false, \"x\": [0, 5, 0, 12, 6, 58, 109, 191, 780, 10353], \"y\": [\"UC Browser\", \"Opera\", \"Opera Mini\", \"Safari (in-app)\", \"Android Webview\", \"Edge\", \"Internet Explorer\", \"Firefox\", \"Safari\", \"Chrome\"], \"type\": \"bar\", \"uid\": \"555259ac-a790-4540-af69-f175720e0bc9\", \"xaxis\": \"x2\", \"yaxis\": \"y2\"}, {\"marker\": {\"color\": \"rgba(10, 11, 196, 0.6)\"}, \"orientation\": \"h\", \"showlegend\": false, \"x\": [null, 43070000.0, null, 12814166.666666666, 19141666.666666668, 111775344.8275862, 75738990.82568808, 467624712.04188484, 67176256.41025642, 133594606.39428185], \"y\": [\"UC Browser\", \"Opera\", \"Opera Mini\", \"Safari (in-app)\", \"Android Webview\", \"Edge\", \"Internet Explorer\", \"Firefox\", \"Safari\", \"Chrome\"], \"type\": \"bar\", \"uid\": \"b9159d81-f677-47b0-a914-68c94a2f432f\", \"xaxis\": \"x3\", \"yaxis\": \"y3\"}], {\"annotations\": [{\"font\": {\"size\": 16}, \"showarrow\": false, \"text\": \"Device Browser - Count\", \"x\": 0.14444444444444446, \"xanchor\": \"center\", \"xref\": \"paper\", \"y\": 1.0, \"yanchor\": \"bottom\", \"yref\": \"paper\"}, {\"font\": {\"size\": 16}, \"showarrow\": false, \"text\": \"Device Browser - Non-zero Revenue Count\", \"x\": 0.5, \"xanchor\": \"center\", \"xref\": \"paper\", \"y\": 1.0, \"yanchor\": \"bottom\", \"yref\": \"paper\"}, {\"font\": {\"size\": 16}, \"showarrow\": false, \"text\": \"Device Browser - Mean Revenue\", \"x\": 0.8555555555555556, \"xanchor\": \"center\", \"xref\": \"paper\", \"y\": 1.0, \"yanchor\": \"bottom\", \"yref\": \"paper\"}], \"xaxis\": {\"anchor\": \"y\", \"domain\": [0.0, 0.2888888888888889]}, \"yaxis\": {\"anchor\": \"x\", \"domain\": [0.0, 1.0]}, \"xaxis2\": {\"anchor\": \"y2\", \"domain\": [0.35555555555555557, 0.6444444444444445]}, \"yaxis2\": {\"anchor\": \"x2\", \"domain\": [0.0, 1.0]}, \"xaxis3\": {\"anchor\": \"y3\", \"domain\": [0.7111111111111111, 1.0]}, \"yaxis3\": {\"anchor\": \"x3\", \"domain\": [0.0, 1.0]}, \"height\": 400, \"width\": 1200, \"paper_bgcolor\": \"rgb(233,233,233)\", \"title\": \"Device Browser Plots\"}, {\"showLink\": true, \"linkText\": \"Export to plot.ly\", \"plotlyServerURL\": \"https://plot.ly\"})});</script>"
      ],
      "text/vnd.plotly.v1+html": [
       "<div id=\"19c9d3aa-00a9-46aa-8dfc-ebdf89a6b814\" style=\"height: 400px; width: 1200px;\" class=\"plotly-graph-div\"></div><script type=\"text/javascript\">require([\"plotly\"], function(Plotly) { window.PLOTLYENV=window.PLOTLYENV || {};window.PLOTLYENV.BASE_URL=\"https://plot.ly\";Plotly.newPlot(\"19c9d3aa-00a9-46aa-8dfc-ebdf89a6b814\", [{\"marker\": {\"color\": \"rgba(150, 71, 96, 0.6)\"}, \"orientation\": \"h\", \"showlegend\": false, \"x\": [2427, 5643, 6139, 6850, 7865, 10205, 19375, 37069, 182245, 620364], \"y\": [\"UC Browser\", \"Opera\", \"Opera Mini\", \"Safari (in-app)\", \"Android Webview\", \"Edge\", \"Internet Explorer\", \"Firefox\", \"Safari\", \"Chrome\"], \"type\": \"bar\", \"uid\": \"02279443-3d27-496c-8a6d-2a4adc954274\", \"xaxis\": \"x\", \"yaxis\": \"y\"}, {\"marker\": {\"color\": \"rgba(50, 171, 96, 0.6)\"}, \"orientation\": \"h\", \"showlegend\": false, \"x\": [0, 5, 0, 12, 6, 58, 109, 191, 780, 10353], \"y\": [\"UC Browser\", \"Opera\", \"Opera Mini\", \"Safari (in-app)\", \"Android Webview\", \"Edge\", \"Internet Explorer\", \"Firefox\", \"Safari\", \"Chrome\"], \"type\": \"bar\", \"uid\": \"555259ac-a790-4540-af69-f175720e0bc9\", \"xaxis\": \"x2\", \"yaxis\": \"y2\"}, {\"marker\": {\"color\": \"rgba(10, 11, 196, 0.6)\"}, \"orientation\": \"h\", \"showlegend\": false, \"x\": [null, 43070000.0, null, 12814166.666666666, 19141666.666666668, 111775344.8275862, 75738990.82568808, 467624712.04188484, 67176256.41025642, 133594606.39428185], \"y\": [\"UC Browser\", \"Opera\", \"Opera Mini\", \"Safari (in-app)\", \"Android Webview\", \"Edge\", \"Internet Explorer\", \"Firefox\", \"Safari\", \"Chrome\"], \"type\": \"bar\", \"uid\": \"b9159d81-f677-47b0-a914-68c94a2f432f\", \"xaxis\": \"x3\", \"yaxis\": \"y3\"}], {\"annotations\": [{\"font\": {\"size\": 16}, \"showarrow\": false, \"text\": \"Device Browser - Count\", \"x\": 0.14444444444444446, \"xanchor\": \"center\", \"xref\": \"paper\", \"y\": 1.0, \"yanchor\": \"bottom\", \"yref\": \"paper\"}, {\"font\": {\"size\": 16}, \"showarrow\": false, \"text\": \"Device Browser - Non-zero Revenue Count\", \"x\": 0.5, \"xanchor\": \"center\", \"xref\": \"paper\", \"y\": 1.0, \"yanchor\": \"bottom\", \"yref\": \"paper\"}, {\"font\": {\"size\": 16}, \"showarrow\": false, \"text\": \"Device Browser - Mean Revenue\", \"x\": 0.8555555555555556, \"xanchor\": \"center\", \"xref\": \"paper\", \"y\": 1.0, \"yanchor\": \"bottom\", \"yref\": \"paper\"}], \"xaxis\": {\"anchor\": \"y\", \"domain\": [0.0, 0.2888888888888889]}, \"yaxis\": {\"anchor\": \"x\", \"domain\": [0.0, 1.0]}, \"xaxis2\": {\"anchor\": \"y2\", \"domain\": [0.35555555555555557, 0.6444444444444445]}, \"yaxis2\": {\"anchor\": \"x2\", \"domain\": [0.0, 1.0]}, \"xaxis3\": {\"anchor\": \"y3\", \"domain\": [0.7111111111111111, 1.0]}, \"yaxis3\": {\"anchor\": \"x3\", \"domain\": [0.0, 1.0]}, \"height\": 400, \"width\": 1200, \"paper_bgcolor\": \"rgb(233,233,233)\", \"title\": \"Device Browser Plots\"}, {\"showLink\": true, \"linkText\": \"Export to plot.ly\", \"plotlyServerURL\": \"https://plot.ly\"})});</script>"
      ]
     },
     "metadata": {},
     "output_type": "display_data"
    }
   ],
   "source": [
    "fig['layout'].update(height=400, width=1200, paper_bgcolor='rgb(233,233,233)', title=\"Device Browser Plots\")\n",
    "py.iplot(fig, filename='device-browser-plots')"
   ]
  },
  {
   "cell_type": "markdown",
   "metadata": {},
   "source": [
    "#### Well, from the above analysis, we can see that device browser distribution looks similar on both the count and count of non-zero revenue plots"
   ]
  },
  {
   "cell_type": "markdown",
   "metadata": {},
   "source": [
    "#### Device Category"
   ]
  },
  {
   "cell_type": "code",
   "execution_count": 51,
   "metadata": {},
   "outputs": [],
   "source": [
    "counts = train_df.groupby('device.deviceCategory')['totals.transactionRevenue'].agg(['size', 'count', 'mean'])\n",
    "counts.columns = [\"count\", \"count of non-zero revenue\", \"mean\"]\n",
    "counts = counts.sort_values(by=\"count\", ascending=False)\n",
    "graph1 = bar_graph(counts[\"count\"].head(10), 'rgba(150, 71, 96, 0.6)')\n",
    "graph2 = bar_graph(counts[\"count of non-zero revenue\"].head(10), 'rgba(50, 171, 96, 0.6)')\n",
    "graph3 = bar_graph(counts[\"mean\"].head(10), 'rgba(10, 11, 196, 0.6)')"
   ]
  },
  {
   "cell_type": "code",
   "execution_count": 52,
   "metadata": {},
   "outputs": [
    {
     "name": "stdout",
     "output_type": "stream",
     "text": [
      "This is the format of your plot grid:\n",
      "[ (1,1) x1,y1 ]  [ (1,2) x2,y2 ]  [ (1,3) x3,y3 ]\n",
      "\n"
     ]
    }
   ],
   "source": [
    "fig = tools.make_subplots(rows=1, cols=3, vertical_spacing=0.04, \n",
    "                          subplot_titles=[\"Device Category - Count\", \"Device category - Non-zero Revenue Count\", \"Device Category - Mean Revenue\"])"
   ]
  },
  {
   "cell_type": "code",
   "execution_count": 53,
   "metadata": {},
   "outputs": [],
   "source": [
    "fig.append_trace(graph1, 1, 1)\n",
    "fig.append_trace(graph2, 1, 2)\n",
    "fig.append_trace(graph3, 1, 3)"
   ]
  },
  {
   "cell_type": "code",
   "execution_count": 54,
   "metadata": {
    "scrolled": false
   },
   "outputs": [
    {
     "data": {
      "application/vnd.plotly.v1+json": {
       "config": {
        "linkText": "Export to plot.ly",
        "plotlyServerURL": "https://plot.ly",
        "showLink": true
       },
       "data": [
        {
         "marker": {
          "color": "rgba(150, 71, 96, 0.6)"
         },
         "orientation": "h",
         "showlegend": false,
         "type": "bar",
         "uid": "be2a3415-00a6-458b-93e1-54d6affb1c7e",
         "x": [
          30449,
          208725,
          664479
         ],
         "xaxis": "x",
         "y": [
          "tablet",
          "mobile",
          "desktop"
         ],
         "yaxis": "y"
        },
        {
         "marker": {
          "color": "rgba(50, 171, 96, 0.6)"
         },
         "orientation": "h",
         "showlegend": false,
         "type": "bar",
         "uid": "74a6430f-5de7-441d-ad25-b59a5c9cf99e",
         "x": [
          168,
          852,
          10495
         ],
         "xaxis": "x2",
         "y": [
          "tablet",
          "mobile",
          "desktop"
         ],
         "yaxis": "y2"
        },
        {
         "marker": {
          "color": "rgba(10, 11, 196, 0.6)"
         },
         "orientation": "h",
         "showlegend": false,
         "type": "bar",
         "uid": "c214b6a2-b5f4-42a8-9721-9f01524504f3",
         "x": [
          56079404.76190476,
          58434049.295774646,
          141101866.60314435
         ],
         "xaxis": "x3",
         "y": [
          "tablet",
          "mobile",
          "desktop"
         ],
         "yaxis": "y3"
        }
       ],
       "layout": {
        "annotations": [
         {
          "font": {
           "size": 16
          },
          "showarrow": false,
          "text": "Device Category - Count",
          "x": 0.14444444444444446,
          "xanchor": "center",
          "xref": "paper",
          "y": 1,
          "yanchor": "bottom",
          "yref": "paper"
         },
         {
          "font": {
           "size": 16
          },
          "showarrow": false,
          "text": "Device category - Non-zero Revenue Count",
          "x": 0.5,
          "xanchor": "center",
          "xref": "paper",
          "y": 1,
          "yanchor": "bottom",
          "yref": "paper"
         },
         {
          "font": {
           "size": 16
          },
          "showarrow": false,
          "text": "Device Category - Mean Revenue",
          "x": 0.8555555555555556,
          "xanchor": "center",
          "xref": "paper",
          "y": 1,
          "yanchor": "bottom",
          "yref": "paper"
         }
        ],
        "height": 400,
        "paper_bgcolor": "rgb(233,233,233)",
        "title": "Device Category Plots",
        "width": 1200,
        "xaxis": {
         "anchor": "y",
         "domain": [
          0,
          0.2888888888888889
         ]
        },
        "xaxis2": {
         "anchor": "y2",
         "domain": [
          0.35555555555555557,
          0.6444444444444445
         ]
        },
        "xaxis3": {
         "anchor": "y3",
         "domain": [
          0.7111111111111111,
          1
         ]
        },
        "yaxis": {
         "anchor": "x",
         "domain": [
          0,
          1
         ]
        },
        "yaxis2": {
         "anchor": "x2",
         "domain": [
          0,
          1
         ]
        },
        "yaxis3": {
         "anchor": "x3",
         "domain": [
          0,
          1
         ]
        }
       }
      },
      "text/html": [
       "<div id=\"3d7cf713-9415-436b-9e43-6bda94e68fbe\" style=\"height: 400px; width: 1200px;\" class=\"plotly-graph-div\"></div><script type=\"text/javascript\">require([\"plotly\"], function(Plotly) { window.PLOTLYENV=window.PLOTLYENV || {};window.PLOTLYENV.BASE_URL=\"https://plot.ly\";Plotly.newPlot(\"3d7cf713-9415-436b-9e43-6bda94e68fbe\", [{\"marker\": {\"color\": \"rgba(150, 71, 96, 0.6)\"}, \"orientation\": \"h\", \"showlegend\": false, \"x\": [30449, 208725, 664479], \"y\": [\"tablet\", \"mobile\", \"desktop\"], \"type\": \"bar\", \"uid\": \"be2a3415-00a6-458b-93e1-54d6affb1c7e\", \"xaxis\": \"x\", \"yaxis\": \"y\"}, {\"marker\": {\"color\": \"rgba(50, 171, 96, 0.6)\"}, \"orientation\": \"h\", \"showlegend\": false, \"x\": [168, 852, 10495], \"y\": [\"tablet\", \"mobile\", \"desktop\"], \"type\": \"bar\", \"uid\": \"74a6430f-5de7-441d-ad25-b59a5c9cf99e\", \"xaxis\": \"x2\", \"yaxis\": \"y2\"}, {\"marker\": {\"color\": \"rgba(10, 11, 196, 0.6)\"}, \"orientation\": \"h\", \"showlegend\": false, \"x\": [56079404.76190476, 58434049.295774646, 141101866.60314435], \"y\": [\"tablet\", \"mobile\", \"desktop\"], \"type\": \"bar\", \"uid\": \"c214b6a2-b5f4-42a8-9721-9f01524504f3\", \"xaxis\": \"x3\", \"yaxis\": \"y3\"}], {\"annotations\": [{\"font\": {\"size\": 16}, \"showarrow\": false, \"text\": \"Device Category - Count\", \"x\": 0.14444444444444446, \"xanchor\": \"center\", \"xref\": \"paper\", \"y\": 1.0, \"yanchor\": \"bottom\", \"yref\": \"paper\"}, {\"font\": {\"size\": 16}, \"showarrow\": false, \"text\": \"Device category - Non-zero Revenue Count\", \"x\": 0.5, \"xanchor\": \"center\", \"xref\": \"paper\", \"y\": 1.0, \"yanchor\": \"bottom\", \"yref\": \"paper\"}, {\"font\": {\"size\": 16}, \"showarrow\": false, \"text\": \"Device Category - Mean Revenue\", \"x\": 0.8555555555555556, \"xanchor\": \"center\", \"xref\": \"paper\", \"y\": 1.0, \"yanchor\": \"bottom\", \"yref\": \"paper\"}], \"xaxis\": {\"anchor\": \"y\", \"domain\": [0.0, 0.2888888888888889]}, \"yaxis\": {\"anchor\": \"x\", \"domain\": [0.0, 1.0]}, \"xaxis2\": {\"anchor\": \"y2\", \"domain\": [0.35555555555555557, 0.6444444444444445]}, \"yaxis2\": {\"anchor\": \"x2\", \"domain\": [0.0, 1.0]}, \"xaxis3\": {\"anchor\": \"y3\", \"domain\": [0.7111111111111111, 1.0]}, \"yaxis3\": {\"anchor\": \"x3\", \"domain\": [0.0, 1.0]}, \"height\": 400, \"width\": 1200, \"paper_bgcolor\": \"rgb(233,233,233)\", \"title\": \"Device Category Plots\"}, {\"showLink\": true, \"linkText\": \"Export to plot.ly\", \"plotlyServerURL\": \"https://plot.ly\"})});</script>"
      ],
      "text/vnd.plotly.v1+html": [
       "<div id=\"3d7cf713-9415-436b-9e43-6bda94e68fbe\" style=\"height: 400px; width: 1200px;\" class=\"plotly-graph-div\"></div><script type=\"text/javascript\">require([\"plotly\"], function(Plotly) { window.PLOTLYENV=window.PLOTLYENV || {};window.PLOTLYENV.BASE_URL=\"https://plot.ly\";Plotly.newPlot(\"3d7cf713-9415-436b-9e43-6bda94e68fbe\", [{\"marker\": {\"color\": \"rgba(150, 71, 96, 0.6)\"}, \"orientation\": \"h\", \"showlegend\": false, \"x\": [30449, 208725, 664479], \"y\": [\"tablet\", \"mobile\", \"desktop\"], \"type\": \"bar\", \"uid\": \"be2a3415-00a6-458b-93e1-54d6affb1c7e\", \"xaxis\": \"x\", \"yaxis\": \"y\"}, {\"marker\": {\"color\": \"rgba(50, 171, 96, 0.6)\"}, \"orientation\": \"h\", \"showlegend\": false, \"x\": [168, 852, 10495], \"y\": [\"tablet\", \"mobile\", \"desktop\"], \"type\": \"bar\", \"uid\": \"74a6430f-5de7-441d-ad25-b59a5c9cf99e\", \"xaxis\": \"x2\", \"yaxis\": \"y2\"}, {\"marker\": {\"color\": \"rgba(10, 11, 196, 0.6)\"}, \"orientation\": \"h\", \"showlegend\": false, \"x\": [56079404.76190476, 58434049.295774646, 141101866.60314435], \"y\": [\"tablet\", \"mobile\", \"desktop\"], \"type\": \"bar\", \"uid\": \"c214b6a2-b5f4-42a8-9721-9f01524504f3\", \"xaxis\": \"x3\", \"yaxis\": \"y3\"}], {\"annotations\": [{\"font\": {\"size\": 16}, \"showarrow\": false, \"text\": \"Device Category - Count\", \"x\": 0.14444444444444446, \"xanchor\": \"center\", \"xref\": \"paper\", \"y\": 1.0, \"yanchor\": \"bottom\", \"yref\": \"paper\"}, {\"font\": {\"size\": 16}, \"showarrow\": false, \"text\": \"Device category - Non-zero Revenue Count\", \"x\": 0.5, \"xanchor\": \"center\", \"xref\": \"paper\", \"y\": 1.0, \"yanchor\": \"bottom\", \"yref\": \"paper\"}, {\"font\": {\"size\": 16}, \"showarrow\": false, \"text\": \"Device Category - Mean Revenue\", \"x\": 0.8555555555555556, \"xanchor\": \"center\", \"xref\": \"paper\", \"y\": 1.0, \"yanchor\": \"bottom\", \"yref\": \"paper\"}], \"xaxis\": {\"anchor\": \"y\", \"domain\": [0.0, 0.2888888888888889]}, \"yaxis\": {\"anchor\": \"x\", \"domain\": [0.0, 1.0]}, \"xaxis2\": {\"anchor\": \"y2\", \"domain\": [0.35555555555555557, 0.6444444444444445]}, \"yaxis2\": {\"anchor\": \"x2\", \"domain\": [0.0, 1.0]}, \"xaxis3\": {\"anchor\": \"y3\", \"domain\": [0.7111111111111111, 1.0]}, \"yaxis3\": {\"anchor\": \"x3\", \"domain\": [0.0, 1.0]}, \"height\": 400, \"width\": 1200, \"paper_bgcolor\": \"rgb(233,233,233)\", \"title\": \"Device Category Plots\"}, {\"showLink\": true, \"linkText\": \"Export to plot.ly\", \"plotlyServerURL\": \"https://plot.ly\"})});</script>"
      ]
     },
     "metadata": {},
     "output_type": "display_data"
    }
   ],
   "source": [
    "fig['layout'].update(height=400, width=1200, paper_bgcolor='rgb(233,233,233)', title=\"Device Category Plots\")\n",
    "py.iplot(fig, filename='device-category-plots')"
   ]
  },
  {
   "cell_type": "markdown",
   "metadata": {},
   "source": [
    "#### From the above analysis, we can see that desktop seem to have higher percentage of non-zero revenue counts compared to mobile devices."
   ]
  },
  {
   "cell_type": "markdown",
   "metadata": {},
   "source": [
    "#### Device Operating System"
   ]
  },
  {
   "cell_type": "code",
   "execution_count": 55,
   "metadata": {},
   "outputs": [],
   "source": [
    "counts = train_df.groupby('device.operatingSystem')['totals.transactionRevenue'].agg(['size', 'count', 'mean'])\n",
    "counts.columns = [\"count\", \"count of non-zero revenue\", \"mean\"]\n",
    "counts = counts.sort_values(by=\"count\", ascending=False)\n",
    "graph1 = bar_graph(counts[\"count\"].head(10), 'rgba(150, 71, 96, 0.6)')\n",
    "graph2 = bar_graph(counts[\"count of non-zero revenue\"].head(10), 'rgba(50, 171, 96, 0.6)')\n",
    "graph3 = bar_graph(counts[\"mean\"].head(10), 'rgba(10, 11, 196, 0.6)')"
   ]
  },
  {
   "cell_type": "code",
   "execution_count": 56,
   "metadata": {},
   "outputs": [
    {
     "name": "stdout",
     "output_type": "stream",
     "text": [
      "This is the format of your plot grid:\n",
      "[ (1,1) x1,y1 ]  [ (1,2) x2,y2 ]  [ (1,3) x3,y3 ]\n",
      "\n"
     ]
    }
   ],
   "source": [
    "fig = tools.make_subplots(rows=1, cols=3, vertical_spacing=0.04, \n",
    "                          subplot_titles=[\"Device OS - Count\", \"Device OS - Non-zero Revenue Count\", \"Device OS - Mean Revenue\"])"
   ]
  },
  {
   "cell_type": "code",
   "execution_count": 57,
   "metadata": {},
   "outputs": [],
   "source": [
    "fig.append_trace(graph1, 1, 1)\n",
    "fig.append_trace(graph2, 1, 2)\n",
    "fig.append_trace(graph3, 1, 3)"
   ]
  },
  {
   "cell_type": "code",
   "execution_count": 58,
   "metadata": {},
   "outputs": [
    {
     "data": {
      "application/vnd.plotly.v1+json": {
       "config": {
        "linkText": "Export to plot.ly",
        "plotlyServerURL": "https://plot.ly",
        "showLink": true
       },
       "data": [
        {
         "marker": {
          "color": "rgba(150, 71, 96, 0.6)"
         },
         "orientation": "h",
         "showlegend": false,
         "type": "bar",
         "uid": "6e7253a2-d731-48e2-8004-a7f0c1ed443d",
         "x": [
          218,
          280,
          1216,
          4695,
          26337,
          35034,
          107665,
          123892,
          253938,
          350072
         ],
         "xaxis": "x",
         "y": [
          "BlackBerry",
          "Samsung",
          "Windows Phone",
          "(not set)",
          "Chrome OS",
          "Linux",
          "iOS",
          "Android",
          "Macintosh",
          "Windows"
         ],
         "yaxis": "y"
        },
        {
         "marker": {
          "color": "rgba(50, 171, 96, 0.6)"
         },
         "orientation": "h",
         "showlegend": false,
         "type": "bar",
         "uid": "a7c2e89a-9874-413a-a7c6-4b330acf36c0",
         "x": [
          0,
          0,
          1,
          0,
          994,
          782,
          536,
          467,
          6426,
          2309
         ],
         "xaxis": "x2",
         "y": [
          "BlackBerry",
          "Samsung",
          "Windows Phone",
          "(not set)",
          "Chrome OS",
          "Linux",
          "iOS",
          "Android",
          "Macintosh",
          "Windows"
         ],
         "yaxis": "y2"
        },
        {
         "marker": {
          "color": "rgba(10, 11, 196, 0.6)"
         },
         "orientation": "h",
         "showlegend": false,
         "type": "bar",
         "uid": "c27af12e-19fa-49bb-b25b-182595132eb5",
         "x": [
          null,
          null,
          26400000,
          null,
          185048038.22937626,
          56151406.64961637,
          41356156.71641791,
          77818586.72376874,
          133267318.70525987,
          172071338.24166307
         ],
         "xaxis": "x3",
         "y": [
          "BlackBerry",
          "Samsung",
          "Windows Phone",
          "(not set)",
          "Chrome OS",
          "Linux",
          "iOS",
          "Android",
          "Macintosh",
          "Windows"
         ],
         "yaxis": "y3"
        }
       ],
       "layout": {
        "annotations": [
         {
          "font": {
           "size": 16
          },
          "showarrow": false,
          "text": "Device OS - Count",
          "x": 0.14444444444444446,
          "xanchor": "center",
          "xref": "paper",
          "y": 1,
          "yanchor": "bottom",
          "yref": "paper"
         },
         {
          "font": {
           "size": 16
          },
          "showarrow": false,
          "text": "Device OS - Non-zero Revenue Count",
          "x": 0.5,
          "xanchor": "center",
          "xref": "paper",
          "y": 1,
          "yanchor": "bottom",
          "yref": "paper"
         },
         {
          "font": {
           "size": 16
          },
          "showarrow": false,
          "text": "Device OS - Mean Revenue",
          "x": 0.8555555555555556,
          "xanchor": "center",
          "xref": "paper",
          "y": 1,
          "yanchor": "bottom",
          "yref": "paper"
         }
        ],
        "height": 400,
        "paper_bgcolor": "rgb(233,233,233)",
        "title": "Device OS Plots",
        "width": 1200,
        "xaxis": {
         "anchor": "y",
         "domain": [
          0,
          0.2888888888888889
         ]
        },
        "xaxis2": {
         "anchor": "y2",
         "domain": [
          0.35555555555555557,
          0.6444444444444445
         ]
        },
        "xaxis3": {
         "anchor": "y3",
         "domain": [
          0.7111111111111111,
          1
         ]
        },
        "yaxis": {
         "anchor": "x",
         "domain": [
          0,
          1
         ]
        },
        "yaxis2": {
         "anchor": "x2",
         "domain": [
          0,
          1
         ]
        },
        "yaxis3": {
         "anchor": "x3",
         "domain": [
          0,
          1
         ]
        }
       }
      },
      "text/html": [
       "<div id=\"32c8e187-1659-47c7-93a8-8675a20f71ae\" style=\"height: 400px; width: 1200px;\" class=\"plotly-graph-div\"></div><script type=\"text/javascript\">require([\"plotly\"], function(Plotly) { window.PLOTLYENV=window.PLOTLYENV || {};window.PLOTLYENV.BASE_URL=\"https://plot.ly\";Plotly.newPlot(\"32c8e187-1659-47c7-93a8-8675a20f71ae\", [{\"marker\": {\"color\": \"rgba(150, 71, 96, 0.6)\"}, \"orientation\": \"h\", \"showlegend\": false, \"x\": [218, 280, 1216, 4695, 26337, 35034, 107665, 123892, 253938, 350072], \"y\": [\"BlackBerry\", \"Samsung\", \"Windows Phone\", \"(not set)\", \"Chrome OS\", \"Linux\", \"iOS\", \"Android\", \"Macintosh\", \"Windows\"], \"type\": \"bar\", \"uid\": \"6e7253a2-d731-48e2-8004-a7f0c1ed443d\", \"xaxis\": \"x\", \"yaxis\": \"y\"}, {\"marker\": {\"color\": \"rgba(50, 171, 96, 0.6)\"}, \"orientation\": \"h\", \"showlegend\": false, \"x\": [0, 0, 1, 0, 994, 782, 536, 467, 6426, 2309], \"y\": [\"BlackBerry\", \"Samsung\", \"Windows Phone\", \"(not set)\", \"Chrome OS\", \"Linux\", \"iOS\", \"Android\", \"Macintosh\", \"Windows\"], \"type\": \"bar\", \"uid\": \"a7c2e89a-9874-413a-a7c6-4b330acf36c0\", \"xaxis\": \"x2\", \"yaxis\": \"y2\"}, {\"marker\": {\"color\": \"rgba(10, 11, 196, 0.6)\"}, \"orientation\": \"h\", \"showlegend\": false, \"x\": [null, null, 26400000.0, null, 185048038.22937626, 56151406.64961637, 41356156.71641791, 77818586.72376874, 133267318.70525987, 172071338.24166307], \"y\": [\"BlackBerry\", \"Samsung\", \"Windows Phone\", \"(not set)\", \"Chrome OS\", \"Linux\", \"iOS\", \"Android\", \"Macintosh\", \"Windows\"], \"type\": \"bar\", \"uid\": \"c27af12e-19fa-49bb-b25b-182595132eb5\", \"xaxis\": \"x3\", \"yaxis\": \"y3\"}], {\"annotations\": [{\"font\": {\"size\": 16}, \"showarrow\": false, \"text\": \"Device OS - Count\", \"x\": 0.14444444444444446, \"xanchor\": \"center\", \"xref\": \"paper\", \"y\": 1.0, \"yanchor\": \"bottom\", \"yref\": \"paper\"}, {\"font\": {\"size\": 16}, \"showarrow\": false, \"text\": \"Device OS - Non-zero Revenue Count\", \"x\": 0.5, \"xanchor\": \"center\", \"xref\": \"paper\", \"y\": 1.0, \"yanchor\": \"bottom\", \"yref\": \"paper\"}, {\"font\": {\"size\": 16}, \"showarrow\": false, \"text\": \"Device OS - Mean Revenue\", \"x\": 0.8555555555555556, \"xanchor\": \"center\", \"xref\": \"paper\", \"y\": 1.0, \"yanchor\": \"bottom\", \"yref\": \"paper\"}], \"xaxis\": {\"anchor\": \"y\", \"domain\": [0.0, 0.2888888888888889]}, \"yaxis\": {\"anchor\": \"x\", \"domain\": [0.0, 1.0]}, \"xaxis2\": {\"anchor\": \"y2\", \"domain\": [0.35555555555555557, 0.6444444444444445]}, \"yaxis2\": {\"anchor\": \"x2\", \"domain\": [0.0, 1.0]}, \"xaxis3\": {\"anchor\": \"y3\", \"domain\": [0.7111111111111111, 1.0]}, \"yaxis3\": {\"anchor\": \"x3\", \"domain\": [0.0, 1.0]}, \"height\": 400, \"width\": 1200, \"paper_bgcolor\": \"rgb(233,233,233)\", \"title\": \"Device OS Plots\"}, {\"showLink\": true, \"linkText\": \"Export to plot.ly\", \"plotlyServerURL\": \"https://plot.ly\"})});</script>"
      ],
      "text/vnd.plotly.v1+html": [
       "<div id=\"32c8e187-1659-47c7-93a8-8675a20f71ae\" style=\"height: 400px; width: 1200px;\" class=\"plotly-graph-div\"></div><script type=\"text/javascript\">require([\"plotly\"], function(Plotly) { window.PLOTLYENV=window.PLOTLYENV || {};window.PLOTLYENV.BASE_URL=\"https://plot.ly\";Plotly.newPlot(\"32c8e187-1659-47c7-93a8-8675a20f71ae\", [{\"marker\": {\"color\": \"rgba(150, 71, 96, 0.6)\"}, \"orientation\": \"h\", \"showlegend\": false, \"x\": [218, 280, 1216, 4695, 26337, 35034, 107665, 123892, 253938, 350072], \"y\": [\"BlackBerry\", \"Samsung\", \"Windows Phone\", \"(not set)\", \"Chrome OS\", \"Linux\", \"iOS\", \"Android\", \"Macintosh\", \"Windows\"], \"type\": \"bar\", \"uid\": \"6e7253a2-d731-48e2-8004-a7f0c1ed443d\", \"xaxis\": \"x\", \"yaxis\": \"y\"}, {\"marker\": {\"color\": \"rgba(50, 171, 96, 0.6)\"}, \"orientation\": \"h\", \"showlegend\": false, \"x\": [0, 0, 1, 0, 994, 782, 536, 467, 6426, 2309], \"y\": [\"BlackBerry\", \"Samsung\", \"Windows Phone\", \"(not set)\", \"Chrome OS\", \"Linux\", \"iOS\", \"Android\", \"Macintosh\", \"Windows\"], \"type\": \"bar\", \"uid\": \"a7c2e89a-9874-413a-a7c6-4b330acf36c0\", \"xaxis\": \"x2\", \"yaxis\": \"y2\"}, {\"marker\": {\"color\": \"rgba(10, 11, 196, 0.6)\"}, \"orientation\": \"h\", \"showlegend\": false, \"x\": [null, null, 26400000.0, null, 185048038.22937626, 56151406.64961637, 41356156.71641791, 77818586.72376874, 133267318.70525987, 172071338.24166307], \"y\": [\"BlackBerry\", \"Samsung\", \"Windows Phone\", \"(not set)\", \"Chrome OS\", \"Linux\", \"iOS\", \"Android\", \"Macintosh\", \"Windows\"], \"type\": \"bar\", \"uid\": \"c27af12e-19fa-49bb-b25b-182595132eb5\", \"xaxis\": \"x3\", \"yaxis\": \"y3\"}], {\"annotations\": [{\"font\": {\"size\": 16}, \"showarrow\": false, \"text\": \"Device OS - Count\", \"x\": 0.14444444444444446, \"xanchor\": \"center\", \"xref\": \"paper\", \"y\": 1.0, \"yanchor\": \"bottom\", \"yref\": \"paper\"}, {\"font\": {\"size\": 16}, \"showarrow\": false, \"text\": \"Device OS - Non-zero Revenue Count\", \"x\": 0.5, \"xanchor\": \"center\", \"xref\": \"paper\", \"y\": 1.0, \"yanchor\": \"bottom\", \"yref\": \"paper\"}, {\"font\": {\"size\": 16}, \"showarrow\": false, \"text\": \"Device OS - Mean Revenue\", \"x\": 0.8555555555555556, \"xanchor\": \"center\", \"xref\": \"paper\", \"y\": 1.0, \"yanchor\": \"bottom\", \"yref\": \"paper\"}], \"xaxis\": {\"anchor\": \"y\", \"domain\": [0.0, 0.2888888888888889]}, \"yaxis\": {\"anchor\": \"x\", \"domain\": [0.0, 1.0]}, \"xaxis2\": {\"anchor\": \"y2\", \"domain\": [0.35555555555555557, 0.6444444444444445]}, \"yaxis2\": {\"anchor\": \"x2\", \"domain\": [0.0, 1.0]}, \"xaxis3\": {\"anchor\": \"y3\", \"domain\": [0.7111111111111111, 1.0]}, \"yaxis3\": {\"anchor\": \"x3\", \"domain\": [0.0, 1.0]}, \"height\": 400, \"width\": 1200, \"paper_bgcolor\": \"rgb(233,233,233)\", \"title\": \"Device OS Plots\"}, {\"showLink\": true, \"linkText\": \"Export to plot.ly\", \"plotlyServerURL\": \"https://plot.ly\"})});</script>"
      ]
     },
     "metadata": {},
     "output_type": "display_data"
    }
   ],
   "source": [
    "fig['layout'].update(height=400, width=1200, paper_bgcolor='rgb(233,233,233)', title=\"Device OS Plots\")\n",
    "py.iplot(fig, filename='device-os-plots')"
   ]
  },
  {
   "cell_type": "markdown",
   "metadata": {},
   "source": [
    "#### From the above analysis, we can see that\n",
    "-  In case of device operating system, though the number of counts is more from windows, the number of counts where revenue is not zero is more for Macintosh.\n",
    "-  Chrome OS also has higher percentage of non-zero revenue counts\n",
    "-  On the mobile OS side, iOS has more percentage of non-zero revenue counts compared to Android"
   ]
  },
  {
   "cell_type": "markdown",
   "metadata": {},
   "source": [
    "### Date and time analysis\n",
    "#### Training set"
   ]
  },
  {
   "cell_type": "code",
   "execution_count": 59,
   "metadata": {},
   "outputs": [],
   "source": [
    "import datetime\n",
    "\n",
    "def scatter_plot(count, color):\n",
    "    trace = go.Scatter(\n",
    "        x=count.index[::-1],\n",
    "        y=count.values[::-1],\n",
    "        showlegend=False,\n",
    "        marker=dict(\n",
    "            color=color,\n",
    "        ),\n",
    "    )\n",
    "    return trace"
   ]
  },
  {
   "cell_type": "code",
   "execution_count": 60,
   "metadata": {},
   "outputs": [],
   "source": [
    "train_df['date'] = train_df['date'].apply(lambda x: datetime.date(int(str(x)[:4]), int(str(x)[4:6]), int(str(x)[6:])))"
   ]
  },
  {
   "cell_type": "code",
   "execution_count": 61,
   "metadata": {},
   "outputs": [],
   "source": [
    "count = train_df.groupby('date')['totals.transactionRevenue'].agg(['size', 'count'])\n",
    "count.columns = [\"count\", \"count of non-zero revenue\"]\n",
    "count = count.sort_index()\n",
    "\n",
    "graph1 = scatter_plot(count[\"count\"], 'red')\n",
    "graph2 = scatter_plot(count[\"count of non-zero revenue\"], 'blue')"
   ]
  },
  {
   "cell_type": "code",
   "execution_count": 62,
   "metadata": {},
   "outputs": [
    {
     "name": "stdout",
     "output_type": "stream",
     "text": [
      "This is the format of your plot grid:\n",
      "[ (1,1) x1,y1 ]\n",
      "[ (2,1) x2,y2 ]\n",
      "\n"
     ]
    }
   ],
   "source": [
    "fig = tools.make_subplots(rows=2, cols=1, vertical_spacing=0.08,\n",
    "                          subplot_titles=[\"Date - Count\", \"Date - Non-zero Revenue count\"])"
   ]
  },
  {
   "cell_type": "code",
   "execution_count": 63,
   "metadata": {},
   "outputs": [],
   "source": [
    "fig.append_trace(graph1, 1, 1)\n",
    "fig.append_trace(graph2, 2, 1)"
   ]
  },
  {
   "cell_type": "code",
   "execution_count": 64,
   "metadata": {},
   "outputs": [
    {
     "data": {
      "application/vnd.plotly.v1+json": {
       "config": {
        "linkText": "Export to plot.ly",
        "plotlyServerURL": "https://plot.ly",
        "showLink": true
       },
       "data": [
        {
         "marker": {
          "color": "red"
         },
         "showlegend": false,
         "type": "scatter",
         "uid": "a1e5fd48-af74-4e8e-8303-5cc7ef586da7",
         "x": [
          "2017-08-01",
          "2017-07-31",
          "2017-07-30",
          "2017-07-29",
          "2017-07-28",
          "2017-07-27",
          "2017-07-26",
          "2017-07-25",
          "2017-07-24",
          "2017-07-23",
          "2017-07-22",
          "2017-07-21",
          "2017-07-20",
          "2017-07-19",
          "2017-07-18",
          "2017-07-17",
          "2017-07-16",
          "2017-07-15",
          "2017-07-14",
          "2017-07-13",
          "2017-07-12",
          "2017-07-11",
          "2017-07-10",
          "2017-07-09",
          "2017-07-08",
          "2017-07-07",
          "2017-07-06",
          "2017-07-05",
          "2017-07-04",
          "2017-07-03",
          "2017-07-02",
          "2017-07-01",
          "2017-06-30",
          "2017-06-29",
          "2017-06-28",
          "2017-06-27",
          "2017-06-26",
          "2017-06-25",
          "2017-06-24",
          "2017-06-23",
          "2017-06-22",
          "2017-06-21",
          "2017-06-20",
          "2017-06-19",
          "2017-06-18",
          "2017-06-17",
          "2017-06-16",
          "2017-06-15",
          "2017-06-14",
          "2017-06-13",
          "2017-06-12",
          "2017-06-11",
          "2017-06-10",
          "2017-06-09",
          "2017-06-08",
          "2017-06-07",
          "2017-06-06",
          "2017-06-05",
          "2017-06-04",
          "2017-06-03",
          "2017-06-02",
          "2017-06-01",
          "2017-05-31",
          "2017-05-30",
          "2017-05-29",
          "2017-05-28",
          "2017-05-27",
          "2017-05-26",
          "2017-05-25",
          "2017-05-24",
          "2017-05-23",
          "2017-05-22",
          "2017-05-21",
          "2017-05-20",
          "2017-05-19",
          "2017-05-18",
          "2017-05-17",
          "2017-05-16",
          "2017-05-15",
          "2017-05-14",
          "2017-05-13",
          "2017-05-12",
          "2017-05-11",
          "2017-05-10",
          "2017-05-09",
          "2017-05-08",
          "2017-05-07",
          "2017-05-06",
          "2017-05-05",
          "2017-05-04",
          "2017-05-03",
          "2017-05-02",
          "2017-05-01",
          "2017-04-30",
          "2017-04-29",
          "2017-04-28",
          "2017-04-27",
          "2017-04-26",
          "2017-04-25",
          "2017-04-24",
          "2017-04-23",
          "2017-04-22",
          "2017-04-21",
          "2017-04-20",
          "2017-04-19",
          "2017-04-18",
          "2017-04-17",
          "2017-04-16",
          "2017-04-15",
          "2017-04-14",
          "2017-04-13",
          "2017-04-12",
          "2017-04-11",
          "2017-04-10",
          "2017-04-09",
          "2017-04-08",
          "2017-04-07",
          "2017-04-06",
          "2017-04-05",
          "2017-04-04",
          "2017-04-03",
          "2017-04-02",
          "2017-04-01",
          "2017-03-31",
          "2017-03-30",
          "2017-03-29",
          "2017-03-28",
          "2017-03-27",
          "2017-03-26",
          "2017-03-25",
          "2017-03-24",
          "2017-03-23",
          "2017-03-22",
          "2017-03-21",
          "2017-03-20",
          "2017-03-19",
          "2017-03-18",
          "2017-03-17",
          "2017-03-16",
          "2017-03-15",
          "2017-03-14",
          "2017-03-13",
          "2017-03-12",
          "2017-03-11",
          "2017-03-10",
          "2017-03-09",
          "2017-03-08",
          "2017-03-07",
          "2017-03-06",
          "2017-03-05",
          "2017-03-04",
          "2017-03-03",
          "2017-03-02",
          "2017-03-01",
          "2017-02-28",
          "2017-02-27",
          "2017-02-26",
          "2017-02-25",
          "2017-02-24",
          "2017-02-23",
          "2017-02-22",
          "2017-02-21",
          "2017-02-20",
          "2017-02-19",
          "2017-02-18",
          "2017-02-17",
          "2017-02-16",
          "2017-02-15",
          "2017-02-14",
          "2017-02-13",
          "2017-02-12",
          "2017-02-11",
          "2017-02-10",
          "2017-02-09",
          "2017-02-08",
          "2017-02-07",
          "2017-02-06",
          "2017-02-05",
          "2017-02-04",
          "2017-02-03",
          "2017-02-02",
          "2017-02-01",
          "2017-01-31",
          "2017-01-30",
          "2017-01-29",
          "2017-01-28",
          "2017-01-27",
          "2017-01-26",
          "2017-01-25",
          "2017-01-24",
          "2017-01-23",
          "2017-01-22",
          "2017-01-21",
          "2017-01-20",
          "2017-01-19",
          "2017-01-18",
          "2017-01-17",
          "2017-01-16",
          "2017-01-15",
          "2017-01-14",
          "2017-01-13",
          "2017-01-12",
          "2017-01-11",
          "2017-01-10",
          "2017-01-09",
          "2017-01-08",
          "2017-01-07",
          "2017-01-06",
          "2017-01-05",
          "2017-01-04",
          "2017-01-03",
          "2017-01-02",
          "2017-01-01",
          "2016-12-31",
          "2016-12-30",
          "2016-12-29",
          "2016-12-28",
          "2016-12-27",
          "2016-12-26",
          "2016-12-25",
          "2016-12-24",
          "2016-12-23",
          "2016-12-22",
          "2016-12-21",
          "2016-12-20",
          "2016-12-19",
          "2016-12-18",
          "2016-12-17",
          "2016-12-16",
          "2016-12-15",
          "2016-12-14",
          "2016-12-13",
          "2016-12-12",
          "2016-12-11",
          "2016-12-10",
          "2016-12-09",
          "2016-12-08",
          "2016-12-07",
          "2016-12-06",
          "2016-12-05",
          "2016-12-04",
          "2016-12-03",
          "2016-12-02",
          "2016-12-01",
          "2016-11-30",
          "2016-11-29",
          "2016-11-28",
          "2016-11-27",
          "2016-11-26",
          "2016-11-25",
          "2016-11-24",
          "2016-11-23",
          "2016-11-22",
          "2016-11-21",
          "2016-11-20",
          "2016-11-19",
          "2016-11-18",
          "2016-11-17",
          "2016-11-16",
          "2016-11-15",
          "2016-11-14",
          "2016-11-13",
          "2016-11-12",
          "2016-11-11",
          "2016-11-10",
          "2016-11-09",
          "2016-11-08",
          "2016-11-07",
          "2016-11-06",
          "2016-11-05",
          "2016-11-04",
          "2016-11-03",
          "2016-11-02",
          "2016-11-01",
          "2016-10-31",
          "2016-10-30",
          "2016-10-29",
          "2016-10-28",
          "2016-10-27",
          "2016-10-26",
          "2016-10-25",
          "2016-10-24",
          "2016-10-23",
          "2016-10-22",
          "2016-10-21",
          "2016-10-20",
          "2016-10-19",
          "2016-10-18",
          "2016-10-17",
          "2016-10-16",
          "2016-10-15",
          "2016-10-14",
          "2016-10-13",
          "2016-10-12",
          "2016-10-11",
          "2016-10-10",
          "2016-10-09",
          "2016-10-08",
          "2016-10-07",
          "2016-10-06",
          "2016-10-05",
          "2016-10-04",
          "2016-10-03",
          "2016-10-02",
          "2016-10-01",
          "2016-09-30",
          "2016-09-29",
          "2016-09-28",
          "2016-09-27",
          "2016-09-26",
          "2016-09-25",
          "2016-09-24",
          "2016-09-23",
          "2016-09-22",
          "2016-09-21",
          "2016-09-20",
          "2016-09-19",
          "2016-09-18",
          "2016-09-17",
          "2016-09-16",
          "2016-09-15",
          "2016-09-14",
          "2016-09-13",
          "2016-09-12",
          "2016-09-11",
          "2016-09-10",
          "2016-09-09",
          "2016-09-08",
          "2016-09-07",
          "2016-09-06",
          "2016-09-05",
          "2016-09-04",
          "2016-09-03",
          "2016-09-02",
          "2016-09-01",
          "2016-08-31",
          "2016-08-30",
          "2016-08-29",
          "2016-08-28",
          "2016-08-27",
          "2016-08-26",
          "2016-08-25",
          "2016-08-24",
          "2016-08-23",
          "2016-08-22",
          "2016-08-21",
          "2016-08-20",
          "2016-08-19",
          "2016-08-18",
          "2016-08-17",
          "2016-08-16",
          "2016-08-15",
          "2016-08-14",
          "2016-08-13",
          "2016-08-12",
          "2016-08-11",
          "2016-08-10",
          "2016-08-09",
          "2016-08-08",
          "2016-08-07",
          "2016-08-06",
          "2016-08-05",
          "2016-08-04",
          "2016-08-03",
          "2016-08-02",
          "2016-08-01"
         ],
         "xaxis": "x",
         "y": [
          2556,
          2620,
          1799,
          1597,
          2433,
          2529,
          2725,
          2631,
          2436,
          1966,
          1724,
          2427,
          2668,
          2514,
          2804,
          2671,
          1766,
          1721,
          2382,
          2741,
          2554,
          2635,
          2769,
          1921,
          1859,
          2450,
          2658,
          2885,
          1938,
          2046,
          1895,
          2048,
          2499,
          2709,
          2687,
          2789,
          2226,
          1597,
          1510,
          2095,
          2258,
          2357,
          2143,
          2142,
          1432,
          1391,
          2028,
          2237,
          2517,
          2181,
          2361,
          1555,
          1545,
          1927,
          2280,
          2279,
          2391,
          2493,
          1534,
          1399,
          2190,
          2826,
          2292,
          2199,
          1745,
          1463,
          1502,
          2009,
          2228,
          2406,
          2129,
          2248,
          1645,
          1855,
          2223,
          2715,
          3117,
          3098,
          2360,
          1290,
          1251,
          1932,
          2218,
          2024,
          2108,
          2025,
          1400,
          1383,
          1960,
          2806,
          2588,
          2564,
          2588,
          1594,
          1566,
          2411,
          2838,
          4224,
          2354,
          2263,
          1548,
          1612,
          2210,
          2374,
          2397,
          2391,
          2279,
          1507,
          1506,
          1834,
          2300,
          2341,
          2464,
          2563,
          1766,
          1829,
          2297,
          2647,
          2619,
          2978,
          2383,
          1861,
          2170,
          2268,
          2731,
          2525,
          2577,
          2525,
          1768,
          1712,
          2374,
          2847,
          2582,
          2611,
          2383,
          1776,
          1610,
          2129,
          2409,
          2486,
          2338,
          2537,
          1781,
          1707,
          2194,
          2231,
          2449,
          2586,
          2396,
          1827,
          1753,
          2162,
          2267,
          2390,
          2347,
          2352,
          1643,
          1638,
          2093,
          2364,
          2477,
          2582,
          2374,
          2187,
          1755,
          2785,
          2539,
          2629,
          2379,
          2266,
          1790,
          1761,
          2199,
          2678,
          2570,
          2476,
          2238,
          1522,
          1549,
          2182,
          2372,
          2445,
          2229,
          2392,
          1814,
          1614,
          1969,
          2209,
          2986,
          3618,
          2262,
          1700,
          1685,
          2074,
          2083,
          2245,
          2443,
          1906,
          1576,
          1526,
          1967,
          2203,
          2185,
          2268,
          2308,
          1637,
          1615,
          2210,
          2193,
          2390,
          2403,
          1620,
          1364,
          1211,
          1232,
          1647,
          1763,
          1855,
          1586,
          1386,
          1231,
          1604,
          2100,
          2594,
          3110,
          3222,
          2128,
          2324,
          2956,
          2937,
          3040,
          3166,
          3433,
          2208,
          2207,
          2830,
          3013,
          2840,
          3021,
          4265,
          3220,
          3044,
          3751,
          4200,
          4435,
          4337,
          4807,
          3356,
          3213,
          3759,
          3770,
          3805,
          3942,
          4143,
          3247,
          2984,
          3654,
          4074,
          4334,
          4685,
          4466,
          3144,
          3119,
          3588,
          4055,
          3752,
          3899,
          3832,
          3232,
          3042,
          3596,
          4014,
          3960,
          3728,
          3827,
          3086,
          2964,
          3791,
          4162,
          4375,
          3842,
          4063,
          2971,
          3029,
          3419,
          3755,
          3544,
          3628,
          3397,
          2649,
          2495,
          2838,
          2964,
          2871,
          2850,
          2911,
          2134,
          2114,
          2892,
          3016,
          3770,
          4322,
          2514,
          1724,
          1589,
          2303,
          2597,
          2535,
          2727,
          2776,
          1877,
          1845,
          2381,
          2581,
          2720,
          2760,
          2689,
          1822,
          1853,
          2603,
          2949,
          2652,
          2396,
          2465,
          1725,
          1671,
          2549,
          2628,
          2562,
          2508,
          2125,
          1692,
          1741,
          2613,
          2687,
          3223,
          2675,
          2454,
          1682,
          1654,
          2359,
          2539,
          2627,
          2754,
          2584,
          1730,
          1664,
          2379,
          2725,
          2799,
          2873,
          3043,
          1801,
          1596,
          2619,
          2667,
          2757,
          2851,
          2815,
          1622,
          1663,
          2702,
          3161,
          2890,
          2140,
          1711
         ],
         "yaxis": "y"
        },
        {
         "marker": {
          "color": "blue"
         },
         "showlegend": false,
         "type": "scatter",
         "uid": "29716866-0a69-4366-a676-079e374e7cc7",
         "x": [
          "2017-08-01",
          "2017-07-31",
          "2017-07-30",
          "2017-07-29",
          "2017-07-28",
          "2017-07-27",
          "2017-07-26",
          "2017-07-25",
          "2017-07-24",
          "2017-07-23",
          "2017-07-22",
          "2017-07-21",
          "2017-07-20",
          "2017-07-19",
          "2017-07-18",
          "2017-07-17",
          "2017-07-16",
          "2017-07-15",
          "2017-07-14",
          "2017-07-13",
          "2017-07-12",
          "2017-07-11",
          "2017-07-10",
          "2017-07-09",
          "2017-07-08",
          "2017-07-07",
          "2017-07-06",
          "2017-07-05",
          "2017-07-04",
          "2017-07-03",
          "2017-07-02",
          "2017-07-01",
          "2017-06-30",
          "2017-06-29",
          "2017-06-28",
          "2017-06-27",
          "2017-06-26",
          "2017-06-25",
          "2017-06-24",
          "2017-06-23",
          "2017-06-22",
          "2017-06-21",
          "2017-06-20",
          "2017-06-19",
          "2017-06-18",
          "2017-06-17",
          "2017-06-16",
          "2017-06-15",
          "2017-06-14",
          "2017-06-13",
          "2017-06-12",
          "2017-06-11",
          "2017-06-10",
          "2017-06-09",
          "2017-06-08",
          "2017-06-07",
          "2017-06-06",
          "2017-06-05",
          "2017-06-04",
          "2017-06-03",
          "2017-06-02",
          "2017-06-01",
          "2017-05-31",
          "2017-05-30",
          "2017-05-29",
          "2017-05-28",
          "2017-05-27",
          "2017-05-26",
          "2017-05-25",
          "2017-05-24",
          "2017-05-23",
          "2017-05-22",
          "2017-05-21",
          "2017-05-20",
          "2017-05-19",
          "2017-05-18",
          "2017-05-17",
          "2017-05-16",
          "2017-05-15",
          "2017-05-14",
          "2017-05-13",
          "2017-05-12",
          "2017-05-11",
          "2017-05-10",
          "2017-05-09",
          "2017-05-08",
          "2017-05-07",
          "2017-05-06",
          "2017-05-05",
          "2017-05-04",
          "2017-05-03",
          "2017-05-02",
          "2017-05-01",
          "2017-04-30",
          "2017-04-29",
          "2017-04-28",
          "2017-04-27",
          "2017-04-26",
          "2017-04-25",
          "2017-04-24",
          "2017-04-23",
          "2017-04-22",
          "2017-04-21",
          "2017-04-20",
          "2017-04-19",
          "2017-04-18",
          "2017-04-17",
          "2017-04-16",
          "2017-04-15",
          "2017-04-14",
          "2017-04-13",
          "2017-04-12",
          "2017-04-11",
          "2017-04-10",
          "2017-04-09",
          "2017-04-08",
          "2017-04-07",
          "2017-04-06",
          "2017-04-05",
          "2017-04-04",
          "2017-04-03",
          "2017-04-02",
          "2017-04-01",
          "2017-03-31",
          "2017-03-30",
          "2017-03-29",
          "2017-03-28",
          "2017-03-27",
          "2017-03-26",
          "2017-03-25",
          "2017-03-24",
          "2017-03-23",
          "2017-03-22",
          "2017-03-21",
          "2017-03-20",
          "2017-03-19",
          "2017-03-18",
          "2017-03-17",
          "2017-03-16",
          "2017-03-15",
          "2017-03-14",
          "2017-03-13",
          "2017-03-12",
          "2017-03-11",
          "2017-03-10",
          "2017-03-09",
          "2017-03-08",
          "2017-03-07",
          "2017-03-06",
          "2017-03-05",
          "2017-03-04",
          "2017-03-03",
          "2017-03-02",
          "2017-03-01",
          "2017-02-28",
          "2017-02-27",
          "2017-02-26",
          "2017-02-25",
          "2017-02-24",
          "2017-02-23",
          "2017-02-22",
          "2017-02-21",
          "2017-02-20",
          "2017-02-19",
          "2017-02-18",
          "2017-02-17",
          "2017-02-16",
          "2017-02-15",
          "2017-02-14",
          "2017-02-13",
          "2017-02-12",
          "2017-02-11",
          "2017-02-10",
          "2017-02-09",
          "2017-02-08",
          "2017-02-07",
          "2017-02-06",
          "2017-02-05",
          "2017-02-04",
          "2017-02-03",
          "2017-02-02",
          "2017-02-01",
          "2017-01-31",
          "2017-01-30",
          "2017-01-29",
          "2017-01-28",
          "2017-01-27",
          "2017-01-26",
          "2017-01-25",
          "2017-01-24",
          "2017-01-23",
          "2017-01-22",
          "2017-01-21",
          "2017-01-20",
          "2017-01-19",
          "2017-01-18",
          "2017-01-17",
          "2017-01-16",
          "2017-01-15",
          "2017-01-14",
          "2017-01-13",
          "2017-01-12",
          "2017-01-11",
          "2017-01-10",
          "2017-01-09",
          "2017-01-08",
          "2017-01-07",
          "2017-01-06",
          "2017-01-05",
          "2017-01-04",
          "2017-01-03",
          "2017-01-02",
          "2017-01-01",
          "2016-12-31",
          "2016-12-30",
          "2016-12-29",
          "2016-12-28",
          "2016-12-27",
          "2016-12-26",
          "2016-12-25",
          "2016-12-24",
          "2016-12-23",
          "2016-12-22",
          "2016-12-21",
          "2016-12-20",
          "2016-12-19",
          "2016-12-18",
          "2016-12-17",
          "2016-12-16",
          "2016-12-15",
          "2016-12-14",
          "2016-12-13",
          "2016-12-12",
          "2016-12-11",
          "2016-12-10",
          "2016-12-09",
          "2016-12-08",
          "2016-12-07",
          "2016-12-06",
          "2016-12-05",
          "2016-12-04",
          "2016-12-03",
          "2016-12-02",
          "2016-12-01",
          "2016-11-30",
          "2016-11-29",
          "2016-11-28",
          "2016-11-27",
          "2016-11-26",
          "2016-11-25",
          "2016-11-24",
          "2016-11-23",
          "2016-11-22",
          "2016-11-21",
          "2016-11-20",
          "2016-11-19",
          "2016-11-18",
          "2016-11-17",
          "2016-11-16",
          "2016-11-15",
          "2016-11-14",
          "2016-11-13",
          "2016-11-12",
          "2016-11-11",
          "2016-11-10",
          "2016-11-09",
          "2016-11-08",
          "2016-11-07",
          "2016-11-06",
          "2016-11-05",
          "2016-11-04",
          "2016-11-03",
          "2016-11-02",
          "2016-11-01",
          "2016-10-31",
          "2016-10-30",
          "2016-10-29",
          "2016-10-28",
          "2016-10-27",
          "2016-10-26",
          "2016-10-25",
          "2016-10-24",
          "2016-10-23",
          "2016-10-22",
          "2016-10-21",
          "2016-10-20",
          "2016-10-19",
          "2016-10-18",
          "2016-10-17",
          "2016-10-16",
          "2016-10-15",
          "2016-10-14",
          "2016-10-13",
          "2016-10-12",
          "2016-10-11",
          "2016-10-10",
          "2016-10-09",
          "2016-10-08",
          "2016-10-07",
          "2016-10-06",
          "2016-10-05",
          "2016-10-04",
          "2016-10-03",
          "2016-10-02",
          "2016-10-01",
          "2016-09-30",
          "2016-09-29",
          "2016-09-28",
          "2016-09-27",
          "2016-09-26",
          "2016-09-25",
          "2016-09-24",
          "2016-09-23",
          "2016-09-22",
          "2016-09-21",
          "2016-09-20",
          "2016-09-19",
          "2016-09-18",
          "2016-09-17",
          "2016-09-16",
          "2016-09-15",
          "2016-09-14",
          "2016-09-13",
          "2016-09-12",
          "2016-09-11",
          "2016-09-10",
          "2016-09-09",
          "2016-09-08",
          "2016-09-07",
          "2016-09-06",
          "2016-09-05",
          "2016-09-04",
          "2016-09-03",
          "2016-09-02",
          "2016-09-01",
          "2016-08-31",
          "2016-08-30",
          "2016-08-29",
          "2016-08-28",
          "2016-08-27",
          "2016-08-26",
          "2016-08-25",
          "2016-08-24",
          "2016-08-23",
          "2016-08-22",
          "2016-08-21",
          "2016-08-20",
          "2016-08-19",
          "2016-08-18",
          "2016-08-17",
          "2016-08-16",
          "2016-08-15",
          "2016-08-14",
          "2016-08-13",
          "2016-08-12",
          "2016-08-11",
          "2016-08-10",
          "2016-08-09",
          "2016-08-08",
          "2016-08-07",
          "2016-08-06",
          "2016-08-05",
          "2016-08-04",
          "2016-08-03",
          "2016-08-02",
          "2016-08-01"
         ],
         "xaxis": "x2",
         "y": [
          43,
          61,
          22,
          19,
          42,
          49,
          41,
          36,
          38,
          16,
          17,
          41,
          40,
          56,
          50,
          49,
          27,
          16,
          44,
          62,
          48,
          40,
          44,
          19,
          14,
          38,
          30,
          41,
          7,
          13,
          8,
          3,
          33,
          44,
          31,
          40,
          32,
          19,
          10,
          26,
          36,
          34,
          35,
          39,
          25,
          18,
          36,
          35,
          45,
          48,
          61,
          26,
          12,
          35,
          24,
          37,
          29,
          35,
          15,
          15,
          36,
          35,
          39,
          39,
          18,
          9,
          16,
          31,
          35,
          36,
          32,
          23,
          22,
          30,
          39,
          34,
          38,
          51,
          37,
          10,
          23,
          54,
          44,
          40,
          46,
          48,
          11,
          12,
          35,
          48,
          70,
          67,
          78,
          27,
          20,
          59,
          42,
          42,
          33,
          24,
          12,
          15,
          42,
          39,
          38,
          47,
          37,
          14,
          7,
          39,
          37,
          45,
          29,
          36,
          10,
          18,
          43,
          41,
          32,
          39,
          36,
          13,
          12,
          17,
          38,
          49,
          44,
          46,
          14,
          13,
          30,
          24,
          37,
          33,
          35,
          17,
          17,
          31,
          29,
          31,
          32,
          35,
          11,
          13,
          32,
          28,
          24,
          35,
          30,
          28,
          26,
          25,
          27,
          32,
          29,
          27,
          9,
          12,
          25,
          30,
          34,
          25,
          21,
          15,
          13,
          67,
          32,
          27,
          51,
          30,
          16,
          10,
          24,
          28,
          24,
          23,
          28,
          12,
          14,
          29,
          26,
          27,
          39,
          33,
          19,
          4,
          21,
          27,
          34,
          28,
          27,
          10,
          11,
          18,
          27,
          36,
          32,
          13,
          6,
          11,
          28,
          22,
          17,
          23,
          38,
          11,
          8,
          26,
          41,
          29,
          29,
          18,
          11,
          10,
          13,
          22,
          25,
          17,
          15,
          18,
          19,
          19,
          33,
          35,
          67,
          69,
          38,
          43,
          87,
          72,
          65,
          77,
          83,
          49,
          37,
          72,
          66,
          49,
          70,
          76,
          36,
          22,
          41,
          50,
          57,
          46,
          73,
          18,
          13,
          29,
          15,
          31,
          21,
          39,
          13,
          16,
          35,
          45,
          33,
          32,
          39,
          16,
          15,
          22,
          25,
          29,
          44,
          41,
          21,
          20,
          37,
          34,
          27,
          33,
          28,
          16,
          11,
          30,
          40,
          38,
          21,
          33,
          28,
          14,
          33,
          30,
          29,
          32,
          40,
          20,
          9,
          21,
          30,
          37,
          43,
          38,
          22,
          12,
          39,
          33,
          44,
          35,
          35,
          25,
          6,
          25,
          32,
          39,
          35,
          42,
          18,
          12,
          24,
          33,
          39,
          45,
          36,
          15,
          8,
          39,
          32,
          42,
          21,
          28,
          17,
          13,
          39,
          46,
          33,
          38,
          16,
          9,
          13,
          27,
          43,
          32,
          34,
          43,
          22,
          15,
          39,
          62,
          47,
          57,
          57,
          23,
          21,
          50,
          43,
          40,
          59,
          65,
          23,
          14,
          71,
          45,
          46,
          42,
          34,
          16,
          10,
          41,
          17,
          0,
          17,
          34
         ],
         "yaxis": "y2"
        }
       ],
       "layout": {
        "annotations": [
         {
          "font": {
           "size": 16
          },
          "showarrow": false,
          "text": "Date - Count",
          "x": 0.5,
          "xanchor": "center",
          "xref": "paper",
          "y": 1,
          "yanchor": "bottom",
          "yref": "paper"
         },
         {
          "font": {
           "size": 16
          },
          "showarrow": false,
          "text": "Date - Non-zero Revenue count",
          "x": 0.5,
          "xanchor": "center",
          "xref": "paper",
          "y": 0.46,
          "yanchor": "bottom",
          "yref": "paper"
         }
        ],
        "height": 800,
        "paper_bgcolor": "rgb(233,233,233)",
        "title": "Date Plots",
        "width": 800,
        "xaxis": {
         "anchor": "y",
         "domain": [
          0,
          1
         ]
        },
        "xaxis2": {
         "anchor": "y2",
         "domain": [
          0,
          1
         ]
        },
        "yaxis": {
         "anchor": "x",
         "domain": [
          0.54,
          1
         ]
        },
        "yaxis2": {
         "anchor": "x2",
         "domain": [
          0,
          0.46
         ]
        }
       }
      },
      "text/html": [
       "<div id=\"7770337b-ba2d-4b0b-bb37-d6f9c0cfbd37\" style=\"height: 800px; width: 800px;\" class=\"plotly-graph-div\"></div><script type=\"text/javascript\">require([\"plotly\"], function(Plotly) { window.PLOTLYENV=window.PLOTLYENV || {};window.PLOTLYENV.BASE_URL=\"https://plot.ly\";Plotly.newPlot(\"7770337b-ba2d-4b0b-bb37-d6f9c0cfbd37\", [{\"marker\": {\"color\": \"red\"}, \"showlegend\": false, \"x\": [\"2017-08-01\", \"2017-07-31\", \"2017-07-30\", \"2017-07-29\", \"2017-07-28\", \"2017-07-27\", \"2017-07-26\", \"2017-07-25\", \"2017-07-24\", \"2017-07-23\", \"2017-07-22\", \"2017-07-21\", \"2017-07-20\", \"2017-07-19\", \"2017-07-18\", \"2017-07-17\", \"2017-07-16\", \"2017-07-15\", \"2017-07-14\", \"2017-07-13\", \"2017-07-12\", \"2017-07-11\", \"2017-07-10\", \"2017-07-09\", \"2017-07-08\", \"2017-07-07\", \"2017-07-06\", \"2017-07-05\", \"2017-07-04\", \"2017-07-03\", \"2017-07-02\", \"2017-07-01\", \"2017-06-30\", \"2017-06-29\", \"2017-06-28\", \"2017-06-27\", \"2017-06-26\", \"2017-06-25\", \"2017-06-24\", \"2017-06-23\", \"2017-06-22\", \"2017-06-21\", \"2017-06-20\", \"2017-06-19\", \"2017-06-18\", \"2017-06-17\", \"2017-06-16\", \"2017-06-15\", \"2017-06-14\", \"2017-06-13\", \"2017-06-12\", \"2017-06-11\", \"2017-06-10\", \"2017-06-09\", \"2017-06-08\", \"2017-06-07\", \"2017-06-06\", \"2017-06-05\", \"2017-06-04\", \"2017-06-03\", \"2017-06-02\", \"2017-06-01\", \"2017-05-31\", \"2017-05-30\", \"2017-05-29\", \"2017-05-28\", \"2017-05-27\", \"2017-05-26\", \"2017-05-25\", \"2017-05-24\", \"2017-05-23\", \"2017-05-22\", \"2017-05-21\", \"2017-05-20\", \"2017-05-19\", \"2017-05-18\", \"2017-05-17\", \"2017-05-16\", \"2017-05-15\", \"2017-05-14\", \"2017-05-13\", \"2017-05-12\", \"2017-05-11\", \"2017-05-10\", \"2017-05-09\", \"2017-05-08\", \"2017-05-07\", \"2017-05-06\", \"2017-05-05\", \"2017-05-04\", \"2017-05-03\", \"2017-05-02\", \"2017-05-01\", \"2017-04-30\", \"2017-04-29\", \"2017-04-28\", \"2017-04-27\", \"2017-04-26\", \"2017-04-25\", \"2017-04-24\", \"2017-04-23\", \"2017-04-22\", \"2017-04-21\", \"2017-04-20\", \"2017-04-19\", \"2017-04-18\", \"2017-04-17\", \"2017-04-16\", \"2017-04-15\", \"2017-04-14\", \"2017-04-13\", \"2017-04-12\", \"2017-04-11\", \"2017-04-10\", \"2017-04-09\", \"2017-04-08\", \"2017-04-07\", \"2017-04-06\", \"2017-04-05\", \"2017-04-04\", \"2017-04-03\", \"2017-04-02\", \"2017-04-01\", \"2017-03-31\", \"2017-03-30\", \"2017-03-29\", \"2017-03-28\", \"2017-03-27\", \"2017-03-26\", \"2017-03-25\", \"2017-03-24\", \"2017-03-23\", \"2017-03-22\", \"2017-03-21\", \"2017-03-20\", \"2017-03-19\", \"2017-03-18\", \"2017-03-17\", \"2017-03-16\", \"2017-03-15\", \"2017-03-14\", \"2017-03-13\", \"2017-03-12\", \"2017-03-11\", \"2017-03-10\", \"2017-03-09\", \"2017-03-08\", \"2017-03-07\", \"2017-03-06\", \"2017-03-05\", \"2017-03-04\", \"2017-03-03\", \"2017-03-02\", \"2017-03-01\", \"2017-02-28\", \"2017-02-27\", \"2017-02-26\", \"2017-02-25\", \"2017-02-24\", \"2017-02-23\", \"2017-02-22\", \"2017-02-21\", \"2017-02-20\", \"2017-02-19\", \"2017-02-18\", \"2017-02-17\", \"2017-02-16\", \"2017-02-15\", \"2017-02-14\", \"2017-02-13\", \"2017-02-12\", \"2017-02-11\", \"2017-02-10\", \"2017-02-09\", \"2017-02-08\", \"2017-02-07\", \"2017-02-06\", \"2017-02-05\", \"2017-02-04\", \"2017-02-03\", \"2017-02-02\", \"2017-02-01\", \"2017-01-31\", \"2017-01-30\", \"2017-01-29\", \"2017-01-28\", \"2017-01-27\", \"2017-01-26\", \"2017-01-25\", \"2017-01-24\", \"2017-01-23\", \"2017-01-22\", \"2017-01-21\", \"2017-01-20\", \"2017-01-19\", \"2017-01-18\", \"2017-01-17\", \"2017-01-16\", \"2017-01-15\", \"2017-01-14\", \"2017-01-13\", \"2017-01-12\", \"2017-01-11\", \"2017-01-10\", \"2017-01-09\", \"2017-01-08\", \"2017-01-07\", \"2017-01-06\", \"2017-01-05\", \"2017-01-04\", \"2017-01-03\", \"2017-01-02\", \"2017-01-01\", \"2016-12-31\", \"2016-12-30\", \"2016-12-29\", \"2016-12-28\", \"2016-12-27\", \"2016-12-26\", \"2016-12-25\", \"2016-12-24\", \"2016-12-23\", \"2016-12-22\", \"2016-12-21\", \"2016-12-20\", \"2016-12-19\", \"2016-12-18\", \"2016-12-17\", \"2016-12-16\", \"2016-12-15\", \"2016-12-14\", \"2016-12-13\", \"2016-12-12\", \"2016-12-11\", \"2016-12-10\", \"2016-12-09\", \"2016-12-08\", \"2016-12-07\", \"2016-12-06\", \"2016-12-05\", \"2016-12-04\", \"2016-12-03\", \"2016-12-02\", \"2016-12-01\", \"2016-11-30\", \"2016-11-29\", \"2016-11-28\", \"2016-11-27\", \"2016-11-26\", \"2016-11-25\", \"2016-11-24\", \"2016-11-23\", \"2016-11-22\", \"2016-11-21\", \"2016-11-20\", \"2016-11-19\", \"2016-11-18\", \"2016-11-17\", \"2016-11-16\", \"2016-11-15\", \"2016-11-14\", \"2016-11-13\", \"2016-11-12\", \"2016-11-11\", \"2016-11-10\", \"2016-11-09\", \"2016-11-08\", \"2016-11-07\", \"2016-11-06\", \"2016-11-05\", \"2016-11-04\", \"2016-11-03\", \"2016-11-02\", \"2016-11-01\", \"2016-10-31\", \"2016-10-30\", \"2016-10-29\", \"2016-10-28\", \"2016-10-27\", \"2016-10-26\", \"2016-10-25\", \"2016-10-24\", \"2016-10-23\", \"2016-10-22\", \"2016-10-21\", \"2016-10-20\", \"2016-10-19\", \"2016-10-18\", \"2016-10-17\", \"2016-10-16\", \"2016-10-15\", \"2016-10-14\", \"2016-10-13\", \"2016-10-12\", \"2016-10-11\", \"2016-10-10\", \"2016-10-09\", \"2016-10-08\", \"2016-10-07\", \"2016-10-06\", \"2016-10-05\", \"2016-10-04\", \"2016-10-03\", \"2016-10-02\", \"2016-10-01\", \"2016-09-30\", \"2016-09-29\", \"2016-09-28\", \"2016-09-27\", \"2016-09-26\", \"2016-09-25\", \"2016-09-24\", \"2016-09-23\", \"2016-09-22\", \"2016-09-21\", \"2016-09-20\", \"2016-09-19\", \"2016-09-18\", \"2016-09-17\", \"2016-09-16\", \"2016-09-15\", \"2016-09-14\", \"2016-09-13\", \"2016-09-12\", \"2016-09-11\", \"2016-09-10\", \"2016-09-09\", \"2016-09-08\", \"2016-09-07\", \"2016-09-06\", \"2016-09-05\", \"2016-09-04\", \"2016-09-03\", \"2016-09-02\", \"2016-09-01\", \"2016-08-31\", \"2016-08-30\", \"2016-08-29\", \"2016-08-28\", \"2016-08-27\", \"2016-08-26\", \"2016-08-25\", \"2016-08-24\", \"2016-08-23\", \"2016-08-22\", \"2016-08-21\", \"2016-08-20\", \"2016-08-19\", \"2016-08-18\", \"2016-08-17\", \"2016-08-16\", \"2016-08-15\", \"2016-08-14\", \"2016-08-13\", \"2016-08-12\", \"2016-08-11\", \"2016-08-10\", \"2016-08-09\", \"2016-08-08\", \"2016-08-07\", \"2016-08-06\", \"2016-08-05\", \"2016-08-04\", \"2016-08-03\", \"2016-08-02\", \"2016-08-01\"], \"y\": [2556, 2620, 1799, 1597, 2433, 2529, 2725, 2631, 2436, 1966, 1724, 2427, 2668, 2514, 2804, 2671, 1766, 1721, 2382, 2741, 2554, 2635, 2769, 1921, 1859, 2450, 2658, 2885, 1938, 2046, 1895, 2048, 2499, 2709, 2687, 2789, 2226, 1597, 1510, 2095, 2258, 2357, 2143, 2142, 1432, 1391, 2028, 2237, 2517, 2181, 2361, 1555, 1545, 1927, 2280, 2279, 2391, 2493, 1534, 1399, 2190, 2826, 2292, 2199, 1745, 1463, 1502, 2009, 2228, 2406, 2129, 2248, 1645, 1855, 2223, 2715, 3117, 3098, 2360, 1290, 1251, 1932, 2218, 2024, 2108, 2025, 1400, 1383, 1960, 2806, 2588, 2564, 2588, 1594, 1566, 2411, 2838, 4224, 2354, 2263, 1548, 1612, 2210, 2374, 2397, 2391, 2279, 1507, 1506, 1834, 2300, 2341, 2464, 2563, 1766, 1829, 2297, 2647, 2619, 2978, 2383, 1861, 2170, 2268, 2731, 2525, 2577, 2525, 1768, 1712, 2374, 2847, 2582, 2611, 2383, 1776, 1610, 2129, 2409, 2486, 2338, 2537, 1781, 1707, 2194, 2231, 2449, 2586, 2396, 1827, 1753, 2162, 2267, 2390, 2347, 2352, 1643, 1638, 2093, 2364, 2477, 2582, 2374, 2187, 1755, 2785, 2539, 2629, 2379, 2266, 1790, 1761, 2199, 2678, 2570, 2476, 2238, 1522, 1549, 2182, 2372, 2445, 2229, 2392, 1814, 1614, 1969, 2209, 2986, 3618, 2262, 1700, 1685, 2074, 2083, 2245, 2443, 1906, 1576, 1526, 1967, 2203, 2185, 2268, 2308, 1637, 1615, 2210, 2193, 2390, 2403, 1620, 1364, 1211, 1232, 1647, 1763, 1855, 1586, 1386, 1231, 1604, 2100, 2594, 3110, 3222, 2128, 2324, 2956, 2937, 3040, 3166, 3433, 2208, 2207, 2830, 3013, 2840, 3021, 4265, 3220, 3044, 3751, 4200, 4435, 4337, 4807, 3356, 3213, 3759, 3770, 3805, 3942, 4143, 3247, 2984, 3654, 4074, 4334, 4685, 4466, 3144, 3119, 3588, 4055, 3752, 3899, 3832, 3232, 3042, 3596, 4014, 3960, 3728, 3827, 3086, 2964, 3791, 4162, 4375, 3842, 4063, 2971, 3029, 3419, 3755, 3544, 3628, 3397, 2649, 2495, 2838, 2964, 2871, 2850, 2911, 2134, 2114, 2892, 3016, 3770, 4322, 2514, 1724, 1589, 2303, 2597, 2535, 2727, 2776, 1877, 1845, 2381, 2581, 2720, 2760, 2689, 1822, 1853, 2603, 2949, 2652, 2396, 2465, 1725, 1671, 2549, 2628, 2562, 2508, 2125, 1692, 1741, 2613, 2687, 3223, 2675, 2454, 1682, 1654, 2359, 2539, 2627, 2754, 2584, 1730, 1664, 2379, 2725, 2799, 2873, 3043, 1801, 1596, 2619, 2667, 2757, 2851, 2815, 1622, 1663, 2702, 3161, 2890, 2140, 1711], \"type\": \"scatter\", \"uid\": \"a1e5fd48-af74-4e8e-8303-5cc7ef586da7\", \"xaxis\": \"x\", \"yaxis\": \"y\"}, {\"marker\": {\"color\": \"blue\"}, \"showlegend\": false, \"x\": [\"2017-08-01\", \"2017-07-31\", \"2017-07-30\", \"2017-07-29\", \"2017-07-28\", \"2017-07-27\", \"2017-07-26\", \"2017-07-25\", \"2017-07-24\", \"2017-07-23\", \"2017-07-22\", \"2017-07-21\", \"2017-07-20\", \"2017-07-19\", \"2017-07-18\", \"2017-07-17\", \"2017-07-16\", \"2017-07-15\", \"2017-07-14\", \"2017-07-13\", \"2017-07-12\", \"2017-07-11\", \"2017-07-10\", \"2017-07-09\", \"2017-07-08\", \"2017-07-07\", \"2017-07-06\", \"2017-07-05\", \"2017-07-04\", \"2017-07-03\", \"2017-07-02\", \"2017-07-01\", \"2017-06-30\", \"2017-06-29\", \"2017-06-28\", \"2017-06-27\", \"2017-06-26\", \"2017-06-25\", \"2017-06-24\", \"2017-06-23\", \"2017-06-22\", \"2017-06-21\", \"2017-06-20\", \"2017-06-19\", \"2017-06-18\", \"2017-06-17\", \"2017-06-16\", \"2017-06-15\", \"2017-06-14\", \"2017-06-13\", \"2017-06-12\", \"2017-06-11\", \"2017-06-10\", \"2017-06-09\", \"2017-06-08\", \"2017-06-07\", \"2017-06-06\", \"2017-06-05\", \"2017-06-04\", \"2017-06-03\", \"2017-06-02\", \"2017-06-01\", \"2017-05-31\", \"2017-05-30\", \"2017-05-29\", \"2017-05-28\", \"2017-05-27\", \"2017-05-26\", \"2017-05-25\", \"2017-05-24\", \"2017-05-23\", \"2017-05-22\", \"2017-05-21\", \"2017-05-20\", \"2017-05-19\", \"2017-05-18\", \"2017-05-17\", \"2017-05-16\", \"2017-05-15\", \"2017-05-14\", \"2017-05-13\", \"2017-05-12\", \"2017-05-11\", \"2017-05-10\", \"2017-05-09\", \"2017-05-08\", \"2017-05-07\", \"2017-05-06\", \"2017-05-05\", \"2017-05-04\", \"2017-05-03\", \"2017-05-02\", \"2017-05-01\", \"2017-04-30\", \"2017-04-29\", \"2017-04-28\", \"2017-04-27\", \"2017-04-26\", \"2017-04-25\", \"2017-04-24\", \"2017-04-23\", \"2017-04-22\", \"2017-04-21\", \"2017-04-20\", \"2017-04-19\", \"2017-04-18\", \"2017-04-17\", \"2017-04-16\", \"2017-04-15\", \"2017-04-14\", \"2017-04-13\", \"2017-04-12\", \"2017-04-11\", \"2017-04-10\", \"2017-04-09\", \"2017-04-08\", \"2017-04-07\", \"2017-04-06\", \"2017-04-05\", \"2017-04-04\", \"2017-04-03\", \"2017-04-02\", \"2017-04-01\", \"2017-03-31\", \"2017-03-30\", \"2017-03-29\", \"2017-03-28\", \"2017-03-27\", \"2017-03-26\", \"2017-03-25\", \"2017-03-24\", \"2017-03-23\", \"2017-03-22\", \"2017-03-21\", \"2017-03-20\", \"2017-03-19\", \"2017-03-18\", \"2017-03-17\", \"2017-03-16\", \"2017-03-15\", \"2017-03-14\", \"2017-03-13\", \"2017-03-12\", \"2017-03-11\", \"2017-03-10\", \"2017-03-09\", \"2017-03-08\", \"2017-03-07\", \"2017-03-06\", \"2017-03-05\", \"2017-03-04\", \"2017-03-03\", \"2017-03-02\", \"2017-03-01\", \"2017-02-28\", \"2017-02-27\", \"2017-02-26\", \"2017-02-25\", \"2017-02-24\", \"2017-02-23\", \"2017-02-22\", \"2017-02-21\", \"2017-02-20\", \"2017-02-19\", \"2017-02-18\", \"2017-02-17\", \"2017-02-16\", \"2017-02-15\", \"2017-02-14\", \"2017-02-13\", \"2017-02-12\", \"2017-02-11\", \"2017-02-10\", \"2017-02-09\", \"2017-02-08\", \"2017-02-07\", \"2017-02-06\", \"2017-02-05\", \"2017-02-04\", \"2017-02-03\", \"2017-02-02\", \"2017-02-01\", \"2017-01-31\", \"2017-01-30\", \"2017-01-29\", \"2017-01-28\", \"2017-01-27\", \"2017-01-26\", \"2017-01-25\", \"2017-01-24\", \"2017-01-23\", \"2017-01-22\", \"2017-01-21\", \"2017-01-20\", \"2017-01-19\", \"2017-01-18\", \"2017-01-17\", \"2017-01-16\", \"2017-01-15\", \"2017-01-14\", \"2017-01-13\", \"2017-01-12\", \"2017-01-11\", \"2017-01-10\", \"2017-01-09\", \"2017-01-08\", \"2017-01-07\", \"2017-01-06\", \"2017-01-05\", \"2017-01-04\", \"2017-01-03\", \"2017-01-02\", \"2017-01-01\", \"2016-12-31\", \"2016-12-30\", \"2016-12-29\", \"2016-12-28\", \"2016-12-27\", \"2016-12-26\", \"2016-12-25\", \"2016-12-24\", \"2016-12-23\", \"2016-12-22\", \"2016-12-21\", \"2016-12-20\", \"2016-12-19\", \"2016-12-18\", \"2016-12-17\", \"2016-12-16\", \"2016-12-15\", \"2016-12-14\", \"2016-12-13\", \"2016-12-12\", \"2016-12-11\", \"2016-12-10\", \"2016-12-09\", \"2016-12-08\", \"2016-12-07\", \"2016-12-06\", \"2016-12-05\", \"2016-12-04\", \"2016-12-03\", \"2016-12-02\", \"2016-12-01\", \"2016-11-30\", \"2016-11-29\", \"2016-11-28\", \"2016-11-27\", \"2016-11-26\", \"2016-11-25\", \"2016-11-24\", \"2016-11-23\", \"2016-11-22\", \"2016-11-21\", \"2016-11-20\", \"2016-11-19\", \"2016-11-18\", \"2016-11-17\", \"2016-11-16\", \"2016-11-15\", \"2016-11-14\", \"2016-11-13\", \"2016-11-12\", \"2016-11-11\", \"2016-11-10\", \"2016-11-09\", \"2016-11-08\", \"2016-11-07\", \"2016-11-06\", \"2016-11-05\", \"2016-11-04\", \"2016-11-03\", \"2016-11-02\", \"2016-11-01\", \"2016-10-31\", \"2016-10-30\", \"2016-10-29\", \"2016-10-28\", \"2016-10-27\", \"2016-10-26\", \"2016-10-25\", \"2016-10-24\", \"2016-10-23\", \"2016-10-22\", \"2016-10-21\", \"2016-10-20\", \"2016-10-19\", \"2016-10-18\", \"2016-10-17\", \"2016-10-16\", \"2016-10-15\", \"2016-10-14\", \"2016-10-13\", \"2016-10-12\", \"2016-10-11\", \"2016-10-10\", \"2016-10-09\", \"2016-10-08\", \"2016-10-07\", \"2016-10-06\", \"2016-10-05\", \"2016-10-04\", \"2016-10-03\", \"2016-10-02\", \"2016-10-01\", \"2016-09-30\", \"2016-09-29\", \"2016-09-28\", \"2016-09-27\", \"2016-09-26\", \"2016-09-25\", \"2016-09-24\", \"2016-09-23\", \"2016-09-22\", \"2016-09-21\", \"2016-09-20\", \"2016-09-19\", \"2016-09-18\", \"2016-09-17\", \"2016-09-16\", \"2016-09-15\", \"2016-09-14\", \"2016-09-13\", \"2016-09-12\", \"2016-09-11\", \"2016-09-10\", \"2016-09-09\", \"2016-09-08\", \"2016-09-07\", \"2016-09-06\", \"2016-09-05\", \"2016-09-04\", \"2016-09-03\", \"2016-09-02\", \"2016-09-01\", \"2016-08-31\", \"2016-08-30\", \"2016-08-29\", \"2016-08-28\", \"2016-08-27\", \"2016-08-26\", \"2016-08-25\", \"2016-08-24\", \"2016-08-23\", \"2016-08-22\", \"2016-08-21\", \"2016-08-20\", \"2016-08-19\", \"2016-08-18\", \"2016-08-17\", \"2016-08-16\", \"2016-08-15\", \"2016-08-14\", \"2016-08-13\", \"2016-08-12\", \"2016-08-11\", \"2016-08-10\", \"2016-08-09\", \"2016-08-08\", \"2016-08-07\", \"2016-08-06\", \"2016-08-05\", \"2016-08-04\", \"2016-08-03\", \"2016-08-02\", \"2016-08-01\"], \"y\": [43, 61, 22, 19, 42, 49, 41, 36, 38, 16, 17, 41, 40, 56, 50, 49, 27, 16, 44, 62, 48, 40, 44, 19, 14, 38, 30, 41, 7, 13, 8, 3, 33, 44, 31, 40, 32, 19, 10, 26, 36, 34, 35, 39, 25, 18, 36, 35, 45, 48, 61, 26, 12, 35, 24, 37, 29, 35, 15, 15, 36, 35, 39, 39, 18, 9, 16, 31, 35, 36, 32, 23, 22, 30, 39, 34, 38, 51, 37, 10, 23, 54, 44, 40, 46, 48, 11, 12, 35, 48, 70, 67, 78, 27, 20, 59, 42, 42, 33, 24, 12, 15, 42, 39, 38, 47, 37, 14, 7, 39, 37, 45, 29, 36, 10, 18, 43, 41, 32, 39, 36, 13, 12, 17, 38, 49, 44, 46, 14, 13, 30, 24, 37, 33, 35, 17, 17, 31, 29, 31, 32, 35, 11, 13, 32, 28, 24, 35, 30, 28, 26, 25, 27, 32, 29, 27, 9, 12, 25, 30, 34, 25, 21, 15, 13, 67, 32, 27, 51, 30, 16, 10, 24, 28, 24, 23, 28, 12, 14, 29, 26, 27, 39, 33, 19, 4, 21, 27, 34, 28, 27, 10, 11, 18, 27, 36, 32, 13, 6, 11, 28, 22, 17, 23, 38, 11, 8, 26, 41, 29, 29, 18, 11, 10, 13, 22, 25, 17, 15, 18, 19, 19, 33, 35, 67, 69, 38, 43, 87, 72, 65, 77, 83, 49, 37, 72, 66, 49, 70, 76, 36, 22, 41, 50, 57, 46, 73, 18, 13, 29, 15, 31, 21, 39, 13, 16, 35, 45, 33, 32, 39, 16, 15, 22, 25, 29, 44, 41, 21, 20, 37, 34, 27, 33, 28, 16, 11, 30, 40, 38, 21, 33, 28, 14, 33, 30, 29, 32, 40, 20, 9, 21, 30, 37, 43, 38, 22, 12, 39, 33, 44, 35, 35, 25, 6, 25, 32, 39, 35, 42, 18, 12, 24, 33, 39, 45, 36, 15, 8, 39, 32, 42, 21, 28, 17, 13, 39, 46, 33, 38, 16, 9, 13, 27, 43, 32, 34, 43, 22, 15, 39, 62, 47, 57, 57, 23, 21, 50, 43, 40, 59, 65, 23, 14, 71, 45, 46, 42, 34, 16, 10, 41, 17, 0, 17, 34], \"type\": \"scatter\", \"uid\": \"29716866-0a69-4366-a676-079e374e7cc7\", \"xaxis\": \"x2\", \"yaxis\": \"y2\"}], {\"annotations\": [{\"font\": {\"size\": 16}, \"showarrow\": false, \"text\": \"Date - Count\", \"x\": 0.5, \"xanchor\": \"center\", \"xref\": \"paper\", \"y\": 1.0, \"yanchor\": \"bottom\", \"yref\": \"paper\"}, {\"font\": {\"size\": 16}, \"showarrow\": false, \"text\": \"Date - Non-zero Revenue count\", \"x\": 0.5, \"xanchor\": \"center\", \"xref\": \"paper\", \"y\": 0.46, \"yanchor\": \"bottom\", \"yref\": \"paper\"}], \"xaxis\": {\"anchor\": \"y\", \"domain\": [0.0, 1.0]}, \"yaxis\": {\"anchor\": \"x\", \"domain\": [0.54, 1.0]}, \"xaxis2\": {\"anchor\": \"y2\", \"domain\": [0.0, 1.0]}, \"yaxis2\": {\"anchor\": \"x2\", \"domain\": [0.0, 0.46]}, \"height\": 800, \"width\": 800, \"paper_bgcolor\": \"rgb(233,233,233)\", \"title\": \"Date Plots\"}, {\"showLink\": true, \"linkText\": \"Export to plot.ly\", \"plotlyServerURL\": \"https://plot.ly\"})});</script>"
      ],
      "text/vnd.plotly.v1+html": [
       "<div id=\"7770337b-ba2d-4b0b-bb37-d6f9c0cfbd37\" style=\"height: 800px; width: 800px;\" class=\"plotly-graph-div\"></div><script type=\"text/javascript\">require([\"plotly\"], function(Plotly) { window.PLOTLYENV=window.PLOTLYENV || {};window.PLOTLYENV.BASE_URL=\"https://plot.ly\";Plotly.newPlot(\"7770337b-ba2d-4b0b-bb37-d6f9c0cfbd37\", [{\"marker\": {\"color\": \"red\"}, \"showlegend\": false, \"x\": [\"2017-08-01\", \"2017-07-31\", \"2017-07-30\", \"2017-07-29\", \"2017-07-28\", \"2017-07-27\", \"2017-07-26\", \"2017-07-25\", \"2017-07-24\", \"2017-07-23\", \"2017-07-22\", \"2017-07-21\", \"2017-07-20\", \"2017-07-19\", \"2017-07-18\", \"2017-07-17\", \"2017-07-16\", \"2017-07-15\", \"2017-07-14\", \"2017-07-13\", \"2017-07-12\", \"2017-07-11\", \"2017-07-10\", \"2017-07-09\", \"2017-07-08\", \"2017-07-07\", \"2017-07-06\", \"2017-07-05\", \"2017-07-04\", \"2017-07-03\", \"2017-07-02\", \"2017-07-01\", \"2017-06-30\", \"2017-06-29\", \"2017-06-28\", \"2017-06-27\", \"2017-06-26\", \"2017-06-25\", \"2017-06-24\", \"2017-06-23\", \"2017-06-22\", \"2017-06-21\", \"2017-06-20\", \"2017-06-19\", \"2017-06-18\", \"2017-06-17\", \"2017-06-16\", \"2017-06-15\", \"2017-06-14\", \"2017-06-13\", \"2017-06-12\", \"2017-06-11\", \"2017-06-10\", \"2017-06-09\", \"2017-06-08\", \"2017-06-07\", \"2017-06-06\", \"2017-06-05\", \"2017-06-04\", \"2017-06-03\", \"2017-06-02\", \"2017-06-01\", \"2017-05-31\", \"2017-05-30\", \"2017-05-29\", \"2017-05-28\", \"2017-05-27\", \"2017-05-26\", \"2017-05-25\", \"2017-05-24\", \"2017-05-23\", \"2017-05-22\", \"2017-05-21\", \"2017-05-20\", \"2017-05-19\", \"2017-05-18\", \"2017-05-17\", \"2017-05-16\", \"2017-05-15\", \"2017-05-14\", \"2017-05-13\", \"2017-05-12\", \"2017-05-11\", \"2017-05-10\", \"2017-05-09\", \"2017-05-08\", \"2017-05-07\", \"2017-05-06\", \"2017-05-05\", \"2017-05-04\", \"2017-05-03\", \"2017-05-02\", \"2017-05-01\", \"2017-04-30\", \"2017-04-29\", \"2017-04-28\", \"2017-04-27\", \"2017-04-26\", \"2017-04-25\", \"2017-04-24\", \"2017-04-23\", \"2017-04-22\", \"2017-04-21\", \"2017-04-20\", \"2017-04-19\", \"2017-04-18\", \"2017-04-17\", \"2017-04-16\", \"2017-04-15\", \"2017-04-14\", \"2017-04-13\", \"2017-04-12\", \"2017-04-11\", \"2017-04-10\", \"2017-04-09\", \"2017-04-08\", \"2017-04-07\", \"2017-04-06\", \"2017-04-05\", \"2017-04-04\", \"2017-04-03\", \"2017-04-02\", \"2017-04-01\", \"2017-03-31\", \"2017-03-30\", \"2017-03-29\", \"2017-03-28\", \"2017-03-27\", \"2017-03-26\", \"2017-03-25\", \"2017-03-24\", \"2017-03-23\", \"2017-03-22\", \"2017-03-21\", \"2017-03-20\", \"2017-03-19\", \"2017-03-18\", \"2017-03-17\", \"2017-03-16\", \"2017-03-15\", \"2017-03-14\", \"2017-03-13\", \"2017-03-12\", \"2017-03-11\", \"2017-03-10\", \"2017-03-09\", \"2017-03-08\", \"2017-03-07\", \"2017-03-06\", \"2017-03-05\", \"2017-03-04\", \"2017-03-03\", \"2017-03-02\", \"2017-03-01\", \"2017-02-28\", \"2017-02-27\", \"2017-02-26\", \"2017-02-25\", \"2017-02-24\", \"2017-02-23\", \"2017-02-22\", \"2017-02-21\", \"2017-02-20\", \"2017-02-19\", \"2017-02-18\", \"2017-02-17\", \"2017-02-16\", \"2017-02-15\", \"2017-02-14\", \"2017-02-13\", \"2017-02-12\", \"2017-02-11\", \"2017-02-10\", \"2017-02-09\", \"2017-02-08\", \"2017-02-07\", \"2017-02-06\", \"2017-02-05\", \"2017-02-04\", \"2017-02-03\", \"2017-02-02\", \"2017-02-01\", \"2017-01-31\", \"2017-01-30\", \"2017-01-29\", \"2017-01-28\", \"2017-01-27\", \"2017-01-26\", \"2017-01-25\", \"2017-01-24\", \"2017-01-23\", \"2017-01-22\", \"2017-01-21\", \"2017-01-20\", \"2017-01-19\", \"2017-01-18\", \"2017-01-17\", \"2017-01-16\", \"2017-01-15\", \"2017-01-14\", \"2017-01-13\", \"2017-01-12\", \"2017-01-11\", \"2017-01-10\", \"2017-01-09\", \"2017-01-08\", \"2017-01-07\", \"2017-01-06\", \"2017-01-05\", \"2017-01-04\", \"2017-01-03\", \"2017-01-02\", \"2017-01-01\", \"2016-12-31\", \"2016-12-30\", \"2016-12-29\", \"2016-12-28\", \"2016-12-27\", \"2016-12-26\", \"2016-12-25\", \"2016-12-24\", \"2016-12-23\", \"2016-12-22\", \"2016-12-21\", \"2016-12-20\", \"2016-12-19\", \"2016-12-18\", \"2016-12-17\", \"2016-12-16\", \"2016-12-15\", \"2016-12-14\", \"2016-12-13\", \"2016-12-12\", \"2016-12-11\", \"2016-12-10\", \"2016-12-09\", \"2016-12-08\", \"2016-12-07\", \"2016-12-06\", \"2016-12-05\", \"2016-12-04\", \"2016-12-03\", \"2016-12-02\", \"2016-12-01\", \"2016-11-30\", \"2016-11-29\", \"2016-11-28\", \"2016-11-27\", \"2016-11-26\", \"2016-11-25\", \"2016-11-24\", \"2016-11-23\", \"2016-11-22\", \"2016-11-21\", \"2016-11-20\", \"2016-11-19\", \"2016-11-18\", \"2016-11-17\", \"2016-11-16\", \"2016-11-15\", \"2016-11-14\", \"2016-11-13\", \"2016-11-12\", \"2016-11-11\", \"2016-11-10\", \"2016-11-09\", \"2016-11-08\", \"2016-11-07\", \"2016-11-06\", \"2016-11-05\", \"2016-11-04\", \"2016-11-03\", \"2016-11-02\", \"2016-11-01\", \"2016-10-31\", \"2016-10-30\", \"2016-10-29\", \"2016-10-28\", \"2016-10-27\", \"2016-10-26\", \"2016-10-25\", \"2016-10-24\", \"2016-10-23\", \"2016-10-22\", \"2016-10-21\", \"2016-10-20\", \"2016-10-19\", \"2016-10-18\", \"2016-10-17\", \"2016-10-16\", \"2016-10-15\", \"2016-10-14\", \"2016-10-13\", \"2016-10-12\", \"2016-10-11\", \"2016-10-10\", \"2016-10-09\", \"2016-10-08\", \"2016-10-07\", \"2016-10-06\", \"2016-10-05\", \"2016-10-04\", \"2016-10-03\", \"2016-10-02\", \"2016-10-01\", \"2016-09-30\", \"2016-09-29\", \"2016-09-28\", \"2016-09-27\", \"2016-09-26\", \"2016-09-25\", \"2016-09-24\", \"2016-09-23\", \"2016-09-22\", \"2016-09-21\", \"2016-09-20\", \"2016-09-19\", \"2016-09-18\", \"2016-09-17\", \"2016-09-16\", \"2016-09-15\", \"2016-09-14\", \"2016-09-13\", \"2016-09-12\", \"2016-09-11\", \"2016-09-10\", \"2016-09-09\", \"2016-09-08\", \"2016-09-07\", \"2016-09-06\", \"2016-09-05\", \"2016-09-04\", \"2016-09-03\", \"2016-09-02\", \"2016-09-01\", \"2016-08-31\", \"2016-08-30\", \"2016-08-29\", \"2016-08-28\", \"2016-08-27\", \"2016-08-26\", \"2016-08-25\", \"2016-08-24\", \"2016-08-23\", \"2016-08-22\", \"2016-08-21\", \"2016-08-20\", \"2016-08-19\", \"2016-08-18\", \"2016-08-17\", \"2016-08-16\", \"2016-08-15\", \"2016-08-14\", \"2016-08-13\", \"2016-08-12\", \"2016-08-11\", \"2016-08-10\", \"2016-08-09\", \"2016-08-08\", \"2016-08-07\", \"2016-08-06\", \"2016-08-05\", \"2016-08-04\", \"2016-08-03\", \"2016-08-02\", \"2016-08-01\"], \"y\": [2556, 2620, 1799, 1597, 2433, 2529, 2725, 2631, 2436, 1966, 1724, 2427, 2668, 2514, 2804, 2671, 1766, 1721, 2382, 2741, 2554, 2635, 2769, 1921, 1859, 2450, 2658, 2885, 1938, 2046, 1895, 2048, 2499, 2709, 2687, 2789, 2226, 1597, 1510, 2095, 2258, 2357, 2143, 2142, 1432, 1391, 2028, 2237, 2517, 2181, 2361, 1555, 1545, 1927, 2280, 2279, 2391, 2493, 1534, 1399, 2190, 2826, 2292, 2199, 1745, 1463, 1502, 2009, 2228, 2406, 2129, 2248, 1645, 1855, 2223, 2715, 3117, 3098, 2360, 1290, 1251, 1932, 2218, 2024, 2108, 2025, 1400, 1383, 1960, 2806, 2588, 2564, 2588, 1594, 1566, 2411, 2838, 4224, 2354, 2263, 1548, 1612, 2210, 2374, 2397, 2391, 2279, 1507, 1506, 1834, 2300, 2341, 2464, 2563, 1766, 1829, 2297, 2647, 2619, 2978, 2383, 1861, 2170, 2268, 2731, 2525, 2577, 2525, 1768, 1712, 2374, 2847, 2582, 2611, 2383, 1776, 1610, 2129, 2409, 2486, 2338, 2537, 1781, 1707, 2194, 2231, 2449, 2586, 2396, 1827, 1753, 2162, 2267, 2390, 2347, 2352, 1643, 1638, 2093, 2364, 2477, 2582, 2374, 2187, 1755, 2785, 2539, 2629, 2379, 2266, 1790, 1761, 2199, 2678, 2570, 2476, 2238, 1522, 1549, 2182, 2372, 2445, 2229, 2392, 1814, 1614, 1969, 2209, 2986, 3618, 2262, 1700, 1685, 2074, 2083, 2245, 2443, 1906, 1576, 1526, 1967, 2203, 2185, 2268, 2308, 1637, 1615, 2210, 2193, 2390, 2403, 1620, 1364, 1211, 1232, 1647, 1763, 1855, 1586, 1386, 1231, 1604, 2100, 2594, 3110, 3222, 2128, 2324, 2956, 2937, 3040, 3166, 3433, 2208, 2207, 2830, 3013, 2840, 3021, 4265, 3220, 3044, 3751, 4200, 4435, 4337, 4807, 3356, 3213, 3759, 3770, 3805, 3942, 4143, 3247, 2984, 3654, 4074, 4334, 4685, 4466, 3144, 3119, 3588, 4055, 3752, 3899, 3832, 3232, 3042, 3596, 4014, 3960, 3728, 3827, 3086, 2964, 3791, 4162, 4375, 3842, 4063, 2971, 3029, 3419, 3755, 3544, 3628, 3397, 2649, 2495, 2838, 2964, 2871, 2850, 2911, 2134, 2114, 2892, 3016, 3770, 4322, 2514, 1724, 1589, 2303, 2597, 2535, 2727, 2776, 1877, 1845, 2381, 2581, 2720, 2760, 2689, 1822, 1853, 2603, 2949, 2652, 2396, 2465, 1725, 1671, 2549, 2628, 2562, 2508, 2125, 1692, 1741, 2613, 2687, 3223, 2675, 2454, 1682, 1654, 2359, 2539, 2627, 2754, 2584, 1730, 1664, 2379, 2725, 2799, 2873, 3043, 1801, 1596, 2619, 2667, 2757, 2851, 2815, 1622, 1663, 2702, 3161, 2890, 2140, 1711], \"type\": \"scatter\", \"uid\": \"a1e5fd48-af74-4e8e-8303-5cc7ef586da7\", \"xaxis\": \"x\", \"yaxis\": \"y\"}, {\"marker\": {\"color\": \"blue\"}, \"showlegend\": false, \"x\": [\"2017-08-01\", \"2017-07-31\", \"2017-07-30\", \"2017-07-29\", \"2017-07-28\", \"2017-07-27\", \"2017-07-26\", \"2017-07-25\", \"2017-07-24\", \"2017-07-23\", \"2017-07-22\", \"2017-07-21\", \"2017-07-20\", \"2017-07-19\", \"2017-07-18\", \"2017-07-17\", \"2017-07-16\", \"2017-07-15\", \"2017-07-14\", \"2017-07-13\", \"2017-07-12\", \"2017-07-11\", \"2017-07-10\", \"2017-07-09\", \"2017-07-08\", \"2017-07-07\", \"2017-07-06\", \"2017-07-05\", \"2017-07-04\", \"2017-07-03\", \"2017-07-02\", \"2017-07-01\", \"2017-06-30\", \"2017-06-29\", \"2017-06-28\", \"2017-06-27\", \"2017-06-26\", \"2017-06-25\", \"2017-06-24\", \"2017-06-23\", \"2017-06-22\", \"2017-06-21\", \"2017-06-20\", \"2017-06-19\", \"2017-06-18\", \"2017-06-17\", \"2017-06-16\", \"2017-06-15\", \"2017-06-14\", \"2017-06-13\", \"2017-06-12\", \"2017-06-11\", \"2017-06-10\", \"2017-06-09\", \"2017-06-08\", \"2017-06-07\", \"2017-06-06\", \"2017-06-05\", \"2017-06-04\", \"2017-06-03\", \"2017-06-02\", \"2017-06-01\", \"2017-05-31\", \"2017-05-30\", \"2017-05-29\", \"2017-05-28\", \"2017-05-27\", \"2017-05-26\", \"2017-05-25\", \"2017-05-24\", \"2017-05-23\", \"2017-05-22\", \"2017-05-21\", \"2017-05-20\", \"2017-05-19\", \"2017-05-18\", \"2017-05-17\", \"2017-05-16\", \"2017-05-15\", \"2017-05-14\", \"2017-05-13\", \"2017-05-12\", \"2017-05-11\", \"2017-05-10\", \"2017-05-09\", \"2017-05-08\", \"2017-05-07\", \"2017-05-06\", \"2017-05-05\", \"2017-05-04\", \"2017-05-03\", \"2017-05-02\", \"2017-05-01\", \"2017-04-30\", \"2017-04-29\", \"2017-04-28\", \"2017-04-27\", \"2017-04-26\", \"2017-04-25\", \"2017-04-24\", \"2017-04-23\", \"2017-04-22\", \"2017-04-21\", \"2017-04-20\", \"2017-04-19\", \"2017-04-18\", \"2017-04-17\", \"2017-04-16\", \"2017-04-15\", \"2017-04-14\", \"2017-04-13\", \"2017-04-12\", \"2017-04-11\", \"2017-04-10\", \"2017-04-09\", \"2017-04-08\", \"2017-04-07\", \"2017-04-06\", \"2017-04-05\", \"2017-04-04\", \"2017-04-03\", \"2017-04-02\", \"2017-04-01\", \"2017-03-31\", \"2017-03-30\", \"2017-03-29\", \"2017-03-28\", \"2017-03-27\", \"2017-03-26\", \"2017-03-25\", \"2017-03-24\", \"2017-03-23\", \"2017-03-22\", \"2017-03-21\", \"2017-03-20\", \"2017-03-19\", \"2017-03-18\", \"2017-03-17\", \"2017-03-16\", \"2017-03-15\", \"2017-03-14\", \"2017-03-13\", \"2017-03-12\", \"2017-03-11\", \"2017-03-10\", \"2017-03-09\", \"2017-03-08\", \"2017-03-07\", \"2017-03-06\", \"2017-03-05\", \"2017-03-04\", \"2017-03-03\", \"2017-03-02\", \"2017-03-01\", \"2017-02-28\", \"2017-02-27\", \"2017-02-26\", \"2017-02-25\", \"2017-02-24\", \"2017-02-23\", \"2017-02-22\", \"2017-02-21\", \"2017-02-20\", \"2017-02-19\", \"2017-02-18\", \"2017-02-17\", \"2017-02-16\", \"2017-02-15\", \"2017-02-14\", \"2017-02-13\", \"2017-02-12\", \"2017-02-11\", \"2017-02-10\", \"2017-02-09\", \"2017-02-08\", \"2017-02-07\", \"2017-02-06\", \"2017-02-05\", \"2017-02-04\", \"2017-02-03\", \"2017-02-02\", \"2017-02-01\", \"2017-01-31\", \"2017-01-30\", \"2017-01-29\", \"2017-01-28\", \"2017-01-27\", \"2017-01-26\", \"2017-01-25\", \"2017-01-24\", \"2017-01-23\", \"2017-01-22\", \"2017-01-21\", \"2017-01-20\", \"2017-01-19\", \"2017-01-18\", \"2017-01-17\", \"2017-01-16\", \"2017-01-15\", \"2017-01-14\", \"2017-01-13\", \"2017-01-12\", \"2017-01-11\", \"2017-01-10\", \"2017-01-09\", \"2017-01-08\", \"2017-01-07\", \"2017-01-06\", \"2017-01-05\", \"2017-01-04\", \"2017-01-03\", \"2017-01-02\", \"2017-01-01\", \"2016-12-31\", \"2016-12-30\", \"2016-12-29\", \"2016-12-28\", \"2016-12-27\", \"2016-12-26\", \"2016-12-25\", \"2016-12-24\", \"2016-12-23\", \"2016-12-22\", \"2016-12-21\", \"2016-12-20\", \"2016-12-19\", \"2016-12-18\", \"2016-12-17\", \"2016-12-16\", \"2016-12-15\", \"2016-12-14\", \"2016-12-13\", \"2016-12-12\", \"2016-12-11\", \"2016-12-10\", \"2016-12-09\", \"2016-12-08\", \"2016-12-07\", \"2016-12-06\", \"2016-12-05\", \"2016-12-04\", \"2016-12-03\", \"2016-12-02\", \"2016-12-01\", \"2016-11-30\", \"2016-11-29\", \"2016-11-28\", \"2016-11-27\", \"2016-11-26\", \"2016-11-25\", \"2016-11-24\", \"2016-11-23\", \"2016-11-22\", \"2016-11-21\", \"2016-11-20\", \"2016-11-19\", \"2016-11-18\", \"2016-11-17\", \"2016-11-16\", \"2016-11-15\", \"2016-11-14\", \"2016-11-13\", \"2016-11-12\", \"2016-11-11\", \"2016-11-10\", \"2016-11-09\", \"2016-11-08\", \"2016-11-07\", \"2016-11-06\", \"2016-11-05\", \"2016-11-04\", \"2016-11-03\", \"2016-11-02\", \"2016-11-01\", \"2016-10-31\", \"2016-10-30\", \"2016-10-29\", \"2016-10-28\", \"2016-10-27\", \"2016-10-26\", \"2016-10-25\", \"2016-10-24\", \"2016-10-23\", \"2016-10-22\", \"2016-10-21\", \"2016-10-20\", \"2016-10-19\", \"2016-10-18\", \"2016-10-17\", \"2016-10-16\", \"2016-10-15\", \"2016-10-14\", \"2016-10-13\", \"2016-10-12\", \"2016-10-11\", \"2016-10-10\", \"2016-10-09\", \"2016-10-08\", \"2016-10-07\", \"2016-10-06\", \"2016-10-05\", \"2016-10-04\", \"2016-10-03\", \"2016-10-02\", \"2016-10-01\", \"2016-09-30\", \"2016-09-29\", \"2016-09-28\", \"2016-09-27\", \"2016-09-26\", \"2016-09-25\", \"2016-09-24\", \"2016-09-23\", \"2016-09-22\", \"2016-09-21\", \"2016-09-20\", \"2016-09-19\", \"2016-09-18\", \"2016-09-17\", \"2016-09-16\", \"2016-09-15\", \"2016-09-14\", \"2016-09-13\", \"2016-09-12\", \"2016-09-11\", \"2016-09-10\", \"2016-09-09\", \"2016-09-08\", \"2016-09-07\", \"2016-09-06\", \"2016-09-05\", \"2016-09-04\", \"2016-09-03\", \"2016-09-02\", \"2016-09-01\", \"2016-08-31\", \"2016-08-30\", \"2016-08-29\", \"2016-08-28\", \"2016-08-27\", \"2016-08-26\", \"2016-08-25\", \"2016-08-24\", \"2016-08-23\", \"2016-08-22\", \"2016-08-21\", \"2016-08-20\", \"2016-08-19\", \"2016-08-18\", \"2016-08-17\", \"2016-08-16\", \"2016-08-15\", \"2016-08-14\", \"2016-08-13\", \"2016-08-12\", \"2016-08-11\", \"2016-08-10\", \"2016-08-09\", \"2016-08-08\", \"2016-08-07\", \"2016-08-06\", \"2016-08-05\", \"2016-08-04\", \"2016-08-03\", \"2016-08-02\", \"2016-08-01\"], \"y\": [43, 61, 22, 19, 42, 49, 41, 36, 38, 16, 17, 41, 40, 56, 50, 49, 27, 16, 44, 62, 48, 40, 44, 19, 14, 38, 30, 41, 7, 13, 8, 3, 33, 44, 31, 40, 32, 19, 10, 26, 36, 34, 35, 39, 25, 18, 36, 35, 45, 48, 61, 26, 12, 35, 24, 37, 29, 35, 15, 15, 36, 35, 39, 39, 18, 9, 16, 31, 35, 36, 32, 23, 22, 30, 39, 34, 38, 51, 37, 10, 23, 54, 44, 40, 46, 48, 11, 12, 35, 48, 70, 67, 78, 27, 20, 59, 42, 42, 33, 24, 12, 15, 42, 39, 38, 47, 37, 14, 7, 39, 37, 45, 29, 36, 10, 18, 43, 41, 32, 39, 36, 13, 12, 17, 38, 49, 44, 46, 14, 13, 30, 24, 37, 33, 35, 17, 17, 31, 29, 31, 32, 35, 11, 13, 32, 28, 24, 35, 30, 28, 26, 25, 27, 32, 29, 27, 9, 12, 25, 30, 34, 25, 21, 15, 13, 67, 32, 27, 51, 30, 16, 10, 24, 28, 24, 23, 28, 12, 14, 29, 26, 27, 39, 33, 19, 4, 21, 27, 34, 28, 27, 10, 11, 18, 27, 36, 32, 13, 6, 11, 28, 22, 17, 23, 38, 11, 8, 26, 41, 29, 29, 18, 11, 10, 13, 22, 25, 17, 15, 18, 19, 19, 33, 35, 67, 69, 38, 43, 87, 72, 65, 77, 83, 49, 37, 72, 66, 49, 70, 76, 36, 22, 41, 50, 57, 46, 73, 18, 13, 29, 15, 31, 21, 39, 13, 16, 35, 45, 33, 32, 39, 16, 15, 22, 25, 29, 44, 41, 21, 20, 37, 34, 27, 33, 28, 16, 11, 30, 40, 38, 21, 33, 28, 14, 33, 30, 29, 32, 40, 20, 9, 21, 30, 37, 43, 38, 22, 12, 39, 33, 44, 35, 35, 25, 6, 25, 32, 39, 35, 42, 18, 12, 24, 33, 39, 45, 36, 15, 8, 39, 32, 42, 21, 28, 17, 13, 39, 46, 33, 38, 16, 9, 13, 27, 43, 32, 34, 43, 22, 15, 39, 62, 47, 57, 57, 23, 21, 50, 43, 40, 59, 65, 23, 14, 71, 45, 46, 42, 34, 16, 10, 41, 17, 0, 17, 34], \"type\": \"scatter\", \"uid\": \"29716866-0a69-4366-a676-079e374e7cc7\", \"xaxis\": \"x2\", \"yaxis\": \"y2\"}], {\"annotations\": [{\"font\": {\"size\": 16}, \"showarrow\": false, \"text\": \"Date - Count\", \"x\": 0.5, \"xanchor\": \"center\", \"xref\": \"paper\", \"y\": 1.0, \"yanchor\": \"bottom\", \"yref\": \"paper\"}, {\"font\": {\"size\": 16}, \"showarrow\": false, \"text\": \"Date - Non-zero Revenue count\", \"x\": 0.5, \"xanchor\": \"center\", \"xref\": \"paper\", \"y\": 0.46, \"yanchor\": \"bottom\", \"yref\": \"paper\"}], \"xaxis\": {\"anchor\": \"y\", \"domain\": [0.0, 1.0]}, \"yaxis\": {\"anchor\": \"x\", \"domain\": [0.54, 1.0]}, \"xaxis2\": {\"anchor\": \"y2\", \"domain\": [0.0, 1.0]}, \"yaxis2\": {\"anchor\": \"x2\", \"domain\": [0.0, 0.46]}, \"height\": 800, \"width\": 800, \"paper_bgcolor\": \"rgb(233,233,233)\", \"title\": \"Date Plots\"}, {\"showLink\": true, \"linkText\": \"Export to plot.ly\", \"plotlyServerURL\": \"https://plot.ly\"})});</script>"
      ]
     },
     "metadata": {},
     "output_type": "display_data"
    }
   ],
   "source": [
    "fig['layout'].update(height=800, width=800, paper_bgcolor='rgb(233,233,233)', title=\"Date Plots\")\n",
    "py.iplot(fig, filename='date-plots')"
   ]
  },
  {
   "cell_type": "markdown",
   "metadata": {},
   "source": [
    "#### From the above analysis we can see that\n",
    "-  We have data from 1 Aug, 2016 to 31 July, 2017 in our training dataset\n",
    "-  In Nov 2016, though there is an increase in the count of visitors, there is no increase in non-zero revenue counts during that time period (relative to the mean)."
   ]
  },
  {
   "cell_type": "markdown",
   "metadata": {},
   "source": [
    "#### Test set"
   ]
  },
  {
   "cell_type": "code",
   "execution_count": 65,
   "metadata": {},
   "outputs": [],
   "source": [
    "test_df['date'] = test_df['date'].apply(lambda x: datetime.date(int(str(x)[:4]), int(str(x)[4:6]), int(str(x)[6:])))"
   ]
  },
  {
   "cell_type": "code",
   "execution_count": 66,
   "metadata": {},
   "outputs": [],
   "source": [
    "count = test_df.groupby('date')['fullVisitorId'].size()"
   ]
  },
  {
   "cell_type": "code",
   "execution_count": 67,
   "metadata": {},
   "outputs": [],
   "source": [
    "graph = scatter_plot(count, 'red')"
   ]
  },
  {
   "cell_type": "code",
   "execution_count": 68,
   "metadata": {},
   "outputs": [],
   "source": [
    "layout = go.Layout(\n",
    "    height=400,\n",
    "    width=800,\n",
    "    paper_bgcolor='rgb(233,233,233)',\n",
    "    title='Dates in Test set'\n",
    ")"
   ]
  },
  {
   "cell_type": "code",
   "execution_count": 69,
   "metadata": {},
   "outputs": [],
   "source": [
    "data = [graph]"
   ]
  },
  {
   "cell_type": "code",
   "execution_count": 70,
   "metadata": {},
   "outputs": [
    {
     "data": {
      "application/vnd.plotly.v1+json": {
       "config": {
        "linkText": "Export to plot.ly",
        "plotlyServerURL": "https://plot.ly",
        "showLink": true
       },
       "data": [
        {
         "marker": {
          "color": "red"
         },
         "showlegend": false,
         "type": "scatter",
         "uid": "8da02f61-68f1-4ec0-bec5-2018fe95c84a",
         "x": [
          "2018-04-30",
          "2018-04-29",
          "2018-04-28",
          "2018-04-27",
          "2018-04-26",
          "2018-04-25",
          "2018-04-24",
          "2018-04-23",
          "2018-04-22",
          "2018-04-21",
          "2018-04-20",
          "2018-04-19",
          "2018-04-18",
          "2018-04-17",
          "2018-04-16",
          "2018-04-15",
          "2018-04-14",
          "2018-04-13",
          "2018-04-12",
          "2018-04-11",
          "2018-04-10",
          "2018-04-09",
          "2018-04-08",
          "2018-04-07",
          "2018-04-06",
          "2018-04-05",
          "2018-04-04",
          "2018-04-03",
          "2018-04-02",
          "2018-04-01",
          "2018-03-31",
          "2018-03-30",
          "2018-03-29",
          "2018-03-28",
          "2018-03-27",
          "2018-03-26",
          "2018-03-25",
          "2018-03-24",
          "2018-03-23",
          "2018-03-22",
          "2018-03-21",
          "2018-03-20",
          "2018-03-19",
          "2018-03-18",
          "2018-03-17",
          "2018-03-16",
          "2018-03-15",
          "2018-03-14",
          "2018-03-13",
          "2018-03-12",
          "2018-03-11",
          "2018-03-10",
          "2018-03-09",
          "2018-03-08",
          "2018-03-07",
          "2018-03-06",
          "2018-03-05",
          "2018-03-04",
          "2018-03-03",
          "2018-03-02",
          "2018-03-01",
          "2018-02-28",
          "2018-02-27",
          "2018-02-26",
          "2018-02-25",
          "2018-02-24",
          "2018-02-23",
          "2018-02-22",
          "2018-02-21",
          "2018-02-20",
          "2018-02-19",
          "2018-02-18",
          "2018-02-17",
          "2018-02-16",
          "2018-02-15",
          "2018-02-14",
          "2018-02-13",
          "2018-02-12",
          "2018-02-11",
          "2018-02-10",
          "2018-02-09",
          "2018-02-08",
          "2018-02-07",
          "2018-02-06",
          "2018-02-05",
          "2018-02-04",
          "2018-02-03",
          "2018-02-02",
          "2018-02-01",
          "2018-01-31",
          "2018-01-30",
          "2018-01-29",
          "2018-01-28",
          "2018-01-27",
          "2018-01-26",
          "2018-01-25",
          "2018-01-24",
          "2018-01-23",
          "2018-01-22",
          "2018-01-21",
          "2018-01-20",
          "2018-01-19",
          "2018-01-18",
          "2018-01-17",
          "2018-01-16",
          "2018-01-15",
          "2018-01-14",
          "2018-01-13",
          "2018-01-12",
          "2018-01-11",
          "2018-01-10",
          "2018-01-09",
          "2018-01-08",
          "2018-01-07",
          "2018-01-06",
          "2018-01-05",
          "2018-01-04",
          "2018-01-03",
          "2018-01-02",
          "2018-01-01",
          "2017-12-31",
          "2017-12-30",
          "2017-12-29",
          "2017-12-28",
          "2017-12-27",
          "2017-12-26",
          "2017-12-25",
          "2017-12-24",
          "2017-12-23",
          "2017-12-22",
          "2017-12-21",
          "2017-12-20",
          "2017-12-19",
          "2017-12-18",
          "2017-12-17",
          "2017-12-16",
          "2017-12-15",
          "2017-12-14",
          "2017-12-13",
          "2017-12-12",
          "2017-12-11",
          "2017-12-10",
          "2017-12-09",
          "2017-12-08",
          "2017-12-07",
          "2017-12-06",
          "2017-12-05",
          "2017-12-04",
          "2017-12-03",
          "2017-12-02",
          "2017-12-01",
          "2017-11-30",
          "2017-11-29",
          "2017-11-28",
          "2017-11-27",
          "2017-11-26",
          "2017-11-25",
          "2017-11-24",
          "2017-11-23",
          "2017-11-22",
          "2017-11-21",
          "2017-11-20",
          "2017-11-19",
          "2017-11-18",
          "2017-11-17",
          "2017-11-16",
          "2017-11-15",
          "2017-11-14",
          "2017-11-13",
          "2017-11-12",
          "2017-11-11",
          "2017-11-10",
          "2017-11-09",
          "2017-11-08",
          "2017-11-07",
          "2017-11-06",
          "2017-11-05",
          "2017-11-04",
          "2017-11-03",
          "2017-11-02",
          "2017-11-01",
          "2017-10-31",
          "2017-10-30",
          "2017-10-29",
          "2017-10-28",
          "2017-10-27",
          "2017-10-26",
          "2017-10-25",
          "2017-10-24",
          "2017-10-23",
          "2017-10-22",
          "2017-10-21",
          "2017-10-20",
          "2017-10-19",
          "2017-10-18",
          "2017-10-17",
          "2017-10-16",
          "2017-10-15",
          "2017-10-14",
          "2017-10-13",
          "2017-10-12",
          "2017-10-11",
          "2017-10-10",
          "2017-10-09",
          "2017-10-08",
          "2017-10-07",
          "2017-10-06",
          "2017-10-05",
          "2017-10-04",
          "2017-10-03",
          "2017-10-02",
          "2017-10-01",
          "2017-09-30",
          "2017-09-29",
          "2017-09-28",
          "2017-09-27",
          "2017-09-26",
          "2017-09-25",
          "2017-09-24",
          "2017-09-23",
          "2017-09-22",
          "2017-09-21",
          "2017-09-20",
          "2017-09-19",
          "2017-09-18",
          "2017-09-17",
          "2017-09-16",
          "2017-09-15",
          "2017-09-14",
          "2017-09-13",
          "2017-09-12",
          "2017-09-11",
          "2017-09-10",
          "2017-09-09",
          "2017-09-08",
          "2017-09-07",
          "2017-09-06",
          "2017-09-05",
          "2017-09-04",
          "2017-09-03",
          "2017-09-02",
          "2017-09-01",
          "2017-08-31",
          "2017-08-30",
          "2017-08-29",
          "2017-08-28",
          "2017-08-27",
          "2017-08-26",
          "2017-08-25",
          "2017-08-24",
          "2017-08-23",
          "2017-08-22",
          "2017-08-21",
          "2017-08-20",
          "2017-08-19",
          "2017-08-18",
          "2017-08-17",
          "2017-08-16",
          "2017-08-15",
          "2017-08-14",
          "2017-08-13",
          "2017-08-12",
          "2017-08-11",
          "2017-08-10",
          "2017-08-09",
          "2017-08-08",
          "2017-08-07",
          "2017-08-06",
          "2017-08-05",
          "2017-08-04",
          "2017-08-03",
          "2017-08-02"
         ],
         "y": [
          2753,
          1977,
          1972,
          2626,
          3177,
          3058,
          3134,
          3104,
          2147,
          1920,
          2581,
          3084,
          3201,
          3229,
          3129,
          2089,
          1900,
          2716,
          3201,
          3084,
          3263,
          3141,
          2434,
          2144,
          2653,
          2936,
          3299,
          3405,
          3176,
          2068,
          1843,
          2679,
          3310,
          3724,
          4227,
          3077,
          2146,
          2228,
          2891,
          3570,
          4434,
          3251,
          3603,
          2317,
          2201,
          2993,
          3498,
          3344,
          3484,
          3598,
          2252,
          2285,
          2877,
          3092,
          3227,
          3824,
          3221,
          2386,
          2390,
          2922,
          3195,
          3163,
          3516,
          3989,
          2446,
          2247,
          3055,
          3596,
          3392,
          3501,
          2871,
          2627,
          2371,
          2738,
          3128,
          3272,
          3434,
          3547,
          2708,
          2469,
          2964,
          2953,
          3012,
          2999,
          3041,
          2171,
          2063,
          2697,
          3034,
          3021,
          3062,
          3017,
          2198,
          2073,
          2672,
          3502,
          2987,
          2901,
          2951,
          2012,
          2024,
          2784,
          2842,
          3120,
          3241,
          3070,
          2242,
          2115,
          2756,
          2954,
          3176,
          3223,
          2751,
          2068,
          1931,
          2613,
          2812,
          2747,
          2715,
          1810,
          1495,
          1768,
          1902,
          2255,
          2716,
          2370,
          2085,
          1960,
          1998,
          2422,
          2930,
          3196,
          3407,
          3601,
          2523,
          2597,
          3527,
          3587,
          9131,
          9234,
          3259,
          2487,
          2239,
          2880,
          3624,
          3577,
          3395,
          3328,
          2439,
          2254,
          2918,
          3178,
          3452,
          3934,
          4194,
          2553,
          2269,
          2901,
          2964,
          3033,
          2905,
          3318,
          2311,
          2123,
          3230,
          3530,
          3581,
          3573,
          3383,
          2784,
          2471,
          3186,
          3628,
          4136,
          3846,
          3542,
          2642,
          2330,
          2937,
          2880,
          2875,
          2774,
          3144,
          2217,
          2293,
          3134,
          3547,
          3290,
          3318,
          3427,
          2662,
          2251,
          2976,
          3205,
          3493,
          4258,
          2989,
          2121,
          2395,
          2699,
          3002,
          3368,
          3961,
          3976,
          3329,
          3539,
          4033,
          4679,
          5122,
          3621,
          3470,
          2993,
          2634,
          2989,
          3396,
          3303,
          3655,
          2987,
          2556,
          2200,
          3313,
          4715,
          4880,
          3526,
          3626,
          2856,
          2821,
          2691,
          2850,
          2790,
          2784,
          2831,
          1992,
          2026,
          2564,
          2793,
          2831,
          2852,
          2313,
          2064,
          1966,
          2471,
          2955,
          3121,
          3263,
          2748,
          2162,
          2177,
          2422,
          3716,
          3267,
          3143,
          2860,
          1985,
          2018,
          2861,
          3203,
          2862,
          3109,
          3487,
          1996,
          2012,
          2769,
          2852,
          2855,
          3059,
          2846,
          2340,
          1796,
          2843,
          2691,
          2828
         ]
        }
       ],
       "layout": {
        "height": 400,
        "paper_bgcolor": "rgb(233,233,233)",
        "title": "Dates in Test set",
        "width": 800
       }
      },
      "text/html": [
       "<div id=\"685faf1b-5c8f-4352-94e1-d4d43dad9c94\" style=\"height: 400px; width: 800px;\" class=\"plotly-graph-div\"></div><script type=\"text/javascript\">require([\"plotly\"], function(Plotly) { window.PLOTLYENV=window.PLOTLYENV || {};window.PLOTLYENV.BASE_URL=\"https://plot.ly\";Plotly.newPlot(\"685faf1b-5c8f-4352-94e1-d4d43dad9c94\", [{\"marker\": {\"color\": \"red\"}, \"showlegend\": false, \"x\": [\"2018-04-30\", \"2018-04-29\", \"2018-04-28\", \"2018-04-27\", \"2018-04-26\", \"2018-04-25\", \"2018-04-24\", \"2018-04-23\", \"2018-04-22\", \"2018-04-21\", \"2018-04-20\", \"2018-04-19\", \"2018-04-18\", \"2018-04-17\", \"2018-04-16\", \"2018-04-15\", \"2018-04-14\", \"2018-04-13\", \"2018-04-12\", \"2018-04-11\", \"2018-04-10\", \"2018-04-09\", \"2018-04-08\", \"2018-04-07\", \"2018-04-06\", \"2018-04-05\", \"2018-04-04\", \"2018-04-03\", \"2018-04-02\", \"2018-04-01\", \"2018-03-31\", \"2018-03-30\", \"2018-03-29\", \"2018-03-28\", \"2018-03-27\", \"2018-03-26\", \"2018-03-25\", \"2018-03-24\", \"2018-03-23\", \"2018-03-22\", \"2018-03-21\", \"2018-03-20\", \"2018-03-19\", \"2018-03-18\", \"2018-03-17\", \"2018-03-16\", \"2018-03-15\", \"2018-03-14\", \"2018-03-13\", \"2018-03-12\", \"2018-03-11\", \"2018-03-10\", \"2018-03-09\", \"2018-03-08\", \"2018-03-07\", \"2018-03-06\", \"2018-03-05\", \"2018-03-04\", \"2018-03-03\", \"2018-03-02\", \"2018-03-01\", \"2018-02-28\", \"2018-02-27\", \"2018-02-26\", \"2018-02-25\", \"2018-02-24\", \"2018-02-23\", \"2018-02-22\", \"2018-02-21\", \"2018-02-20\", \"2018-02-19\", \"2018-02-18\", \"2018-02-17\", \"2018-02-16\", \"2018-02-15\", \"2018-02-14\", \"2018-02-13\", \"2018-02-12\", \"2018-02-11\", \"2018-02-10\", \"2018-02-09\", \"2018-02-08\", \"2018-02-07\", \"2018-02-06\", \"2018-02-05\", \"2018-02-04\", \"2018-02-03\", \"2018-02-02\", \"2018-02-01\", \"2018-01-31\", \"2018-01-30\", \"2018-01-29\", \"2018-01-28\", \"2018-01-27\", \"2018-01-26\", \"2018-01-25\", \"2018-01-24\", \"2018-01-23\", \"2018-01-22\", \"2018-01-21\", \"2018-01-20\", \"2018-01-19\", \"2018-01-18\", \"2018-01-17\", \"2018-01-16\", \"2018-01-15\", \"2018-01-14\", \"2018-01-13\", \"2018-01-12\", \"2018-01-11\", \"2018-01-10\", \"2018-01-09\", \"2018-01-08\", \"2018-01-07\", \"2018-01-06\", \"2018-01-05\", \"2018-01-04\", \"2018-01-03\", \"2018-01-02\", \"2018-01-01\", \"2017-12-31\", \"2017-12-30\", \"2017-12-29\", \"2017-12-28\", \"2017-12-27\", \"2017-12-26\", \"2017-12-25\", \"2017-12-24\", \"2017-12-23\", \"2017-12-22\", \"2017-12-21\", \"2017-12-20\", \"2017-12-19\", \"2017-12-18\", \"2017-12-17\", \"2017-12-16\", \"2017-12-15\", \"2017-12-14\", \"2017-12-13\", \"2017-12-12\", \"2017-12-11\", \"2017-12-10\", \"2017-12-09\", \"2017-12-08\", \"2017-12-07\", \"2017-12-06\", \"2017-12-05\", \"2017-12-04\", \"2017-12-03\", \"2017-12-02\", \"2017-12-01\", \"2017-11-30\", \"2017-11-29\", \"2017-11-28\", \"2017-11-27\", \"2017-11-26\", \"2017-11-25\", \"2017-11-24\", \"2017-11-23\", \"2017-11-22\", \"2017-11-21\", \"2017-11-20\", \"2017-11-19\", \"2017-11-18\", \"2017-11-17\", \"2017-11-16\", \"2017-11-15\", \"2017-11-14\", \"2017-11-13\", \"2017-11-12\", \"2017-11-11\", \"2017-11-10\", \"2017-11-09\", \"2017-11-08\", \"2017-11-07\", \"2017-11-06\", \"2017-11-05\", \"2017-11-04\", \"2017-11-03\", \"2017-11-02\", \"2017-11-01\", \"2017-10-31\", \"2017-10-30\", \"2017-10-29\", \"2017-10-28\", \"2017-10-27\", \"2017-10-26\", \"2017-10-25\", \"2017-10-24\", \"2017-10-23\", \"2017-10-22\", \"2017-10-21\", \"2017-10-20\", \"2017-10-19\", \"2017-10-18\", \"2017-10-17\", \"2017-10-16\", \"2017-10-15\", \"2017-10-14\", \"2017-10-13\", \"2017-10-12\", \"2017-10-11\", \"2017-10-10\", \"2017-10-09\", \"2017-10-08\", \"2017-10-07\", \"2017-10-06\", \"2017-10-05\", \"2017-10-04\", \"2017-10-03\", \"2017-10-02\", \"2017-10-01\", \"2017-09-30\", \"2017-09-29\", \"2017-09-28\", \"2017-09-27\", \"2017-09-26\", \"2017-09-25\", \"2017-09-24\", \"2017-09-23\", \"2017-09-22\", \"2017-09-21\", \"2017-09-20\", \"2017-09-19\", \"2017-09-18\", \"2017-09-17\", \"2017-09-16\", \"2017-09-15\", \"2017-09-14\", \"2017-09-13\", \"2017-09-12\", \"2017-09-11\", \"2017-09-10\", \"2017-09-09\", \"2017-09-08\", \"2017-09-07\", \"2017-09-06\", \"2017-09-05\", \"2017-09-04\", \"2017-09-03\", \"2017-09-02\", \"2017-09-01\", \"2017-08-31\", \"2017-08-30\", \"2017-08-29\", \"2017-08-28\", \"2017-08-27\", \"2017-08-26\", \"2017-08-25\", \"2017-08-24\", \"2017-08-23\", \"2017-08-22\", \"2017-08-21\", \"2017-08-20\", \"2017-08-19\", \"2017-08-18\", \"2017-08-17\", \"2017-08-16\", \"2017-08-15\", \"2017-08-14\", \"2017-08-13\", \"2017-08-12\", \"2017-08-11\", \"2017-08-10\", \"2017-08-09\", \"2017-08-08\", \"2017-08-07\", \"2017-08-06\", \"2017-08-05\", \"2017-08-04\", \"2017-08-03\", \"2017-08-02\"], \"y\": [2753, 1977, 1972, 2626, 3177, 3058, 3134, 3104, 2147, 1920, 2581, 3084, 3201, 3229, 3129, 2089, 1900, 2716, 3201, 3084, 3263, 3141, 2434, 2144, 2653, 2936, 3299, 3405, 3176, 2068, 1843, 2679, 3310, 3724, 4227, 3077, 2146, 2228, 2891, 3570, 4434, 3251, 3603, 2317, 2201, 2993, 3498, 3344, 3484, 3598, 2252, 2285, 2877, 3092, 3227, 3824, 3221, 2386, 2390, 2922, 3195, 3163, 3516, 3989, 2446, 2247, 3055, 3596, 3392, 3501, 2871, 2627, 2371, 2738, 3128, 3272, 3434, 3547, 2708, 2469, 2964, 2953, 3012, 2999, 3041, 2171, 2063, 2697, 3034, 3021, 3062, 3017, 2198, 2073, 2672, 3502, 2987, 2901, 2951, 2012, 2024, 2784, 2842, 3120, 3241, 3070, 2242, 2115, 2756, 2954, 3176, 3223, 2751, 2068, 1931, 2613, 2812, 2747, 2715, 1810, 1495, 1768, 1902, 2255, 2716, 2370, 2085, 1960, 1998, 2422, 2930, 3196, 3407, 3601, 2523, 2597, 3527, 3587, 9131, 9234, 3259, 2487, 2239, 2880, 3624, 3577, 3395, 3328, 2439, 2254, 2918, 3178, 3452, 3934, 4194, 2553, 2269, 2901, 2964, 3033, 2905, 3318, 2311, 2123, 3230, 3530, 3581, 3573, 3383, 2784, 2471, 3186, 3628, 4136, 3846, 3542, 2642, 2330, 2937, 2880, 2875, 2774, 3144, 2217, 2293, 3134, 3547, 3290, 3318, 3427, 2662, 2251, 2976, 3205, 3493, 4258, 2989, 2121, 2395, 2699, 3002, 3368, 3961, 3976, 3329, 3539, 4033, 4679, 5122, 3621, 3470, 2993, 2634, 2989, 3396, 3303, 3655, 2987, 2556, 2200, 3313, 4715, 4880, 3526, 3626, 2856, 2821, 2691, 2850, 2790, 2784, 2831, 1992, 2026, 2564, 2793, 2831, 2852, 2313, 2064, 1966, 2471, 2955, 3121, 3263, 2748, 2162, 2177, 2422, 3716, 3267, 3143, 2860, 1985, 2018, 2861, 3203, 2862, 3109, 3487, 1996, 2012, 2769, 2852, 2855, 3059, 2846, 2340, 1796, 2843, 2691, 2828], \"type\": \"scatter\", \"uid\": \"8da02f61-68f1-4ec0-bec5-2018fe95c84a\"}], {\"height\": 400, \"paper_bgcolor\": \"rgb(233,233,233)\", \"title\": \"Dates in Test set\", \"width\": 800}, {\"showLink\": true, \"linkText\": \"Export to plot.ly\", \"plotlyServerURL\": \"https://plot.ly\"})});</script>"
      ],
      "text/vnd.plotly.v1+html": [
       "<div id=\"685faf1b-5c8f-4352-94e1-d4d43dad9c94\" style=\"height: 400px; width: 800px;\" class=\"plotly-graph-div\"></div><script type=\"text/javascript\">require([\"plotly\"], function(Plotly) { window.PLOTLYENV=window.PLOTLYENV || {};window.PLOTLYENV.BASE_URL=\"https://plot.ly\";Plotly.newPlot(\"685faf1b-5c8f-4352-94e1-d4d43dad9c94\", [{\"marker\": {\"color\": \"red\"}, \"showlegend\": false, \"x\": [\"2018-04-30\", \"2018-04-29\", \"2018-04-28\", \"2018-04-27\", \"2018-04-26\", \"2018-04-25\", \"2018-04-24\", \"2018-04-23\", \"2018-04-22\", \"2018-04-21\", \"2018-04-20\", \"2018-04-19\", \"2018-04-18\", \"2018-04-17\", \"2018-04-16\", \"2018-04-15\", \"2018-04-14\", \"2018-04-13\", \"2018-04-12\", \"2018-04-11\", \"2018-04-10\", \"2018-04-09\", \"2018-04-08\", \"2018-04-07\", \"2018-04-06\", \"2018-04-05\", \"2018-04-04\", \"2018-04-03\", \"2018-04-02\", \"2018-04-01\", \"2018-03-31\", \"2018-03-30\", \"2018-03-29\", \"2018-03-28\", \"2018-03-27\", \"2018-03-26\", \"2018-03-25\", \"2018-03-24\", \"2018-03-23\", \"2018-03-22\", \"2018-03-21\", \"2018-03-20\", \"2018-03-19\", \"2018-03-18\", \"2018-03-17\", \"2018-03-16\", \"2018-03-15\", \"2018-03-14\", \"2018-03-13\", \"2018-03-12\", \"2018-03-11\", \"2018-03-10\", \"2018-03-09\", \"2018-03-08\", \"2018-03-07\", \"2018-03-06\", \"2018-03-05\", \"2018-03-04\", \"2018-03-03\", \"2018-03-02\", \"2018-03-01\", \"2018-02-28\", \"2018-02-27\", \"2018-02-26\", \"2018-02-25\", \"2018-02-24\", \"2018-02-23\", \"2018-02-22\", \"2018-02-21\", \"2018-02-20\", \"2018-02-19\", \"2018-02-18\", \"2018-02-17\", \"2018-02-16\", \"2018-02-15\", \"2018-02-14\", \"2018-02-13\", \"2018-02-12\", \"2018-02-11\", \"2018-02-10\", \"2018-02-09\", \"2018-02-08\", \"2018-02-07\", \"2018-02-06\", \"2018-02-05\", \"2018-02-04\", \"2018-02-03\", \"2018-02-02\", \"2018-02-01\", \"2018-01-31\", \"2018-01-30\", \"2018-01-29\", \"2018-01-28\", \"2018-01-27\", \"2018-01-26\", \"2018-01-25\", \"2018-01-24\", \"2018-01-23\", \"2018-01-22\", \"2018-01-21\", \"2018-01-20\", \"2018-01-19\", \"2018-01-18\", \"2018-01-17\", \"2018-01-16\", \"2018-01-15\", \"2018-01-14\", \"2018-01-13\", \"2018-01-12\", \"2018-01-11\", \"2018-01-10\", \"2018-01-09\", \"2018-01-08\", \"2018-01-07\", \"2018-01-06\", \"2018-01-05\", \"2018-01-04\", \"2018-01-03\", \"2018-01-02\", \"2018-01-01\", \"2017-12-31\", \"2017-12-30\", \"2017-12-29\", \"2017-12-28\", \"2017-12-27\", \"2017-12-26\", \"2017-12-25\", \"2017-12-24\", \"2017-12-23\", \"2017-12-22\", \"2017-12-21\", \"2017-12-20\", \"2017-12-19\", \"2017-12-18\", \"2017-12-17\", \"2017-12-16\", \"2017-12-15\", \"2017-12-14\", \"2017-12-13\", \"2017-12-12\", \"2017-12-11\", \"2017-12-10\", \"2017-12-09\", \"2017-12-08\", \"2017-12-07\", \"2017-12-06\", \"2017-12-05\", \"2017-12-04\", \"2017-12-03\", \"2017-12-02\", \"2017-12-01\", \"2017-11-30\", \"2017-11-29\", \"2017-11-28\", \"2017-11-27\", \"2017-11-26\", \"2017-11-25\", \"2017-11-24\", \"2017-11-23\", \"2017-11-22\", \"2017-11-21\", \"2017-11-20\", \"2017-11-19\", \"2017-11-18\", \"2017-11-17\", \"2017-11-16\", \"2017-11-15\", \"2017-11-14\", \"2017-11-13\", \"2017-11-12\", \"2017-11-11\", \"2017-11-10\", \"2017-11-09\", \"2017-11-08\", \"2017-11-07\", \"2017-11-06\", \"2017-11-05\", \"2017-11-04\", \"2017-11-03\", \"2017-11-02\", \"2017-11-01\", \"2017-10-31\", \"2017-10-30\", \"2017-10-29\", \"2017-10-28\", \"2017-10-27\", \"2017-10-26\", \"2017-10-25\", \"2017-10-24\", \"2017-10-23\", \"2017-10-22\", \"2017-10-21\", \"2017-10-20\", \"2017-10-19\", \"2017-10-18\", \"2017-10-17\", \"2017-10-16\", \"2017-10-15\", \"2017-10-14\", \"2017-10-13\", \"2017-10-12\", \"2017-10-11\", \"2017-10-10\", \"2017-10-09\", \"2017-10-08\", \"2017-10-07\", \"2017-10-06\", \"2017-10-05\", \"2017-10-04\", \"2017-10-03\", \"2017-10-02\", \"2017-10-01\", \"2017-09-30\", \"2017-09-29\", \"2017-09-28\", \"2017-09-27\", \"2017-09-26\", \"2017-09-25\", \"2017-09-24\", \"2017-09-23\", \"2017-09-22\", \"2017-09-21\", \"2017-09-20\", \"2017-09-19\", \"2017-09-18\", \"2017-09-17\", \"2017-09-16\", \"2017-09-15\", \"2017-09-14\", \"2017-09-13\", \"2017-09-12\", \"2017-09-11\", \"2017-09-10\", \"2017-09-09\", \"2017-09-08\", \"2017-09-07\", \"2017-09-06\", \"2017-09-05\", \"2017-09-04\", \"2017-09-03\", \"2017-09-02\", \"2017-09-01\", \"2017-08-31\", \"2017-08-30\", \"2017-08-29\", \"2017-08-28\", \"2017-08-27\", \"2017-08-26\", \"2017-08-25\", \"2017-08-24\", \"2017-08-23\", \"2017-08-22\", \"2017-08-21\", \"2017-08-20\", \"2017-08-19\", \"2017-08-18\", \"2017-08-17\", \"2017-08-16\", \"2017-08-15\", \"2017-08-14\", \"2017-08-13\", \"2017-08-12\", \"2017-08-11\", \"2017-08-10\", \"2017-08-09\", \"2017-08-08\", \"2017-08-07\", \"2017-08-06\", \"2017-08-05\", \"2017-08-04\", \"2017-08-03\", \"2017-08-02\"], \"y\": [2753, 1977, 1972, 2626, 3177, 3058, 3134, 3104, 2147, 1920, 2581, 3084, 3201, 3229, 3129, 2089, 1900, 2716, 3201, 3084, 3263, 3141, 2434, 2144, 2653, 2936, 3299, 3405, 3176, 2068, 1843, 2679, 3310, 3724, 4227, 3077, 2146, 2228, 2891, 3570, 4434, 3251, 3603, 2317, 2201, 2993, 3498, 3344, 3484, 3598, 2252, 2285, 2877, 3092, 3227, 3824, 3221, 2386, 2390, 2922, 3195, 3163, 3516, 3989, 2446, 2247, 3055, 3596, 3392, 3501, 2871, 2627, 2371, 2738, 3128, 3272, 3434, 3547, 2708, 2469, 2964, 2953, 3012, 2999, 3041, 2171, 2063, 2697, 3034, 3021, 3062, 3017, 2198, 2073, 2672, 3502, 2987, 2901, 2951, 2012, 2024, 2784, 2842, 3120, 3241, 3070, 2242, 2115, 2756, 2954, 3176, 3223, 2751, 2068, 1931, 2613, 2812, 2747, 2715, 1810, 1495, 1768, 1902, 2255, 2716, 2370, 2085, 1960, 1998, 2422, 2930, 3196, 3407, 3601, 2523, 2597, 3527, 3587, 9131, 9234, 3259, 2487, 2239, 2880, 3624, 3577, 3395, 3328, 2439, 2254, 2918, 3178, 3452, 3934, 4194, 2553, 2269, 2901, 2964, 3033, 2905, 3318, 2311, 2123, 3230, 3530, 3581, 3573, 3383, 2784, 2471, 3186, 3628, 4136, 3846, 3542, 2642, 2330, 2937, 2880, 2875, 2774, 3144, 2217, 2293, 3134, 3547, 3290, 3318, 3427, 2662, 2251, 2976, 3205, 3493, 4258, 2989, 2121, 2395, 2699, 3002, 3368, 3961, 3976, 3329, 3539, 4033, 4679, 5122, 3621, 3470, 2993, 2634, 2989, 3396, 3303, 3655, 2987, 2556, 2200, 3313, 4715, 4880, 3526, 3626, 2856, 2821, 2691, 2850, 2790, 2784, 2831, 1992, 2026, 2564, 2793, 2831, 2852, 2313, 2064, 1966, 2471, 2955, 3121, 3263, 2748, 2162, 2177, 2422, 3716, 3267, 3143, 2860, 1985, 2018, 2861, 3203, 2862, 3109, 3487, 1996, 2012, 2769, 2852, 2855, 3059, 2846, 2340, 1796, 2843, 2691, 2828], \"type\": \"scatter\", \"uid\": \"8da02f61-68f1-4ec0-bec5-2018fe95c84a\"}], {\"height\": 400, \"paper_bgcolor\": \"rgb(233,233,233)\", \"title\": \"Dates in Test set\", \"width\": 800}, {\"showLink\": true, \"linkText\": \"Export to plot.ly\", \"plotlyServerURL\": \"https://plot.ly\"})});</script>"
      ]
     },
     "metadata": {},
     "output_type": "display_data"
    }
   ],
   "source": [
    "fig = go.Figure(data=data, layout=layout)\n",
    "py.iplot(fig, filename=\"ActivationDate\")"
   ]
  },
  {
   "cell_type": "markdown",
   "metadata": {},
   "source": [
    "#### From the above analysis, we can see that\n",
    "-  In the test set, we have dates from 2 Aug, 2017 to 30 Apr, 2018.\n",
    "-  So there are no common dates between train and test set. \n",
    "-  So it might be a good idea to do time based validation for this dataset."
   ]
  },
  {
   "cell_type": "markdown",
   "metadata": {},
   "source": [
    "### Geographic Information Analysis:\n",
    "#### Continent"
   ]
  },
  {
   "cell_type": "code",
   "execution_count": 71,
   "metadata": {},
   "outputs": [],
   "source": [
    "counts = train_df.groupby('geoNetwork.continent')['totals.transactionRevenue'].agg(['size', 'count', 'mean'])\n",
    "counts.columns = [\"count\", \"count of non-zero revenue\", \"mean\"]\n",
    "counts = counts.sort_values(by=\"count\", ascending=False)\n",
    "graph1 = bar_graph(counts[\"count\"].head(10), 'rgba(150, 71, 96, 0.6)')\n",
    "graph2 = bar_graph(counts[\"count of non-zero revenue\"].head(10), 'rgba(50, 171, 96, 0.6)')\n",
    "graph3 = bar_graph(counts[\"mean\"].head(10), 'rgba(10, 11, 196, 0.6)')"
   ]
  },
  {
   "cell_type": "code",
   "execution_count": 72,
   "metadata": {},
   "outputs": [
    {
     "name": "stdout",
     "output_type": "stream",
     "text": [
      "This is the format of your plot grid:\n",
      "[ (1,1) x1,y1 ]  [ (1,2) x2,y2 ]  [ (1,3) x3,y3 ]\n",
      "\n"
     ]
    }
   ],
   "source": [
    "fig = tools.make_subplots(rows=1, cols=3, vertical_spacing=0.04, \n",
    "                          subplot_titles=[\"Continent - Count\", \"Continent - Non-zero Revenue Count\", \"Continent - Mean Revenue\"])"
   ]
  },
  {
   "cell_type": "code",
   "execution_count": 73,
   "metadata": {},
   "outputs": [],
   "source": [
    "fig.append_trace(graph1, 1, 1)\n",
    "fig.append_trace(graph2, 1, 2)\n",
    "fig.append_trace(graph3, 1, 3)"
   ]
  },
  {
   "cell_type": "code",
   "execution_count": 74,
   "metadata": {},
   "outputs": [
    {
     "data": {
      "application/vnd.plotly.v1+json": {
       "config": {
        "linkText": "Export to plot.ly",
        "plotlyServerURL": "https://plot.ly",
        "showLink": true
       },
       "data": [
        {
         "marker": {
          "color": "rgba(150, 71, 96, 0.6)"
         },
         "orientation": "h",
         "showlegend": false,
         "type": "bar",
         "uid": "5a6ebb97-1e0a-409b-aba3-1d2a40bdfd39",
         "x": [
          1468,
          14745,
          15054,
          198311,
          223698,
          450377
         ],
         "xaxis": "x",
         "y": [
          "(not set)",
          "Africa",
          "Oceania",
          "Europe",
          "Asia",
          "Americas"
         ],
         "yaxis": "y"
        },
        {
         "marker": {
          "color": "rgba(50, 171, 96, 0.6)"
         },
         "orientation": "h",
         "showlegend": false,
         "type": "bar",
         "uid": "6ea42d5f-f32b-475f-aa7c-03aede2cdd3b",
         "x": [
          6,
          8,
          14,
          79,
          125,
          11283
         ],
         "xaxis": "x2",
         "y": [
          "(not set)",
          "Africa",
          "Oceania",
          "Europe",
          "Asia",
          "Americas"
         ],
         "yaxis": "y2"
        },
        {
         "marker": {
          "color": "rgba(10, 11, 196, 0.6)"
         },
         "orientation": "h",
         "showlegend": false,
         "type": "bar",
         "uid": "3c4cdb89-60e9-4ad0-9247-fdc8f89499e1",
         "x": [
          128296666.66666667,
          1085970000,
          128087857.14285715,
          85405443.03797469,
          139214720,
          133357404.94549322
         ],
         "xaxis": "x3",
         "y": [
          "(not set)",
          "Africa",
          "Oceania",
          "Europe",
          "Asia",
          "Americas"
         ],
         "yaxis": "y3"
        }
       ],
       "layout": {
        "annotations": [
         {
          "font": {
           "size": 16
          },
          "showarrow": false,
          "text": "Continent - Count",
          "x": 0.14444444444444446,
          "xanchor": "center",
          "xref": "paper",
          "y": 1,
          "yanchor": "bottom",
          "yref": "paper"
         },
         {
          "font": {
           "size": 16
          },
          "showarrow": false,
          "text": "Continent - Non-zero Revenue Count",
          "x": 0.5,
          "xanchor": "center",
          "xref": "paper",
          "y": 1,
          "yanchor": "bottom",
          "yref": "paper"
         },
         {
          "font": {
           "size": 16
          },
          "showarrow": false,
          "text": "Continent - Mean Revenue",
          "x": 0.8555555555555556,
          "xanchor": "center",
          "xref": "paper",
          "y": 1,
          "yanchor": "bottom",
          "yref": "paper"
         }
        ],
        "height": 400,
        "paper_bgcolor": "rgb(233,233,233)",
        "title": "Geonetwork Continent Plots",
        "width": 1200,
        "xaxis": {
         "anchor": "y",
         "domain": [
          0,
          0.2888888888888889
         ]
        },
        "xaxis2": {
         "anchor": "y2",
         "domain": [
          0.35555555555555557,
          0.6444444444444445
         ]
        },
        "xaxis3": {
         "anchor": "y3",
         "domain": [
          0.7111111111111111,
          1
         ]
        },
        "yaxis": {
         "anchor": "x",
         "domain": [
          0,
          1
         ]
        },
        "yaxis2": {
         "anchor": "x2",
         "domain": [
          0,
          1
         ]
        },
        "yaxis3": {
         "anchor": "x3",
         "domain": [
          0,
          1
         ]
        }
       }
      },
      "text/html": [
       "<div id=\"c39c558f-5eff-4b60-a311-ae8017cb44e0\" style=\"height: 400px; width: 1200px;\" class=\"plotly-graph-div\"></div><script type=\"text/javascript\">require([\"plotly\"], function(Plotly) { window.PLOTLYENV=window.PLOTLYENV || {};window.PLOTLYENV.BASE_URL=\"https://plot.ly\";Plotly.newPlot(\"c39c558f-5eff-4b60-a311-ae8017cb44e0\", [{\"marker\": {\"color\": \"rgba(150, 71, 96, 0.6)\"}, \"orientation\": \"h\", \"showlegend\": false, \"x\": [1468, 14745, 15054, 198311, 223698, 450377], \"y\": [\"(not set)\", \"Africa\", \"Oceania\", \"Europe\", \"Asia\", \"Americas\"], \"type\": \"bar\", \"uid\": \"5a6ebb97-1e0a-409b-aba3-1d2a40bdfd39\", \"xaxis\": \"x\", \"yaxis\": \"y\"}, {\"marker\": {\"color\": \"rgba(50, 171, 96, 0.6)\"}, \"orientation\": \"h\", \"showlegend\": false, \"x\": [6, 8, 14, 79, 125, 11283], \"y\": [\"(not set)\", \"Africa\", \"Oceania\", \"Europe\", \"Asia\", \"Americas\"], \"type\": \"bar\", \"uid\": \"6ea42d5f-f32b-475f-aa7c-03aede2cdd3b\", \"xaxis\": \"x2\", \"yaxis\": \"y2\"}, {\"marker\": {\"color\": \"rgba(10, 11, 196, 0.6)\"}, \"orientation\": \"h\", \"showlegend\": false, \"x\": [128296666.66666667, 1085970000.0, 128087857.14285715, 85405443.03797469, 139214720.0, 133357404.94549322], \"y\": [\"(not set)\", \"Africa\", \"Oceania\", \"Europe\", \"Asia\", \"Americas\"], \"type\": \"bar\", \"uid\": \"3c4cdb89-60e9-4ad0-9247-fdc8f89499e1\", \"xaxis\": \"x3\", \"yaxis\": \"y3\"}], {\"annotations\": [{\"font\": {\"size\": 16}, \"showarrow\": false, \"text\": \"Continent - Count\", \"x\": 0.14444444444444446, \"xanchor\": \"center\", \"xref\": \"paper\", \"y\": 1.0, \"yanchor\": \"bottom\", \"yref\": \"paper\"}, {\"font\": {\"size\": 16}, \"showarrow\": false, \"text\": \"Continent - Non-zero Revenue Count\", \"x\": 0.5, \"xanchor\": \"center\", \"xref\": \"paper\", \"y\": 1.0, \"yanchor\": \"bottom\", \"yref\": \"paper\"}, {\"font\": {\"size\": 16}, \"showarrow\": false, \"text\": \"Continent - Mean Revenue\", \"x\": 0.8555555555555556, \"xanchor\": \"center\", \"xref\": \"paper\", \"y\": 1.0, \"yanchor\": \"bottom\", \"yref\": \"paper\"}], \"xaxis\": {\"anchor\": \"y\", \"domain\": [0.0, 0.2888888888888889]}, \"yaxis\": {\"anchor\": \"x\", \"domain\": [0.0, 1.0]}, \"xaxis2\": {\"anchor\": \"y2\", \"domain\": [0.35555555555555557, 0.6444444444444445]}, \"yaxis2\": {\"anchor\": \"x2\", \"domain\": [0.0, 1.0]}, \"xaxis3\": {\"anchor\": \"y3\", \"domain\": [0.7111111111111111, 1.0]}, \"yaxis3\": {\"anchor\": \"x3\", \"domain\": [0.0, 1.0]}, \"height\": 400, \"width\": 1200, \"paper_bgcolor\": \"rgb(233,233,233)\", \"title\": \"Geonetwork Continent Plots\"}, {\"showLink\": true, \"linkText\": \"Export to plot.ly\", \"plotlyServerURL\": \"https://plot.ly\"})});</script>"
      ],
      "text/vnd.plotly.v1+html": [
       "<div id=\"c39c558f-5eff-4b60-a311-ae8017cb44e0\" style=\"height: 400px; width: 1200px;\" class=\"plotly-graph-div\"></div><script type=\"text/javascript\">require([\"plotly\"], function(Plotly) { window.PLOTLYENV=window.PLOTLYENV || {};window.PLOTLYENV.BASE_URL=\"https://plot.ly\";Plotly.newPlot(\"c39c558f-5eff-4b60-a311-ae8017cb44e0\", [{\"marker\": {\"color\": \"rgba(150, 71, 96, 0.6)\"}, \"orientation\": \"h\", \"showlegend\": false, \"x\": [1468, 14745, 15054, 198311, 223698, 450377], \"y\": [\"(not set)\", \"Africa\", \"Oceania\", \"Europe\", \"Asia\", \"Americas\"], \"type\": \"bar\", \"uid\": \"5a6ebb97-1e0a-409b-aba3-1d2a40bdfd39\", \"xaxis\": \"x\", \"yaxis\": \"y\"}, {\"marker\": {\"color\": \"rgba(50, 171, 96, 0.6)\"}, \"orientation\": \"h\", \"showlegend\": false, \"x\": [6, 8, 14, 79, 125, 11283], \"y\": [\"(not set)\", \"Africa\", \"Oceania\", \"Europe\", \"Asia\", \"Americas\"], \"type\": \"bar\", \"uid\": \"6ea42d5f-f32b-475f-aa7c-03aede2cdd3b\", \"xaxis\": \"x2\", \"yaxis\": \"y2\"}, {\"marker\": {\"color\": \"rgba(10, 11, 196, 0.6)\"}, \"orientation\": \"h\", \"showlegend\": false, \"x\": [128296666.66666667, 1085970000.0, 128087857.14285715, 85405443.03797469, 139214720.0, 133357404.94549322], \"y\": [\"(not set)\", \"Africa\", \"Oceania\", \"Europe\", \"Asia\", \"Americas\"], \"type\": \"bar\", \"uid\": \"3c4cdb89-60e9-4ad0-9247-fdc8f89499e1\", \"xaxis\": \"x3\", \"yaxis\": \"y3\"}], {\"annotations\": [{\"font\": {\"size\": 16}, \"showarrow\": false, \"text\": \"Continent - Count\", \"x\": 0.14444444444444446, \"xanchor\": \"center\", \"xref\": \"paper\", \"y\": 1.0, \"yanchor\": \"bottom\", \"yref\": \"paper\"}, {\"font\": {\"size\": 16}, \"showarrow\": false, \"text\": \"Continent - Non-zero Revenue Count\", \"x\": 0.5, \"xanchor\": \"center\", \"xref\": \"paper\", \"y\": 1.0, \"yanchor\": \"bottom\", \"yref\": \"paper\"}, {\"font\": {\"size\": 16}, \"showarrow\": false, \"text\": \"Continent - Mean Revenue\", \"x\": 0.8555555555555556, \"xanchor\": \"center\", \"xref\": \"paper\", \"y\": 1.0, \"yanchor\": \"bottom\", \"yref\": \"paper\"}], \"xaxis\": {\"anchor\": \"y\", \"domain\": [0.0, 0.2888888888888889]}, \"yaxis\": {\"anchor\": \"x\", \"domain\": [0.0, 1.0]}, \"xaxis2\": {\"anchor\": \"y2\", \"domain\": [0.35555555555555557, 0.6444444444444445]}, \"yaxis2\": {\"anchor\": \"x2\", \"domain\": [0.0, 1.0]}, \"xaxis3\": {\"anchor\": \"y3\", \"domain\": [0.7111111111111111, 1.0]}, \"yaxis3\": {\"anchor\": \"x3\", \"domain\": [0.0, 1.0]}, \"height\": 400, \"width\": 1200, \"paper_bgcolor\": \"rgb(233,233,233)\", \"title\": \"Geonetwork Continent Plots\"}, {\"showLink\": true, \"linkText\": \"Export to plot.ly\", \"plotlyServerURL\": \"https://plot.ly\"})});</script>"
      ]
     },
     "metadata": {},
     "output_type": "display_data"
    }
   ],
   "source": [
    "fig['layout'].update(height=400, width=1200, paper_bgcolor='rgb(233,233,233)', title=\"Geonetwork Continent Plots\")\n",
    "py.iplot(fig, filename='geonetwork-continent-plots')"
   ]
  },
  {
   "cell_type": "markdown",
   "metadata": {},
   "source": [
    "#### From the above analysis, we can see that\n",
    "-  In the continent plot, we can see that America has both higher number of counts as well as highest number of counts where the revenue is non-zero\n",
    "-  Though Asia and Europe has high number of counts, the number of non-zero revenue counts from these continents are comparatively low.\n",
    "-  The mean revenue of Africa is the highest even though the count is very less."
   ]
  },
  {
   "cell_type": "markdown",
   "metadata": {},
   "source": [
    "#### Sub-continent"
   ]
  },
  {
   "cell_type": "code",
   "execution_count": 75,
   "metadata": {},
   "outputs": [],
   "source": [
    "counts = train_df.groupby('geoNetwork.subContinent')['totals.transactionRevenue'].agg(['size', 'count', 'mean'])\n",
    "counts.columns = [\"count\", \"count of non-zero revenue\", \"mean\"]\n",
    "counts = counts.sort_values(by=\"count\", ascending=False)\n",
    "graph1 = bar_graph(counts[\"count\"].head(10), 'rgba(150, 71, 96, 0.6)')\n",
    "graph2 = bar_graph(counts[\"count of non-zero revenue\"].head(10), 'rgba(50, 171, 96, 0.6)')\n",
    "graph3 = bar_graph(counts[\"mean\"].head(10), 'rgba(10, 11, 196, 0.6)')"
   ]
  },
  {
   "cell_type": "code",
   "execution_count": 76,
   "metadata": {},
   "outputs": [
    {
     "name": "stdout",
     "output_type": "stream",
     "text": [
      "This is the format of your plot grid:\n",
      "[ (1,1) x1,y1 ]  [ (1,2) x2,y2 ]  [ (1,3) x3,y3 ]\n",
      "\n"
     ]
    }
   ],
   "source": [
    "fig = tools.make_subplots(rows=1, cols=3, vertical_spacing=0.04, \n",
    "                          subplot_titles=[\"Sub-Continent - Count\", \"Sub-Continent - Non-zero Revenue Count\", \"Sub-Continent - Mean Revenue\"])"
   ]
  },
  {
   "cell_type": "code",
   "execution_count": 77,
   "metadata": {},
   "outputs": [],
   "source": [
    "fig.append_trace(graph1, 1, 1)\n",
    "fig.append_trace(graph2, 1, 2)\n",
    "fig.append_trace(graph3, 1, 3)"
   ]
  },
  {
   "cell_type": "code",
   "execution_count": 78,
   "metadata": {},
   "outputs": [
    {
     "data": {
      "application/vnd.plotly.v1+json": {
       "config": {
        "linkText": "Export to plot.ly",
        "plotlyServerURL": "https://plot.ly",
        "showLink": true
       },
       "data": [
        {
         "marker": {
          "color": "rgba(150, 71, 96, 0.6)"
         },
         "orientation": "h",
         "showlegend": false,
         "type": "bar",
         "uid": "4ca26eca-569f-461a-a086-d7206b415cbe",
         "x": [
          35780,
          38443,
          41731,
          45249,
          46919,
          58168,
          59114,
          59321,
          77800,
          390657
         ],
         "xaxis": "x",
         "y": [
          "Southern Europe",
          "Western Asia",
          "South America",
          "Eastern Europe",
          "Eastern Asia",
          "Northern Europe",
          "Western Europe",
          "Southern Asia",
          "Southeast Asia",
          "Northern America"
         ],
         "yaxis": "y"
        },
        {
         "marker": {
          "color": "rgba(50, 171, 96, 0.6)"
         },
         "orientation": "h",
         "showlegend": false,
         "type": "bar",
         "uid": "6c697242-a67d-433f-9f23-b98bc0cb564a",
         "x": [
          8,
          21,
          98,
          14,
          59,
          27,
          30,
          11,
          32,
          11143
         ],
         "xaxis": "x2",
         "y": [
          "Southern Europe",
          "Western Asia",
          "South America",
          "Eastern Europe",
          "Eastern Asia",
          "Northern Europe",
          "Western Europe",
          "Southern Asia",
          "Southeast Asia",
          "Northern America"
         ],
         "yaxis": "y2"
        },
        {
         "marker": {
          "color": "rgba(10, 11, 196, 0.6)"
         },
         "orientation": "h",
         "showlegend": false,
         "type": "bar",
         "uid": "e243001e-f5a6-44fc-aac4-ec65bc08f156",
         "x": [
          120501250,
          84811428.57142857,
          162625612.24489796,
          67628571.42857143,
          187715593.22033897,
          73847407.4074074,
          94744666.66666667,
          68600909.0909091,
          117374687.5,
          133291321.00870502
         ],
         "xaxis": "x3",
         "y": [
          "Southern Europe",
          "Western Asia",
          "South America",
          "Eastern Europe",
          "Eastern Asia",
          "Northern Europe",
          "Western Europe",
          "Southern Asia",
          "Southeast Asia",
          "Northern America"
         ],
         "yaxis": "y3"
        }
       ],
       "layout": {
        "annotations": [
         {
          "font": {
           "size": 16
          },
          "showarrow": false,
          "text": "Sub-Continent - Count",
          "x": 0.14444444444444446,
          "xanchor": "center",
          "xref": "paper",
          "y": 1,
          "yanchor": "bottom",
          "yref": "paper"
         },
         {
          "font": {
           "size": 16
          },
          "showarrow": false,
          "text": "Sub-Continent - Non-zero Revenue Count",
          "x": 0.5,
          "xanchor": "center",
          "xref": "paper",
          "y": 1,
          "yanchor": "bottom",
          "yref": "paper"
         },
         {
          "font": {
           "size": 16
          },
          "showarrow": false,
          "text": "Sub-Continent - Mean Revenue",
          "x": 0.8555555555555556,
          "xanchor": "center",
          "xref": "paper",
          "y": 1,
          "yanchor": "bottom",
          "yref": "paper"
         }
        ],
        "height": 400,
        "paper_bgcolor": "rgb(233,233,233)",
        "title": "Geonetwork Sub-Continent Plots",
        "width": 1800,
        "xaxis": {
         "anchor": "y",
         "domain": [
          0,
          0.2888888888888889
         ]
        },
        "xaxis2": {
         "anchor": "y2",
         "domain": [
          0.35555555555555557,
          0.6444444444444445
         ]
        },
        "xaxis3": {
         "anchor": "y3",
         "domain": [
          0.7111111111111111,
          1
         ]
        },
        "yaxis": {
         "anchor": "x",
         "domain": [
          0,
          1
         ]
        },
        "yaxis2": {
         "anchor": "x2",
         "domain": [
          0,
          1
         ]
        },
        "yaxis3": {
         "anchor": "x3",
         "domain": [
          0,
          1
         ]
        }
       }
      },
      "text/html": [
       "<div id=\"8f13bb9f-f376-4e17-b37b-94a93255a43a\" style=\"height: 400px; width: 1800px;\" class=\"plotly-graph-div\"></div><script type=\"text/javascript\">require([\"plotly\"], function(Plotly) { window.PLOTLYENV=window.PLOTLYENV || {};window.PLOTLYENV.BASE_URL=\"https://plot.ly\";Plotly.newPlot(\"8f13bb9f-f376-4e17-b37b-94a93255a43a\", [{\"marker\": {\"color\": \"rgba(150, 71, 96, 0.6)\"}, \"orientation\": \"h\", \"showlegend\": false, \"x\": [35780, 38443, 41731, 45249, 46919, 58168, 59114, 59321, 77800, 390657], \"y\": [\"Southern Europe\", \"Western Asia\", \"South America\", \"Eastern Europe\", \"Eastern Asia\", \"Northern Europe\", \"Western Europe\", \"Southern Asia\", \"Southeast Asia\", \"Northern America\"], \"type\": \"bar\", \"uid\": \"4ca26eca-569f-461a-a086-d7206b415cbe\", \"xaxis\": \"x\", \"yaxis\": \"y\"}, {\"marker\": {\"color\": \"rgba(50, 171, 96, 0.6)\"}, \"orientation\": \"h\", \"showlegend\": false, \"x\": [8, 21, 98, 14, 59, 27, 30, 11, 32, 11143], \"y\": [\"Southern Europe\", \"Western Asia\", \"South America\", \"Eastern Europe\", \"Eastern Asia\", \"Northern Europe\", \"Western Europe\", \"Southern Asia\", \"Southeast Asia\", \"Northern America\"], \"type\": \"bar\", \"uid\": \"6c697242-a67d-433f-9f23-b98bc0cb564a\", \"xaxis\": \"x2\", \"yaxis\": \"y2\"}, {\"marker\": {\"color\": \"rgba(10, 11, 196, 0.6)\"}, \"orientation\": \"h\", \"showlegend\": false, \"x\": [120501250.0, 84811428.57142857, 162625612.24489796, 67628571.42857143, 187715593.22033897, 73847407.4074074, 94744666.66666667, 68600909.0909091, 117374687.5, 133291321.00870502], \"y\": [\"Southern Europe\", \"Western Asia\", \"South America\", \"Eastern Europe\", \"Eastern Asia\", \"Northern Europe\", \"Western Europe\", \"Southern Asia\", \"Southeast Asia\", \"Northern America\"], \"type\": \"bar\", \"uid\": \"e243001e-f5a6-44fc-aac4-ec65bc08f156\", \"xaxis\": \"x3\", \"yaxis\": \"y3\"}], {\"annotations\": [{\"font\": {\"size\": 16}, \"showarrow\": false, \"text\": \"Sub-Continent - Count\", \"x\": 0.14444444444444446, \"xanchor\": \"center\", \"xref\": \"paper\", \"y\": 1.0, \"yanchor\": \"bottom\", \"yref\": \"paper\"}, {\"font\": {\"size\": 16}, \"showarrow\": false, \"text\": \"Sub-Continent - Non-zero Revenue Count\", \"x\": 0.5, \"xanchor\": \"center\", \"xref\": \"paper\", \"y\": 1.0, \"yanchor\": \"bottom\", \"yref\": \"paper\"}, {\"font\": {\"size\": 16}, \"showarrow\": false, \"text\": \"Sub-Continent - Mean Revenue\", \"x\": 0.8555555555555556, \"xanchor\": \"center\", \"xref\": \"paper\", \"y\": 1.0, \"yanchor\": \"bottom\", \"yref\": \"paper\"}], \"xaxis\": {\"anchor\": \"y\", \"domain\": [0.0, 0.2888888888888889]}, \"yaxis\": {\"anchor\": \"x\", \"domain\": [0.0, 1.0]}, \"xaxis2\": {\"anchor\": \"y2\", \"domain\": [0.35555555555555557, 0.6444444444444445]}, \"yaxis2\": {\"anchor\": \"x2\", \"domain\": [0.0, 1.0]}, \"xaxis3\": {\"anchor\": \"y3\", \"domain\": [0.7111111111111111, 1.0]}, \"yaxis3\": {\"anchor\": \"x3\", \"domain\": [0.0, 1.0]}, \"height\": 400, \"width\": 1800, \"paper_bgcolor\": \"rgb(233,233,233)\", \"title\": \"Geonetwork Sub-Continent Plots\"}, {\"showLink\": true, \"linkText\": \"Export to plot.ly\", \"plotlyServerURL\": \"https://plot.ly\"})});</script>"
      ],
      "text/vnd.plotly.v1+html": [
       "<div id=\"8f13bb9f-f376-4e17-b37b-94a93255a43a\" style=\"height: 400px; width: 1800px;\" class=\"plotly-graph-div\"></div><script type=\"text/javascript\">require([\"plotly\"], function(Plotly) { window.PLOTLYENV=window.PLOTLYENV || {};window.PLOTLYENV.BASE_URL=\"https://plot.ly\";Plotly.newPlot(\"8f13bb9f-f376-4e17-b37b-94a93255a43a\", [{\"marker\": {\"color\": \"rgba(150, 71, 96, 0.6)\"}, \"orientation\": \"h\", \"showlegend\": false, \"x\": [35780, 38443, 41731, 45249, 46919, 58168, 59114, 59321, 77800, 390657], \"y\": [\"Southern Europe\", \"Western Asia\", \"South America\", \"Eastern Europe\", \"Eastern Asia\", \"Northern Europe\", \"Western Europe\", \"Southern Asia\", \"Southeast Asia\", \"Northern America\"], \"type\": \"bar\", \"uid\": \"4ca26eca-569f-461a-a086-d7206b415cbe\", \"xaxis\": \"x\", \"yaxis\": \"y\"}, {\"marker\": {\"color\": \"rgba(50, 171, 96, 0.6)\"}, \"orientation\": \"h\", \"showlegend\": false, \"x\": [8, 21, 98, 14, 59, 27, 30, 11, 32, 11143], \"y\": [\"Southern Europe\", \"Western Asia\", \"South America\", \"Eastern Europe\", \"Eastern Asia\", \"Northern Europe\", \"Western Europe\", \"Southern Asia\", \"Southeast Asia\", \"Northern America\"], \"type\": \"bar\", \"uid\": \"6c697242-a67d-433f-9f23-b98bc0cb564a\", \"xaxis\": \"x2\", \"yaxis\": \"y2\"}, {\"marker\": {\"color\": \"rgba(10, 11, 196, 0.6)\"}, \"orientation\": \"h\", \"showlegend\": false, \"x\": [120501250.0, 84811428.57142857, 162625612.24489796, 67628571.42857143, 187715593.22033897, 73847407.4074074, 94744666.66666667, 68600909.0909091, 117374687.5, 133291321.00870502], \"y\": [\"Southern Europe\", \"Western Asia\", \"South America\", \"Eastern Europe\", \"Eastern Asia\", \"Northern Europe\", \"Western Europe\", \"Southern Asia\", \"Southeast Asia\", \"Northern America\"], \"type\": \"bar\", \"uid\": \"e243001e-f5a6-44fc-aac4-ec65bc08f156\", \"xaxis\": \"x3\", \"yaxis\": \"y3\"}], {\"annotations\": [{\"font\": {\"size\": 16}, \"showarrow\": false, \"text\": \"Sub-Continent - Count\", \"x\": 0.14444444444444446, \"xanchor\": \"center\", \"xref\": \"paper\", \"y\": 1.0, \"yanchor\": \"bottom\", \"yref\": \"paper\"}, {\"font\": {\"size\": 16}, \"showarrow\": false, \"text\": \"Sub-Continent - Non-zero Revenue Count\", \"x\": 0.5, \"xanchor\": \"center\", \"xref\": \"paper\", \"y\": 1.0, \"yanchor\": \"bottom\", \"yref\": \"paper\"}, {\"font\": {\"size\": 16}, \"showarrow\": false, \"text\": \"Sub-Continent - Mean Revenue\", \"x\": 0.8555555555555556, \"xanchor\": \"center\", \"xref\": \"paper\", \"y\": 1.0, \"yanchor\": \"bottom\", \"yref\": \"paper\"}], \"xaxis\": {\"anchor\": \"y\", \"domain\": [0.0, 0.2888888888888889]}, \"yaxis\": {\"anchor\": \"x\", \"domain\": [0.0, 1.0]}, \"xaxis2\": {\"anchor\": \"y2\", \"domain\": [0.35555555555555557, 0.6444444444444445]}, \"yaxis2\": {\"anchor\": \"x2\", \"domain\": [0.0, 1.0]}, \"xaxis3\": {\"anchor\": \"y3\", \"domain\": [0.7111111111111111, 1.0]}, \"yaxis3\": {\"anchor\": \"x3\", \"domain\": [0.0, 1.0]}, \"height\": 400, \"width\": 1800, \"paper_bgcolor\": \"rgb(233,233,233)\", \"title\": \"Geonetwork Sub-Continent Plots\"}, {\"showLink\": true, \"linkText\": \"Export to plot.ly\", \"plotlyServerURL\": \"https://plot.ly\"})});</script>"
      ]
     },
     "metadata": {},
     "output_type": "display_data"
    }
   ],
   "source": [
    "fig['layout'].update(height=400, width=1800, paper_bgcolor='rgb(233,233,233)', title=\"Geonetwork Sub-Continent Plots\")\n",
    "py.iplot(fig, filename='geonetwork-subcontinent-plots')"
   ]
  },
  {
   "cell_type": "markdown",
   "metadata": {},
   "source": [
    "#### From the above analysis, we can see that\n",
    "-  In the sub-continent plot, we can see that America has both higher number of counts as well as highest number of counts where the revenue is non-zero\n",
    "-  Though Asia and Europe has high number of counts, the number of non-zero revenue counts from these continents are comparatively low.\n",
    "-  The mean revenue of eastern Asia is the highest even though the non-zero revenue count is very less."
   ]
  },
  {
   "cell_type": "markdown",
   "metadata": {},
   "source": [
    "#### City"
   ]
  },
  {
   "cell_type": "code",
   "execution_count": 79,
   "metadata": {},
   "outputs": [],
   "source": [
    "counts = train_df.groupby('geoNetwork.city')['totals.transactionRevenue'].agg(['size', 'count', 'mean'])\n",
    "counts.columns = [\"count\", \"count of non-zero revenue\", \"mean\"]\n",
    "counts = counts.sort_values(by=\"count\", ascending=False)\n",
    "graph1 = bar_graph(counts[\"count\"].head(10), 'rgba(150, 71, 96, 0.6)')\n",
    "graph2 = bar_graph(counts[\"count of non-zero revenue\"].head(10), 'rgba(50, 171, 96, 0.6)')\n",
    "graph3 = bar_graph(counts[\"mean\"].head(10), 'rgba(10, 11, 196, 0.6)')"
   ]
  },
  {
   "cell_type": "code",
   "execution_count": 80,
   "metadata": {},
   "outputs": [
    {
     "name": "stdout",
     "output_type": "stream",
     "text": [
      "This is the format of your plot grid:\n",
      "[ (1,1) x1,y1 ]  [ (1,2) x2,y2 ]  [ (1,3) x3,y3 ]\n",
      "\n"
     ]
    }
   ],
   "source": [
    "fig = tools.make_subplots(rows=1, cols=3, vertical_spacing=0.04, \n",
    "                          subplot_titles=[\"City - Count\", \"City - Non-zero Revenue Count\", \"City - Mean Revenue\"])"
   ]
  },
  {
   "cell_type": "code",
   "execution_count": 81,
   "metadata": {},
   "outputs": [],
   "source": [
    "fig.append_trace(graph1, 1, 1)\n",
    "fig.append_trace(graph2, 1, 2)\n",
    "fig.append_trace(graph3, 1, 3)"
   ]
  },
  {
   "cell_type": "code",
   "execution_count": 82,
   "metadata": {},
   "outputs": [
    {
     "data": {
      "application/vnd.plotly.v1+json": {
       "config": {
        "linkText": "Export to plot.ly",
        "plotlyServerURL": "https://plot.ly",
        "showLink": true
       },
       "data": [
        {
         "marker": {
          "color": "rgba(150, 71, 96, 0.6)"
         },
         "orientation": "h",
         "showlegend": false,
         "type": "bar",
         "uid": "717f2112-1c14-4f81-be2f-79f72ce7ab76",
         "x": [
          7709,
          8670,
          10295,
          12607,
          13086,
          20329,
          26371,
          34262,
          40884,
          508229
         ],
         "xaxis": "x",
         "y": [
          "Bangkok",
          "Los Angeles",
          "San Jose",
          "London",
          "Sunnyvale",
          "San Francisco",
          "New York",
          "(not set)",
          "Mountain View",
          "not available in demo dataset"
         ],
         "yaxis": "y"
        },
        {
         "marker": {
          "color": "rgba(50, 171, 96, 0.6)"
         },
         "orientation": "h",
         "showlegend": false,
         "type": "bar",
         "uid": "1c6c1f1c-06ad-4f44-8da1-d480e5cca4ea",
         "x": [
          2,
          289,
          202,
          11,
          455,
          729,
          1506,
          49,
          1209,
          4579
         ],
         "xaxis": "x2",
         "y": [
          "Bangkok",
          "Los Angeles",
          "San Jose",
          "London",
          "Sunnyvale",
          "San Francisco",
          "New York",
          "(not set)",
          "Mountain View",
          "not available in demo dataset"
         ],
         "yaxis": "y2"
        },
        {
         "marker": {
          "color": "rgba(10, 11, 196, 0.6)"
         },
         "orientation": "h",
         "showlegend": false,
         "type": "bar",
         "uid": "d3a48823-406e-4cfa-9969-9918bed8d4da",
         "x": [
          82460000,
          144970000,
          92718712.87128712,
          132727272.72727273,
          86579296.7032967,
          138373058.98491085,
          146177629.48207173,
          88879387.75510204,
          104304119.10669975,
          141114022.7123826
         ],
         "xaxis": "x3",
         "y": [
          "Bangkok",
          "Los Angeles",
          "San Jose",
          "London",
          "Sunnyvale",
          "San Francisco",
          "New York",
          "(not set)",
          "Mountain View",
          "not available in demo dataset"
         ],
         "yaxis": "y3"
        }
       ],
       "layout": {
        "annotations": [
         {
          "font": {
           "size": 16
          },
          "showarrow": false,
          "text": "City - Count",
          "x": 0.14444444444444446,
          "xanchor": "center",
          "xref": "paper",
          "y": 1,
          "yanchor": "bottom",
          "yref": "paper"
         },
         {
          "font": {
           "size": 16
          },
          "showarrow": false,
          "text": "City - Non-zero Revenue Count",
          "x": 0.5,
          "xanchor": "center",
          "xref": "paper",
          "y": 1,
          "yanchor": "bottom",
          "yref": "paper"
         },
         {
          "font": {
           "size": 16
          },
          "showarrow": false,
          "text": "City - Mean Revenue",
          "x": 0.8555555555555556,
          "xanchor": "center",
          "xref": "paper",
          "y": 1,
          "yanchor": "bottom",
          "yref": "paper"
         }
        ],
        "height": 400,
        "paper_bgcolor": "rgb(233,233,233)",
        "title": "Geonetwork City Plots",
        "width": 1800,
        "xaxis": {
         "anchor": "y",
         "domain": [
          0,
          0.2888888888888889
         ]
        },
        "xaxis2": {
         "anchor": "y2",
         "domain": [
          0.35555555555555557,
          0.6444444444444445
         ]
        },
        "xaxis3": {
         "anchor": "y3",
         "domain": [
          0.7111111111111111,
          1
         ]
        },
        "yaxis": {
         "anchor": "x",
         "domain": [
          0,
          1
         ]
        },
        "yaxis2": {
         "anchor": "x2",
         "domain": [
          0,
          1
         ]
        },
        "yaxis3": {
         "anchor": "x3",
         "domain": [
          0,
          1
         ]
        }
       }
      },
      "text/html": [
       "<div id=\"a61fe12b-c4d6-4b94-aca7-8f9ba0e10627\" style=\"height: 400px; width: 1800px;\" class=\"plotly-graph-div\"></div><script type=\"text/javascript\">require([\"plotly\"], function(Plotly) { window.PLOTLYENV=window.PLOTLYENV || {};window.PLOTLYENV.BASE_URL=\"https://plot.ly\";Plotly.newPlot(\"a61fe12b-c4d6-4b94-aca7-8f9ba0e10627\", [{\"marker\": {\"color\": \"rgba(150, 71, 96, 0.6)\"}, \"orientation\": \"h\", \"showlegend\": false, \"x\": [7709, 8670, 10295, 12607, 13086, 20329, 26371, 34262, 40884, 508229], \"y\": [\"Bangkok\", \"Los Angeles\", \"San Jose\", \"London\", \"Sunnyvale\", \"San Francisco\", \"New York\", \"(not set)\", \"Mountain View\", \"not available in demo dataset\"], \"type\": \"bar\", \"uid\": \"717f2112-1c14-4f81-be2f-79f72ce7ab76\", \"xaxis\": \"x\", \"yaxis\": \"y\"}, {\"marker\": {\"color\": \"rgba(50, 171, 96, 0.6)\"}, \"orientation\": \"h\", \"showlegend\": false, \"x\": [2, 289, 202, 11, 455, 729, 1506, 49, 1209, 4579], \"y\": [\"Bangkok\", \"Los Angeles\", \"San Jose\", \"London\", \"Sunnyvale\", \"San Francisco\", \"New York\", \"(not set)\", \"Mountain View\", \"not available in demo dataset\"], \"type\": \"bar\", \"uid\": \"1c6c1f1c-06ad-4f44-8da1-d480e5cca4ea\", \"xaxis\": \"x2\", \"yaxis\": \"y2\"}, {\"marker\": {\"color\": \"rgba(10, 11, 196, 0.6)\"}, \"orientation\": \"h\", \"showlegend\": false, \"x\": [82460000.0, 144970000.0, 92718712.87128712, 132727272.72727273, 86579296.7032967, 138373058.98491085, 146177629.48207173, 88879387.75510204, 104304119.10669975, 141114022.7123826], \"y\": [\"Bangkok\", \"Los Angeles\", \"San Jose\", \"London\", \"Sunnyvale\", \"San Francisco\", \"New York\", \"(not set)\", \"Mountain View\", \"not available in demo dataset\"], \"type\": \"bar\", \"uid\": \"d3a48823-406e-4cfa-9969-9918bed8d4da\", \"xaxis\": \"x3\", \"yaxis\": \"y3\"}], {\"annotations\": [{\"font\": {\"size\": 16}, \"showarrow\": false, \"text\": \"City - Count\", \"x\": 0.14444444444444446, \"xanchor\": \"center\", \"xref\": \"paper\", \"y\": 1.0, \"yanchor\": \"bottom\", \"yref\": \"paper\"}, {\"font\": {\"size\": 16}, \"showarrow\": false, \"text\": \"City - Non-zero Revenue Count\", \"x\": 0.5, \"xanchor\": \"center\", \"xref\": \"paper\", \"y\": 1.0, \"yanchor\": \"bottom\", \"yref\": \"paper\"}, {\"font\": {\"size\": 16}, \"showarrow\": false, \"text\": \"City - Mean Revenue\", \"x\": 0.8555555555555556, \"xanchor\": \"center\", \"xref\": \"paper\", \"y\": 1.0, \"yanchor\": \"bottom\", \"yref\": \"paper\"}], \"xaxis\": {\"anchor\": \"y\", \"domain\": [0.0, 0.2888888888888889]}, \"yaxis\": {\"anchor\": \"x\", \"domain\": [0.0, 1.0]}, \"xaxis2\": {\"anchor\": \"y2\", \"domain\": [0.35555555555555557, 0.6444444444444445]}, \"yaxis2\": {\"anchor\": \"x2\", \"domain\": [0.0, 1.0]}, \"xaxis3\": {\"anchor\": \"y3\", \"domain\": [0.7111111111111111, 1.0]}, \"yaxis3\": {\"anchor\": \"x3\", \"domain\": [0.0, 1.0]}, \"height\": 400, \"width\": 1800, \"paper_bgcolor\": \"rgb(233,233,233)\", \"title\": \"Geonetwork City Plots\"}, {\"showLink\": true, \"linkText\": \"Export to plot.ly\", \"plotlyServerURL\": \"https://plot.ly\"})});</script>"
      ],
      "text/vnd.plotly.v1+html": [
       "<div id=\"a61fe12b-c4d6-4b94-aca7-8f9ba0e10627\" style=\"height: 400px; width: 1800px;\" class=\"plotly-graph-div\"></div><script type=\"text/javascript\">require([\"plotly\"], function(Plotly) { window.PLOTLYENV=window.PLOTLYENV || {};window.PLOTLYENV.BASE_URL=\"https://plot.ly\";Plotly.newPlot(\"a61fe12b-c4d6-4b94-aca7-8f9ba0e10627\", [{\"marker\": {\"color\": \"rgba(150, 71, 96, 0.6)\"}, \"orientation\": \"h\", \"showlegend\": false, \"x\": [7709, 8670, 10295, 12607, 13086, 20329, 26371, 34262, 40884, 508229], \"y\": [\"Bangkok\", \"Los Angeles\", \"San Jose\", \"London\", \"Sunnyvale\", \"San Francisco\", \"New York\", \"(not set)\", \"Mountain View\", \"not available in demo dataset\"], \"type\": \"bar\", \"uid\": \"717f2112-1c14-4f81-be2f-79f72ce7ab76\", \"xaxis\": \"x\", \"yaxis\": \"y\"}, {\"marker\": {\"color\": \"rgba(50, 171, 96, 0.6)\"}, \"orientation\": \"h\", \"showlegend\": false, \"x\": [2, 289, 202, 11, 455, 729, 1506, 49, 1209, 4579], \"y\": [\"Bangkok\", \"Los Angeles\", \"San Jose\", \"London\", \"Sunnyvale\", \"San Francisco\", \"New York\", \"(not set)\", \"Mountain View\", \"not available in demo dataset\"], \"type\": \"bar\", \"uid\": \"1c6c1f1c-06ad-4f44-8da1-d480e5cca4ea\", \"xaxis\": \"x2\", \"yaxis\": \"y2\"}, {\"marker\": {\"color\": \"rgba(10, 11, 196, 0.6)\"}, \"orientation\": \"h\", \"showlegend\": false, \"x\": [82460000.0, 144970000.0, 92718712.87128712, 132727272.72727273, 86579296.7032967, 138373058.98491085, 146177629.48207173, 88879387.75510204, 104304119.10669975, 141114022.7123826], \"y\": [\"Bangkok\", \"Los Angeles\", \"San Jose\", \"London\", \"Sunnyvale\", \"San Francisco\", \"New York\", \"(not set)\", \"Mountain View\", \"not available in demo dataset\"], \"type\": \"bar\", \"uid\": \"d3a48823-406e-4cfa-9969-9918bed8d4da\", \"xaxis\": \"x3\", \"yaxis\": \"y3\"}], {\"annotations\": [{\"font\": {\"size\": 16}, \"showarrow\": false, \"text\": \"City - Count\", \"x\": 0.14444444444444446, \"xanchor\": \"center\", \"xref\": \"paper\", \"y\": 1.0, \"yanchor\": \"bottom\", \"yref\": \"paper\"}, {\"font\": {\"size\": 16}, \"showarrow\": false, \"text\": \"City - Non-zero Revenue Count\", \"x\": 0.5, \"xanchor\": \"center\", \"xref\": \"paper\", \"y\": 1.0, \"yanchor\": \"bottom\", \"yref\": \"paper\"}, {\"font\": {\"size\": 16}, \"showarrow\": false, \"text\": \"City - Mean Revenue\", \"x\": 0.8555555555555556, \"xanchor\": \"center\", \"xref\": \"paper\", \"y\": 1.0, \"yanchor\": \"bottom\", \"yref\": \"paper\"}], \"xaxis\": {\"anchor\": \"y\", \"domain\": [0.0, 0.2888888888888889]}, \"yaxis\": {\"anchor\": \"x\", \"domain\": [0.0, 1.0]}, \"xaxis2\": {\"anchor\": \"y2\", \"domain\": [0.35555555555555557, 0.6444444444444445]}, \"yaxis2\": {\"anchor\": \"x2\", \"domain\": [0.0, 1.0]}, \"xaxis3\": {\"anchor\": \"y3\", \"domain\": [0.7111111111111111, 1.0]}, \"yaxis3\": {\"anchor\": \"x3\", \"domain\": [0.0, 1.0]}, \"height\": 400, \"width\": 1800, \"paper_bgcolor\": \"rgb(233,233,233)\", \"title\": \"Geonetwork City Plots\"}, {\"showLink\": true, \"linkText\": \"Export to plot.ly\", \"plotlyServerURL\": \"https://plot.ly\"})});</script>"
      ]
     },
     "metadata": {},
     "output_type": "display_data"
    }
   ],
   "source": [
    "fig['layout'].update(height=400, width=1800, paper_bgcolor='rgb(233,233,233)', title=\"Geonetwork City Plots\")\n",
    "py.iplot(fig, filename='geonetwork-city-plots')"
   ]
  },
  {
   "cell_type": "markdown",
   "metadata": {},
   "source": [
    "#### From the above analysis, we can see that\n",
    "-  In the city plot, we can see that most entries are not available, which can cause infering incoreect information from the plot."
   ]
  },
  {
   "cell_type": "markdown",
   "metadata": {},
   "source": [
    "#### Country"
   ]
  },
  {
   "cell_type": "code",
   "execution_count": 83,
   "metadata": {},
   "outputs": [],
   "source": [
    "counts = train_df.groupby('geoNetwork.country')['totals.transactionRevenue'].agg(['size', 'count', 'mean'])\n",
    "counts.columns = [\"count\", \"count of non-zero revenue\", \"mean\"]\n",
    "counts = counts.sort_values(by=\"count\", ascending=False)\n",
    "graph1 = bar_graph(counts[\"count\"].head(10), 'rgba(150, 71, 96, 0.6)')\n",
    "graph2 = bar_graph(counts[\"count of non-zero revenue\"].head(10), 'rgba(50, 171, 96, 0.6)')\n",
    "graph3 = bar_graph(counts[\"mean\"].head(10), 'rgba(10, 11, 196, 0.6)')"
   ]
  },
  {
   "cell_type": "code",
   "execution_count": 84,
   "metadata": {},
   "outputs": [
    {
     "name": "stdout",
     "output_type": "stream",
     "text": [
      "This is the format of your plot grid:\n",
      "[ (1,1) x1,y1 ]  [ (1,2) x2,y2 ]  [ (1,3) x3,y3 ]\n",
      "\n"
     ]
    }
   ],
   "source": [
    "fig = tools.make_subplots(rows=1, cols=3, vertical_spacing=0.04, \n",
    "                          subplot_titles=[\"Country - Count\", \"Country - Non-zero Revenue Count\", \"Country - Mean Revenue\"])"
   ]
  },
  {
   "cell_type": "code",
   "execution_count": 85,
   "metadata": {},
   "outputs": [],
   "source": [
    "fig.append_trace(graph1, 1, 1)\n",
    "fig.append_trace(graph2, 1, 2)\n",
    "fig.append_trace(graph3, 1, 3)"
   ]
  },
  {
   "cell_type": "code",
   "execution_count": 86,
   "metadata": {},
   "outputs": [
    {
     "data": {
      "application/vnd.plotly.v1+json": {
       "config": {
        "linkText": "Export to plot.ly",
        "plotlyServerURL": "https://plot.ly",
        "showLink": true
       },
       "data": [
        {
         "marker": {
          "color": "rgba(150, 71, 96, 0.6)"
         },
         "orientation": "h",
         "showlegend": false,
         "type": "bar",
         "uid": "3d6d651f-d3eb-40f5-bf20-28e3c0ae1142",
         "x": [
          19731,
          19783,
          19980,
          20123,
          20522,
          24598,
          25869,
          37393,
          51140,
          364744
         ],
         "xaxis": "x",
         "y": [
          "Japan",
          "Brazil",
          "Germany",
          "Thailand",
          "Turkey",
          "Vietnam",
          "Canada",
          "United Kingdom",
          "India",
          "United States"
         ],
         "yaxis": "y"
        },
        {
         "marker": {
          "color": "rgba(50, 171, 96, 0.6)"
         },
         "orientation": "h",
         "showlegend": false,
         "type": "bar",
         "uid": "d743df64-2006-42c1-91c4-78c8d006f57c",
         "x": [
          17,
          10,
          8,
          5,
          2,
          0,
          190,
          16,
          10,
          10953
         ],
         "xaxis": "x2",
         "y": [
          "Japan",
          "Brazil",
          "Germany",
          "Thailand",
          "Turkey",
          "Vietnam",
          "Canada",
          "United Kingdom",
          "India",
          "United States"
         ],
         "yaxis": "y2"
        },
        {
         "marker": {
          "color": "rgba(10, 11, 196, 0.6)"
         },
         "orientation": "h",
         "showlegend": false,
         "type": "bar",
         "uid": "0efe38a7-9e54-4517-96ea-41fc02518a57",
         "x": [
          395822941.1764706,
          64183000,
          68667500,
          92542000,
          51205000,
          null,
          172760736.84210527,
          105590625,
          69666000,
          132606651.14580481
         ],
         "xaxis": "x3",
         "y": [
          "Japan",
          "Brazil",
          "Germany",
          "Thailand",
          "Turkey",
          "Vietnam",
          "Canada",
          "United Kingdom",
          "India",
          "United States"
         ],
         "yaxis": "y3"
        }
       ],
       "layout": {
        "annotations": [
         {
          "font": {
           "size": 16
          },
          "showarrow": false,
          "text": "Country - Count",
          "x": 0.14444444444444446,
          "xanchor": "center",
          "xref": "paper",
          "y": 1,
          "yanchor": "bottom",
          "yref": "paper"
         },
         {
          "font": {
           "size": 16
          },
          "showarrow": false,
          "text": "Country - Non-zero Revenue Count",
          "x": 0.5,
          "xanchor": "center",
          "xref": "paper",
          "y": 1,
          "yanchor": "bottom",
          "yref": "paper"
         },
         {
          "font": {
           "size": 16
          },
          "showarrow": false,
          "text": "Country - Mean Revenue",
          "x": 0.8555555555555556,
          "xanchor": "center",
          "xref": "paper",
          "y": 1,
          "yanchor": "bottom",
          "yref": "paper"
         }
        ],
        "height": 400,
        "paper_bgcolor": "rgb(233,233,233)",
        "title": "Geonetwork Country Plots",
        "width": 1800,
        "xaxis": {
         "anchor": "y",
         "domain": [
          0,
          0.2888888888888889
         ]
        },
        "xaxis2": {
         "anchor": "y2",
         "domain": [
          0.35555555555555557,
          0.6444444444444445
         ]
        },
        "xaxis3": {
         "anchor": "y3",
         "domain": [
          0.7111111111111111,
          1
         ]
        },
        "yaxis": {
         "anchor": "x",
         "domain": [
          0,
          1
         ]
        },
        "yaxis2": {
         "anchor": "x2",
         "domain": [
          0,
          1
         ]
        },
        "yaxis3": {
         "anchor": "x3",
         "domain": [
          0,
          1
         ]
        }
       }
      },
      "text/html": [
       "<div id=\"50a8fb6a-32d7-4740-bbc1-7bd21277d9a0\" style=\"height: 400px; width: 1800px;\" class=\"plotly-graph-div\"></div><script type=\"text/javascript\">require([\"plotly\"], function(Plotly) { window.PLOTLYENV=window.PLOTLYENV || {};window.PLOTLYENV.BASE_URL=\"https://plot.ly\";Plotly.newPlot(\"50a8fb6a-32d7-4740-bbc1-7bd21277d9a0\", [{\"marker\": {\"color\": \"rgba(150, 71, 96, 0.6)\"}, \"orientation\": \"h\", \"showlegend\": false, \"x\": [19731, 19783, 19980, 20123, 20522, 24598, 25869, 37393, 51140, 364744], \"y\": [\"Japan\", \"Brazil\", \"Germany\", \"Thailand\", \"Turkey\", \"Vietnam\", \"Canada\", \"United Kingdom\", \"India\", \"United States\"], \"type\": \"bar\", \"uid\": \"3d6d651f-d3eb-40f5-bf20-28e3c0ae1142\", \"xaxis\": \"x\", \"yaxis\": \"y\"}, {\"marker\": {\"color\": \"rgba(50, 171, 96, 0.6)\"}, \"orientation\": \"h\", \"showlegend\": false, \"x\": [17, 10, 8, 5, 2, 0, 190, 16, 10, 10953], \"y\": [\"Japan\", \"Brazil\", \"Germany\", \"Thailand\", \"Turkey\", \"Vietnam\", \"Canada\", \"United Kingdom\", \"India\", \"United States\"], \"type\": \"bar\", \"uid\": \"d743df64-2006-42c1-91c4-78c8d006f57c\", \"xaxis\": \"x2\", \"yaxis\": \"y2\"}, {\"marker\": {\"color\": \"rgba(10, 11, 196, 0.6)\"}, \"orientation\": \"h\", \"showlegend\": false, \"x\": [395822941.1764706, 64183000.0, 68667500.0, 92542000.0, 51205000.0, null, 172760736.84210527, 105590625.0, 69666000.0, 132606651.14580481], \"y\": [\"Japan\", \"Brazil\", \"Germany\", \"Thailand\", \"Turkey\", \"Vietnam\", \"Canada\", \"United Kingdom\", \"India\", \"United States\"], \"type\": \"bar\", \"uid\": \"0efe38a7-9e54-4517-96ea-41fc02518a57\", \"xaxis\": \"x3\", \"yaxis\": \"y3\"}], {\"annotations\": [{\"font\": {\"size\": 16}, \"showarrow\": false, \"text\": \"Country - Count\", \"x\": 0.14444444444444446, \"xanchor\": \"center\", \"xref\": \"paper\", \"y\": 1.0, \"yanchor\": \"bottom\", \"yref\": \"paper\"}, {\"font\": {\"size\": 16}, \"showarrow\": false, \"text\": \"Country - Non-zero Revenue Count\", \"x\": 0.5, \"xanchor\": \"center\", \"xref\": \"paper\", \"y\": 1.0, \"yanchor\": \"bottom\", \"yref\": \"paper\"}, {\"font\": {\"size\": 16}, \"showarrow\": false, \"text\": \"Country - Mean Revenue\", \"x\": 0.8555555555555556, \"xanchor\": \"center\", \"xref\": \"paper\", \"y\": 1.0, \"yanchor\": \"bottom\", \"yref\": \"paper\"}], \"xaxis\": {\"anchor\": \"y\", \"domain\": [0.0, 0.2888888888888889]}, \"yaxis\": {\"anchor\": \"x\", \"domain\": [0.0, 1.0]}, \"xaxis2\": {\"anchor\": \"y2\", \"domain\": [0.35555555555555557, 0.6444444444444445]}, \"yaxis2\": {\"anchor\": \"x2\", \"domain\": [0.0, 1.0]}, \"xaxis3\": {\"anchor\": \"y3\", \"domain\": [0.7111111111111111, 1.0]}, \"yaxis3\": {\"anchor\": \"x3\", \"domain\": [0.0, 1.0]}, \"height\": 400, \"width\": 1800, \"paper_bgcolor\": \"rgb(233,233,233)\", \"title\": \"Geonetwork Country Plots\"}, {\"showLink\": true, \"linkText\": \"Export to plot.ly\", \"plotlyServerURL\": \"https://plot.ly\"})});</script>"
      ],
      "text/vnd.plotly.v1+html": [
       "<div id=\"50a8fb6a-32d7-4740-bbc1-7bd21277d9a0\" style=\"height: 400px; width: 1800px;\" class=\"plotly-graph-div\"></div><script type=\"text/javascript\">require([\"plotly\"], function(Plotly) { window.PLOTLYENV=window.PLOTLYENV || {};window.PLOTLYENV.BASE_URL=\"https://plot.ly\";Plotly.newPlot(\"50a8fb6a-32d7-4740-bbc1-7bd21277d9a0\", [{\"marker\": {\"color\": \"rgba(150, 71, 96, 0.6)\"}, \"orientation\": \"h\", \"showlegend\": false, \"x\": [19731, 19783, 19980, 20123, 20522, 24598, 25869, 37393, 51140, 364744], \"y\": [\"Japan\", \"Brazil\", \"Germany\", \"Thailand\", \"Turkey\", \"Vietnam\", \"Canada\", \"United Kingdom\", \"India\", \"United States\"], \"type\": \"bar\", \"uid\": \"3d6d651f-d3eb-40f5-bf20-28e3c0ae1142\", \"xaxis\": \"x\", \"yaxis\": \"y\"}, {\"marker\": {\"color\": \"rgba(50, 171, 96, 0.6)\"}, \"orientation\": \"h\", \"showlegend\": false, \"x\": [17, 10, 8, 5, 2, 0, 190, 16, 10, 10953], \"y\": [\"Japan\", \"Brazil\", \"Germany\", \"Thailand\", \"Turkey\", \"Vietnam\", \"Canada\", \"United Kingdom\", \"India\", \"United States\"], \"type\": \"bar\", \"uid\": \"d743df64-2006-42c1-91c4-78c8d006f57c\", \"xaxis\": \"x2\", \"yaxis\": \"y2\"}, {\"marker\": {\"color\": \"rgba(10, 11, 196, 0.6)\"}, \"orientation\": \"h\", \"showlegend\": false, \"x\": [395822941.1764706, 64183000.0, 68667500.0, 92542000.0, 51205000.0, null, 172760736.84210527, 105590625.0, 69666000.0, 132606651.14580481], \"y\": [\"Japan\", \"Brazil\", \"Germany\", \"Thailand\", \"Turkey\", \"Vietnam\", \"Canada\", \"United Kingdom\", \"India\", \"United States\"], \"type\": \"bar\", \"uid\": \"0efe38a7-9e54-4517-96ea-41fc02518a57\", \"xaxis\": \"x3\", \"yaxis\": \"y3\"}], {\"annotations\": [{\"font\": {\"size\": 16}, \"showarrow\": false, \"text\": \"Country - Count\", \"x\": 0.14444444444444446, \"xanchor\": \"center\", \"xref\": \"paper\", \"y\": 1.0, \"yanchor\": \"bottom\", \"yref\": \"paper\"}, {\"font\": {\"size\": 16}, \"showarrow\": false, \"text\": \"Country - Non-zero Revenue Count\", \"x\": 0.5, \"xanchor\": \"center\", \"xref\": \"paper\", \"y\": 1.0, \"yanchor\": \"bottom\", \"yref\": \"paper\"}, {\"font\": {\"size\": 16}, \"showarrow\": false, \"text\": \"Country - Mean Revenue\", \"x\": 0.8555555555555556, \"xanchor\": \"center\", \"xref\": \"paper\", \"y\": 1.0, \"yanchor\": \"bottom\", \"yref\": \"paper\"}], \"xaxis\": {\"anchor\": \"y\", \"domain\": [0.0, 0.2888888888888889]}, \"yaxis\": {\"anchor\": \"x\", \"domain\": [0.0, 1.0]}, \"xaxis2\": {\"anchor\": \"y2\", \"domain\": [0.35555555555555557, 0.6444444444444445]}, \"yaxis2\": {\"anchor\": \"x2\", \"domain\": [0.0, 1.0]}, \"xaxis3\": {\"anchor\": \"y3\", \"domain\": [0.7111111111111111, 1.0]}, \"yaxis3\": {\"anchor\": \"x3\", \"domain\": [0.0, 1.0]}, \"height\": 400, \"width\": 1800, \"paper_bgcolor\": \"rgb(233,233,233)\", \"title\": \"Geonetwork Country Plots\"}, {\"showLink\": true, \"linkText\": \"Export to plot.ly\", \"plotlyServerURL\": \"https://plot.ly\"})});</script>"
      ]
     },
     "metadata": {},
     "output_type": "display_data"
    }
   ],
   "source": [
    "fig['layout'].update(height=400, width=1800, paper_bgcolor='rgb(233,233,233)', title=\"Geonetwork Country Plots\")\n",
    "py.iplot(fig, filename='geonetwork-country-plots')"
   ]
  },
  {
   "cell_type": "markdown",
   "metadata": {},
   "source": [
    "#### From the above analysis, we can see that\n",
    "-  In the country plot, we can see that United states has the most entries while the mean revenue of Japan is the highest."
   ]
  },
  {
   "cell_type": "markdown",
   "metadata": {},
   "source": [
    "#### Network Domain"
   ]
  },
  {
   "cell_type": "code",
   "execution_count": 87,
   "metadata": {},
   "outputs": [],
   "source": [
    "counts = train_df.groupby('geoNetwork.networkDomain')['totals.transactionRevenue'].agg(['size', 'count', 'mean'])\n",
    "counts.columns = [\"count\", \"count of non-zero revenue\", \"mean\"]\n",
    "counts = counts.sort_values(by=\"count\", ascending=False)\n",
    "graph1 = bar_graph(counts[\"count\"].head(10), 'rgba(150, 71, 96, 0.6)')\n",
    "graph2 = bar_graph(counts[\"count of non-zero revenue\"].head(10), 'rgba(50, 171, 96, 0.6)')\n",
    "graph3 = bar_graph(counts[\"mean\"].head(10), 'rgba(10, 11, 196, 0.6)')"
   ]
  },
  {
   "cell_type": "code",
   "execution_count": 88,
   "metadata": {},
   "outputs": [
    {
     "name": "stdout",
     "output_type": "stream",
     "text": [
      "This is the format of your plot grid:\n",
      "[ (1,1) x1,y1 ]  [ (1,2) x2,y2 ]  [ (1,3) x3,y3 ]\n",
      "\n"
     ]
    }
   ],
   "source": [
    "fig = tools.make_subplots(rows=1, cols=3, vertical_spacing=0.04, \n",
    "                          subplot_titles=[\"Network Domain - Count\", \"Network Domain - Non-zero Revenue Count\", \"Network Domain - Mean Revenue\"])"
   ]
  },
  {
   "cell_type": "code",
   "execution_count": 89,
   "metadata": {},
   "outputs": [],
   "source": [
    "fig.append_trace(graph1, 1, 1)\n",
    "fig.append_trace(graph2, 1, 2)\n",
    "fig.append_trace(graph3, 1, 3)"
   ]
  },
  {
   "cell_type": "code",
   "execution_count": 90,
   "metadata": {},
   "outputs": [
    {
     "data": {
      "application/vnd.plotly.v1+json": {
       "config": {
        "linkText": "Export to plot.ly",
        "plotlyServerURL": "https://plot.ly",
        "showLink": true
       },
       "data": [
        {
         "marker": {
          "color": "rgba(150, 71, 96, 0.6)"
         },
         "orientation": "h",
         "showlegend": false,
         "type": "bar",
         "uid": "29a1f55b-ecd8-4b9f-875e-5de833eb288d",
         "x": [
          6046,
          6414,
          7919,
          9985,
          13228,
          13637,
          14827,
          28743,
          146034,
          244881
         ],
         "xaxis": "x",
         "y": [
          "3bb.co.th",
          "virginm.net",
          "hinet.net",
          "comcastbusiness.net",
          "ttnet.com.tr",
          "verizon.net",
          "rr.com",
          "comcast.net",
          "unknown.unknown",
          "(not set)"
         ],
         "yaxis": "y"
        },
        {
         "marker": {
          "color": "rgba(50, 171, 96, 0.6)"
         },
         "orientation": "h",
         "showlegend": false,
         "type": "bar",
         "uid": "0de076e2-f293-4e69-a0c5-74d3a9278be9",
         "x": [
          1,
          1,
          11,
          294,
          1,
          469,
          364,
          934,
          400,
          6645
         ],
         "xaxis": "x2",
         "y": [
          "3bb.co.th",
          "virginm.net",
          "hinet.net",
          "comcastbusiness.net",
          "ttnet.com.tr",
          "verizon.net",
          "rr.com",
          "comcast.net",
          "unknown.unknown",
          "(not set)"
         ],
         "yaxis": "y2"
        },
        {
         "marker": {
          "color": "rgba(10, 11, 196, 0.6)"
         },
         "orientation": "h",
         "showlegend": false,
         "type": "bar",
         "uid": "a62174bd-871a-465b-8871-9da00d902c5c",
         "x": [
          140590000,
          62270000,
          60891818.18181818,
          497096632.6530612,
          17460000,
          112833624.73347548,
          82780714.28571428,
          131873201.28479658,
          87253850,
          127654487.58465011
         ],
         "xaxis": "x3",
         "y": [
          "3bb.co.th",
          "virginm.net",
          "hinet.net",
          "comcastbusiness.net",
          "ttnet.com.tr",
          "verizon.net",
          "rr.com",
          "comcast.net",
          "unknown.unknown",
          "(not set)"
         ],
         "yaxis": "y3"
        }
       ],
       "layout": {
        "annotations": [
         {
          "font": {
           "size": 16
          },
          "showarrow": false,
          "text": "Network Domain - Count",
          "x": 0.14444444444444446,
          "xanchor": "center",
          "xref": "paper",
          "y": 1,
          "yanchor": "bottom",
          "yref": "paper"
         },
         {
          "font": {
           "size": 16
          },
          "showarrow": false,
          "text": "Network Domain - Non-zero Revenue Count",
          "x": 0.5,
          "xanchor": "center",
          "xref": "paper",
          "y": 1,
          "yanchor": "bottom",
          "yref": "paper"
         },
         {
          "font": {
           "size": 16
          },
          "showarrow": false,
          "text": "Network Domain - Mean Revenue",
          "x": 0.8555555555555556,
          "xanchor": "center",
          "xref": "paper",
          "y": 1,
          "yanchor": "bottom",
          "yref": "paper"
         }
        ],
        "height": 400,
        "paper_bgcolor": "rgb(233,233,233)",
        "title": "Network Domain Plots",
        "width": 1600,
        "xaxis": {
         "anchor": "y",
         "domain": [
          0,
          0.2888888888888889
         ]
        },
        "xaxis2": {
         "anchor": "y2",
         "domain": [
          0.35555555555555557,
          0.6444444444444445
         ]
        },
        "xaxis3": {
         "anchor": "y3",
         "domain": [
          0.7111111111111111,
          1
         ]
        },
        "yaxis": {
         "anchor": "x",
         "domain": [
          0,
          1
         ]
        },
        "yaxis2": {
         "anchor": "x2",
         "domain": [
          0,
          1
         ]
        },
        "yaxis3": {
         "anchor": "x3",
         "domain": [
          0,
          1
         ]
        }
       }
      },
      "text/html": [
       "<div id=\"d4f20159-a23a-4e91-a3e7-7aa7c4d454fb\" style=\"height: 400px; width: 1600px;\" class=\"plotly-graph-div\"></div><script type=\"text/javascript\">require([\"plotly\"], function(Plotly) { window.PLOTLYENV=window.PLOTLYENV || {};window.PLOTLYENV.BASE_URL=\"https://plot.ly\";Plotly.newPlot(\"d4f20159-a23a-4e91-a3e7-7aa7c4d454fb\", [{\"marker\": {\"color\": \"rgba(150, 71, 96, 0.6)\"}, \"orientation\": \"h\", \"showlegend\": false, \"x\": [6046, 6414, 7919, 9985, 13228, 13637, 14827, 28743, 146034, 244881], \"y\": [\"3bb.co.th\", \"virginm.net\", \"hinet.net\", \"comcastbusiness.net\", \"ttnet.com.tr\", \"verizon.net\", \"rr.com\", \"comcast.net\", \"unknown.unknown\", \"(not set)\"], \"type\": \"bar\", \"uid\": \"29a1f55b-ecd8-4b9f-875e-5de833eb288d\", \"xaxis\": \"x\", \"yaxis\": \"y\"}, {\"marker\": {\"color\": \"rgba(50, 171, 96, 0.6)\"}, \"orientation\": \"h\", \"showlegend\": false, \"x\": [1, 1, 11, 294, 1, 469, 364, 934, 400, 6645], \"y\": [\"3bb.co.th\", \"virginm.net\", \"hinet.net\", \"comcastbusiness.net\", \"ttnet.com.tr\", \"verizon.net\", \"rr.com\", \"comcast.net\", \"unknown.unknown\", \"(not set)\"], \"type\": \"bar\", \"uid\": \"0de076e2-f293-4e69-a0c5-74d3a9278be9\", \"xaxis\": \"x2\", \"yaxis\": \"y2\"}, {\"marker\": {\"color\": \"rgba(10, 11, 196, 0.6)\"}, \"orientation\": \"h\", \"showlegend\": false, \"x\": [140590000.0, 62270000.0, 60891818.18181818, 497096632.6530612, 17460000.0, 112833624.73347548, 82780714.28571428, 131873201.28479658, 87253850.0, 127654487.58465011], \"y\": [\"3bb.co.th\", \"virginm.net\", \"hinet.net\", \"comcastbusiness.net\", \"ttnet.com.tr\", \"verizon.net\", \"rr.com\", \"comcast.net\", \"unknown.unknown\", \"(not set)\"], \"type\": \"bar\", \"uid\": \"a62174bd-871a-465b-8871-9da00d902c5c\", \"xaxis\": \"x3\", \"yaxis\": \"y3\"}], {\"annotations\": [{\"font\": {\"size\": 16}, \"showarrow\": false, \"text\": \"Network Domain - Count\", \"x\": 0.14444444444444446, \"xanchor\": \"center\", \"xref\": \"paper\", \"y\": 1.0, \"yanchor\": \"bottom\", \"yref\": \"paper\"}, {\"font\": {\"size\": 16}, \"showarrow\": false, \"text\": \"Network Domain - Non-zero Revenue Count\", \"x\": 0.5, \"xanchor\": \"center\", \"xref\": \"paper\", \"y\": 1.0, \"yanchor\": \"bottom\", \"yref\": \"paper\"}, {\"font\": {\"size\": 16}, \"showarrow\": false, \"text\": \"Network Domain - Mean Revenue\", \"x\": 0.8555555555555556, \"xanchor\": \"center\", \"xref\": \"paper\", \"y\": 1.0, \"yanchor\": \"bottom\", \"yref\": \"paper\"}], \"xaxis\": {\"anchor\": \"y\", \"domain\": [0.0, 0.2888888888888889]}, \"yaxis\": {\"anchor\": \"x\", \"domain\": [0.0, 1.0]}, \"xaxis2\": {\"anchor\": \"y2\", \"domain\": [0.35555555555555557, 0.6444444444444445]}, \"yaxis2\": {\"anchor\": \"x2\", \"domain\": [0.0, 1.0]}, \"xaxis3\": {\"anchor\": \"y3\", \"domain\": [0.7111111111111111, 1.0]}, \"yaxis3\": {\"anchor\": \"x3\", \"domain\": [0.0, 1.0]}, \"height\": 400, \"width\": 1600, \"paper_bgcolor\": \"rgb(233,233,233)\", \"title\": \"Network Domain Plots\"}, {\"showLink\": true, \"linkText\": \"Export to plot.ly\", \"plotlyServerURL\": \"https://plot.ly\"})});</script>"
      ],
      "text/vnd.plotly.v1+html": [
       "<div id=\"d4f20159-a23a-4e91-a3e7-7aa7c4d454fb\" style=\"height: 400px; width: 1600px;\" class=\"plotly-graph-div\"></div><script type=\"text/javascript\">require([\"plotly\"], function(Plotly) { window.PLOTLYENV=window.PLOTLYENV || {};window.PLOTLYENV.BASE_URL=\"https://plot.ly\";Plotly.newPlot(\"d4f20159-a23a-4e91-a3e7-7aa7c4d454fb\", [{\"marker\": {\"color\": \"rgba(150, 71, 96, 0.6)\"}, \"orientation\": \"h\", \"showlegend\": false, \"x\": [6046, 6414, 7919, 9985, 13228, 13637, 14827, 28743, 146034, 244881], \"y\": [\"3bb.co.th\", \"virginm.net\", \"hinet.net\", \"comcastbusiness.net\", \"ttnet.com.tr\", \"verizon.net\", \"rr.com\", \"comcast.net\", \"unknown.unknown\", \"(not set)\"], \"type\": \"bar\", \"uid\": \"29a1f55b-ecd8-4b9f-875e-5de833eb288d\", \"xaxis\": \"x\", \"yaxis\": \"y\"}, {\"marker\": {\"color\": \"rgba(50, 171, 96, 0.6)\"}, \"orientation\": \"h\", \"showlegend\": false, \"x\": [1, 1, 11, 294, 1, 469, 364, 934, 400, 6645], \"y\": [\"3bb.co.th\", \"virginm.net\", \"hinet.net\", \"comcastbusiness.net\", \"ttnet.com.tr\", \"verizon.net\", \"rr.com\", \"comcast.net\", \"unknown.unknown\", \"(not set)\"], \"type\": \"bar\", \"uid\": \"0de076e2-f293-4e69-a0c5-74d3a9278be9\", \"xaxis\": \"x2\", \"yaxis\": \"y2\"}, {\"marker\": {\"color\": \"rgba(10, 11, 196, 0.6)\"}, \"orientation\": \"h\", \"showlegend\": false, \"x\": [140590000.0, 62270000.0, 60891818.18181818, 497096632.6530612, 17460000.0, 112833624.73347548, 82780714.28571428, 131873201.28479658, 87253850.0, 127654487.58465011], \"y\": [\"3bb.co.th\", \"virginm.net\", \"hinet.net\", \"comcastbusiness.net\", \"ttnet.com.tr\", \"verizon.net\", \"rr.com\", \"comcast.net\", \"unknown.unknown\", \"(not set)\"], \"type\": \"bar\", \"uid\": \"a62174bd-871a-465b-8871-9da00d902c5c\", \"xaxis\": \"x3\", \"yaxis\": \"y3\"}], {\"annotations\": [{\"font\": {\"size\": 16}, \"showarrow\": false, \"text\": \"Network Domain - Count\", \"x\": 0.14444444444444446, \"xanchor\": \"center\", \"xref\": \"paper\", \"y\": 1.0, \"yanchor\": \"bottom\", \"yref\": \"paper\"}, {\"font\": {\"size\": 16}, \"showarrow\": false, \"text\": \"Network Domain - Non-zero Revenue Count\", \"x\": 0.5, \"xanchor\": \"center\", \"xref\": \"paper\", \"y\": 1.0, \"yanchor\": \"bottom\", \"yref\": \"paper\"}, {\"font\": {\"size\": 16}, \"showarrow\": false, \"text\": \"Network Domain - Mean Revenue\", \"x\": 0.8555555555555556, \"xanchor\": \"center\", \"xref\": \"paper\", \"y\": 1.0, \"yanchor\": \"bottom\", \"yref\": \"paper\"}], \"xaxis\": {\"anchor\": \"y\", \"domain\": [0.0, 0.2888888888888889]}, \"yaxis\": {\"anchor\": \"x\", \"domain\": [0.0, 1.0]}, \"xaxis2\": {\"anchor\": \"y2\", \"domain\": [0.35555555555555557, 0.6444444444444445]}, \"yaxis2\": {\"anchor\": \"x2\", \"domain\": [0.0, 1.0]}, \"xaxis3\": {\"anchor\": \"y3\", \"domain\": [0.7111111111111111, 1.0]}, \"yaxis3\": {\"anchor\": \"x3\", \"domain\": [0.0, 1.0]}, \"height\": 400, \"width\": 1600, \"paper_bgcolor\": \"rgb(233,233,233)\", \"title\": \"Network Domain Plots\"}, {\"showLink\": true, \"linkText\": \"Export to plot.ly\", \"plotlyServerURL\": \"https://plot.ly\"})});</script>"
      ]
     },
     "metadata": {},
     "output_type": "display_data"
    }
   ],
   "source": [
    "fig['layout'].update(height=400, width=1600, paper_bgcolor='rgb(233,233,233)', title=\"Network Domain Plots\")\n",
    "py.iplot(fig, filename='geonetwork-networkdomain-plots')"
   ]
  },
  {
   "cell_type": "markdown",
   "metadata": {},
   "source": [
    "#### From the above analysis, we can see that\n",
    "-  The number of counts with non-zero revenue for \"unknown.unknown\" is lower than that for \"(not set)\"."
   ]
  },
  {
   "cell_type": "markdown",
   "metadata": {},
   "source": [
    "### Totals Analysis:\n",
    "#### Hits"
   ]
  },
  {
   "cell_type": "code",
   "execution_count": 91,
   "metadata": {},
   "outputs": [],
   "source": [
    "counts = train_df.groupby('totals.hits')['totals.transactionRevenue'].agg(['size', 'count', 'mean'])\n",
    "counts.columns = [\"count\", \"count of non-zero revenue\", \"mean\"]\n",
    "counts = counts.sort_values(by=\"count\", ascending=False)\n",
    "graph1 = bar_graph(counts[\"count\"].head(50), 'rgba(150, 71, 96, 0.6)')\n",
    "graph2 = bar_graph(counts[\"count of non-zero revenue\"].head(50), 'rgba(50, 171, 96, 0.6)')\n",
    "graph3 = bar_graph(counts[\"mean\"].head(50), 'rgba(10, 11, 196, 0.6)')"
   ]
  },
  {
   "cell_type": "code",
   "execution_count": 92,
   "metadata": {},
   "outputs": [
    {
     "name": "stdout",
     "output_type": "stream",
     "text": [
      "This is the format of your plot grid:\n",
      "[ (1,1) x1,y1 ]  [ (1,2) x2,y2 ]  [ (1,3) x3,y3 ]\n",
      "\n"
     ]
    }
   ],
   "source": [
    "fig = tools.make_subplots(rows=1, cols=3, vertical_spacing=0.04, \n",
    "                          subplot_titles=[\"Total hits - Count\", \"Total hits - Non-zero Revenue Count\", \"Total hits - Mean Revenue\"])"
   ]
  },
  {
   "cell_type": "code",
   "execution_count": 93,
   "metadata": {},
   "outputs": [],
   "source": [
    "fig.append_trace(graph1, 1, 1)\n",
    "fig.append_trace(graph2, 1, 2)\n",
    "fig.append_trace(graph3, 1, 3)"
   ]
  },
  {
   "cell_type": "code",
   "execution_count": 94,
   "metadata": {},
   "outputs": [
    {
     "data": {
      "application/vnd.plotly.v1+json": {
       "config": {
        "linkText": "Export to plot.ly",
        "plotlyServerURL": "https://plot.ly",
        "showLink": true
       },
       "data": [
        {
         "marker": {
          "color": "rgba(150, 71, 96, 0.6)"
         },
         "orientation": "h",
         "showlegend": false,
         "type": "bar",
         "uid": "f78a091e-1f9e-4e68-8586-14fe3c7c7ba6",
         "x": [
          333,
          348,
          349,
          363,
          424,
          438,
          454,
          501,
          527,
          553,
          621,
          693,
          724,
          745,
          785,
          845,
          846,
          944,
          1088,
          1104,
          1289,
          1291,
          1406,
          1504,
          1718,
          1925,
          2126,
          2190,
          2477,
          2798,
          3064,
          3291,
          3755,
          4130,
          4716,
          5384,
          6194,
          6881,
          7879,
          9264,
          10640,
          12959,
          15484,
          19518,
          23918,
          30939,
          42444,
          70402,
          137952,
          446754
         ],
         "xaxis": "x",
         "y": [
          "51",
          "49",
          "48",
          "47",
          "46",
          "45",
          "44",
          "43",
          "42",
          "41",
          "40",
          "39",
          "38",
          "37",
          "36",
          "35",
          "34",
          "33",
          "32",
          "31",
          "30",
          "29",
          "28",
          "27",
          "26",
          "25",
          "24",
          "23",
          "22",
          "21",
          "20",
          "19",
          "18",
          "17",
          "16",
          "15",
          "14",
          "13",
          "12",
          "11",
          "10",
          "9",
          "8",
          "7",
          "6",
          "5",
          "4",
          "3",
          "2",
          "1"
         ],
         "yaxis": "y"
        },
        {
         "marker": {
          "color": "rgba(50, 171, 96, 0.6)"
         },
         "orientation": "h",
         "showlegend": false,
         "type": "bar",
         "uid": "f119f090-a419-4a64-9dc2-94a7dc4a6ab7",
         "x": [
          104,
          94,
          111,
          105,
          129,
          124,
          122,
          155,
          135,
          133,
          159,
          145,
          172,
          177,
          175,
          193,
          198,
          193,
          204,
          207,
          261,
          222,
          267,
          263,
          279,
          269,
          292,
          311,
          290,
          313,
          329,
          345,
          375,
          348,
          362,
          354,
          348,
          313,
          258,
          193,
          123,
          94,
          54,
          19,
          9,
          12,
          8,
          3,
          4,
          0
         ],
         "xaxis": "x2",
         "y": [
          "51",
          "49",
          "48",
          "47",
          "46",
          "45",
          "44",
          "43",
          "42",
          "41",
          "40",
          "39",
          "38",
          "37",
          "36",
          "35",
          "34",
          "33",
          "32",
          "31",
          "30",
          "29",
          "28",
          "27",
          "26",
          "25",
          "24",
          "23",
          "22",
          "21",
          "20",
          "19",
          "18",
          "17",
          "16",
          "15",
          "14",
          "13",
          "12",
          "11",
          "10",
          "9",
          "8",
          "7",
          "6",
          "5",
          "4",
          "3",
          "2",
          "1"
         ],
         "yaxis": "y2"
        },
        {
         "marker": {
          "color": "rgba(10, 11, 196, 0.6)"
         },
         "orientation": "h",
         "showlegend": false,
         "type": "bar",
         "uid": "74dff674-c1c4-4cf1-a133-6614314f7a02",
         "x": [
          140265480.76923078,
          162276595.74468085,
          143352252.25225225,
          156829428.57142857,
          124861395.34883721,
          115575564.51612903,
          132623360.6557377,
          100177612.90322581,
          138757555.55555555,
          210898195.48872182,
          107951823.89937107,
          110296413.79310344,
          106440058.13953489,
          140660621.46892655,
          83897600,
          145448808.29015544,
          129305050.50505051,
          152879896.373057,
          155526911.7647059,
          121725555.55555555,
          107391417.62452108,
          85833603.6036036,
          88798239.70037453,
          95413498.09885931,
          113594121.86379929,
          87118327.13754646,
          98842671.23287672,
          84713086.81672026,
          71686655.1724138,
          82634217.25239617,
          93415288.7537994,
          98681072.46376811,
          63682800,
          113642298.85057472,
          96459337.01657459,
          95994322.03389831,
          74250028.73563218,
          73472268.37060703,
          77147209.30232558,
          110564352.33160622,
          106691056.9105691,
          109170957.44680852,
          101212407.4074074,
          65030000,
          37278888.88888889,
          190169166.66666666,
          124287500,
          70393333.33333333,
          303625000,
          null
         ],
         "xaxis": "x3",
         "y": [
          "51",
          "49",
          "48",
          "47",
          "46",
          "45",
          "44",
          "43",
          "42",
          "41",
          "40",
          "39",
          "38",
          "37",
          "36",
          "35",
          "34",
          "33",
          "32",
          "31",
          "30",
          "29",
          "28",
          "27",
          "26",
          "25",
          "24",
          "23",
          "22",
          "21",
          "20",
          "19",
          "18",
          "17",
          "16",
          "15",
          "14",
          "13",
          "12",
          "11",
          "10",
          "9",
          "8",
          "7",
          "6",
          "5",
          "4",
          "3",
          "2",
          "1"
         ],
         "yaxis": "y3"
        }
       ],
       "layout": {
        "annotations": [
         {
          "font": {
           "size": 16
          },
          "showarrow": false,
          "text": "Total hits - Count",
          "x": 0.14444444444444446,
          "xanchor": "center",
          "xref": "paper",
          "y": 1,
          "yanchor": "bottom",
          "yref": "paper"
         },
         {
          "font": {
           "size": 16
          },
          "showarrow": false,
          "text": "Total hits - Non-zero Revenue Count",
          "x": 0.5,
          "xanchor": "center",
          "xref": "paper",
          "y": 1,
          "yanchor": "bottom",
          "yref": "paper"
         },
         {
          "font": {
           "size": 16
          },
          "showarrow": false,
          "text": "Total hits - Mean Revenue",
          "x": 0.8555555555555556,
          "xanchor": "center",
          "xref": "paper",
          "y": 1,
          "yanchor": "bottom",
          "yref": "paper"
         }
        ],
        "height": 400,
        "paper_bgcolor": "rgb(233,233,233)",
        "title": "Total hits Plots",
        "width": 1800,
        "xaxis": {
         "anchor": "y",
         "domain": [
          0,
          0.2888888888888889
         ]
        },
        "xaxis2": {
         "anchor": "y2",
         "domain": [
          0.35555555555555557,
          0.6444444444444445
         ]
        },
        "xaxis3": {
         "anchor": "y3",
         "domain": [
          0.7111111111111111,
          1
         ]
        },
        "yaxis": {
         "anchor": "x",
         "domain": [
          0,
          1
         ]
        },
        "yaxis2": {
         "anchor": "x2",
         "domain": [
          0,
          1
         ]
        },
        "yaxis3": {
         "anchor": "x3",
         "domain": [
          0,
          1
         ]
        }
       }
      },
      "text/html": [
       "<div id=\"cf852ae7-662e-4698-9c93-1424303ed431\" style=\"height: 400px; width: 1800px;\" class=\"plotly-graph-div\"></div><script type=\"text/javascript\">require([\"plotly\"], function(Plotly) { window.PLOTLYENV=window.PLOTLYENV || {};window.PLOTLYENV.BASE_URL=\"https://plot.ly\";Plotly.newPlot(\"cf852ae7-662e-4698-9c93-1424303ed431\", [{\"marker\": {\"color\": \"rgba(150, 71, 96, 0.6)\"}, \"orientation\": \"h\", \"showlegend\": false, \"x\": [333, 348, 349, 363, 424, 438, 454, 501, 527, 553, 621, 693, 724, 745, 785, 845, 846, 944, 1088, 1104, 1289, 1291, 1406, 1504, 1718, 1925, 2126, 2190, 2477, 2798, 3064, 3291, 3755, 4130, 4716, 5384, 6194, 6881, 7879, 9264, 10640, 12959, 15484, 19518, 23918, 30939, 42444, 70402, 137952, 446754], \"y\": [\"51\", \"49\", \"48\", \"47\", \"46\", \"45\", \"44\", \"43\", \"42\", \"41\", \"40\", \"39\", \"38\", \"37\", \"36\", \"35\", \"34\", \"33\", \"32\", \"31\", \"30\", \"29\", \"28\", \"27\", \"26\", \"25\", \"24\", \"23\", \"22\", \"21\", \"20\", \"19\", \"18\", \"17\", \"16\", \"15\", \"14\", \"13\", \"12\", \"11\", \"10\", \"9\", \"8\", \"7\", \"6\", \"5\", \"4\", \"3\", \"2\", \"1\"], \"type\": \"bar\", \"uid\": \"f78a091e-1f9e-4e68-8586-14fe3c7c7ba6\", \"xaxis\": \"x\", \"yaxis\": \"y\"}, {\"marker\": {\"color\": \"rgba(50, 171, 96, 0.6)\"}, \"orientation\": \"h\", \"showlegend\": false, \"x\": [104, 94, 111, 105, 129, 124, 122, 155, 135, 133, 159, 145, 172, 177, 175, 193, 198, 193, 204, 207, 261, 222, 267, 263, 279, 269, 292, 311, 290, 313, 329, 345, 375, 348, 362, 354, 348, 313, 258, 193, 123, 94, 54, 19, 9, 12, 8, 3, 4, 0], \"y\": [\"51\", \"49\", \"48\", \"47\", \"46\", \"45\", \"44\", \"43\", \"42\", \"41\", \"40\", \"39\", \"38\", \"37\", \"36\", \"35\", \"34\", \"33\", \"32\", \"31\", \"30\", \"29\", \"28\", \"27\", \"26\", \"25\", \"24\", \"23\", \"22\", \"21\", \"20\", \"19\", \"18\", \"17\", \"16\", \"15\", \"14\", \"13\", \"12\", \"11\", \"10\", \"9\", \"8\", \"7\", \"6\", \"5\", \"4\", \"3\", \"2\", \"1\"], \"type\": \"bar\", \"uid\": \"f119f090-a419-4a64-9dc2-94a7dc4a6ab7\", \"xaxis\": \"x2\", \"yaxis\": \"y2\"}, {\"marker\": {\"color\": \"rgba(10, 11, 196, 0.6)\"}, \"orientation\": \"h\", \"showlegend\": false, \"x\": [140265480.76923078, 162276595.74468085, 143352252.25225225, 156829428.57142857, 124861395.34883721, 115575564.51612903, 132623360.6557377, 100177612.90322581, 138757555.55555555, 210898195.48872182, 107951823.89937107, 110296413.79310344, 106440058.13953489, 140660621.46892655, 83897600.0, 145448808.29015544, 129305050.50505051, 152879896.373057, 155526911.7647059, 121725555.55555555, 107391417.62452108, 85833603.6036036, 88798239.70037453, 95413498.09885931, 113594121.86379929, 87118327.13754646, 98842671.23287672, 84713086.81672026, 71686655.1724138, 82634217.25239617, 93415288.7537994, 98681072.46376811, 63682800.0, 113642298.85057472, 96459337.01657459, 95994322.03389831, 74250028.73563218, 73472268.37060703, 77147209.30232558, 110564352.33160622, 106691056.9105691, 109170957.44680852, 101212407.4074074, 65030000.0, 37278888.88888889, 190169166.66666666, 124287500.0, 70393333.33333333, 303625000.0, null], \"y\": [\"51\", \"49\", \"48\", \"47\", \"46\", \"45\", \"44\", \"43\", \"42\", \"41\", \"40\", \"39\", \"38\", \"37\", \"36\", \"35\", \"34\", \"33\", \"32\", \"31\", \"30\", \"29\", \"28\", \"27\", \"26\", \"25\", \"24\", \"23\", \"22\", \"21\", \"20\", \"19\", \"18\", \"17\", \"16\", \"15\", \"14\", \"13\", \"12\", \"11\", \"10\", \"9\", \"8\", \"7\", \"6\", \"5\", \"4\", \"3\", \"2\", \"1\"], \"type\": \"bar\", \"uid\": \"74dff674-c1c4-4cf1-a133-6614314f7a02\", \"xaxis\": \"x3\", \"yaxis\": \"y3\"}], {\"annotations\": [{\"font\": {\"size\": 16}, \"showarrow\": false, \"text\": \"Total hits - Count\", \"x\": 0.14444444444444446, \"xanchor\": \"center\", \"xref\": \"paper\", \"y\": 1.0, \"yanchor\": \"bottom\", \"yref\": \"paper\"}, {\"font\": {\"size\": 16}, \"showarrow\": false, \"text\": \"Total hits - Non-zero Revenue Count\", \"x\": 0.5, \"xanchor\": \"center\", \"xref\": \"paper\", \"y\": 1.0, \"yanchor\": \"bottom\", \"yref\": \"paper\"}, {\"font\": {\"size\": 16}, \"showarrow\": false, \"text\": \"Total hits - Mean Revenue\", \"x\": 0.8555555555555556, \"xanchor\": \"center\", \"xref\": \"paper\", \"y\": 1.0, \"yanchor\": \"bottom\", \"yref\": \"paper\"}], \"xaxis\": {\"anchor\": \"y\", \"domain\": [0.0, 0.2888888888888889]}, \"yaxis\": {\"anchor\": \"x\", \"domain\": [0.0, 1.0]}, \"xaxis2\": {\"anchor\": \"y2\", \"domain\": [0.35555555555555557, 0.6444444444444445]}, \"yaxis2\": {\"anchor\": \"x2\", \"domain\": [0.0, 1.0]}, \"xaxis3\": {\"anchor\": \"y3\", \"domain\": [0.7111111111111111, 1.0]}, \"yaxis3\": {\"anchor\": \"x3\", \"domain\": [0.0, 1.0]}, \"height\": 400, \"width\": 1800, \"paper_bgcolor\": \"rgb(233,233,233)\", \"title\": \"Total hits Plots\"}, {\"showLink\": true, \"linkText\": \"Export to plot.ly\", \"plotlyServerURL\": \"https://plot.ly\"})});</script>"
      ],
      "text/vnd.plotly.v1+html": [
       "<div id=\"cf852ae7-662e-4698-9c93-1424303ed431\" style=\"height: 400px; width: 1800px;\" class=\"plotly-graph-div\"></div><script type=\"text/javascript\">require([\"plotly\"], function(Plotly) { window.PLOTLYENV=window.PLOTLYENV || {};window.PLOTLYENV.BASE_URL=\"https://plot.ly\";Plotly.newPlot(\"cf852ae7-662e-4698-9c93-1424303ed431\", [{\"marker\": {\"color\": \"rgba(150, 71, 96, 0.6)\"}, \"orientation\": \"h\", \"showlegend\": false, \"x\": [333, 348, 349, 363, 424, 438, 454, 501, 527, 553, 621, 693, 724, 745, 785, 845, 846, 944, 1088, 1104, 1289, 1291, 1406, 1504, 1718, 1925, 2126, 2190, 2477, 2798, 3064, 3291, 3755, 4130, 4716, 5384, 6194, 6881, 7879, 9264, 10640, 12959, 15484, 19518, 23918, 30939, 42444, 70402, 137952, 446754], \"y\": [\"51\", \"49\", \"48\", \"47\", \"46\", \"45\", \"44\", \"43\", \"42\", \"41\", \"40\", \"39\", \"38\", \"37\", \"36\", \"35\", \"34\", \"33\", \"32\", \"31\", \"30\", \"29\", \"28\", \"27\", \"26\", \"25\", \"24\", \"23\", \"22\", \"21\", \"20\", \"19\", \"18\", \"17\", \"16\", \"15\", \"14\", \"13\", \"12\", \"11\", \"10\", \"9\", \"8\", \"7\", \"6\", \"5\", \"4\", \"3\", \"2\", \"1\"], \"type\": \"bar\", \"uid\": \"f78a091e-1f9e-4e68-8586-14fe3c7c7ba6\", \"xaxis\": \"x\", \"yaxis\": \"y\"}, {\"marker\": {\"color\": \"rgba(50, 171, 96, 0.6)\"}, \"orientation\": \"h\", \"showlegend\": false, \"x\": [104, 94, 111, 105, 129, 124, 122, 155, 135, 133, 159, 145, 172, 177, 175, 193, 198, 193, 204, 207, 261, 222, 267, 263, 279, 269, 292, 311, 290, 313, 329, 345, 375, 348, 362, 354, 348, 313, 258, 193, 123, 94, 54, 19, 9, 12, 8, 3, 4, 0], \"y\": [\"51\", \"49\", \"48\", \"47\", \"46\", \"45\", \"44\", \"43\", \"42\", \"41\", \"40\", \"39\", \"38\", \"37\", \"36\", \"35\", \"34\", \"33\", \"32\", \"31\", \"30\", \"29\", \"28\", \"27\", \"26\", \"25\", \"24\", \"23\", \"22\", \"21\", \"20\", \"19\", \"18\", \"17\", \"16\", \"15\", \"14\", \"13\", \"12\", \"11\", \"10\", \"9\", \"8\", \"7\", \"6\", \"5\", \"4\", \"3\", \"2\", \"1\"], \"type\": \"bar\", \"uid\": \"f119f090-a419-4a64-9dc2-94a7dc4a6ab7\", \"xaxis\": \"x2\", \"yaxis\": \"y2\"}, {\"marker\": {\"color\": \"rgba(10, 11, 196, 0.6)\"}, \"orientation\": \"h\", \"showlegend\": false, \"x\": [140265480.76923078, 162276595.74468085, 143352252.25225225, 156829428.57142857, 124861395.34883721, 115575564.51612903, 132623360.6557377, 100177612.90322581, 138757555.55555555, 210898195.48872182, 107951823.89937107, 110296413.79310344, 106440058.13953489, 140660621.46892655, 83897600.0, 145448808.29015544, 129305050.50505051, 152879896.373057, 155526911.7647059, 121725555.55555555, 107391417.62452108, 85833603.6036036, 88798239.70037453, 95413498.09885931, 113594121.86379929, 87118327.13754646, 98842671.23287672, 84713086.81672026, 71686655.1724138, 82634217.25239617, 93415288.7537994, 98681072.46376811, 63682800.0, 113642298.85057472, 96459337.01657459, 95994322.03389831, 74250028.73563218, 73472268.37060703, 77147209.30232558, 110564352.33160622, 106691056.9105691, 109170957.44680852, 101212407.4074074, 65030000.0, 37278888.88888889, 190169166.66666666, 124287500.0, 70393333.33333333, 303625000.0, null], \"y\": [\"51\", \"49\", \"48\", \"47\", \"46\", \"45\", \"44\", \"43\", \"42\", \"41\", \"40\", \"39\", \"38\", \"37\", \"36\", \"35\", \"34\", \"33\", \"32\", \"31\", \"30\", \"29\", \"28\", \"27\", \"26\", \"25\", \"24\", \"23\", \"22\", \"21\", \"20\", \"19\", \"18\", \"17\", \"16\", \"15\", \"14\", \"13\", \"12\", \"11\", \"10\", \"9\", \"8\", \"7\", \"6\", \"5\", \"4\", \"3\", \"2\", \"1\"], \"type\": \"bar\", \"uid\": \"74dff674-c1c4-4cf1-a133-6614314f7a02\", \"xaxis\": \"x3\", \"yaxis\": \"y3\"}], {\"annotations\": [{\"font\": {\"size\": 16}, \"showarrow\": false, \"text\": \"Total hits - Count\", \"x\": 0.14444444444444446, \"xanchor\": \"center\", \"xref\": \"paper\", \"y\": 1.0, \"yanchor\": \"bottom\", \"yref\": \"paper\"}, {\"font\": {\"size\": 16}, \"showarrow\": false, \"text\": \"Total hits - Non-zero Revenue Count\", \"x\": 0.5, \"xanchor\": \"center\", \"xref\": \"paper\", \"y\": 1.0, \"yanchor\": \"bottom\", \"yref\": \"paper\"}, {\"font\": {\"size\": 16}, \"showarrow\": false, \"text\": \"Total hits - Mean Revenue\", \"x\": 0.8555555555555556, \"xanchor\": \"center\", \"xref\": \"paper\", \"y\": 1.0, \"yanchor\": \"bottom\", \"yref\": \"paper\"}], \"xaxis\": {\"anchor\": \"y\", \"domain\": [0.0, 0.2888888888888889]}, \"yaxis\": {\"anchor\": \"x\", \"domain\": [0.0, 1.0]}, \"xaxis2\": {\"anchor\": \"y2\", \"domain\": [0.35555555555555557, 0.6444444444444445]}, \"yaxis2\": {\"anchor\": \"x2\", \"domain\": [0.0, 1.0]}, \"xaxis3\": {\"anchor\": \"y3\", \"domain\": [0.7111111111111111, 1.0]}, \"yaxis3\": {\"anchor\": \"x3\", \"domain\": [0.0, 1.0]}, \"height\": 400, \"width\": 1800, \"paper_bgcolor\": \"rgb(233,233,233)\", \"title\": \"Total hits Plots\"}, {\"showLink\": true, \"linkText\": \"Export to plot.ly\", \"plotlyServerURL\": \"https://plot.ly\"})});</script>"
      ]
     },
     "metadata": {},
     "output_type": "display_data"
    }
   ],
   "source": [
    "fig['layout'].update(height=400, width=1800, paper_bgcolor='rgb(233,233,233)', title=\"Total hits Plots\")\n",
    "py.iplot(fig, filename='geonetwork-totalhits-plots')"
   ]
  },
  {
   "cell_type": "markdown",
   "metadata": {},
   "source": [
    "#### Pageviews"
   ]
  },
  {
   "cell_type": "code",
   "execution_count": 95,
   "metadata": {},
   "outputs": [],
   "source": [
    "counts = train_df.groupby('totals.pageviews')['totals.transactionRevenue'].agg(['size', 'count', 'mean'])\n",
    "counts.columns = [\"count\", \"count of non-zero revenue\", \"mean\"]\n",
    "counts = counts.sort_values(by=\"count\", ascending=False)\n",
    "graph1 = bar_graph(counts[\"count\"].head(50), 'rgba(150, 71, 96, 0.6)')\n",
    "graph2 = bar_graph(counts[\"count of non-zero revenue\"].head(50), 'rgba(50, 171, 96, 0.6)')\n",
    "graph3 = bar_graph(counts[\"mean\"].head(50), 'rgba(10, 11, 196, 0.6)')"
   ]
  },
  {
   "cell_type": "code",
   "execution_count": 96,
   "metadata": {},
   "outputs": [
    {
     "name": "stdout",
     "output_type": "stream",
     "text": [
      "This is the format of your plot grid:\n",
      "[ (1,1) x1,y1 ]  [ (1,2) x2,y2 ]  [ (1,3) x3,y3 ]\n",
      "\n"
     ]
    }
   ],
   "source": [
    "fig = tools.make_subplots(rows=1, cols=3, vertical_spacing=0.04, \n",
    "                          subplot_titles=[\"Total pageviews - Count\", \"Total pageviews - Non-zero Revenue Count\", \"Total pageviews - Mean Revenue\"])"
   ]
  },
  {
   "cell_type": "code",
   "execution_count": 97,
   "metadata": {},
   "outputs": [],
   "source": [
    "fig.append_trace(graph1, 1, 1)\n",
    "fig.append_trace(graph2, 1, 2)\n",
    "fig.append_trace(graph3, 1, 3)"
   ]
  },
  {
   "cell_type": "code",
   "execution_count": 98,
   "metadata": {},
   "outputs": [
    {
     "data": {
      "application/vnd.plotly.v1+json": {
       "config": {
        "linkText": "Export to plot.ly",
        "plotlyServerURL": "https://plot.ly",
        "showLink": true
       },
       "data": [
        {
         "marker": {
          "color": "rgba(150, 71, 96, 0.6)"
         },
         "orientation": "h",
         "showlegend": false,
         "type": "bar",
         "uid": "2006cee8-e27a-45fb-a47a-580b41257488",
         "x": [
          184,
          192,
          222,
          225,
          240,
          242,
          265,
          268,
          298,
          338,
          355,
          388,
          410,
          453,
          509,
          535,
          567,
          674,
          704,
          847,
          873,
          875,
          1091,
          1143,
          1318,
          1413,
          1567,
          1722,
          1949,
          2211,
          2409,
          2682,
          3150,
          3511,
          4010,
          4720,
          5291,
          6197,
          7097,
          8671,
          10104,
          12585,
          15272,
          19476,
          24688,
          33411,
          45192,
          73835,
          143770,
          452522
         ],
         "xaxis": "x",
         "y": [
          "51",
          "49",
          "48",
          "47",
          "46",
          "44",
          "43",
          "45",
          "42",
          "41",
          "40",
          "39",
          "38",
          "37",
          "36",
          "35",
          "34",
          "33",
          "32",
          "31",
          "30",
          "29",
          "28",
          "27",
          "26",
          "25",
          "24",
          "23",
          "22",
          "21",
          "20",
          "19",
          "18",
          "17",
          "16",
          "15",
          "14",
          "13",
          "12",
          "11",
          "10",
          "9",
          "8",
          "7",
          "6",
          "5",
          "4",
          "3",
          "2",
          "1"
         ],
         "yaxis": "y"
        },
        {
         "marker": {
          "color": "rgba(50, 171, 96, 0.6)"
         },
         "orientation": "h",
         "showlegend": false,
         "type": "bar",
         "uid": "175501e9-c33c-4787-a969-09d49eb6a1db",
         "x": [
          63,
          76,
          95,
          73,
          77,
          81,
          92,
          97,
          109,
          112,
          108,
          140,
          139,
          164,
          158,
          175,
          160,
          199,
          189,
          240,
          238,
          242,
          251,
          268,
          331,
          297,
          347,
          334,
          367,
          407,
          397,
          367,
          451,
          445,
          478,
          471,
          467,
          453,
          385,
          374,
          257,
          136,
          83,
          25,
          9,
          13,
          8,
          3,
          4,
          0
         ],
         "xaxis": "x2",
         "y": [
          "51",
          "49",
          "48",
          "47",
          "46",
          "44",
          "43",
          "45",
          "42",
          "41",
          "40",
          "39",
          "38",
          "37",
          "36",
          "35",
          "34",
          "33",
          "32",
          "31",
          "30",
          "29",
          "28",
          "27",
          "26",
          "25",
          "24",
          "23",
          "22",
          "21",
          "20",
          "19",
          "18",
          "17",
          "16",
          "15",
          "14",
          "13",
          "12",
          "11",
          "10",
          "9",
          "8",
          "7",
          "6",
          "5",
          "4",
          "3",
          "2",
          "1"
         ],
         "yaxis": "y2"
        },
        {
         "marker": {
          "color": "rgba(10, 11, 196, 0.6)"
         },
         "orientation": "h",
         "showlegend": false,
         "type": "bar",
         "uid": "0e52c930-7cb8-46a0-9ec1-0a3c7fe2ddd9",
         "x": [
          220292857.14285713,
          227623684.21052632,
          190762842.10526314,
          221611643.83561644,
          186804155.84415585,
          150668024.69135803,
          129303260.86956522,
          122456185.56701031,
          134804311.9266055,
          175578303.57142857,
          386671203.7037037,
          239388500,
          151532446.04316548,
          106345609.75609756,
          145872974.6835443,
          120449314.28571428,
          160237937.5,
          135816683.41708544,
          126580793.65079366,
          125540541.66666667,
          162768865.54621848,
          93466900.82644628,
          112260478.0876494,
          119993507.46268657,
          133370332.32628399,
          97608484.84848484,
          114713025.93659942,
          122923113.7724551,
          137787792.91553134,
          97864987.71498771,
          89532997.48110831,
          78330572.20708446,
          83453237.25055432,
          91032606.74157304,
          86659351.46443515,
          85831740.97664544,
          106072526.76659529,
          94117836.64459161,
          69840493.50649351,
          100246764.70588236,
          93482295.71984436,
          106478455.88235295,
          102294457.83132531,
          62228400,
          37278888.88888889,
          209072307.69230768,
          124287500,
          70393333.33333333,
          303625000,
          null
         ],
         "xaxis": "x3",
         "y": [
          "51",
          "49",
          "48",
          "47",
          "46",
          "44",
          "43",
          "45",
          "42",
          "41",
          "40",
          "39",
          "38",
          "37",
          "36",
          "35",
          "34",
          "33",
          "32",
          "31",
          "30",
          "29",
          "28",
          "27",
          "26",
          "25",
          "24",
          "23",
          "22",
          "21",
          "20",
          "19",
          "18",
          "17",
          "16",
          "15",
          "14",
          "13",
          "12",
          "11",
          "10",
          "9",
          "8",
          "7",
          "6",
          "5",
          "4",
          "3",
          "2",
          "1"
         ],
         "yaxis": "y3"
        }
       ],
       "layout": {
        "annotations": [
         {
          "font": {
           "size": 16
          },
          "showarrow": false,
          "text": "Total pageviews - Count",
          "x": 0.14444444444444446,
          "xanchor": "center",
          "xref": "paper",
          "y": 1,
          "yanchor": "bottom",
          "yref": "paper"
         },
         {
          "font": {
           "size": 16
          },
          "showarrow": false,
          "text": "Total pageviews - Non-zero Revenue Count",
          "x": 0.5,
          "xanchor": "center",
          "xref": "paper",
          "y": 1,
          "yanchor": "bottom",
          "yref": "paper"
         },
         {
          "font": {
           "size": 16
          },
          "showarrow": false,
          "text": "Total pageviews - Mean Revenue",
          "x": 0.8555555555555556,
          "xanchor": "center",
          "xref": "paper",
          "y": 1,
          "yanchor": "bottom",
          "yref": "paper"
         }
        ],
        "height": 400,
        "paper_bgcolor": "rgb(233,233,233)",
        "title": "Total pageviews Plots",
        "width": 1800,
        "xaxis": {
         "anchor": "y",
         "domain": [
          0,
          0.2888888888888889
         ]
        },
        "xaxis2": {
         "anchor": "y2",
         "domain": [
          0.35555555555555557,
          0.6444444444444445
         ]
        },
        "xaxis3": {
         "anchor": "y3",
         "domain": [
          0.7111111111111111,
          1
         ]
        },
        "yaxis": {
         "anchor": "x",
         "domain": [
          0,
          1
         ]
        },
        "yaxis2": {
         "anchor": "x2",
         "domain": [
          0,
          1
         ]
        },
        "yaxis3": {
         "anchor": "x3",
         "domain": [
          0,
          1
         ]
        }
       }
      },
      "text/html": [
       "<div id=\"a73d908c-c530-4370-a01c-f185e9dbb478\" style=\"height: 400px; width: 1800px;\" class=\"plotly-graph-div\"></div><script type=\"text/javascript\">require([\"plotly\"], function(Plotly) { window.PLOTLYENV=window.PLOTLYENV || {};window.PLOTLYENV.BASE_URL=\"https://plot.ly\";Plotly.newPlot(\"a73d908c-c530-4370-a01c-f185e9dbb478\", [{\"marker\": {\"color\": \"rgba(150, 71, 96, 0.6)\"}, \"orientation\": \"h\", \"showlegend\": false, \"x\": [184, 192, 222, 225, 240, 242, 265, 268, 298, 338, 355, 388, 410, 453, 509, 535, 567, 674, 704, 847, 873, 875, 1091, 1143, 1318, 1413, 1567, 1722, 1949, 2211, 2409, 2682, 3150, 3511, 4010, 4720, 5291, 6197, 7097, 8671, 10104, 12585, 15272, 19476, 24688, 33411, 45192, 73835, 143770, 452522], \"y\": [\"51\", \"49\", \"48\", \"47\", \"46\", \"44\", \"43\", \"45\", \"42\", \"41\", \"40\", \"39\", \"38\", \"37\", \"36\", \"35\", \"34\", \"33\", \"32\", \"31\", \"30\", \"29\", \"28\", \"27\", \"26\", \"25\", \"24\", \"23\", \"22\", \"21\", \"20\", \"19\", \"18\", \"17\", \"16\", \"15\", \"14\", \"13\", \"12\", \"11\", \"10\", \"9\", \"8\", \"7\", \"6\", \"5\", \"4\", \"3\", \"2\", \"1\"], \"type\": \"bar\", \"uid\": \"2006cee8-e27a-45fb-a47a-580b41257488\", \"xaxis\": \"x\", \"yaxis\": \"y\"}, {\"marker\": {\"color\": \"rgba(50, 171, 96, 0.6)\"}, \"orientation\": \"h\", \"showlegend\": false, \"x\": [63, 76, 95, 73, 77, 81, 92, 97, 109, 112, 108, 140, 139, 164, 158, 175, 160, 199, 189, 240, 238, 242, 251, 268, 331, 297, 347, 334, 367, 407, 397, 367, 451, 445, 478, 471, 467, 453, 385, 374, 257, 136, 83, 25, 9, 13, 8, 3, 4, 0], \"y\": [\"51\", \"49\", \"48\", \"47\", \"46\", \"44\", \"43\", \"45\", \"42\", \"41\", \"40\", \"39\", \"38\", \"37\", \"36\", \"35\", \"34\", \"33\", \"32\", \"31\", \"30\", \"29\", \"28\", \"27\", \"26\", \"25\", \"24\", \"23\", \"22\", \"21\", \"20\", \"19\", \"18\", \"17\", \"16\", \"15\", \"14\", \"13\", \"12\", \"11\", \"10\", \"9\", \"8\", \"7\", \"6\", \"5\", \"4\", \"3\", \"2\", \"1\"], \"type\": \"bar\", \"uid\": \"175501e9-c33c-4787-a969-09d49eb6a1db\", \"xaxis\": \"x2\", \"yaxis\": \"y2\"}, {\"marker\": {\"color\": \"rgba(10, 11, 196, 0.6)\"}, \"orientation\": \"h\", \"showlegend\": false, \"x\": [220292857.14285713, 227623684.21052632, 190762842.10526314, 221611643.83561644, 186804155.84415585, 150668024.69135803, 129303260.86956522, 122456185.56701031, 134804311.9266055, 175578303.57142857, 386671203.7037037, 239388500.0, 151532446.04316548, 106345609.75609756, 145872974.6835443, 120449314.28571428, 160237937.5, 135816683.41708544, 126580793.65079366, 125540541.66666667, 162768865.54621848, 93466900.82644628, 112260478.0876494, 119993507.46268657, 133370332.32628399, 97608484.84848484, 114713025.93659942, 122923113.7724551, 137787792.91553134, 97864987.71498771, 89532997.48110831, 78330572.20708446, 83453237.25055432, 91032606.74157304, 86659351.46443515, 85831740.97664544, 106072526.76659529, 94117836.64459161, 69840493.50649351, 100246764.70588236, 93482295.71984436, 106478455.88235295, 102294457.83132531, 62228400.0, 37278888.88888889, 209072307.69230768, 124287500.0, 70393333.33333333, 303625000.0, null], \"y\": [\"51\", \"49\", \"48\", \"47\", \"46\", \"44\", \"43\", \"45\", \"42\", \"41\", \"40\", \"39\", \"38\", \"37\", \"36\", \"35\", \"34\", \"33\", \"32\", \"31\", \"30\", \"29\", \"28\", \"27\", \"26\", \"25\", \"24\", \"23\", \"22\", \"21\", \"20\", \"19\", \"18\", \"17\", \"16\", \"15\", \"14\", \"13\", \"12\", \"11\", \"10\", \"9\", \"8\", \"7\", \"6\", \"5\", \"4\", \"3\", \"2\", \"1\"], \"type\": \"bar\", \"uid\": \"0e52c930-7cb8-46a0-9ec1-0a3c7fe2ddd9\", \"xaxis\": \"x3\", \"yaxis\": \"y3\"}], {\"annotations\": [{\"font\": {\"size\": 16}, \"showarrow\": false, \"text\": \"Total pageviews - Count\", \"x\": 0.14444444444444446, \"xanchor\": \"center\", \"xref\": \"paper\", \"y\": 1.0, \"yanchor\": \"bottom\", \"yref\": \"paper\"}, {\"font\": {\"size\": 16}, \"showarrow\": false, \"text\": \"Total pageviews - Non-zero Revenue Count\", \"x\": 0.5, \"xanchor\": \"center\", \"xref\": \"paper\", \"y\": 1.0, \"yanchor\": \"bottom\", \"yref\": \"paper\"}, {\"font\": {\"size\": 16}, \"showarrow\": false, \"text\": \"Total pageviews - Mean Revenue\", \"x\": 0.8555555555555556, \"xanchor\": \"center\", \"xref\": \"paper\", \"y\": 1.0, \"yanchor\": \"bottom\", \"yref\": \"paper\"}], \"xaxis\": {\"anchor\": \"y\", \"domain\": [0.0, 0.2888888888888889]}, \"yaxis\": {\"anchor\": \"x\", \"domain\": [0.0, 1.0]}, \"xaxis2\": {\"anchor\": \"y2\", \"domain\": [0.35555555555555557, 0.6444444444444445]}, \"yaxis2\": {\"anchor\": \"x2\", \"domain\": [0.0, 1.0]}, \"xaxis3\": {\"anchor\": \"y3\", \"domain\": [0.7111111111111111, 1.0]}, \"yaxis3\": {\"anchor\": \"x3\", \"domain\": [0.0, 1.0]}, \"height\": 400, \"width\": 1800, \"paper_bgcolor\": \"rgb(233,233,233)\", \"title\": \"Total pageviews Plots\"}, {\"showLink\": true, \"linkText\": \"Export to plot.ly\", \"plotlyServerURL\": \"https://plot.ly\"})});</script>"
      ],
      "text/vnd.plotly.v1+html": [
       "<div id=\"a73d908c-c530-4370-a01c-f185e9dbb478\" style=\"height: 400px; width: 1800px;\" class=\"plotly-graph-div\"></div><script type=\"text/javascript\">require([\"plotly\"], function(Plotly) { window.PLOTLYENV=window.PLOTLYENV || {};window.PLOTLYENV.BASE_URL=\"https://plot.ly\";Plotly.newPlot(\"a73d908c-c530-4370-a01c-f185e9dbb478\", [{\"marker\": {\"color\": \"rgba(150, 71, 96, 0.6)\"}, \"orientation\": \"h\", \"showlegend\": false, \"x\": [184, 192, 222, 225, 240, 242, 265, 268, 298, 338, 355, 388, 410, 453, 509, 535, 567, 674, 704, 847, 873, 875, 1091, 1143, 1318, 1413, 1567, 1722, 1949, 2211, 2409, 2682, 3150, 3511, 4010, 4720, 5291, 6197, 7097, 8671, 10104, 12585, 15272, 19476, 24688, 33411, 45192, 73835, 143770, 452522], \"y\": [\"51\", \"49\", \"48\", \"47\", \"46\", \"44\", \"43\", \"45\", \"42\", \"41\", \"40\", \"39\", \"38\", \"37\", \"36\", \"35\", \"34\", \"33\", \"32\", \"31\", \"30\", \"29\", \"28\", \"27\", \"26\", \"25\", \"24\", \"23\", \"22\", \"21\", \"20\", \"19\", \"18\", \"17\", \"16\", \"15\", \"14\", \"13\", \"12\", \"11\", \"10\", \"9\", \"8\", \"7\", \"6\", \"5\", \"4\", \"3\", \"2\", \"1\"], \"type\": \"bar\", \"uid\": \"2006cee8-e27a-45fb-a47a-580b41257488\", \"xaxis\": \"x\", \"yaxis\": \"y\"}, {\"marker\": {\"color\": \"rgba(50, 171, 96, 0.6)\"}, \"orientation\": \"h\", \"showlegend\": false, \"x\": [63, 76, 95, 73, 77, 81, 92, 97, 109, 112, 108, 140, 139, 164, 158, 175, 160, 199, 189, 240, 238, 242, 251, 268, 331, 297, 347, 334, 367, 407, 397, 367, 451, 445, 478, 471, 467, 453, 385, 374, 257, 136, 83, 25, 9, 13, 8, 3, 4, 0], \"y\": [\"51\", \"49\", \"48\", \"47\", \"46\", \"44\", \"43\", \"45\", \"42\", \"41\", \"40\", \"39\", \"38\", \"37\", \"36\", \"35\", \"34\", \"33\", \"32\", \"31\", \"30\", \"29\", \"28\", \"27\", \"26\", \"25\", \"24\", \"23\", \"22\", \"21\", \"20\", \"19\", \"18\", \"17\", \"16\", \"15\", \"14\", \"13\", \"12\", \"11\", \"10\", \"9\", \"8\", \"7\", \"6\", \"5\", \"4\", \"3\", \"2\", \"1\"], \"type\": \"bar\", \"uid\": \"175501e9-c33c-4787-a969-09d49eb6a1db\", \"xaxis\": \"x2\", \"yaxis\": \"y2\"}, {\"marker\": {\"color\": \"rgba(10, 11, 196, 0.6)\"}, \"orientation\": \"h\", \"showlegend\": false, \"x\": [220292857.14285713, 227623684.21052632, 190762842.10526314, 221611643.83561644, 186804155.84415585, 150668024.69135803, 129303260.86956522, 122456185.56701031, 134804311.9266055, 175578303.57142857, 386671203.7037037, 239388500.0, 151532446.04316548, 106345609.75609756, 145872974.6835443, 120449314.28571428, 160237937.5, 135816683.41708544, 126580793.65079366, 125540541.66666667, 162768865.54621848, 93466900.82644628, 112260478.0876494, 119993507.46268657, 133370332.32628399, 97608484.84848484, 114713025.93659942, 122923113.7724551, 137787792.91553134, 97864987.71498771, 89532997.48110831, 78330572.20708446, 83453237.25055432, 91032606.74157304, 86659351.46443515, 85831740.97664544, 106072526.76659529, 94117836.64459161, 69840493.50649351, 100246764.70588236, 93482295.71984436, 106478455.88235295, 102294457.83132531, 62228400.0, 37278888.88888889, 209072307.69230768, 124287500.0, 70393333.33333333, 303625000.0, null], \"y\": [\"51\", \"49\", \"48\", \"47\", \"46\", \"44\", \"43\", \"45\", \"42\", \"41\", \"40\", \"39\", \"38\", \"37\", \"36\", \"35\", \"34\", \"33\", \"32\", \"31\", \"30\", \"29\", \"28\", \"27\", \"26\", \"25\", \"24\", \"23\", \"22\", \"21\", \"20\", \"19\", \"18\", \"17\", \"16\", \"15\", \"14\", \"13\", \"12\", \"11\", \"10\", \"9\", \"8\", \"7\", \"6\", \"5\", \"4\", \"3\", \"2\", \"1\"], \"type\": \"bar\", \"uid\": \"0e52c930-7cb8-46a0-9ec1-0a3c7fe2ddd9\", \"xaxis\": \"x3\", \"yaxis\": \"y3\"}], {\"annotations\": [{\"font\": {\"size\": 16}, \"showarrow\": false, \"text\": \"Total pageviews - Count\", \"x\": 0.14444444444444446, \"xanchor\": \"center\", \"xref\": \"paper\", \"y\": 1.0, \"yanchor\": \"bottom\", \"yref\": \"paper\"}, {\"font\": {\"size\": 16}, \"showarrow\": false, \"text\": \"Total pageviews - Non-zero Revenue Count\", \"x\": 0.5, \"xanchor\": \"center\", \"xref\": \"paper\", \"y\": 1.0, \"yanchor\": \"bottom\", \"yref\": \"paper\"}, {\"font\": {\"size\": 16}, \"showarrow\": false, \"text\": \"Total pageviews - Mean Revenue\", \"x\": 0.8555555555555556, \"xanchor\": \"center\", \"xref\": \"paper\", \"y\": 1.0, \"yanchor\": \"bottom\", \"yref\": \"paper\"}], \"xaxis\": {\"anchor\": \"y\", \"domain\": [0.0, 0.2888888888888889]}, \"yaxis\": {\"anchor\": \"x\", \"domain\": [0.0, 1.0]}, \"xaxis2\": {\"anchor\": \"y2\", \"domain\": [0.35555555555555557, 0.6444444444444445]}, \"yaxis2\": {\"anchor\": \"x2\", \"domain\": [0.0, 1.0]}, \"xaxis3\": {\"anchor\": \"y3\", \"domain\": [0.7111111111111111, 1.0]}, \"yaxis3\": {\"anchor\": \"x3\", \"domain\": [0.0, 1.0]}, \"height\": 400, \"width\": 1800, \"paper_bgcolor\": \"rgb(233,233,233)\", \"title\": \"Total pageviews Plots\"}, {\"showLink\": true, \"linkText\": \"Export to plot.ly\", \"plotlyServerURL\": \"https://plot.ly\"})});</script>"
      ]
     },
     "metadata": {},
     "output_type": "display_data"
    }
   ],
   "source": [
    "fig['layout'].update(height=400, width=1800, paper_bgcolor='rgb(233,233,233)', title=\"Total pageviews Plots\")\n",
    "py.iplot(fig, filename='geonetwork-totalpageviews-plots')"
   ]
  },
  {
   "cell_type": "markdown",
   "metadata": {},
   "source": [
    "#### From the above two analysis, we can see that\n",
    "-  Both these variables look very predictive.\n",
    "-  Count plot shows decreasing nature i.e. we have a very high total count for less number of hits and page views per visitor transaction and the overall count decreases when the number of hits per visitor transaction increases.\n",
    "-  On the other hand, we can clearly see that when the number of hits / pageviews per visitor transaction increases, we see that there is a high number of non-zero revenue counts."
   ]
  },
  {
   "cell_type": "markdown",
   "metadata": {},
   "source": [
    "### Traffic Source Analysis:\n",
    "#### Source"
   ]
  },
  {
   "cell_type": "code",
   "execution_count": 99,
   "metadata": {},
   "outputs": [],
   "source": [
    "counts = train_df.groupby('trafficSource.source')['totals.transactionRevenue'].agg(['size', 'count', 'mean'])\n",
    "counts.columns = [\"count\", \"count of non-zero revenue\", \"mean\"]\n",
    "counts = counts.sort_values(by=\"count\", ascending=False)\n",
    "graph1 = bar_graph(counts[\"count\"].head(10), 'rgba(150, 71, 96, 0.6)')\n",
    "graph2 = bar_graph(counts[\"count of non-zero revenue\"].head(10), 'rgba(50, 171, 96, 0.6)')\n",
    "graph3 = bar_graph(counts[\"mean\"].head(10), 'rgba(10, 11, 196, 0.6)')"
   ]
  },
  {
   "cell_type": "code",
   "execution_count": 100,
   "metadata": {},
   "outputs": [
    {
     "name": "stdout",
     "output_type": "stream",
     "text": [
      "This is the format of your plot grid:\n",
      "[ (1,1) x1,y1 ]  [ (1,2) x2,y2 ]  [ (1,3) x3,y3 ]\n",
      "\n"
     ]
    }
   ],
   "source": [
    "fig = tools.make_subplots(rows=1, cols=3, vertical_spacing=0.04, \n",
    "                          subplot_titles=[\"Traffic Source - Count\", \"Traffic Source - Non-zero Revenue Count\", \"Traffic Source - Mean Revenue\"])"
   ]
  },
  {
   "cell_type": "code",
   "execution_count": 101,
   "metadata": {},
   "outputs": [],
   "source": [
    "fig.append_trace(graph1, 1, 1)\n",
    "fig.append_trace(graph2, 1, 2)\n",
    "fig.append_trace(graph3, 1, 3)"
   ]
  },
  {
   "cell_type": "code",
   "execution_count": 102,
   "metadata": {},
   "outputs": [
    {
     "data": {
      "application/vnd.plotly.v1+json": {
       "config": {
        "linkText": "Export to plot.ly",
        "plotlyServerURL": "https://plot.ly",
        "showLink": true
       },
       "data": [
        {
         "marker": {
          "color": "rgba(150, 71, 96, 0.6)"
         },
         "orientation": "h",
         "showlegend": false,
         "type": "bar",
         "uid": "7b54863e-5b5b-42d8-b31c-c39a0a8558e7",
         "x": [
          3356,
          3365,
          4669,
          5686,
          16172,
          16411,
          66416,
          143028,
          212602,
          400788
         ],
         "xaxis": "x",
         "y": [
          "baidu",
          "m.facebook.com",
          "google.com",
          "dfa",
          "analytics.google.com",
          "Partners",
          "mall.googleplex.com",
          "(direct)",
          "youtube.com",
          "google"
         ],
         "yaxis": "y"
        },
        {
         "marker": {
          "color": "rgba(50, 171, 96, 0.6)"
         },
         "orientation": "h",
         "showlegend": false,
         "type": "bar",
         "uid": "ad91d394-601e-4479-b790-798bf6879d48",
         "x": [
          0,
          6,
          5,
          123,
          0,
          9,
          5103,
          2042,
          11,
          3879
         ],
         "xaxis": "x2",
         "y": [
          "baidu",
          "m.facebook.com",
          "google.com",
          "dfa",
          "analytics.google.com",
          "Partners",
          "mall.googleplex.com",
          "(direct)",
          "youtube.com",
          "google"
         ],
         "yaxis": "y2"
        },
        {
         "marker": {
          "color": "rgba(10, 11, 196, 0.6)"
         },
         "orientation": "h",
         "showlegend": false,
         "type": "bar",
         "uid": "ace4c1ee-3343-4111-b571-727acc4b7a48",
         "x": [
          null,
          31133333.333333332,
          69448000,
          625434308.9430895,
          null,
          66375555.55555555,
          120119151.47952186,
          212948359.45151812,
          28551818.181818184,
          95118680.07218355
         ],
         "xaxis": "x3",
         "y": [
          "baidu",
          "m.facebook.com",
          "google.com",
          "dfa",
          "analytics.google.com",
          "Partners",
          "mall.googleplex.com",
          "(direct)",
          "youtube.com",
          "google"
         ],
         "yaxis": "y3"
        }
       ],
       "layout": {
        "annotations": [
         {
          "font": {
           "size": 16
          },
          "showarrow": false,
          "text": "Traffic Source - Count",
          "x": 0.14444444444444446,
          "xanchor": "center",
          "xref": "paper",
          "y": 1,
          "yanchor": "bottom",
          "yref": "paper"
         },
         {
          "font": {
           "size": 16
          },
          "showarrow": false,
          "text": "Traffic Source - Non-zero Revenue Count",
          "x": 0.5,
          "xanchor": "center",
          "xref": "paper",
          "y": 1,
          "yanchor": "bottom",
          "yref": "paper"
         },
         {
          "font": {
           "size": 16
          },
          "showarrow": false,
          "text": "Traffic Source - Mean Revenue",
          "x": 0.8555555555555556,
          "xanchor": "center",
          "xref": "paper",
          "y": 1,
          "yanchor": "bottom",
          "yref": "paper"
         }
        ],
        "height": 400,
        "paper_bgcolor": "rgb(233,233,233)",
        "title": "Traffic Source Plots",
        "width": 1800,
        "xaxis": {
         "anchor": "y",
         "domain": [
          0,
          0.2888888888888889
         ]
        },
        "xaxis2": {
         "anchor": "y2",
         "domain": [
          0.35555555555555557,
          0.6444444444444445
         ]
        },
        "xaxis3": {
         "anchor": "y3",
         "domain": [
          0.7111111111111111,
          1
         ]
        },
        "yaxis": {
         "anchor": "x",
         "domain": [
          0,
          1
         ]
        },
        "yaxis2": {
         "anchor": "x2",
         "domain": [
          0,
          1
         ]
        },
        "yaxis3": {
         "anchor": "x3",
         "domain": [
          0,
          1
         ]
        }
       }
      },
      "text/html": [
       "<div id=\"8f7574d9-71f4-43cf-b34e-09e70d17ccb6\" style=\"height: 400px; width: 1800px;\" class=\"plotly-graph-div\"></div><script type=\"text/javascript\">require([\"plotly\"], function(Plotly) { window.PLOTLYENV=window.PLOTLYENV || {};window.PLOTLYENV.BASE_URL=\"https://plot.ly\";Plotly.newPlot(\"8f7574d9-71f4-43cf-b34e-09e70d17ccb6\", [{\"marker\": {\"color\": \"rgba(150, 71, 96, 0.6)\"}, \"orientation\": \"h\", \"showlegend\": false, \"x\": [3356, 3365, 4669, 5686, 16172, 16411, 66416, 143028, 212602, 400788], \"y\": [\"baidu\", \"m.facebook.com\", \"google.com\", \"dfa\", \"analytics.google.com\", \"Partners\", \"mall.googleplex.com\", \"(direct)\", \"youtube.com\", \"google\"], \"type\": \"bar\", \"uid\": \"7b54863e-5b5b-42d8-b31c-c39a0a8558e7\", \"xaxis\": \"x\", \"yaxis\": \"y\"}, {\"marker\": {\"color\": \"rgba(50, 171, 96, 0.6)\"}, \"orientation\": \"h\", \"showlegend\": false, \"x\": [0, 6, 5, 123, 0, 9, 5103, 2042, 11, 3879], \"y\": [\"baidu\", \"m.facebook.com\", \"google.com\", \"dfa\", \"analytics.google.com\", \"Partners\", \"mall.googleplex.com\", \"(direct)\", \"youtube.com\", \"google\"], \"type\": \"bar\", \"uid\": \"ad91d394-601e-4479-b790-798bf6879d48\", \"xaxis\": \"x2\", \"yaxis\": \"y2\"}, {\"marker\": {\"color\": \"rgba(10, 11, 196, 0.6)\"}, \"orientation\": \"h\", \"showlegend\": false, \"x\": [null, 31133333.333333332, 69448000.0, 625434308.9430895, null, 66375555.55555555, 120119151.47952186, 212948359.45151812, 28551818.181818184, 95118680.07218355], \"y\": [\"baidu\", \"m.facebook.com\", \"google.com\", \"dfa\", \"analytics.google.com\", \"Partners\", \"mall.googleplex.com\", \"(direct)\", \"youtube.com\", \"google\"], \"type\": \"bar\", \"uid\": \"ace4c1ee-3343-4111-b571-727acc4b7a48\", \"xaxis\": \"x3\", \"yaxis\": \"y3\"}], {\"annotations\": [{\"font\": {\"size\": 16}, \"showarrow\": false, \"text\": \"Traffic Source - Count\", \"x\": 0.14444444444444446, \"xanchor\": \"center\", \"xref\": \"paper\", \"y\": 1.0, \"yanchor\": \"bottom\", \"yref\": \"paper\"}, {\"font\": {\"size\": 16}, \"showarrow\": false, \"text\": \"Traffic Source - Non-zero Revenue Count\", \"x\": 0.5, \"xanchor\": \"center\", \"xref\": \"paper\", \"y\": 1.0, \"yanchor\": \"bottom\", \"yref\": \"paper\"}, {\"font\": {\"size\": 16}, \"showarrow\": false, \"text\": \"Traffic Source - Mean Revenue\", \"x\": 0.8555555555555556, \"xanchor\": \"center\", \"xref\": \"paper\", \"y\": 1.0, \"yanchor\": \"bottom\", \"yref\": \"paper\"}], \"xaxis\": {\"anchor\": \"y\", \"domain\": [0.0, 0.2888888888888889]}, \"yaxis\": {\"anchor\": \"x\", \"domain\": [0.0, 1.0]}, \"xaxis2\": {\"anchor\": \"y2\", \"domain\": [0.35555555555555557, 0.6444444444444445]}, \"yaxis2\": {\"anchor\": \"x2\", \"domain\": [0.0, 1.0]}, \"xaxis3\": {\"anchor\": \"y3\", \"domain\": [0.7111111111111111, 1.0]}, \"yaxis3\": {\"anchor\": \"x3\", \"domain\": [0.0, 1.0]}, \"height\": 400, \"width\": 1800, \"paper_bgcolor\": \"rgb(233,233,233)\", \"title\": \"Traffic Source Plots\"}, {\"showLink\": true, \"linkText\": \"Export to plot.ly\", \"plotlyServerURL\": \"https://plot.ly\"})});</script>"
      ],
      "text/vnd.plotly.v1+html": [
       "<div id=\"8f7574d9-71f4-43cf-b34e-09e70d17ccb6\" style=\"height: 400px; width: 1800px;\" class=\"plotly-graph-div\"></div><script type=\"text/javascript\">require([\"plotly\"], function(Plotly) { window.PLOTLYENV=window.PLOTLYENV || {};window.PLOTLYENV.BASE_URL=\"https://plot.ly\";Plotly.newPlot(\"8f7574d9-71f4-43cf-b34e-09e70d17ccb6\", [{\"marker\": {\"color\": \"rgba(150, 71, 96, 0.6)\"}, \"orientation\": \"h\", \"showlegend\": false, \"x\": [3356, 3365, 4669, 5686, 16172, 16411, 66416, 143028, 212602, 400788], \"y\": [\"baidu\", \"m.facebook.com\", \"google.com\", \"dfa\", \"analytics.google.com\", \"Partners\", \"mall.googleplex.com\", \"(direct)\", \"youtube.com\", \"google\"], \"type\": \"bar\", \"uid\": \"7b54863e-5b5b-42d8-b31c-c39a0a8558e7\", \"xaxis\": \"x\", \"yaxis\": \"y\"}, {\"marker\": {\"color\": \"rgba(50, 171, 96, 0.6)\"}, \"orientation\": \"h\", \"showlegend\": false, \"x\": [0, 6, 5, 123, 0, 9, 5103, 2042, 11, 3879], \"y\": [\"baidu\", \"m.facebook.com\", \"google.com\", \"dfa\", \"analytics.google.com\", \"Partners\", \"mall.googleplex.com\", \"(direct)\", \"youtube.com\", \"google\"], \"type\": \"bar\", \"uid\": \"ad91d394-601e-4479-b790-798bf6879d48\", \"xaxis\": \"x2\", \"yaxis\": \"y2\"}, {\"marker\": {\"color\": \"rgba(10, 11, 196, 0.6)\"}, \"orientation\": \"h\", \"showlegend\": false, \"x\": [null, 31133333.333333332, 69448000.0, 625434308.9430895, null, 66375555.55555555, 120119151.47952186, 212948359.45151812, 28551818.181818184, 95118680.07218355], \"y\": [\"baidu\", \"m.facebook.com\", \"google.com\", \"dfa\", \"analytics.google.com\", \"Partners\", \"mall.googleplex.com\", \"(direct)\", \"youtube.com\", \"google\"], \"type\": \"bar\", \"uid\": \"ace4c1ee-3343-4111-b571-727acc4b7a48\", \"xaxis\": \"x3\", \"yaxis\": \"y3\"}], {\"annotations\": [{\"font\": {\"size\": 16}, \"showarrow\": false, \"text\": \"Traffic Source - Count\", \"x\": 0.14444444444444446, \"xanchor\": \"center\", \"xref\": \"paper\", \"y\": 1.0, \"yanchor\": \"bottom\", \"yref\": \"paper\"}, {\"font\": {\"size\": 16}, \"showarrow\": false, \"text\": \"Traffic Source - Non-zero Revenue Count\", \"x\": 0.5, \"xanchor\": \"center\", \"xref\": \"paper\", \"y\": 1.0, \"yanchor\": \"bottom\", \"yref\": \"paper\"}, {\"font\": {\"size\": 16}, \"showarrow\": false, \"text\": \"Traffic Source - Mean Revenue\", \"x\": 0.8555555555555556, \"xanchor\": \"center\", \"xref\": \"paper\", \"y\": 1.0, \"yanchor\": \"bottom\", \"yref\": \"paper\"}], \"xaxis\": {\"anchor\": \"y\", \"domain\": [0.0, 0.2888888888888889]}, \"yaxis\": {\"anchor\": \"x\", \"domain\": [0.0, 1.0]}, \"xaxis2\": {\"anchor\": \"y2\", \"domain\": [0.35555555555555557, 0.6444444444444445]}, \"yaxis2\": {\"anchor\": \"x2\", \"domain\": [0.0, 1.0]}, \"xaxis3\": {\"anchor\": \"y3\", \"domain\": [0.7111111111111111, 1.0]}, \"yaxis3\": {\"anchor\": \"x3\", \"domain\": [0.0, 1.0]}, \"height\": 400, \"width\": 1800, \"paper_bgcolor\": \"rgb(233,233,233)\", \"title\": \"Traffic Source Plots\"}, {\"showLink\": true, \"linkText\": \"Export to plot.ly\", \"plotlyServerURL\": \"https://plot.ly\"})});</script>"
      ]
     },
     "metadata": {},
     "output_type": "display_data"
    }
   ],
   "source": [
    "fig['layout'].update(height=400, width=1800, paper_bgcolor='rgb(233,233,233)', title=\"Traffic Source Plots\")\n",
    "py.iplot(fig, filename='geonetwork-trafficsource-plots')"
   ]
  },
  {
   "cell_type": "markdown",
   "metadata": {},
   "source": [
    "#### From the above analysis, we can see that\n",
    "-  Though Youtube has high number of counts, the number of non-zero revenue counts are very less.\n",
    "-  Google plex has a high ratio of non-zero revenue count to total count in the traffic source plot."
   ]
  },
  {
   "cell_type": "markdown",
   "metadata": {},
   "source": [
    "#### Medium"
   ]
  },
  {
   "cell_type": "code",
   "execution_count": 103,
   "metadata": {},
   "outputs": [],
   "source": [
    "counts = train_df.groupby('trafficSource.medium')['totals.transactionRevenue'].agg(['size', 'count', 'mean'])\n",
    "counts.columns = [\"count\", \"count of non-zero revenue\", \"mean\"]\n",
    "counts = counts.sort_values(by=\"count\", ascending=False)\n",
    "graph1 = bar_graph(counts[\"count\"].head(10), 'rgba(150, 71, 96, 0.6)')\n",
    "graph2 = bar_graph(counts[\"count of non-zero revenue\"].head(10), 'rgba(50, 171, 96, 0.6)')\n",
    "graph3 = bar_graph(counts[\"mean\"].head(10), 'rgba(10, 11, 196, 0.6)')"
   ]
  },
  {
   "cell_type": "code",
   "execution_count": 104,
   "metadata": {},
   "outputs": [
    {
     "name": "stdout",
     "output_type": "stream",
     "text": [
      "This is the format of your plot grid:\n",
      "[ (1,1) x1,y1 ]  [ (1,2) x2,y2 ]  [ (1,3) x3,y3 ]\n",
      "\n"
     ]
    }
   ],
   "source": [
    "fig = tools.make_subplots(rows=1, cols=3, vertical_spacing=0.04, \n",
    "                          subplot_titles=[\"Traffic Source medium - Count\", \"Traffic Source medium - Non-zero Revenue Count\", \"Traffic Source medium - Mean Revenue\"])"
   ]
  },
  {
   "cell_type": "code",
   "execution_count": 105,
   "metadata": {},
   "outputs": [],
   "source": [
    "fig.append_trace(graph1, 1, 1)\n",
    "fig.append_trace(graph2, 1, 2)\n",
    "fig.append_trace(graph3, 1, 3)"
   ]
  },
  {
   "cell_type": "code",
   "execution_count": 106,
   "metadata": {},
   "outputs": [
    {
     "data": {
      "application/vnd.plotly.v1+json": {
       "config": {
        "linkText": "Export to plot.ly",
        "plotlyServerURL": "https://plot.ly",
        "showLink": true
       },
       "data": [
        {
         "marker": {
          "color": "rgba(150, 71, 96, 0.6)"
         },
         "orientation": "h",
         "showlegend": false,
         "type": "bar",
         "uid": "169a9e10-5fce-47df-a717-2550e9a1ebf8",
         "x": [
          120,
          6262,
          16403,
          25326,
          143026,
          330955,
          381561
         ],
         "xaxis": "x",
         "y": [
          "(not set)",
          "cpm",
          "affiliate",
          "cpc",
          "(none)",
          "referral",
          "organic"
         ],
         "yaxis": "y"
        },
        {
         "marker": {
          "color": "rgba(50, 171, 96, 0.6)"
         },
         "orientation": "h",
         "showlegend": false,
         "type": "bar",
         "uid": "0a873db1-c9dd-4845-83a3-fdb0b6c807b7",
         "x": [
          1,
          142,
          9,
          468,
          2042,
          5415,
          3438
         ],
         "xaxis": "x2",
         "y": [
          "(not set)",
          "cpm",
          "affiliate",
          "cpc",
          "(none)",
          "referral",
          "organic"
         ],
         "yaxis": "y2"
        },
        {
         "marker": {
          "color": "rgba(10, 11, 196, 0.6)"
         },
         "orientation": "h",
         "showlegend": false,
         "type": "bar",
         "uid": "5e055137-2312-4f64-9bca-20fe3813f522",
         "x": [
          9990000,
          551672253.5211267,
          66375555.55555555,
          93074572.64957266,
          212948359.45151812,
          121208947.36842105,
          94933248.98196626
         ],
         "xaxis": "x3",
         "y": [
          "(not set)",
          "cpm",
          "affiliate",
          "cpc",
          "(none)",
          "referral",
          "organic"
         ],
         "yaxis": "y3"
        }
       ],
       "layout": {
        "annotations": [
         {
          "font": {
           "size": 16
          },
          "showarrow": false,
          "text": "Traffic Source medium - Count",
          "x": 0.14444444444444446,
          "xanchor": "center",
          "xref": "paper",
          "y": 1,
          "yanchor": "bottom",
          "yref": "paper"
         },
         {
          "font": {
           "size": 16
          },
          "showarrow": false,
          "text": "Traffic Source medium - Non-zero Revenue Count",
          "x": 0.5,
          "xanchor": "center",
          "xref": "paper",
          "y": 1,
          "yanchor": "bottom",
          "yref": "paper"
         },
         {
          "font": {
           "size": 16
          },
          "showarrow": false,
          "text": "Traffic Source medium - Mean Revenue",
          "x": 0.8555555555555556,
          "xanchor": "center",
          "xref": "paper",
          "y": 1,
          "yanchor": "bottom",
          "yref": "paper"
         }
        ],
        "height": 400,
        "paper_bgcolor": "rgb(233,233,233)",
        "title": "Traffic Source Medium Plots",
        "width": 1600,
        "xaxis": {
         "anchor": "y",
         "domain": [
          0,
          0.2888888888888889
         ]
        },
        "xaxis2": {
         "anchor": "y2",
         "domain": [
          0.35555555555555557,
          0.6444444444444445
         ]
        },
        "xaxis3": {
         "anchor": "y3",
         "domain": [
          0.7111111111111111,
          1
         ]
        },
        "yaxis": {
         "anchor": "x",
         "domain": [
          0,
          1
         ]
        },
        "yaxis2": {
         "anchor": "x2",
         "domain": [
          0,
          1
         ]
        },
        "yaxis3": {
         "anchor": "x3",
         "domain": [
          0,
          1
         ]
        }
       }
      },
      "text/html": [
       "<div id=\"ba1eecfb-6682-4cca-b5d9-f02d17f988ad\" style=\"height: 400px; width: 1600px;\" class=\"plotly-graph-div\"></div><script type=\"text/javascript\">require([\"plotly\"], function(Plotly) { window.PLOTLYENV=window.PLOTLYENV || {};window.PLOTLYENV.BASE_URL=\"https://plot.ly\";Plotly.newPlot(\"ba1eecfb-6682-4cca-b5d9-f02d17f988ad\", [{\"marker\": {\"color\": \"rgba(150, 71, 96, 0.6)\"}, \"orientation\": \"h\", \"showlegend\": false, \"x\": [120, 6262, 16403, 25326, 143026, 330955, 381561], \"y\": [\"(not set)\", \"cpm\", \"affiliate\", \"cpc\", \"(none)\", \"referral\", \"organic\"], \"type\": \"bar\", \"uid\": \"169a9e10-5fce-47df-a717-2550e9a1ebf8\", \"xaxis\": \"x\", \"yaxis\": \"y\"}, {\"marker\": {\"color\": \"rgba(50, 171, 96, 0.6)\"}, \"orientation\": \"h\", \"showlegend\": false, \"x\": [1, 142, 9, 468, 2042, 5415, 3438], \"y\": [\"(not set)\", \"cpm\", \"affiliate\", \"cpc\", \"(none)\", \"referral\", \"organic\"], \"type\": \"bar\", \"uid\": \"0a873db1-c9dd-4845-83a3-fdb0b6c807b7\", \"xaxis\": \"x2\", \"yaxis\": \"y2\"}, {\"marker\": {\"color\": \"rgba(10, 11, 196, 0.6)\"}, \"orientation\": \"h\", \"showlegend\": false, \"x\": [9990000.0, 551672253.5211267, 66375555.55555555, 93074572.64957266, 212948359.45151812, 121208947.36842105, 94933248.98196626], \"y\": [\"(not set)\", \"cpm\", \"affiliate\", \"cpc\", \"(none)\", \"referral\", \"organic\"], \"type\": \"bar\", \"uid\": \"5e055137-2312-4f64-9bca-20fe3813f522\", \"xaxis\": \"x3\", \"yaxis\": \"y3\"}], {\"annotations\": [{\"font\": {\"size\": 16}, \"showarrow\": false, \"text\": \"Traffic Source medium - Count\", \"x\": 0.14444444444444446, \"xanchor\": \"center\", \"xref\": \"paper\", \"y\": 1.0, \"yanchor\": \"bottom\", \"yref\": \"paper\"}, {\"font\": {\"size\": 16}, \"showarrow\": false, \"text\": \"Traffic Source medium - Non-zero Revenue Count\", \"x\": 0.5, \"xanchor\": \"center\", \"xref\": \"paper\", \"y\": 1.0, \"yanchor\": \"bottom\", \"yref\": \"paper\"}, {\"font\": {\"size\": 16}, \"showarrow\": false, \"text\": \"Traffic Source medium - Mean Revenue\", \"x\": 0.8555555555555556, \"xanchor\": \"center\", \"xref\": \"paper\", \"y\": 1.0, \"yanchor\": \"bottom\", \"yref\": \"paper\"}], \"xaxis\": {\"anchor\": \"y\", \"domain\": [0.0, 0.2888888888888889]}, \"yaxis\": {\"anchor\": \"x\", \"domain\": [0.0, 1.0]}, \"xaxis2\": {\"anchor\": \"y2\", \"domain\": [0.35555555555555557, 0.6444444444444445]}, \"yaxis2\": {\"anchor\": \"x2\", \"domain\": [0.0, 1.0]}, \"xaxis3\": {\"anchor\": \"y3\", \"domain\": [0.7111111111111111, 1.0]}, \"yaxis3\": {\"anchor\": \"x3\", \"domain\": [0.0, 1.0]}, \"height\": 400, \"width\": 1600, \"paper_bgcolor\": \"rgb(233,233,233)\", \"title\": \"Traffic Source Medium Plots\"}, {\"showLink\": true, \"linkText\": \"Export to plot.ly\", \"plotlyServerURL\": \"https://plot.ly\"})});</script>"
      ],
      "text/vnd.plotly.v1+html": [
       "<div id=\"ba1eecfb-6682-4cca-b5d9-f02d17f988ad\" style=\"height: 400px; width: 1600px;\" class=\"plotly-graph-div\"></div><script type=\"text/javascript\">require([\"plotly\"], function(Plotly) { window.PLOTLYENV=window.PLOTLYENV || {};window.PLOTLYENV.BASE_URL=\"https://plot.ly\";Plotly.newPlot(\"ba1eecfb-6682-4cca-b5d9-f02d17f988ad\", [{\"marker\": {\"color\": \"rgba(150, 71, 96, 0.6)\"}, \"orientation\": \"h\", \"showlegend\": false, \"x\": [120, 6262, 16403, 25326, 143026, 330955, 381561], \"y\": [\"(not set)\", \"cpm\", \"affiliate\", \"cpc\", \"(none)\", \"referral\", \"organic\"], \"type\": \"bar\", \"uid\": \"169a9e10-5fce-47df-a717-2550e9a1ebf8\", \"xaxis\": \"x\", \"yaxis\": \"y\"}, {\"marker\": {\"color\": \"rgba(50, 171, 96, 0.6)\"}, \"orientation\": \"h\", \"showlegend\": false, \"x\": [1, 142, 9, 468, 2042, 5415, 3438], \"y\": [\"(not set)\", \"cpm\", \"affiliate\", \"cpc\", \"(none)\", \"referral\", \"organic\"], \"type\": \"bar\", \"uid\": \"0a873db1-c9dd-4845-83a3-fdb0b6c807b7\", \"xaxis\": \"x2\", \"yaxis\": \"y2\"}, {\"marker\": {\"color\": \"rgba(10, 11, 196, 0.6)\"}, \"orientation\": \"h\", \"showlegend\": false, \"x\": [9990000.0, 551672253.5211267, 66375555.55555555, 93074572.64957266, 212948359.45151812, 121208947.36842105, 94933248.98196626], \"y\": [\"(not set)\", \"cpm\", \"affiliate\", \"cpc\", \"(none)\", \"referral\", \"organic\"], \"type\": \"bar\", \"uid\": \"5e055137-2312-4f64-9bca-20fe3813f522\", \"xaxis\": \"x3\", \"yaxis\": \"y3\"}], {\"annotations\": [{\"font\": {\"size\": 16}, \"showarrow\": false, \"text\": \"Traffic Source medium - Count\", \"x\": 0.14444444444444446, \"xanchor\": \"center\", \"xref\": \"paper\", \"y\": 1.0, \"yanchor\": \"bottom\", \"yref\": \"paper\"}, {\"font\": {\"size\": 16}, \"showarrow\": false, \"text\": \"Traffic Source medium - Non-zero Revenue Count\", \"x\": 0.5, \"xanchor\": \"center\", \"xref\": \"paper\", \"y\": 1.0, \"yanchor\": \"bottom\", \"yref\": \"paper\"}, {\"font\": {\"size\": 16}, \"showarrow\": false, \"text\": \"Traffic Source medium - Mean Revenue\", \"x\": 0.8555555555555556, \"xanchor\": \"center\", \"xref\": \"paper\", \"y\": 1.0, \"yanchor\": \"bottom\", \"yref\": \"paper\"}], \"xaxis\": {\"anchor\": \"y\", \"domain\": [0.0, 0.2888888888888889]}, \"yaxis\": {\"anchor\": \"x\", \"domain\": [0.0, 1.0]}, \"xaxis2\": {\"anchor\": \"y2\", \"domain\": [0.35555555555555557, 0.6444444444444445]}, \"yaxis2\": {\"anchor\": \"x2\", \"domain\": [0.0, 1.0]}, \"xaxis3\": {\"anchor\": \"y3\", \"domain\": [0.7111111111111111, 1.0]}, \"yaxis3\": {\"anchor\": \"x3\", \"domain\": [0.0, 1.0]}, \"height\": 400, \"width\": 1600, \"paper_bgcolor\": \"rgb(233,233,233)\", \"title\": \"Traffic Source Medium Plots\"}, {\"showLink\": true, \"linkText\": \"Export to plot.ly\", \"plotlyServerURL\": \"https://plot.ly\"})});</script>"
      ]
     },
     "metadata": {},
     "output_type": "display_data"
    }
   ],
   "source": [
    "fig['layout'].update(height=400, width=1600, paper_bgcolor='rgb(233,233,233)', title=\"Traffic Source Medium Plots\")\n",
    "py.iplot(fig, filename='geonetwork-trafficsourcemedium-plots')"
   ]
  },
  {
   "cell_type": "markdown",
   "metadata": {},
   "source": [
    "#### From the above analysis, we can see that\n",
    "-  \"referral\" has more number of non-zero revenue count compared to \"organic\" medium."
   ]
  },
  {
   "cell_type": "markdown",
   "metadata": {},
   "source": [
    "#### Before we start building models, let's see if there are any features which are there in training dataset but not in test dataset."
   ]
  },
  {
   "cell_type": "code",
   "execution_count": 107,
   "metadata": {},
   "outputs": [
    {
     "data": {
      "text/plain": [
       "{'totals.transactionRevenue', 'trafficSource.campaignCode'}"
      ]
     },
     "execution_count": 107,
     "metadata": {},
     "output_type": "execute_result"
    }
   ],
   "source": [
    "set(train_df.columns).difference(set(test_df.columns))"
   ]
  },
  {
   "cell_type": "markdown",
   "metadata": {},
   "source": [
    "#### The feature \"trafficSource.campaignCode\" not present in test dataset. \n",
    "#### Let's remove this feature when we build models. \n",
    "#### Also let's drop the constant variables which we got earlier.\n",
    "#### Also let's drop the \"sessionId\" as it is a unique identifier of the visit."
   ]
  },
  {
   "cell_type": "code",
   "execution_count": 108,
   "metadata": {},
   "outputs": [],
   "source": [
    "columns_to_drop = constant_columns + ['sessionId']\n",
    "\n",
    "train_df = train_df.drop(columns_to_drop + [\"trafficSource.campaignCode\"], axis=1)\n",
    "test_df = test_df.drop(columns_to_drop, axis=1)"
   ]
  },
  {
   "cell_type": "markdown",
   "metadata": {},
   "source": [
    "#### Let's impute 0 for missing target values"
   ]
  },
  {
   "cell_type": "code",
   "execution_count": 109,
   "metadata": {},
   "outputs": [
    {
     "name": "stdout",
     "output_type": "stream",
     "text": [
      "CPU times: user 7.23 ms, sys: 20.1 ms, total: 27.3 ms\n",
      "Wall time: 35.8 ms\n"
     ]
    }
   ],
   "source": [
    "%%time\n",
    "train_df[\"totals.transactionRevenue\"].fillna(0, inplace=True)\n",
    "train_y = train_df[\"totals.transactionRevenue\"].values\n",
    "train_id = train_df[\"fullVisitorId\"].values\n",
    "test_id = test_df[\"fullVisitorId\"].values"
   ]
  },
  {
   "cell_type": "markdown",
   "metadata": {},
   "source": [
    "#### Let's perform a label encoding on the features and convert the numerical values to float"
   ]
  },
  {
   "cell_type": "code",
   "execution_count": 110,
   "metadata": {},
   "outputs": [
    {
     "name": "stdout",
     "output_type": "stream",
     "text": [
      "channelGrouping\n",
      "device.browser\n",
      "device.deviceCategory\n",
      "device.operatingSystem\n",
      "geoNetwork.city\n",
      "geoNetwork.continent\n",
      "geoNetwork.country\n",
      "geoNetwork.metro\n",
      "geoNetwork.networkDomain\n",
      "geoNetwork.region\n",
      "geoNetwork.subContinent\n",
      "trafficSource.adContent\n",
      "trafficSource.adwordsClickInfo.adNetworkType\n",
      "trafficSource.adwordsClickInfo.gclId\n",
      "trafficSource.adwordsClickInfo.page\n",
      "trafficSource.adwordsClickInfo.slot\n",
      "trafficSource.campaign\n",
      "trafficSource.keyword\n",
      "trafficSource.medium\n",
      "trafficSource.referralPath\n",
      "trafficSource.source\n",
      "trafficSource.adwordsClickInfo.isVideoAd\n",
      "trafficSource.isTrueDirect\n",
      "CPU times: user 3min 33s, sys: 1min 43s, total: 5min 16s\n",
      "Wall time: 5min 32s\n"
     ]
    }
   ],
   "source": [
    "%%time\n",
    "feature_columns = [\"channelGrouping\", \"device.browser\", \n",
    "            \"device.deviceCategory\", \"device.operatingSystem\", \n",
    "            \"geoNetwork.city\", \"geoNetwork.continent\", \n",
    "            \"geoNetwork.country\", \"geoNetwork.metro\",\n",
    "            \"geoNetwork.networkDomain\", \"geoNetwork.region\", \n",
    "            \"geoNetwork.subContinent\", \"trafficSource.adContent\", \n",
    "            \"trafficSource.adwordsClickInfo.adNetworkType\", \n",
    "            \"trafficSource.adwordsClickInfo.gclId\", \n",
    "            \"trafficSource.adwordsClickInfo.page\", \n",
    "            \"trafficSource.adwordsClickInfo.slot\", \"trafficSource.campaign\",\n",
    "            \"trafficSource.keyword\", \"trafficSource.medium\", \n",
    "            \"trafficSource.referralPath\", \"trafficSource.source\",\n",
    "            'trafficSource.adwordsClickInfo.isVideoAd', 'trafficSource.isTrueDirect']\n",
    "for column in feature_columns:\n",
    "    print(column)\n",
    "    lbl = preprocessing.LabelEncoder()\n",
    "    lbl.fit(list(train_df[column].values.astype('str')) + list(test_df[column].values.astype('str')))\n",
    "    train_df[column] = lbl.transform(list(train_df[column].values.astype('str')))\n",
    "    test_df[column] = lbl.transform(list(test_df[column].values.astype('str')))\n",
    "\n"
   ]
  },
  {
   "cell_type": "code",
   "execution_count": 111,
   "metadata": {},
   "outputs": [
    {
     "name": "stdout",
     "output_type": "stream",
     "text": [
      "CPU times: user 1.84 s, sys: 203 ms, total: 2.05 s\n",
      "Wall time: 1.23 s\n"
     ]
    }
   ],
   "source": [
    "%%time\n",
    "numeric_columns = [\"totals.hits\", \"totals.pageviews\", \"visitNumber\", \"visitStartTime\", 'totals.bounces',  'totals.newVisits']    \n",
    "for column in numeric_columns:\n",
    "    train_df[column] = train_df[column].astype(float)\n",
    "    test_df[column] = test_df[column].astype(float)"
   ]
  },
  {
   "cell_type": "markdown",
   "metadata": {},
   "source": [
    "#### Now let's split the training dataset into development set and validation set based on time "
   ]
  },
  {
   "cell_type": "code",
   "execution_count": 116,
   "metadata": {},
   "outputs": [
    {
     "name": "stdout",
     "output_type": "stream",
     "text": [
      "CPU times: user 882 ms, sys: 908 ms, total: 1.79 s\n",
      "Wall time: 1.51 s\n"
     ]
    }
   ],
   "source": [
    "%%time\n",
    "development_df = train_df[train_df['date']<=datetime.date(2017,5,31)]\n",
    "validation_df = train_df[train_df['date']>datetime.date(2017,5,31)]\n",
    "development_y = np.log1p(development_df[\"totals.transactionRevenue\"].values)\n",
    "validation_y = np.log1p(validation_df[\"totals.transactionRevenue\"].values)\n",
    "\n",
    "development_X = development_df[feature_columns + numeric_columns] \n",
    "validation_X = validation_df[feature_columns + numeric_columns] \n",
    "test_X = test_df[feature_columns + numeric_columns] "
   ]
  },
  {
   "cell_type": "markdown",
   "metadata": {},
   "source": [
    "#### Let's write a LightGBM algorithm.\n",
    "Please note that the values for *num_boost*, *early_stopping_rounds* and *verbose_eval* have been set by trail and error method. We started with as low as (100,20,20)."
   ]
  },
  {
   "cell_type": "code",
   "execution_count": 121,
   "metadata": {},
   "outputs": [],
   "source": [
    "import lightgbm as lgb\n",
    "# custom function to run light gbm model\n",
    "def run_lgb(train_X, train_y, validation_X, validation_y, test_X):\n",
    "    params = {\n",
    "        \"objective\" : \"regression\",\n",
    "        \"metric\" : \"rmse\", \n",
    "        \"num_leaves\" : 30,\n",
    "        \"min_child_samples\" : 100,\n",
    "        \"learning_rate\" : 0.1,\n",
    "        \"bagging_fraction\" : 0.7,\n",
    "        \"feature_fraction\" : 0.5,\n",
    "        \"bagging_frequency\" : 5,\n",
    "        \"bagging_seed\" : 2018,\n",
    "        \"verbosity\" : -1\n",
    "    }\n",
    "    \n",
    "    lgtrain = lgb.Dataset(train_X, label=train_y)\n",
    "    lgval = lgb.Dataset(validation_X, label=validation_y)\n",
    "    model = lgb.train(params, lgtrain, 1000, valid_sets=[lgval], early_stopping_rounds=100, verbose_eval=100)\n",
    "    \n",
    "    pred_test_y = model.predict(test_X, num_iteration=model.best_iteration)\n",
    "    pred_val_y = model.predict(validation_X, num_iteration=model.best_iteration)\n",
    "    return pred_test_y, model, pred_val_y"
   ]
  },
  {
   "cell_type": "markdown",
   "metadata": {},
   "source": [
    "#### Now that we have built our model, let's train the model"
   ]
  },
  {
   "cell_type": "code",
   "execution_count": 122,
   "metadata": {},
   "outputs": [
    {
     "name": "stdout",
     "output_type": "stream",
     "text": [
      "Training until validation scores don't improve for 100 rounds.\n",
      "[100]\tvalid_0's rmse: 1.69586\n",
      "[200]\tvalid_0's rmse: 1.69126\n",
      "[300]\tvalid_0's rmse: 1.69175\n",
      "Early stopping, best iteration is:\n",
      "[254]\tvalid_0's rmse: 1.69087\n",
      "CPU times: user 49.9 s, sys: 1.15 s, total: 51 s\n",
      "Wall time: 14.1 s\n"
     ]
    }
   ],
   "source": [
    "%%time\n",
    "pred_test, model, pred_val = run_lgb(development_X, development_y, validation_X, validation_y, test_X)"
   ]
  },
  {
   "cell_type": "markdown",
   "metadata": {},
   "source": [
    "#### Let's compute the evaluation metric on the validation data. \n",
    "Please note that this was added later to the kaggle competition in the discussion thread. \n",
    "#### Our task is to calculate thesum for all the transactions of the user and then do a log transformation on top. \n",
    "Please note that transaction revenue can only be 0 or more. So we will also set the values which are less than 0 to 0."
   ]
  },
  {
   "cell_type": "code",
   "execution_count": 206,
   "metadata": {},
   "outputs": [
    {
     "name": "stdout",
     "output_type": "stream",
     "text": [
      "1.709925685736863\n"
     ]
    }
   ],
   "source": [
    "from sklearn import metrics\n",
    "pred_val[pred_val<0] = 0\n",
    "validation_pred_df = pd.DataFrame({\"fullVisitorId\":validation_df[\"fullVisitorId\"].values})\n",
    "validation_pred_df[\"transactionRevenue\"] = validation_df[\"totals.transactionRevenue\"].values\n",
    "validation_pred_df[\"PredictedRevenue\"] = np.expm1(pred_val)\n",
    "\n",
    "validation_pred_df = validation_pred_df.groupby(\"fullVisitorId\")[\"transactionRevenue\", \"PredictedRevenue\"].sum().reset_index()\n",
    "submit_score1 = np.sqrt(metrics.mean_squared_error(np.log1p(validation_pred_df[\"transactionRevenue\"].values), np.log1p(validation_pred_df[\"PredictedRevenue\"].values)))\n",
    "print(submit_score1)"
   ]
  },
  {
   "cell_type": "markdown",
   "metadata": {},
   "source": [
    "#### Here, we got a validation score of 1.70 using LightGBM.\n",
    "#### We will now create a submission file similar to validation set."
   ]
  },
  {
   "cell_type": "code",
   "execution_count": 124,
   "metadata": {},
   "outputs": [],
   "source": [
    "submission_df = pd.DataFrame({\"fullVisitorId\":test_id})\n",
    "pred_test[pred_test<0] = 0\n",
    "submission_df[\"PredictedLogRevenue\"] = np.expm1(pred_test)\n",
    "submission_df = submission_df.groupby(\"fullVisitorId\")[\"PredictedLogRevenue\"].sum().reset_index()\n",
    "submission_df.columns = [\"fullVisitorId\", \"PredictedLogRevenue\"]\n",
    "submission_df[\"PredictedLogRevenue\"] = np.log1p(submission_df[\"PredictedLogRevenue\"])\n",
    "submission_df.to_csv(\"baseline_lgb.csv\", index=False)"
   ]
  },
  {
   "cell_type": "code",
   "execution_count": 125,
   "metadata": {},
   "outputs": [
    {
     "data": {
      "text/html": [
       "<div>\n",
       "<style scoped>\n",
       "    .dataframe tbody tr th:only-of-type {\n",
       "        vertical-align: middle;\n",
       "    }\n",
       "\n",
       "    .dataframe tbody tr th {\n",
       "        vertical-align: top;\n",
       "    }\n",
       "\n",
       "    .dataframe thead th {\n",
       "        text-align: right;\n",
       "    }\n",
       "</style>\n",
       "<table border=\"1\" class=\"dataframe\">\n",
       "  <thead>\n",
       "    <tr style=\"text-align: right;\">\n",
       "      <th></th>\n",
       "      <th>fullVisitorId</th>\n",
       "      <th>PredictedLogRevenue</th>\n",
       "    </tr>\n",
       "  </thead>\n",
       "  <tbody>\n",
       "    <tr>\n",
       "      <th>0</th>\n",
       "      <td>0000000259678714014</td>\n",
       "      <td>0.516011</td>\n",
       "    </tr>\n",
       "    <tr>\n",
       "      <th>1</th>\n",
       "      <td>0000049363351866189</td>\n",
       "      <td>0.000000</td>\n",
       "    </tr>\n",
       "    <tr>\n",
       "      <th>2</th>\n",
       "      <td>0000053049821714864</td>\n",
       "      <td>0.007906</td>\n",
       "    </tr>\n",
       "    <tr>\n",
       "      <th>3</th>\n",
       "      <td>0000059488412965267</td>\n",
       "      <td>0.048398</td>\n",
       "    </tr>\n",
       "    <tr>\n",
       "      <th>4</th>\n",
       "      <td>0000085840370633780</td>\n",
       "      <td>0.011108</td>\n",
       "    </tr>\n",
       "  </tbody>\n",
       "</table>\n",
       "</div>"
      ],
      "text/plain": [
       "         fullVisitorId  PredictedLogRevenue\n",
       "0  0000000259678714014             0.516011\n",
       "1  0000049363351866189             0.000000\n",
       "2  0000053049821714864             0.007906\n",
       "3  0000059488412965267             0.048398\n",
       "4  0000085840370633780             0.011108"
      ]
     },
     "execution_count": 125,
     "metadata": {},
     "output_type": "execute_result"
    }
   ],
   "source": [
    "submission_df.head()"
   ]
  },
  {
   "cell_type": "markdown",
   "metadata": {},
   "source": [
    "### We have successfully calculated the Predicted Log Revenue using LightGBM. \n",
    "#### We will now, take a look at feature importance shown by the LightGBM model."
   ]
  },
  {
   "cell_type": "code",
   "execution_count": 126,
   "metadata": {},
   "outputs": [
    {
     "data": {
      "image/png": "[encoded data removed]",
      "text/plain": [
       "<Figure size 864x1296 with 1 Axes>"
      ]
     },
     "metadata": {},
     "output_type": "display_data"
    }
   ],
   "source": [
    "fig, ax = plt.subplots(figsize=(12,18))\n",
    "lgb.plot_importance(model, max_num_features=50, height=0.8, ax=ax)\n",
    "ax.grid(False)\n",
    "plt.title(\"LightGBM - Feature Importance\", fontsize=15)\n",
    "plt.show()"
   ]
  },
  {
   "cell_type": "markdown",
   "metadata": {},
   "source": [
    "### We can see here that according to LightGBM model, \"totals.pageviews\" is the most important feature followed by \"totals.hits\" and \"visitStartTime\" and so on."
   ]
  },
  {
   "cell_type": "markdown",
   "metadata": {},
   "source": [
    "### Now let's try to further analize our model and see what happens when we increase the boosting rounds to 2000.\n",
    "#### We also changed *verbose_eval* to 50 to see the difference in values in a better way."
   ]
  },
  {
   "cell_type": "code",
   "execution_count": 135,
   "metadata": {},
   "outputs": [],
   "source": [
    "def run_lgb2(train_X, train_y, validation_X, validation_y, test_X):\n",
    "    params = {\n",
    "        \"objective\" : \"regression\",\n",
    "        \"metric\" : \"rmse\", \n",
    "        \"num_leaves\" : 30,\n",
    "        \"min_child_samples\" : 100,\n",
    "        \"learning_rate\" : 0.1,\n",
    "        \"bagging_fraction\" : 0.7,\n",
    "        \"feature_fraction\" : 0.5,\n",
    "        \"bagging_frequency\" : 5,\n",
    "        \"bagging_seed\" : 2018,\n",
    "        \"verbosity\" : -1\n",
    "    }\n",
    "    \n",
    "    lgtrain = lgb.Dataset(train_X, label=train_y)\n",
    "    lgval = lgb.Dataset(validation_X, label=validation_y)\n",
    "    model = lgb.train(params, lgtrain, 2000, valid_sets=[lgval], early_stopping_rounds=500, verbose_eval=50)\n",
    "    \n",
    "    pred_test_y = model.predict(test_X, num_iteration=model.best_iteration)\n",
    "    pred_val_y = model.predict(validation_X, num_iteration=model.best_iteration)\n",
    "    return pred_test_y, model, pred_val_y"
   ]
  },
  {
   "cell_type": "code",
   "execution_count": 136,
   "metadata": {},
   "outputs": [
    {
     "name": "stdout",
     "output_type": "stream",
     "text": [
      "Training until validation scores don't improve for 500 rounds.\n",
      "[50]\tvalid_0's rmse: 1.70379\n",
      "[100]\tvalid_0's rmse: 1.69586\n",
      "[150]\tvalid_0's rmse: 1.69238\n",
      "[200]\tvalid_0's rmse: 1.69126\n",
      "[250]\tvalid_0's rmse: 1.69095\n",
      "[300]\tvalid_0's rmse: 1.69175\n",
      "[350]\tvalid_0's rmse: 1.69263\n",
      "[400]\tvalid_0's rmse: 1.69449\n",
      "[450]\tvalid_0's rmse: 1.69487\n",
      "[500]\tvalid_0's rmse: 1.69769\n",
      "[550]\tvalid_0's rmse: 1.69916\n",
      "[600]\tvalid_0's rmse: 1.70036\n",
      "[650]\tvalid_0's rmse: 1.70098\n",
      "[700]\tvalid_0's rmse: 1.70235\n",
      "[750]\tvalid_0's rmse: 1.70328\n",
      "Early stopping, best iteration is:\n",
      "[254]\tvalid_0's rmse: 1.69087\n",
      "CPU times: user 1min 20s, sys: 1.3 s, total: 1min 22s\n",
      "Wall time: 22.7 s\n"
     ]
    }
   ],
   "source": [
    "%%time\n",
    "pred_test2, model2, pred_val2 = run_lgb2(development_X, development_y, validation_X, validation_y, test_X)"
   ]
  },
  {
   "cell_type": "markdown",
   "metadata": {},
   "source": [
    "#### Let's compute the evaluation metric on this new validation data. "
   ]
  },
  {
   "cell_type": "code",
   "execution_count": 137,
   "metadata": {},
   "outputs": [
    {
     "name": "stdout",
     "output_type": "stream",
     "text": [
      "1.709925685736863\n"
     ]
    }
   ],
   "source": [
    "from sklearn import metrics\n",
    "pred_val2[pred_val2<0] = 0\n",
    "validation_pred_df = pd.DataFrame({\"fullVisitorId\":validation_df[\"fullVisitorId\"].values})\n",
    "validation_pred_df[\"transactionRevenue\"] = validation_df[\"totals.transactionRevenue\"].values\n",
    "validation_pred_df[\"PredictedRevenue\"] = np.expm1(pred_val2)\n",
    "\n",
    "validation_pred_df = validation_pred_df.groupby(\"fullVisitorId\")[\"transactionRevenue\", \"PredictedRevenue\"].sum().reset_index()\n",
    "print(np.sqrt(metrics.mean_squared_error(np.log1p(validation_pred_df[\"transactionRevenue\"].values), np.log1p(validation_pred_df[\"PredictedRevenue\"].values))))"
   ]
  },
  {
   "cell_type": "markdown",
   "metadata": {},
   "source": [
    "#### Here, we got a validation score of 1.70 using the new method, which is the same as the previous one.\n",
    "We can see that our best iteration remains to be iteration number **254**"
   ]
  },
  {
   "cell_type": "markdown",
   "metadata": {},
   "source": [
    "### Now let's try to build a new model - XGBoost (Extreme Grandient Boosting)"
   ]
  },
  {
   "cell_type": "code",
   "execution_count": 204,
   "metadata": {},
   "outputs": [],
   "source": [
    "import xgboost as xgb\n",
    "from sklearn.metrics import mean_squared_error\n",
    "\n",
    "def rmse(y_true, y_pred):\n",
    "    return round(np.sqrt(mean_squared_error(y_true, y_pred)), 5)\n",
    "\n",
    "def run_xgb(X_train, y_train, X_val, y_val, X_test):\n",
    "    params = {'objective': 'reg:linear',\n",
    "              'eval_metric': 'rmse',\n",
    "              'eta': 0.001,\n",
    "              'max_depth': 10,\n",
    "              'subsample': 0.6,\n",
    "              'colsample_bytree': 0.6,\n",
    "              'alpha':0.001,\n",
    "              'random_state': 42,\n",
    "              'silent': True}\n",
    "\n",
    "    xgb_train_data = xgb.DMatrix(X_train, y_train)\n",
    "    xgb_val_data = xgb.DMatrix(X_val, y_val)\n",
    "    xgb_submit_data = xgb.DMatrix(X_test)\n",
    "\n",
    "    model = xgb.train(params, xgb_train_data, \n",
    "                      num_boost_round=1000, \n",
    "                      evals= [(xgb_train_data, 'train'), (xgb_val_data, 'valid')],\n",
    "                      early_stopping_rounds=100, \n",
    "                      verbose_eval=200\n",
    "                     )\n",
    "\n",
    "    pred_train_y = model.predict(xgb_train_data, ntree_limit=model.best_ntree_limit)\n",
    "    pred_val_y = model.predict(xgb_val_data, ntree_limit=model.best_ntree_limit)\n",
    "    pred_test_y = model.predict(xgb_submit_data, ntree_limit=model.best_ntree_limit)\n",
    "\n",
    "    print(f\"XGB : RMSE val: {rmse(y_val, pred_val_y)}  - RMSE train: {rmse(y_train, pred_train_y)}\")\n",
    "    return pred_test_y, model, pred_val_y"
   ]
  },
  {
   "cell_type": "code",
   "execution_count": 205,
   "metadata": {},
   "outputs": [
    {
     "name": "stdout",
     "output_type": "stream",
     "text": [
      "[0]\ttrain-rmse:1.99812\tvalid-rmse:2.14661\n",
      "Multiple eval metrics have been passed: 'valid-rmse' will be used for early stopping.\n",
      "\n",
      "Will train until valid-rmse hasn't improved in 100 rounds.\n",
      "[200]\ttrain-rmse:1.89528\tvalid-rmse:2.04636\n",
      "[400]\ttrain-rmse:1.81684\tvalid-rmse:1.97075\n",
      "[600]\ttrain-rmse:1.75365\tvalid-rmse:1.91202\n",
      "[800]\ttrain-rmse:1.70368\tvalid-rmse:1.86657\n",
      "[999]\ttrain-rmse:1.66151\tvalid-rmse:1.82999\n",
      "XGB : RMSE val: 1.82999  - RMSE train: 1.66151\n",
      "CPU times: user 22min 43s, sys: 5.73 s, total: 22min 49s\n",
      "Wall time: 23min\n"
     ]
    }
   ],
   "source": [
    "%%time\n",
    "xgb_pred_test, xgb_model, xgb_pred_val = run_xgb(development_X, development_y, validation_X, validation_y, test_X)"
   ]
  },
  {
   "cell_type": "code",
   "execution_count": 208,
   "metadata": {},
   "outputs": [
    {
     "name": "stdout",
     "output_type": "stream",
     "text": [
      "1.9145157780957418\n"
     ]
    }
   ],
   "source": [
    "xgb_pred_val[xgb_pred_val<0] = 0\n",
    "validation_pred_df2 = pd.DataFrame({\"fullVisitorId\":validation_df[\"fullVisitorId\"].values})\n",
    "validation_pred_df2[\"transactionRevenue\"] = validation_df[\"totals.transactionRevenue\"].values\n",
    "validation_pred_df2[\"PredictedRevenue\"] = np.expm1(xgb_pred_val)\n",
    "\n",
    "validation_pred_df2 = validation_pred_df2.groupby(\"fullVisitorId\")[\"transactionRevenue\", \"PredictedRevenue\"].sum().reset_index()\n",
    "submit_score2 = np.sqrt(metrics.mean_squared_error(np.log1p(validation_pred_df2[\"transactionRevenue\"].values), np.log1p(validation_pred_df2[\"PredictedRevenue\"].values)))\n",
    "print(submit_score2)"
   ]
  },
  {
   "cell_type": "markdown",
   "metadata": {},
   "source": [
    "#### Here, we got a validation score of 1.91 using XGBoost."
   ]
  },
  {
   "cell_type": "markdown",
   "metadata": {},
   "source": [
    "### Catboost"
   ]
  },
  {
   "cell_type": "code",
   "execution_count": 160,
   "metadata": {},
   "outputs": [],
   "source": [
    "from catboost import CatBoostRegressor\n",
    "def run_catboost(X_train, y_train, X_val, y_val, X_test):\n",
    "    model = CatBoostRegressor(iterations=1000,\n",
    "                             learning_rate=0.05,\n",
    "                             depth=10,\n",
    "                             eval_metric='RMSE',\n",
    "                             random_seed = 42,\n",
    "                             bagging_temperature = 0.2,\n",
    "                             od_type='Iter',\n",
    "                             metric_period = 50,\n",
    "                             od_wait=20)\n",
    "    model.fit(X_train, y_train,\n",
    "              eval_set=(X_val, y_val),\n",
    "              use_best_model=True,\n",
    "              verbose=100)\n",
    "    \n",
    "    y_pred_train = model.predict(X_train)\n",
    "    y_pred_val = model.predict(X_val)\n",
    "    y_pred_submit = model.predict(X_test)\n",
    "\n",
    "    print(f\"CatB: RMSE val: {rmse(y_val, y_pred_val)}  - RMSE train: {rmse(y_train, y_pred_train)}\")\n",
    "    return y_pred_submit, model, y_pred_val"
   ]
  },
  {
   "cell_type": "code",
   "execution_count": 161,
   "metadata": {},
   "outputs": [
    {
     "name": "stderr",
     "output_type": "stream",
     "text": [
      "Warning: Overfitting detector is active, thus evaluation metric is calculated on every iteration. 'metric_period' is ignored for evaluation metric.\n"
     ]
    },
    {
     "name": "stdout",
     "output_type": "stream",
     "text": [
      "0:\tlearn: 1.9624991\ttest: 2.1153424\tbest: 2.1153424 (0)\ttotal: 365ms\tremaining: 6m 4s\n",
      "100:\tlearn: 1.5895576\ttest: 1.6966007\tbest: 1.6966007 (100)\ttotal: 25.1s\tremaining: 3m 43s\n",
      "200:\tlearn: 1.5504042\ttest: 1.6931304\tbest: 1.6930898 (196)\ttotal: 53.4s\tremaining: 3m 32s\n",
      "Stopped by overfitting detector  (20 iterations wait)\n",
      "\n",
      "bestTest = 1.693089773\n",
      "bestIteration = 196\n",
      "\n",
      "Shrink model to first 197 iterations.\n",
      "CatB: RMSE val: 1.69309  - RMSE train: 1.55189\n",
      "CPU times: user 3min 14s, sys: 17.7 s, total: 3min 31s\n",
      "Wall time: 1min 7s\n"
     ]
    }
   ],
   "source": [
    "%%time\n",
    "# Train Catboost and generate predictions\n",
    "cat_pred_test, cat_model, cat_pred_val = run_catboost(development_X, development_y, validation_X, validation_y, test_X)"
   ]
  },
  {
   "cell_type": "code",
   "execution_count": 209,
   "metadata": {},
   "outputs": [
    {
     "name": "stdout",
     "output_type": "stream",
     "text": [
      "1.7094433862016563\n"
     ]
    }
   ],
   "source": [
    "cat_pred_val[cat_pred_val<0] = 0\n",
    "validation_pred_df2 = pd.DataFrame({\"fullVisitorId\":validation_df[\"fullVisitorId\"].values})\n",
    "validation_pred_df2[\"transactionRevenue\"] = validation_df[\"totals.transactionRevenue\"].values\n",
    "validation_pred_df2[\"PredictedRevenue\"] = np.expm1(cat_pred_val)\n",
    "\n",
    "validation_pred_df2 = validation_pred_df2.groupby(\"fullVisitorId\")[\"transactionRevenue\", \"PredictedRevenue\"].sum().reset_index()\n",
    "submit_score3 = np.sqrt(metrics.mean_squared_error(np.log1p(validation_pred_df2[\"transactionRevenue\"].values), np.log1p(validation_pred_df2[\"PredictedRevenue\"].values)))\n",
    "print(submit_score3)"
   ]
  },
  {
   "cell_type": "markdown",
   "metadata": {},
   "source": [
    "#### Here, we got a validation score of 1.70 using CatBoost."
   ]
  },
  {
   "cell_type": "markdown",
   "metadata": {},
   "source": [
    "### Ensemble method"
   ]
  },
  {
   "cell_type": "code",
   "execution_count": 184,
   "metadata": {},
   "outputs": [],
   "source": [
    "ensemble_pred_70_30_00 = 0.7 * pred_test + 0.3 * cat_pred_test + 0.0 * xgb_pred_test \n",
    "ensemble_pred_70_25_05 = 0.7 * pred_test + 0.25 * cat_pred_test + 0.05 * xgb_pred_test"
   ]
  },
  {
   "cell_type": "code",
   "execution_count": 185,
   "metadata": {},
   "outputs": [],
   "source": [
    "ensemble_pred_70_30_00_positive = np.where(ensemble_pred_70_30_00 < 0, 0, ensemble_pred_70_30_00)\n",
    "np.savetxt(\"ensemble_pred_70_30_00_positive.csv\", ensemble_pred_70_30_00_positive, delimiter=\",\")\n",
    "ensemble_pred_70_25_05_positive = np.where(ensemble_pred_70_25_05 < 0, 0, ensemble_pred_70_25_05)\n",
    "np.savetxt(\"ensemble_pred_70_25_05_positive.csv\", ensemble_pred_70_25_05_positive, delimiter=\",\")"
   ]
  },
  {
   "cell_type": "code",
   "execution_count": 186,
   "metadata": {},
   "outputs": [],
   "source": [
    "ensemble_pos_result1 = pd.read_csv(\"ensemble_pred_70_30_00_positive.csv\")\n",
    "ensemble_pos_result2 = pd.read_csv(\"ensemble_pred_70_25_05_positive.csv\")"
   ]
  },
  {
   "cell_type": "markdown",
   "metadata": {},
   "source": [
    "#### Ensemble results:"
   ]
  },
  {
   "cell_type": "code",
   "execution_count": 217,
   "metadata": {},
   "outputs": [],
   "source": [
    "ensemble1 = 0.7 * submit_score1 + 0.3 * submit_score3 + 0.0 * submit_score2\n",
    "ensemble2 = 0.7 * submit_score1 + 0.25 * submit_score3 + 0.05 * submit_score2\n",
    "ensemble3 = 0.5 * submit_score1 + 0.5 * submit_score3 + 0.0 * submit_score2\n",
    "ensemble4 = 0.4 * submit_score1 + 0.5 * submit_score3 + 0.01 * submit_score2"
   ]
  },
  {
   "cell_type": "code",
   "execution_count": 218,
   "metadata": {},
   "outputs": [
    {
     "name": "stdout",
     "output_type": "stream",
     "text": [
      "1.7097809958763008 1.7200346154710053 1.7096845359692596 1.5578371251765308\n"
     ]
    }
   ],
   "source": [
    "print(ensemble1,ensemble2,ensemble3,ensemble4)"
   ]
  },
  {
   "cell_type": "markdown",
   "metadata": {},
   "source": [
    "### The best ensemble is: ensemble4 with weights 0.4 for LightGBM, 0.5 for CatBoost and 0.01 for XGBoost"
   ]
  },
  {
   "cell_type": "markdown",
   "metadata": {},
   "source": [
    "## Summary of results (submit scores/ validation scores):\n",
    "### LightGBM - 1.70\n",
    "### XGBoost - 1.91\n",
    "### CatBoost - 1.70\n",
    "### Ensemble with weights 0.4 for LightGBM, 0.5 for CatBoost and 0.01 for XGBoost - 1.55"
   ]
  },
  {
   "cell_type": "code",
   "execution_count": null,
   "metadata": {},
   "outputs": [],
   "source": []
  }
 ],
 "metadata": {
  "kernelspec": {
   "display_name": "Python 3",
   "language": "python",
   "name": "python3"
  },
  "language_info": {
   "codemirror_mode": {
    "name": "ipython",
    "version": 3
   },
   "file_extension": ".py",
   "mimetype": "text/x-python",
   "name": "python",
   "nbconvert_exporter": "python",
   "pygments_lexer": "ipython3",
   "version": "3.6.5"
  }
 },
 "nbformat": 4,
 "nbformat_minor": 2
}
